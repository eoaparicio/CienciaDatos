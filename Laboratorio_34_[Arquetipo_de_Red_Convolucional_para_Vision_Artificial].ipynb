{
  "nbformat": 4,
  "nbformat_minor": 0,
  "metadata": {
    "colab": {
      "name": "Laboratorio_34_[Arquetipo_de_Red_Convolucional_para_Vision_Artificial].ipynb",
      "provenance": [],
      "collapsed_sections": []
    },
    "kernelspec": {
      "name": "python3",
      "display_name": "Python 3"
    },
    "language_info": {
      "name": "python"
    }
  },
  "cells": [
    {
      "cell_type": "code",
      "metadata": {
        "id": "CV6wFiH86Nru"
      },
      "source": [
        "#Autor: Alonso Melgarejo\n",
        "#Contacto: alonsoraulmgs@gmail.com\n",
        "#Copyright: Big Data Academy"
      ],
      "execution_count": 1,
      "outputs": []
    },
    {
      "cell_type": "markdown",
      "metadata": {
        "id": "av4HQqwo7I50"
      },
      "source": [
        "# Librerías"
      ]
    },
    {
      "cell_type": "code",
      "metadata": {
        "id": "ihqKFumw7GUK"
      },
      "source": [
        "#Importamos las librerías estándar\n",
        "import pandas as pd\n",
        "import numpy as np\n",
        "%matplotlib inline\n",
        "import matplotlib.pyplot as plt\n",
        "import glob\n",
        "import os"
      ],
      "execution_count": 2,
      "outputs": []
    },
    {
      "cell_type": "code",
      "metadata": {
        "id": "uWsiJA317Kl-"
      },
      "source": [
        "#Importamos las librerías de Keras\n",
        "from keras.utils.np_utils import to_categorical\n",
        "from keras.preprocessing import image\n",
        "from keras.models import Sequential\n",
        "from keras.layers import Flatten\n",
        "from keras.layers import Conv2D\n",
        "from keras.layers import MaxPool2D, AvgPool2D\n",
        "from keras.layers import Activation\n",
        "from keras.layers import Dense"
      ],
      "execution_count": 3,
      "outputs": []
    },
    {
      "cell_type": "markdown",
      "metadata": {
        "id": "rYLe5drg7ahs"
      },
      "source": [
        "# Conexión al repositorio de datos"
      ]
    },
    {
      "cell_type": "code",
      "metadata": {
        "colab": {
          "base_uri": "https://localhost:8080/"
        },
        "id": "RvmYXozu7cao",
        "outputId": "188d6648-9cb5-4960-9fb2-1d02c9756894"
      },
      "source": [
        "#Nos conectamos a Google Drive\n",
        "from google.colab import drive\n",
        "drive.mount('/content/drive')"
      ],
      "execution_count": 4,
      "outputs": [
        {
          "output_type": "stream",
          "name": "stdout",
          "text": [
            "Mounted at /content/drive\n"
          ]
        }
      ]
    },
    {
      "cell_type": "markdown",
      "metadata": {
        "id": "dRmmzcl79wX_"
      },
      "source": [
        "# Funciones utilitarias"
      ]
    },
    {
      "cell_type": "code",
      "metadata": {
        "id": "psVLPtci9yWe"
      },
      "source": [
        "def leer_carpeta_de_imagenes_como_tensor(ruta):\n",
        "  tensores = []\n",
        "\n",
        "  #Obtenemos las rutas de las imágenes\n",
        "  rutas_imagenes = sorted(glob.glob(ruta+'/*'))\n",
        "\n",
        "  index = 0\n",
        "  for ruta in rutas_imagenes:\n",
        "    #Leemos la imagen\n",
        "    imagen = image.load_img(\n",
        "      ruta, \n",
        "      grayscale=False,\n",
        "      color_mode=\"grayscale\",\n",
        "      target_size = (28, 28),\n",
        "      interpolation=\"nearest\"\n",
        "    )\n",
        "\n",
        "    #La tensorizamos\n",
        "    tensor = np.array([image.img_to_array(imagen)])\n",
        "\n",
        "    #La agregamos a la lista de tensores\n",
        "    if index == 0:\n",
        "      tensores = tensor\n",
        "    else:\n",
        "      tensores = np.concatenate((tensores, tensor))\n",
        "\n",
        "    index = index + 1\n",
        "\n",
        "  #La retornamos\n",
        "  return tensores"
      ],
      "execution_count": 5,
      "outputs": []
    },
    {
      "cell_type": "markdown",
      "metadata": {
        "id": "CUPJRixc7fM_"
      },
      "source": [
        "# Lectura de tensores"
      ]
    },
    {
      "cell_type": "code",
      "metadata": {
        "colab": {
          "base_uri": "https://localhost:8080/"
        },
        "id": "1X28WA-I7etu",
        "outputId": "edc7199e-3dd1-47b8-d28f-727e0731f93d"
      },
      "source": [
        "from keras.datasets import mnist\n",
        "(x_train, y_train), (x_test, y_test) = mnist.load_data('/tmp/mnist.npz')"
      ],
      "execution_count": 6,
      "outputs": [
        {
          "output_type": "stream",
          "name": "stdout",
          "text": [
            "Downloading data from https://storage.googleapis.com/tensorflow/tf-keras-datasets/mnist.npz\n",
            "11493376/11490434 [==============================] - 0s 0us/step\n",
            "11501568/11490434 [==============================] - 0s 0us/step\n"
          ]
        }
      ]
    },
    {
      "cell_type": "markdown",
      "metadata": {
        "id": "i2Vyr94u7pXq"
      },
      "source": [
        "# Procesamiento de features"
      ]
    },
    {
      "cell_type": "code",
      "metadata": {
        "id": "8b7t7cKf7qKZ"
      },
      "source": [
        "#PROCESAMIENTO DE LOS FEATURES DE ENTRENAMIENTO "
      ],
      "execution_count": 7,
      "outputs": []
    },
    {
      "cell_type": "code",
      "metadata": {
        "colab": {
          "base_uri": "https://localhost:8080/"
        },
        "id": "FXF4_Ywd8A4I",
        "outputId": "6df5a539-dcea-4218-901a-472fd9f9f2a4"
      },
      "source": [
        "#Si no está en forma tensorial [imagenes, pixelX, pixelY, canales], deberemos adaptarlo\n",
        "x_train.shape"
      ],
      "execution_count": 8,
      "outputs": [
        {
          "output_type": "execute_result",
          "data": {
            "text/plain": [
              "(60000, 28, 28)"
            ]
          },
          "metadata": {},
          "execution_count": 8
        }
      ]
    },
    {
      "cell_type": "code",
      "metadata": {
        "colab": {
          "base_uri": "https://localhost:8080/"
        },
        "id": "HQW1HsPy70Io",
        "outputId": "4d187fde-75a9-4f62-84a7-fe0c809a1f2e"
      },
      "source": [
        "#Le agregamos la dimensión faltante\n",
        "x_tensor_train = x_train.reshape(-1, 28, 28, 1)\n",
        "x_tensor_train.shape"
      ],
      "execution_count": 9,
      "outputs": [
        {
          "output_type": "execute_result",
          "data": {
            "text/plain": [
              "(60000, 28, 28, 1)"
            ]
          },
          "metadata": {},
          "execution_count": 9
        }
      ]
    },
    {
      "cell_type": "code",
      "metadata": {
        "colab": {
          "base_uri": "https://localhost:8080/"
        },
        "id": "DO49hCxe78Ta",
        "outputId": "16120cd2-2ab2-44fb-ee32-85aa75335908"
      },
      "source": [
        "#Escalamos los datos\n",
        "x_tensor_train_scale = x_tensor_train.astype('float32') / 255.0\n",
        "x_tensor_train_scale.shape"
      ],
      "execution_count": 10,
      "outputs": [
        {
          "output_type": "execute_result",
          "data": {
            "text/plain": [
              "(60000, 28, 28, 1)"
            ]
          },
          "metadata": {},
          "execution_count": 10
        }
      ]
    },
    {
      "cell_type": "code",
      "metadata": {
        "id": "U1x19_gA8KMS"
      },
      "source": [
        "#PROCESAMIENTO DE LOS FEATURES DE VALIDACIÓN "
      ],
      "execution_count": 11,
      "outputs": []
    },
    {
      "cell_type": "code",
      "metadata": {
        "colab": {
          "base_uri": "https://localhost:8080/"
        },
        "id": "NL_aR0vZ8SOF",
        "outputId": "b8cec820-a8af-4737-ef2d-05c0bd7dfba2"
      },
      "source": [
        "#Si no está en forma tensorial [imagenes, pixelX, pixelY, canales], deberemos adaptarlo\n",
        "x_test.shape"
      ],
      "execution_count": 12,
      "outputs": [
        {
          "output_type": "execute_result",
          "data": {
            "text/plain": [
              "(10000, 28, 28)"
            ]
          },
          "metadata": {},
          "execution_count": 12
        }
      ]
    },
    {
      "cell_type": "code",
      "metadata": {
        "colab": {
          "base_uri": "https://localhost:8080/"
        },
        "id": "bicJ6WyZ8Uue",
        "outputId": "c8d927cf-2215-4eff-ac88-2ae9405740da"
      },
      "source": [
        "#Le agregamos la dimensión faltante\n",
        "x_tensor_test = x_test.reshape(-1, 28, 28, 1)\n",
        "x_tensor_test.shape"
      ],
      "execution_count": 13,
      "outputs": [
        {
          "output_type": "execute_result",
          "data": {
            "text/plain": [
              "(10000, 28, 28, 1)"
            ]
          },
          "metadata": {},
          "execution_count": 13
        }
      ]
    },
    {
      "cell_type": "code",
      "metadata": {
        "colab": {
          "base_uri": "https://localhost:8080/"
        },
        "id": "Ki6bMKtN8XXU",
        "outputId": "163c4d22-d466-4cd0-da37-cb254d0642ed"
      },
      "source": [
        "#Escalamos los datos\n",
        "x_tensor_test_scale = x_tensor_test.astype('float32') / 255.0\n",
        "x_tensor_test_scale.shape"
      ],
      "execution_count": 14,
      "outputs": [
        {
          "output_type": "execute_result",
          "data": {
            "text/plain": [
              "(10000, 28, 28, 1)"
            ]
          },
          "metadata": {},
          "execution_count": 14
        }
      ]
    },
    {
      "cell_type": "markdown",
      "metadata": {
        "id": "qdahFuTi8bZH"
      },
      "source": [
        "# Procesamiento de labels"
      ]
    },
    {
      "cell_type": "code",
      "metadata": {
        "id": "Ze4DmjDp8c_z"
      },
      "source": [
        "#PROCESAMIENTO DE LOS LABELS DE ENTRENAMIENTO "
      ],
      "execution_count": 15,
      "outputs": []
    },
    {
      "cell_type": "code",
      "metadata": {
        "colab": {
          "base_uri": "https://localhost:8080/"
        },
        "id": "rgVHqa8k8nwk",
        "outputId": "6f756a97-c073-49cc-f597-8e62e7e32af8"
      },
      "source": [
        "#Los labels tienen que estar categorizados\n",
        "y_train"
      ],
      "execution_count": 16,
      "outputs": [
        {
          "output_type": "execute_result",
          "data": {
            "text/plain": [
              "array([5, 0, 4, ..., 5, 6, 8], dtype=uint8)"
            ]
          },
          "metadata": {},
          "execution_count": 16
        }
      ]
    },
    {
      "cell_type": "code",
      "metadata": {
        "colab": {
          "base_uri": "https://localhost:8080/"
        },
        "id": "zP299uQT8uAD",
        "outputId": "7fa32d24-5415-432e-91d5-f39e61bbbe78"
      },
      "source": [
        "#Categorizamos los labels\n",
        "y_train_categorico = to_categorical(y_train)\n",
        "y_train_categorico.shape"
      ],
      "execution_count": 17,
      "outputs": [
        {
          "output_type": "execute_result",
          "data": {
            "text/plain": [
              "(60000, 10)"
            ]
          },
          "metadata": {},
          "execution_count": 17
        }
      ]
    },
    {
      "cell_type": "code",
      "metadata": {
        "id": "6rN-32B_81Yn"
      },
      "source": [
        "#PROCESAMIENTO DE LOS LABELS DE VALIDACION "
      ],
      "execution_count": 18,
      "outputs": []
    },
    {
      "cell_type": "code",
      "metadata": {
        "colab": {
          "base_uri": "https://localhost:8080/"
        },
        "id": "LAmDM_0882yq",
        "outputId": "2ef52504-c0e2-43ad-91f0-2ff438e57820"
      },
      "source": [
        "#Los labels tienen que estar categorizados\n",
        "y_test"
      ],
      "execution_count": 19,
      "outputs": [
        {
          "output_type": "execute_result",
          "data": {
            "text/plain": [
              "array([7, 2, 1, ..., 4, 5, 6], dtype=uint8)"
            ]
          },
          "metadata": {},
          "execution_count": 19
        }
      ]
    },
    {
      "cell_type": "code",
      "metadata": {
        "colab": {
          "base_uri": "https://localhost:8080/"
        },
        "id": "DqdjfHGE84Qa",
        "outputId": "ffd2ba0b-70dc-48f3-eafb-2e580da43a36"
      },
      "source": [
        "#Categorizamos los labels\n",
        "y_test_categorico = to_categorical(y_test)\n",
        "y_test_categorico.shape"
      ],
      "execution_count": 20,
      "outputs": [
        {
          "output_type": "execute_result",
          "data": {
            "text/plain": [
              "(10000, 10)"
            ]
          },
          "metadata": {},
          "execution_count": 20
        }
      ]
    },
    {
      "cell_type": "markdown",
      "metadata": {
        "id": "y03Elnt_9G10"
      },
      "source": [
        "# Construcción de Red Convolucional"
      ]
    },
    {
      "cell_type": "code",
      "metadata": {
        "id": "AVqyHplo9Huk"
      },
      "source": [
        "#Instaciamos un modelo vacío\n",
        "model = Sequential()"
      ],
      "execution_count": 21,
      "outputs": []
    },
    {
      "cell_type": "code",
      "metadata": {
        "id": "kSNPzmnL9JWA"
      },
      "source": [
        "#Agregamos una capa, de 16 filtros, cada filtro de 4x4\n",
        "#El input es una imagen de 28x28 pixeles de 1 canal de color\n",
        "model.add(Conv2D(16, (4, 4), input_shape=(28, 28, 1)))"
      ],
      "execution_count": 22,
      "outputs": []
    },
    {
      "cell_type": "code",
      "metadata": {
        "id": "7Qxt6RIy9LR0"
      },
      "source": [
        "model.add(Conv2D(4, (4, 4)))"
      ],
      "execution_count": 23,
      "outputs": []
    },
    {
      "cell_type": "markdown",
      "metadata": {
        "id": "2GLbZgDA9Ozm"
      },
      "source": [
        "# Vectorización del tensor"
      ]
    },
    {
      "cell_type": "code",
      "metadata": {
        "id": "0kl5L58A9Prd"
      },
      "source": [
        "#Vectorizamos los patrones\n",
        "model.add(Flatten())"
      ],
      "execution_count": 24,
      "outputs": []
    },
    {
      "cell_type": "markdown",
      "metadata": {
        "id": "InbJtGm09RmM"
      },
      "source": [
        "# Red neuronal para clasificación"
      ]
    },
    {
      "cell_type": "code",
      "metadata": {
        "id": "sfLlEwGT9TUc"
      },
      "source": [
        "#Agregamos capas de nuestra red neuronal, 128 neuronas\n",
        "model.add(Dense(128, activation='relu'))"
      ],
      "execution_count": 25,
      "outputs": []
    },
    {
      "cell_type": "code",
      "metadata": {
        "id": "Y_I8DmnG9Vvm"
      },
      "source": [
        "#Como estamos clasificando, agregamos una capa de salida de 10 neuronas con softmax\n",
        "model.add(Dense(10, activation='softmax'))"
      ],
      "execution_count": 26,
      "outputs": []
    },
    {
      "cell_type": "markdown",
      "metadata": {
        "id": "2sQvS9bp9X32"
      },
      "source": [
        "# Compilación del modelo de Deep Learning (Red Convolucional + Red Neuronal)"
      ]
    },
    {
      "cell_type": "code",
      "metadata": {
        "id": "ed1m1oHR9YoE"
      },
      "source": [
        "#Compilamos\n",
        "model.compile(optimizer='rmsprop', loss='categorical_crossentropy', metrics=['accuracy'])"
      ],
      "execution_count": 27,
      "outputs": []
    },
    {
      "cell_type": "markdown",
      "metadata": {
        "id": "z79DskVe9cIH"
      },
      "source": [
        "# Entrenamiento del modelo"
      ]
    },
    {
      "cell_type": "code",
      "metadata": {
        "colab": {
          "base_uri": "https://localhost:8080/"
        },
        "id": "3R7OpZhr9btb",
        "outputId": "5236ed67-c9ca-46d1-b71a-866bd3236ac1"
      },
      "source": [
        "#AL ejecutarlo, notamos que se entrena muy lento\n",
        "#Esto se debe a la gran cantidad de información que se está procesando, matricialmente cada imagen es de 28x28, \n",
        "model.fit(x_tensor_train_scale, y_train_categorico, batch_size=128, epochs=2, verbose=1, validation_split=0.3)"
      ],
      "execution_count": 28,
      "outputs": [
        {
          "output_type": "stream",
          "name": "stdout",
          "text": [
            "Epoch 1/2\n",
            "329/329 [==============================] - 34s 101ms/step - loss: 0.2510 - accuracy: 0.9253 - val_loss: 0.2213 - val_accuracy: 0.9356\n",
            "Epoch 2/2\n",
            "329/329 [==============================] - 33s 101ms/step - loss: 0.1061 - accuracy: 0.9684 - val_loss: 0.1119 - val_accuracy: 0.9676\n"
          ]
        },
        {
          "output_type": "execute_result",
          "data": {
            "text/plain": [
              "<keras.callbacks.History at 0x7fba948fc710>"
            ]
          },
          "metadata": {},
          "execution_count": 28
        }
      ]
    },
    {
      "cell_type": "markdown",
      "metadata": {
        "id": "aqWA2eAp9j_7"
      },
      "source": [
        "# Evaluación del modelo"
      ]
    },
    {
      "cell_type": "code",
      "metadata": {
        "colab": {
          "base_uri": "https://localhost:8080/"
        },
        "id": "IY_4AKKm9mNx",
        "outputId": "3855c0dd-5b0d-458f-ea06-581bb9534e54"
      },
      "source": [
        "#Evaluamos el modelo\n",
        "#Notamos que está acertando en el 97% de los casos\n",
        "model.evaluate(x_tensor_test_scale, y_test_categorico)"
      ],
      "execution_count": 29,
      "outputs": [
        {
          "output_type": "stream",
          "name": "stdout",
          "text": [
            "313/313 [==============================] - 2s 6ms/step - loss: 0.0977 - accuracy: 0.9716\n"
          ]
        },
        {
          "output_type": "execute_result",
          "data": {
            "text/plain": [
              "[0.09774048626422882, 0.9715999960899353]"
            ]
          },
          "metadata": {},
          "execution_count": 29
        }
      ]
    },
    {
      "cell_type": "markdown",
      "metadata": {
        "id": "PivuGFOk92Z6"
      },
      "source": [
        "# Uso del modelo"
      ]
    },
    {
      "cell_type": "code",
      "metadata": {
        "colab": {
          "base_uri": "https://localhost:8080/"
        },
        "id": "epfajZvr94br",
        "outputId": "255cc790-53e6-48af-db0a-62fd4bb9fecc"
      },
      "source": [
        "#Leemos las imagenes como tensores\n",
        "tensores = leer_carpeta_de_imagenes_como_tensor('/content/drive/MyDrive/Data/MNIST')\n",
        "tensores.shape"
      ],
      "execution_count": 30,
      "outputs": [
        {
          "output_type": "execute_result",
          "data": {
            "text/plain": [
              "(5, 28, 28, 1)"
            ]
          },
          "metadata": {},
          "execution_count": 30
        }
      ]
    },
    {
      "cell_type": "code",
      "metadata": {
        "colab": {
          "base_uri": "https://localhost:8080/"
        },
        "id": "lKIAkKv-97Hp",
        "outputId": "43eca40e-11a4-4a1d-e186-c476de6d5d29"
      },
      "source": [
        "#Usamos el modelo para predecir\n",
        "predicciones_labels = model.predict(tensores)\n",
        "predicciones_labels"
      ],
      "execution_count": 31,
      "outputs": [
        {
          "output_type": "execute_result",
          "data": {
            "text/plain": [
              "array([[0., 0., 0., 1., 0., 0., 0., 0., 0., 0.],\n",
              "       [1., 0., 0., 0., 0., 0., 0., 0., 0., 0.],\n",
              "       [0., 0., 0., 0., 1., 0., 0., 0., 0., 0.],\n",
              "       [0., 1., 0., 0., 0., 0., 0., 0., 0., 0.],\n",
              "       [0., 0., 0., 0., 0., 0., 0., 0., 0., 1.]], dtype=float32)"
            ]
          },
          "metadata": {},
          "execution_count": 31
        }
      ]
    },
    {
      "cell_type": "code",
      "metadata": {
        "colab": {
          "base_uri": "https://localhost:8080/"
        },
        "id": "Z6FOFRSf98KE",
        "outputId": "8dbbc379-18b7-4d52-d44e-a3aae5a7aaf3"
      },
      "source": [
        "#Obtenemos el índice del array de predicciones para saber a qué categoría pertenece\n",
        "predicciones = predicciones_labels.argmax(axis = 1)\n",
        "predicciones"
      ],
      "execution_count": 32,
      "outputs": [
        {
          "output_type": "execute_result",
          "data": {
            "text/plain": [
              "array([3, 0, 4, 1, 9])"
            ]
          },
          "metadata": {},
          "execution_count": 32
        }
      ]
    }
  ]
}