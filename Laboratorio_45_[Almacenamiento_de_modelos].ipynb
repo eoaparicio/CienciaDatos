{
  "nbformat": 4,
  "nbformat_minor": 0,
  "metadata": {
    "colab": {
      "name": "Laboratorio_45_[Almacenamiento_de_modelos].ipynb",
      "provenance": [],
      "collapsed_sections": []
    },
    "kernelspec": {
      "name": "python3",
      "display_name": "Python 3"
    },
    "language_info": {
      "name": "python"
    }
  },
  "cells": [
    {
      "cell_type": "markdown",
      "metadata": {
        "id": "p9PoQYjn-jFu"
      },
      "source": [
        "# Entrenamiento"
      ]
    },
    {
      "cell_type": "code",
      "metadata": {
        "colab": {
          "base_uri": "https://localhost:8080/"
        },
        "id": "rhf7WB_T3Anl",
        "outputId": "45f427e8-aafe-4a72-fbf0-38146703fe5d"
      },
      "source": [
        "#Librerías Base\n",
        "%matplotlib inline\n",
        "import matplotlib.pyplot as plt\n",
        "import numpy as np\n",
        "import pandas as pd\n",
        "from google.colab import drive\n",
        "\n",
        "#Librerías de Métricas\n",
        "from sklearn.model_selection import train_test_split\n",
        "from sklearn.metrics import accuracy_score, confusion_matrix\n",
        "from sklearn.preprocessing import MinMaxScaler\n",
        "\n",
        "#Librerías de Machine Learning\n",
        "from keras.models import Sequential\n",
        "from keras.layers import Dense\n",
        "from tensorflow.keras.optimizers import Adam, SGD\n",
        "from keras.utils.np_utils import to_categorical\n",
        "\n",
        "#Accedemos a Google Drive\n",
        "drive.mount('/content/drive')\n",
        "\n",
        "#Trabajaremos con un dataset que clasifica flores según sus características\n",
        "#Tiene los siguientes campos:\n",
        "# - sepal_length: Longitud del sépalo\n",
        "# - sepal_width: Ancho del sépalo\n",
        "# - petal_length: Longitud del pétalo\n",
        "# - petal_width: Ancho del pétalo\n",
        "# - species: Tipo de flor de iris (setosa, versicolor, virginica)\n",
        "df = pd.read_csv('/content/drive/MyDrive/Data/iris.csv')\n",
        "df\n",
        "\n",
        "#Seleccionamos las columnas con las que trabajaremos\n",
        "df = df[['sepal_length', 'sepal_width', 'petal_length', 'petal_width', 'species']]\n",
        "df\n",
        "\n",
        "#Eliminamos valores nulos\n",
        "df = df.dropna()\n",
        "df\n",
        "\n",
        "#Definimos los features (x), es decir los datos que nos ayudan a predecir\n",
        "dfx = df[['sepal_length', 'sepal_width', 'petal_length', 'petal_width']]\n",
        "dfx\n",
        "\n",
        "#Obtenemos la matriz de features\n",
        "x = dfx.values\n",
        "x\n",
        "\n",
        "#Definimos los labels (y), es decir el dato que se predice\n",
        "#En este caso es una variable categórica\n",
        "df['species'].unique()\n",
        "\n",
        "#Le daremos una representación numérica a cada dato\n",
        "representacion = {\n",
        "    'setosa' : 0,\n",
        "    'versicolor' : 1,\n",
        "    'virginica' : 2,\n",
        "}\n",
        "\n",
        "representacion\n",
        "\n",
        "#Luego mapeamos los valores de \"Y\" por su representación numérica\n",
        "dfy = df['species'].map(representacion)\n",
        "dfy\n",
        "\n",
        "#Creamos tres columnas de salidas, una para cada categoría\n",
        "y = to_categorical(dfy)\n",
        "y\n",
        "\n",
        "#Dividimos los datos en datos de entrenamiento (x_train, y_train) y datos de validación (x_test, y_test)\n",
        "x_train, x_test, y_train, y_test = train_test_split(x, y, test_size = 0.2)\n",
        "\n",
        "#Features de entrenamiento\n",
        "x_train\n",
        "\n",
        "#Instanciamos el escalador\n",
        "sc = MinMaxScaler()\n",
        "\n",
        "#Aplicamos el escalador con los datos\n",
        "x_train = sc.fit_transform(x_train)\n",
        "x_train\n",
        "\n",
        "#Labels de entrenamiento\n",
        "y_train\n",
        "\n",
        "#Features de validación\n",
        "x_test\n",
        "\n",
        "#Aplicamos el escalador con los datos\n",
        "x_test = sc.transform(x_test)\n",
        "x_test\n",
        "\n",
        "#Labels de validación\n",
        "y_test\n",
        "\n",
        "#Instaciamos un modelo de machine learning vacío con \"Sequential\"\n",
        "model = Sequential()\n",
        "\n",
        "#Agregamos la primera capa de:\n",
        "# - 3 neuronas\n",
        "# - 4 inputs\n",
        "model.add(Dense(3, input_shape=(4,), activation='tanh'))\n",
        "\n",
        "#Agregamos la segunda capa de:\n",
        "# - 2 neuronas\n",
        "model.add(Dense(2, activation='tanh'))\n",
        "\n",
        "#Como es un problema de clasificación multiclase, la última capa tendrá 3 neuronas, una para cada clase\n",
        "#Como estamos frente a un problema de clasificación multi-clase, la F.A. más adecuada es la \"softmax\"\n",
        "model.add(Dense(3, activation='softmax'))\n",
        "\n",
        "#Vemos un resumen del modelo\n",
        "model.summary()\n",
        "\n",
        "#Compilamos el modelo indicando el tipo de error con el que se calcula la solución\n",
        "#Como es un modelo de regresión logística, usaremos la función \"categorical_crossentropy\"\n",
        "model.compile(Adam(lr=0.1), loss='categorical_crossentropy', metrics=['accuracy'])\n",
        "\n",
        "#Entrenamos el modelo enviándole los features (x_train) y labels (y_train) de entrenamiento\n",
        "#Configuramos el número de iteraciones (40)\n",
        "model.fit(x_train, y_train, epochs=100, validation_split=0.1)\n",
        "\n",
        "#Con los features (x_train) que usamos para entrenar el modelo, realizamos las predicciones (y_train_prediccion)\n",
        "y_train_prediccion = model.predict(x_train)\n",
        "y_train_prediccion.round(3)\n",
        "\n",
        "#Obtenemos la cateogoría con mayor probabilidad\n",
        "y_train_prediccion_categorico = np.argmax(y_train_prediccion, axis = 1)\n",
        "y_train_prediccion_categorico\n",
        "\n",
        "#Hay tres salidas, debemos quedarnos con los índices máximos\n",
        "y_train\n",
        "\n",
        "#Categorizamos la data de test\n",
        "y_train_categorico = np.argmax(y_train, axis = 1)\n",
        "y_train_categorico\n",
        "\n",
        "#Imprimos la matriz de confusión\n",
        "accuracy_score(y_train_categorico, y_train_prediccion_categorico)\n",
        "\n",
        "#Con los features (x_test) que no usamos para entrenar al modelo, realizamos las predicciones (y_test_prediccion)\n",
        "y_test_prediccion = model.predict(x_test)\n",
        "y_test_prediccion.round(3)\n",
        "\n",
        "#Obtenemos la cateogoría con mayor probabilidad\n",
        "y_test_prediccion_categorico = np.argmax(y_test_prediccion, axis = 1)\n",
        "y_test_prediccion_categorico\n",
        "\n",
        "#Hay tres salidas, debemos quedarnos con los índices máximos\n",
        "y_test\n",
        "\n",
        "#Categorizamos la data de test\n",
        "y_test_categorico = np.argmax(y_test, axis = 1)\n",
        "y_test_categorico\n",
        "\n",
        "#Calculamos el error\n",
        "#INTERPRETACIÓN: El modelo al ser usado en un entorno productivo, de 100 casos acertará en 80 y se equivocará en 20 casos\n",
        "accuracy_score(y_test_categorico, y_test_prediccion_categorico)\n",
        "\n",
        "#El modelo tiene un alto porcentaje de reconocimiento de patrones en los datos (81.25%)\n",
        "#El modelo tiene un alto porcentaje de aciertos en nuestras predicciones (80.00%)\n",
        "#La diferencia entre el porcentaje de reconocimiento de patrones (81.25%) y el porcentaje de aciertos (80.00%) es pequeña (1.25%)\n",
        "#Como la diferencia es pequeña, estamos frente a un modelo que representa y predice muy bien la realidad de negocio\n",
        "#Es un modelo que podemos usar en un entorno real de producción"
      ],
      "execution_count": 3,
      "outputs": [
        {
          "output_type": "stream",
          "name": "stdout",
          "text": [
            "Drive already mounted at /content/drive; to attempt to forcibly remount, call drive.mount(\"/content/drive\", force_remount=True).\n",
            "Model: \"sequential_1\"\n",
            "_________________________________________________________________\n",
            "Layer (type)                 Output Shape              Param #   \n",
            "=================================================================\n",
            "dense_3 (Dense)              (None, 3)                 15        \n",
            "_________________________________________________________________\n",
            "dense_4 (Dense)              (None, 2)                 8         \n",
            "_________________________________________________________________\n",
            "dense_5 (Dense)              (None, 3)                 9         \n",
            "=================================================================\n",
            "Total params: 32\n",
            "Trainable params: 32\n",
            "Non-trainable params: 0\n",
            "_________________________________________________________________\n"
          ]
        },
        {
          "output_type": "stream",
          "name": "stderr",
          "text": [
            "/usr/local/lib/python3.7/dist-packages/keras/optimizer_v2/optimizer_v2.py:356: UserWarning: The `lr` argument is deprecated, use `learning_rate` instead.\n",
            "  \"The `lr` argument is deprecated, use `learning_rate` instead.\")\n"
          ]
        },
        {
          "output_type": "stream",
          "name": "stdout",
          "text": [
            "Epoch 1/100\n",
            "4/4 [==============================] - 1s 55ms/step - loss: 1.0476 - accuracy: 0.4074 - val_loss: 0.8224 - val_accuracy: 0.4167\n",
            "Epoch 2/100\n",
            "4/4 [==============================] - 0s 9ms/step - loss: 0.6522 - accuracy: 0.6389 - val_loss: 0.5673 - val_accuracy: 0.8333\n",
            "Epoch 3/100\n",
            "4/4 [==============================] - 0s 7ms/step - loss: 0.5007 - accuracy: 0.7130 - val_loss: 0.5640 - val_accuracy: 0.4167\n",
            "Epoch 4/100\n",
            "4/4 [==============================] - 0s 9ms/step - loss: 0.4635 - accuracy: 0.6667 - val_loss: 0.6189 - val_accuracy: 0.4167\n",
            "Epoch 5/100\n",
            "4/4 [==============================] - 0s 8ms/step - loss: 0.4528 - accuracy: 0.7037 - val_loss: 0.4668 - val_accuracy: 0.8333\n",
            "Epoch 6/100\n",
            "4/4 [==============================] - 0s 9ms/step - loss: 0.3914 - accuracy: 0.9352 - val_loss: 0.3654 - val_accuracy: 0.9167\n",
            "Epoch 7/100\n",
            "4/4 [==============================] - 0s 8ms/step - loss: 0.3195 - accuracy: 0.9537 - val_loss: 0.3376 - val_accuracy: 0.9167\n",
            "Epoch 8/100\n",
            "4/4 [==============================] - 0s 8ms/step - loss: 0.2444 - accuracy: 0.9537 - val_loss: 0.2127 - val_accuracy: 0.9167\n",
            "Epoch 9/100\n",
            "4/4 [==============================] - 0s 7ms/step - loss: 0.1719 - accuracy: 0.9630 - val_loss: 0.1410 - val_accuracy: 1.0000\n",
            "Epoch 10/100\n",
            "4/4 [==============================] - 0s 8ms/step - loss: 0.1316 - accuracy: 0.9630 - val_loss: 0.1225 - val_accuracy: 0.9167\n",
            "Epoch 11/100\n",
            "4/4 [==============================] - 0s 9ms/step - loss: 0.1176 - accuracy: 0.9444 - val_loss: 0.1183 - val_accuracy: 0.9167\n",
            "Epoch 12/100\n",
            "4/4 [==============================] - 0s 9ms/step - loss: 0.1122 - accuracy: 0.9537 - val_loss: 0.1096 - val_accuracy: 0.9167\n",
            "Epoch 13/100\n",
            "4/4 [==============================] - 0s 8ms/step - loss: 0.1351 - accuracy: 0.9537 - val_loss: 0.0485 - val_accuracy: 1.0000\n",
            "Epoch 14/100\n",
            "4/4 [==============================] - 0s 8ms/step - loss: 0.0786 - accuracy: 0.9722 - val_loss: 0.0858 - val_accuracy: 0.9167\n",
            "Epoch 15/100\n",
            "4/4 [==============================] - 0s 8ms/step - loss: 0.1178 - accuracy: 0.9444 - val_loss: 0.0519 - val_accuracy: 1.0000\n",
            "Epoch 16/100\n",
            "4/4 [==============================] - 0s 7ms/step - loss: 0.1158 - accuracy: 0.9722 - val_loss: 0.1452 - val_accuracy: 0.9167\n",
            "Epoch 17/100\n",
            "4/4 [==============================] - 0s 8ms/step - loss: 0.0854 - accuracy: 0.9815 - val_loss: 0.1965 - val_accuracy: 0.9167\n",
            "Epoch 18/100\n",
            "4/4 [==============================] - 0s 8ms/step - loss: 0.1266 - accuracy: 0.9630 - val_loss: 0.0322 - val_accuracy: 1.0000\n",
            "Epoch 19/100\n",
            "4/4 [==============================] - 0s 10ms/step - loss: 0.1370 - accuracy: 0.9630 - val_loss: 0.3458 - val_accuracy: 0.7500\n",
            "Epoch 20/100\n",
            "4/4 [==============================] - 0s 9ms/step - loss: 0.1061 - accuracy: 0.9537 - val_loss: 0.1632 - val_accuracy: 0.9167\n",
            "Epoch 21/100\n",
            "4/4 [==============================] - 0s 8ms/step - loss: 0.2604 - accuracy: 0.8981 - val_loss: 0.0535 - val_accuracy: 1.0000\n",
            "Epoch 22/100\n",
            "4/4 [==============================] - 0s 10ms/step - loss: 0.0468 - accuracy: 0.9815 - val_loss: 0.0912 - val_accuracy: 1.0000\n",
            "Epoch 23/100\n",
            "4/4 [==============================] - 0s 11ms/step - loss: 0.1280 - accuracy: 0.9537 - val_loss: 0.0336 - val_accuracy: 1.0000\n",
            "Epoch 24/100\n",
            "4/4 [==============================] - 0s 9ms/step - loss: 0.0504 - accuracy: 0.9815 - val_loss: 0.1128 - val_accuracy: 0.9167\n",
            "Epoch 25/100\n",
            "4/4 [==============================] - 0s 15ms/step - loss: 0.0764 - accuracy: 0.9815 - val_loss: 0.0347 - val_accuracy: 1.0000\n",
            "Epoch 26/100\n",
            "4/4 [==============================] - 0s 11ms/step - loss: 0.0866 - accuracy: 0.9722 - val_loss: 0.0335 - val_accuracy: 1.0000\n",
            "Epoch 27/100\n",
            "4/4 [==============================] - 0s 10ms/step - loss: 0.0703 - accuracy: 0.9722 - val_loss: 0.0534 - val_accuracy: 1.0000\n",
            "Epoch 28/100\n",
            "4/4 [==============================] - 0s 8ms/step - loss: 0.0888 - accuracy: 0.9722 - val_loss: 0.0429 - val_accuracy: 1.0000\n",
            "Epoch 29/100\n",
            "4/4 [==============================] - 0s 8ms/step - loss: 0.0789 - accuracy: 0.9630 - val_loss: 0.0345 - val_accuracy: 1.0000\n",
            "Epoch 30/100\n",
            "4/4 [==============================] - 0s 15ms/step - loss: 0.0935 - accuracy: 0.9630 - val_loss: 0.0597 - val_accuracy: 1.0000\n",
            "Epoch 31/100\n",
            "4/4 [==============================] - 0s 8ms/step - loss: 0.0555 - accuracy: 0.9722 - val_loss: 0.0238 - val_accuracy: 1.0000\n",
            "Epoch 32/100\n",
            "4/4 [==============================] - 0s 11ms/step - loss: 0.1100 - accuracy: 0.9722 - val_loss: 0.0831 - val_accuracy: 1.0000\n",
            "Epoch 33/100\n",
            "4/4 [==============================] - 0s 8ms/step - loss: 0.0942 - accuracy: 0.9722 - val_loss: 0.0534 - val_accuracy: 1.0000\n",
            "Epoch 34/100\n",
            "4/4 [==============================] - 0s 9ms/step - loss: 0.0641 - accuracy: 0.9815 - val_loss: 0.0423 - val_accuracy: 1.0000\n",
            "Epoch 35/100\n",
            "4/4 [==============================] - 0s 8ms/step - loss: 0.0519 - accuracy: 0.9722 - val_loss: 0.0226 - val_accuracy: 1.0000\n",
            "Epoch 36/100\n",
            "4/4 [==============================] - 0s 8ms/step - loss: 0.0712 - accuracy: 0.9722 - val_loss: 0.0230 - val_accuracy: 1.0000\n",
            "Epoch 37/100\n",
            "4/4 [==============================] - 0s 8ms/step - loss: 0.0583 - accuracy: 0.9815 - val_loss: 0.0491 - val_accuracy: 1.0000\n",
            "Epoch 38/100\n",
            "4/4 [==============================] - 0s 9ms/step - loss: 0.0677 - accuracy: 0.9722 - val_loss: 0.0196 - val_accuracy: 1.0000\n",
            "Epoch 39/100\n",
            "4/4 [==============================] - 0s 8ms/step - loss: 0.2067 - accuracy: 0.9352 - val_loss: 0.0860 - val_accuracy: 1.0000\n",
            "Epoch 40/100\n",
            "4/4 [==============================] - 0s 10ms/step - loss: 0.1072 - accuracy: 0.9630 - val_loss: 0.1087 - val_accuracy: 0.9167\n",
            "Epoch 41/100\n",
            "4/4 [==============================] - 0s 9ms/step - loss: 0.0992 - accuracy: 0.9630 - val_loss: 0.0266 - val_accuracy: 1.0000\n",
            "Epoch 42/100\n",
            "4/4 [==============================] - 0s 9ms/step - loss: 0.0813 - accuracy: 0.9722 - val_loss: 0.0386 - val_accuracy: 1.0000\n",
            "Epoch 43/100\n",
            "4/4 [==============================] - 0s 8ms/step - loss: 0.0776 - accuracy: 0.9722 - val_loss: 0.0372 - val_accuracy: 1.0000\n",
            "Epoch 44/100\n",
            "4/4 [==============================] - 0s 10ms/step - loss: 0.0688 - accuracy: 0.9722 - val_loss: 0.0284 - val_accuracy: 1.0000\n",
            "Epoch 45/100\n",
            "4/4 [==============================] - 0s 9ms/step - loss: 0.0544 - accuracy: 0.9815 - val_loss: 0.0207 - val_accuracy: 1.0000\n",
            "Epoch 46/100\n",
            "4/4 [==============================] - 0s 10ms/step - loss: 0.0749 - accuracy: 0.9722 - val_loss: 0.0260 - val_accuracy: 1.0000\n",
            "Epoch 47/100\n",
            "4/4 [==============================] - 0s 10ms/step - loss: 0.0634 - accuracy: 0.9722 - val_loss: 0.0226 - val_accuracy: 1.0000\n",
            "Epoch 48/100\n",
            "4/4 [==============================] - 0s 8ms/step - loss: 0.0633 - accuracy: 0.9722 - val_loss: 0.0230 - val_accuracy: 1.0000\n",
            "Epoch 49/100\n",
            "4/4 [==============================] - 0s 9ms/step - loss: 0.0943 - accuracy: 0.9630 - val_loss: 0.0188 - val_accuracy: 1.0000\n",
            "Epoch 50/100\n",
            "4/4 [==============================] - 0s 9ms/step - loss: 0.0620 - accuracy: 0.9722 - val_loss: 0.0344 - val_accuracy: 1.0000\n",
            "Epoch 51/100\n",
            "4/4 [==============================] - 0s 8ms/step - loss: 0.0656 - accuracy: 0.9722 - val_loss: 0.0170 - val_accuracy: 1.0000\n",
            "Epoch 52/100\n",
            "4/4 [==============================] - 0s 9ms/step - loss: 0.0623 - accuracy: 0.9630 - val_loss: 0.0162 - val_accuracy: 1.0000\n",
            "Epoch 53/100\n",
            "4/4 [==============================] - 0s 13ms/step - loss: 0.0669 - accuracy: 0.9630 - val_loss: 0.0251 - val_accuracy: 1.0000\n",
            "Epoch 54/100\n",
            "4/4 [==============================] - 0s 10ms/step - loss: 0.0544 - accuracy: 0.9815 - val_loss: 0.0148 - val_accuracy: 1.0000\n",
            "Epoch 55/100\n",
            "4/4 [==============================] - 0s 9ms/step - loss: 0.0524 - accuracy: 0.9815 - val_loss: 0.0137 - val_accuracy: 1.0000\n",
            "Epoch 56/100\n",
            "4/4 [==============================] - 0s 10ms/step - loss: 0.0510 - accuracy: 0.9722 - val_loss: 0.0223 - val_accuracy: 1.0000\n",
            "Epoch 57/100\n",
            "4/4 [==============================] - 0s 11ms/step - loss: 0.0646 - accuracy: 0.9722 - val_loss: 0.0232 - val_accuracy: 1.0000\n",
            "Epoch 58/100\n",
            "4/4 [==============================] - 0s 9ms/step - loss: 0.0540 - accuracy: 0.9815 - val_loss: 0.0129 - val_accuracy: 1.0000\n",
            "Epoch 59/100\n",
            "4/4 [==============================] - 0s 9ms/step - loss: 0.0545 - accuracy: 0.9815 - val_loss: 0.0148 - val_accuracy: 1.0000\n",
            "Epoch 60/100\n",
            "4/4 [==============================] - 0s 9ms/step - loss: 0.0625 - accuracy: 0.9722 - val_loss: 0.0205 - val_accuracy: 1.0000\n",
            "Epoch 61/100\n",
            "4/4 [==============================] - 0s 8ms/step - loss: 0.1064 - accuracy: 0.9630 - val_loss: 0.0364 - val_accuracy: 1.0000\n",
            "Epoch 62/100\n",
            "4/4 [==============================] - 0s 10ms/step - loss: 0.0580 - accuracy: 0.9630 - val_loss: 0.1664 - val_accuracy: 0.9167\n",
            "Epoch 63/100\n",
            "4/4 [==============================] - 0s 10ms/step - loss: 0.1196 - accuracy: 0.9722 - val_loss: 0.0174 - val_accuracy: 1.0000\n",
            "Epoch 64/100\n",
            "4/4 [==============================] - 0s 13ms/step - loss: 0.0772 - accuracy: 0.9630 - val_loss: 0.0850 - val_accuracy: 0.9167\n",
            "Epoch 65/100\n",
            "4/4 [==============================] - 0s 8ms/step - loss: 0.0708 - accuracy: 0.9722 - val_loss: 0.0241 - val_accuracy: 1.0000\n",
            "Epoch 66/100\n",
            "4/4 [==============================] - 0s 9ms/step - loss: 0.0924 - accuracy: 0.9722 - val_loss: 0.0335 - val_accuracy: 1.0000\n",
            "Epoch 67/100\n",
            "4/4 [==============================] - 0s 8ms/step - loss: 0.0592 - accuracy: 0.9722 - val_loss: 0.0317 - val_accuracy: 1.0000\n",
            "Epoch 68/100\n",
            "4/4 [==============================] - 0s 9ms/step - loss: 0.1843 - accuracy: 0.9352 - val_loss: 0.0881 - val_accuracy: 0.9167\n",
            "Epoch 69/100\n",
            "4/4 [==============================] - 0s 8ms/step - loss: 0.0683 - accuracy: 0.9815 - val_loss: 0.2173 - val_accuracy: 0.9167\n",
            "Epoch 70/100\n",
            "4/4 [==============================] - 0s 9ms/step - loss: 0.1730 - accuracy: 0.9259 - val_loss: 0.0217 - val_accuracy: 1.0000\n",
            "Epoch 71/100\n",
            "4/4 [==============================] - 0s 9ms/step - loss: 0.0819 - accuracy: 0.9722 - val_loss: 0.1106 - val_accuracy: 0.9167\n",
            "Epoch 72/100\n",
            "4/4 [==============================] - 0s 11ms/step - loss: 0.1218 - accuracy: 0.9630 - val_loss: 0.0198 - val_accuracy: 1.0000\n",
            "Epoch 73/100\n",
            "4/4 [==============================] - 0s 9ms/step - loss: 0.0799 - accuracy: 0.9815 - val_loss: 0.0434 - val_accuracy: 1.0000\n",
            "Epoch 74/100\n",
            "4/4 [==============================] - 0s 8ms/step - loss: 0.0726 - accuracy: 0.9722 - val_loss: 0.0210 - val_accuracy: 1.0000\n",
            "Epoch 75/100\n",
            "4/4 [==============================] - 0s 8ms/step - loss: 0.1030 - accuracy: 0.9444 - val_loss: 0.0454 - val_accuracy: 1.0000\n",
            "Epoch 76/100\n",
            "4/4 [==============================] - 0s 8ms/step - loss: 0.1013 - accuracy: 0.9537 - val_loss: 0.1362 - val_accuracy: 0.9167\n",
            "Epoch 77/100\n",
            "4/4 [==============================] - 0s 8ms/step - loss: 0.1438 - accuracy: 0.9444 - val_loss: 0.0235 - val_accuracy: 1.0000\n",
            "Epoch 78/100\n",
            "4/4 [==============================] - 0s 8ms/step - loss: 0.1018 - accuracy: 0.9537 - val_loss: 0.0724 - val_accuracy: 0.9167\n",
            "Epoch 79/100\n",
            "4/4 [==============================] - 0s 9ms/step - loss: 0.0769 - accuracy: 0.9815 - val_loss: 0.0224 - val_accuracy: 1.0000\n",
            "Epoch 80/100\n",
            "4/4 [==============================] - 0s 9ms/step - loss: 0.1027 - accuracy: 0.9722 - val_loss: 0.0487 - val_accuracy: 1.0000\n",
            "Epoch 81/100\n",
            "4/4 [==============================] - 0s 14ms/step - loss: 0.0732 - accuracy: 0.9722 - val_loss: 0.0306 - val_accuracy: 1.0000\n",
            "Epoch 82/100\n",
            "4/4 [==============================] - 0s 8ms/step - loss: 0.0934 - accuracy: 0.9537 - val_loss: 0.0271 - val_accuracy: 1.0000\n",
            "Epoch 83/100\n",
            "4/4 [==============================] - 0s 12ms/step - loss: 0.0461 - accuracy: 0.9815 - val_loss: 0.0189 - val_accuracy: 1.0000\n",
            "Epoch 84/100\n",
            "4/4 [==============================] - 0s 9ms/step - loss: 0.0812 - accuracy: 0.9722 - val_loss: 0.0530 - val_accuracy: 1.0000\n",
            "Epoch 85/100\n",
            "4/4 [==============================] - 0s 11ms/step - loss: 0.0826 - accuracy: 0.9722 - val_loss: 0.0177 - val_accuracy: 1.0000\n",
            "Epoch 86/100\n",
            "4/4 [==============================] - 0s 9ms/step - loss: 0.1011 - accuracy: 0.9537 - val_loss: 0.0424 - val_accuracy: 1.0000\n",
            "Epoch 87/100\n",
            "4/4 [==============================] - 0s 10ms/step - loss: 0.0624 - accuracy: 0.9722 - val_loss: 0.0147 - val_accuracy: 1.0000\n",
            "Epoch 88/100\n",
            "4/4 [==============================] - 0s 9ms/step - loss: 0.0692 - accuracy: 0.9722 - val_loss: 0.0133 - val_accuracy: 1.0000\n",
            "Epoch 89/100\n",
            "4/4 [==============================] - 0s 11ms/step - loss: 0.0840 - accuracy: 0.9630 - val_loss: 0.0569 - val_accuracy: 1.0000\n",
            "Epoch 90/100\n",
            "4/4 [==============================] - 0s 10ms/step - loss: 0.0856 - accuracy: 0.9722 - val_loss: 0.0138 - val_accuracy: 1.0000\n",
            "Epoch 91/100\n",
            "4/4 [==============================] - 0s 10ms/step - loss: 0.0661 - accuracy: 0.9722 - val_loss: 0.0179 - val_accuracy: 1.0000\n",
            "Epoch 92/100\n",
            "4/4 [==============================] - 0s 9ms/step - loss: 0.0618 - accuracy: 0.9722 - val_loss: 0.0152 - val_accuracy: 1.0000\n",
            "Epoch 93/100\n",
            "4/4 [==============================] - 0s 9ms/step - loss: 0.0499 - accuracy: 0.9815 - val_loss: 0.0311 - val_accuracy: 1.0000\n",
            "Epoch 94/100\n",
            "4/4 [==============================] - 0s 8ms/step - loss: 0.0766 - accuracy: 0.9722 - val_loss: 0.0112 - val_accuracy: 1.0000\n",
            "Epoch 95/100\n",
            "4/4 [==============================] - 0s 10ms/step - loss: 0.1532 - accuracy: 0.9259 - val_loss: 0.1135 - val_accuracy: 0.9167\n",
            "Epoch 96/100\n",
            "4/4 [==============================] - 0s 9ms/step - loss: 0.1075 - accuracy: 0.9630 - val_loss: 0.0128 - val_accuracy: 1.0000\n",
            "Epoch 97/100\n",
            "4/4 [==============================] - 0s 9ms/step - loss: 0.0667 - accuracy: 0.9722 - val_loss: 0.0178 - val_accuracy: 1.0000\n",
            "Epoch 98/100\n",
            "4/4 [==============================] - 0s 9ms/step - loss: 0.0806 - accuracy: 0.9722 - val_loss: 0.0187 - val_accuracy: 1.0000\n",
            "Epoch 99/100\n",
            "4/4 [==============================] - 0s 11ms/step - loss: 0.0620 - accuracy: 0.9722 - val_loss: 0.0171 - val_accuracy: 1.0000\n",
            "Epoch 100/100\n",
            "4/4 [==============================] - 0s 9ms/step - loss: 0.0749 - accuracy: 0.9630 - val_loss: 0.0174 - val_accuracy: 1.0000\n"
          ]
        },
        {
          "output_type": "execute_result",
          "data": {
            "text/plain": [
              "0.9666666666666667"
            ]
          },
          "metadata": {},
          "execution_count": 3
        }
      ]
    },
    {
      "cell_type": "markdown",
      "metadata": {
        "id": "arovhQB3--g5"
      },
      "source": [
        "# Almacenamiento de modelo"
      ]
    },
    {
      "cell_type": "code",
      "metadata": {
        "id": "B2XGYSlc_EH8"
      },
      "source": [
        "#Almacenamos el modelo entrenado\n",
        "#El formato H5 significa \"HDF5\": Hierarchical Data Format v5.0\n",
        "#Soporta almacenamiento de modelos n-dimensionales (p.e., tensores) y es compatible con plataformas de Big Data\n",
        "model.save('/content/drive/MyDrive/Data/modelo.h5')"
      ],
      "execution_count": 4,
      "outputs": []
    },
    {
      "cell_type": "code",
      "metadata": {
        "id": "xuBV2Qfr_EMT"
      },
      "source": [
        "#También deberemos almacenar el escalador para des-escalar cuando el modelo sea usado\n",
        "#Creamos la estructura del archivo y colocamos los objetos que necesitamos\n",
        "#También guardamos la metadata que necesitemos, por ejemplo los nombres de las categorías\n",
        "dataset = {}\n",
        "dataset['scaler'] = sc\n",
        "dataset['categories'] = ['setosa', 'versicolor', 'virginica']\n",
        "dataset_numpy = np.array(dataset)"
      ],
      "execution_count": 5,
      "outputs": []
    },
    {
      "cell_type": "code",
      "metadata": {
        "id": "uPSHcq8i_ER3"
      },
      "source": [
        "#Almacenamos el archivo\n",
        "np.savez('/content/drive/MyDrive/Data/metadata', dataset_numpy)"
      ],
      "execution_count": 6,
      "outputs": []
    },
    {
      "cell_type": "markdown",
      "metadata": {
        "id": "EHn8fYwP-f_4"
      },
      "source": [
        "# Lectura del modelo"
      ]
    },
    {
      "cell_type": "code",
      "metadata": {
        "id": "ohI3hvna_IAK"
      },
      "source": [
        "#Importamos la librería para leer modelos\n",
        "from keras.models import load_model"
      ],
      "execution_count": 7,
      "outputs": []
    },
    {
      "cell_type": "code",
      "metadata": {
        "id": "g5guIdR8_IEk"
      },
      "source": [
        "#Leemos el modelo\n",
        "modelLeido = load_model('/content/drive/MyDrive/Data/modelo.h5')"
      ],
      "execution_count": 8,
      "outputs": []
    },
    {
      "cell_type": "code",
      "metadata": {
        "id": "cZmFU4ms_IHj"
      },
      "source": [
        "#Leemos el archivo de metadata\n",
        "metadataLeida = np.load('/content/drive/MyDrive/Data/metadata.npz', allow_pickle=True)"
      ],
      "execution_count": 9,
      "outputs": []
    },
    {
      "cell_type": "code",
      "metadata": {
        "colab": {
          "base_uri": "https://localhost:8080/"
        },
        "id": "A1H9u5NO_OhW",
        "outputId": "866c7db9-adcf-425b-e9dd-297173ec37d5"
      },
      "source": [
        "#Extraemos el escalador\n",
        "scLeido = metadataLeida['arr_0'][()]['scaler']\n",
        "scLeido"
      ],
      "execution_count": 10,
      "outputs": [
        {
          "output_type": "execute_result",
          "data": {
            "text/plain": [
              "MinMaxScaler(copy=True, feature_range=(0, 1))"
            ]
          },
          "metadata": {},
          "execution_count": 10
        }
      ]
    },
    {
      "cell_type": "code",
      "metadata": {
        "colab": {
          "base_uri": "https://localhost:8080/"
        },
        "id": "gXpZYdRN_OeL",
        "outputId": "88dd9690-0a28-4232-9e0e-0bfe230e16ac"
      },
      "source": [
        "#Extraemos la metadata\n",
        "categoriasLeida = metadataLeida['arr_0'][()]['categories']\n",
        "categoriasLeida"
      ],
      "execution_count": 11,
      "outputs": [
        {
          "output_type": "execute_result",
          "data": {
            "text/plain": [
              "['setosa', 'versicolor', 'virginica']"
            ]
          },
          "metadata": {},
          "execution_count": 11
        }
      ]
    },
    {
      "cell_type": "markdown",
      "metadata": {
        "id": "IEDOA7TA-gwG"
      },
      "source": [
        "# Uso del modelo leído"
      ]
    },
    {
      "cell_type": "code",
      "metadata": {
        "colab": {
          "base_uri": "https://localhost:8080/"
        },
        "id": "vbtmNNrC_SLX",
        "outputId": "71198e26-e061-426d-d09d-a8dbcb73b719"
      },
      "source": [
        "#Definimos los features para la predicción en un array\n",
        "x = [5.1, 3.5, 1.4, 0.2]\n",
        "x"
      ],
      "execution_count": 12,
      "outputs": [
        {
          "output_type": "execute_result",
          "data": {
            "text/plain": [
              "[5.1, 3.5, 1.4, 0.2]"
            ]
          },
          "metadata": {},
          "execution_count": 12
        }
      ]
    },
    {
      "cell_type": "code",
      "metadata": {
        "colab": {
          "base_uri": "https://localhost:8080/"
        },
        "id": "dskgeCxR_T4S",
        "outputId": "e9f2253e-ce42-467f-bf61-420a27e38744"
      },
      "source": [
        "#Aplicamos el modelo para obtener la predicción\n",
        "#Colocamos los features como un array, ya que podemos enviarle más de un registro a la vez\n",
        "y = modelLeido.predict([x])\n",
        "y"
      ],
      "execution_count": 13,
      "outputs": [
        {
          "output_type": "execute_result",
          "data": {
            "text/plain": [
              "array([[0.3256606 , 0.6711741 , 0.00316529]], dtype=float32)"
            ]
          },
          "metadata": {},
          "execution_count": 13
        }
      ]
    },
    {
      "cell_type": "code",
      "metadata": {
        "colab": {
          "base_uri": "https://localhost:8080/"
        },
        "id": "g7ExmiyK_U49",
        "outputId": "324b7c37-cd88-4f1f-b4ca-db654a17d7cd"
      },
      "source": [
        "#Como es un modelo multi-clase, extraemos la posición máxima\n",
        "indice_max = y.argmax()\n",
        "indice_max"
      ],
      "execution_count": 14,
      "outputs": [
        {
          "output_type": "execute_result",
          "data": {
            "text/plain": [
              "1"
            ]
          },
          "metadata": {},
          "execution_count": 14
        }
      ]
    },
    {
      "cell_type": "code",
      "metadata": {
        "colab": {
          "base_uri": "https://localhost:8080/",
          "height": 35
        },
        "id": "Bl4uhSAd_Vvp",
        "outputId": "b139fd4d-6fd9-4af9-b8cb-c597857ab02b"
      },
      "source": [
        "#De la metada leída, verificamos a qué cateogoría corresponde\n",
        "categoria_prediccion = categoriasLeida[indice_max]\n",
        "categoria_prediccion"
      ],
      "execution_count": 15,
      "outputs": [
        {
          "output_type": "execute_result",
          "data": {
            "application/vnd.google.colaboratory.intrinsic+json": {
              "type": "string"
            },
            "text/plain": [
              "'versicolor'"
            ]
          },
          "metadata": {},
          "execution_count": 15
        }
      ]
    }
  ]
}