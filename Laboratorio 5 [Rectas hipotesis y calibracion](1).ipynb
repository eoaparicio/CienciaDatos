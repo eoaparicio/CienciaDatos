{
  "nbformat": 4,
  "nbformat_minor": 0,
  "metadata": {
    "colab": {
      "name": "Laboratorio 10 [Rectas hipotesis y calibracion] v0.1.ipynb",
      "provenance": [],
      "collapsed_sections": [],
      "toc_visible": true
    },
    "kernelspec": {
      "name": "python3",
      "display_name": "Python 3"
    },
    "language_info": {
      "name": "python"
    }
  },
  "cells": [
    {
      "cell_type": "markdown",
      "metadata": {
        "id": "3BY8L16Z_sJN"
      },
      "source": [
        "# Librerias"
      ]
    },
    {
      "cell_type": "code",
      "metadata": {
        "id": "6Hr-CWpo_vRM"
      },
      "source": [
        "%matplotlib inline\n",
        "import pandas as pd\n",
        "import numpy as np\n",
        "import matplotlib.pyplot as plt\n",
        "from sklearn.model_selection import train_test_split"
      ],
      "execution_count": 1,
      "outputs": []
    },
    {
      "cell_type": "markdown",
      "metadata": {
        "id": "4w6JBaD6tg2D"
      },
      "source": [
        "# Conexión a repositorio de datos"
      ]
    },
    {
      "cell_type": "code",
      "metadata": {
        "colab": {
          "base_uri": "https://localhost:8080/"
        },
        "id": "UGatpYUlxYW-",
        "outputId": "d8f72523-4f3c-44e3-8339-eaf339145cb9"
      },
      "source": [
        "from google.colab import drive\n",
        "drive.mount('/content/drive')"
      ],
      "execution_count": 2,
      "outputs": [
        {
          "output_type": "stream",
          "text": [
            "Mounted at /content/drive\n"
          ],
          "name": "stdout"
        }
      ]
    },
    {
      "cell_type": "markdown",
      "metadata": {
        "id": "K-IcZW0_tnNz"
      },
      "source": [
        "# Lectura de datos"
      ]
    },
    {
      "cell_type": "code",
      "metadata": {
        "colab": {
          "base_uri": "https://localhost:8080/",
          "height": 419
        },
        "id": "JtenU8dr_mst",
        "outputId": "e23584c8-92a9-40eb-a029-95dcc0a9c5e9"
      },
      "source": [
        "#Leemos los datos\n",
        "df = pd.read_csv(\"/content/drive/MyDrive/Data/weight-height.csv\")\n",
        "df"
      ],
      "execution_count": 3,
      "outputs": [
        {
          "output_type": "execute_result",
          "data": {
            "text/html": [
              "<div>\n",
              "<style scoped>\n",
              "    .dataframe tbody tr th:only-of-type {\n",
              "        vertical-align: middle;\n",
              "    }\n",
              "\n",
              "    .dataframe tbody tr th {\n",
              "        vertical-align: top;\n",
              "    }\n",
              "\n",
              "    .dataframe thead th {\n",
              "        text-align: right;\n",
              "    }\n",
              "</style>\n",
              "<table border=\"1\" class=\"dataframe\">\n",
              "  <thead>\n",
              "    <tr style=\"text-align: right;\">\n",
              "      <th></th>\n",
              "      <th>Gender</th>\n",
              "      <th>Height</th>\n",
              "      <th>Weight</th>\n",
              "    </tr>\n",
              "  </thead>\n",
              "  <tbody>\n",
              "    <tr>\n",
              "      <th>0</th>\n",
              "      <td>Male</td>\n",
              "      <td>73.847017</td>\n",
              "      <td>241.893563</td>\n",
              "    </tr>\n",
              "    <tr>\n",
              "      <th>1</th>\n",
              "      <td>Male</td>\n",
              "      <td>68.781904</td>\n",
              "      <td>162.310473</td>\n",
              "    </tr>\n",
              "    <tr>\n",
              "      <th>2</th>\n",
              "      <td>Male</td>\n",
              "      <td>74.110105</td>\n",
              "      <td>212.740856</td>\n",
              "    </tr>\n",
              "    <tr>\n",
              "      <th>3</th>\n",
              "      <td>Male</td>\n",
              "      <td>71.730978</td>\n",
              "      <td>220.042470</td>\n",
              "    </tr>\n",
              "    <tr>\n",
              "      <th>4</th>\n",
              "      <td>Male</td>\n",
              "      <td>69.881796</td>\n",
              "      <td>206.349801</td>\n",
              "    </tr>\n",
              "    <tr>\n",
              "      <th>...</th>\n",
              "      <td>...</td>\n",
              "      <td>...</td>\n",
              "      <td>...</td>\n",
              "    </tr>\n",
              "    <tr>\n",
              "      <th>9995</th>\n",
              "      <td>Female</td>\n",
              "      <td>66.172652</td>\n",
              "      <td>136.777454</td>\n",
              "    </tr>\n",
              "    <tr>\n",
              "      <th>9996</th>\n",
              "      <td>Female</td>\n",
              "      <td>67.067155</td>\n",
              "      <td>170.867906</td>\n",
              "    </tr>\n",
              "    <tr>\n",
              "      <th>9997</th>\n",
              "      <td>Female</td>\n",
              "      <td>63.867992</td>\n",
              "      <td>128.475319</td>\n",
              "    </tr>\n",
              "    <tr>\n",
              "      <th>9998</th>\n",
              "      <td>Female</td>\n",
              "      <td>69.034243</td>\n",
              "      <td>163.852461</td>\n",
              "    </tr>\n",
              "    <tr>\n",
              "      <th>9999</th>\n",
              "      <td>Female</td>\n",
              "      <td>61.944246</td>\n",
              "      <td>113.649103</td>\n",
              "    </tr>\n",
              "  </tbody>\n",
              "</table>\n",
              "<p>10000 rows × 3 columns</p>\n",
              "</div>"
            ],
            "text/plain": [
              "      Gender     Height      Weight\n",
              "0       Male  73.847017  241.893563\n",
              "1       Male  68.781904  162.310473\n",
              "2       Male  74.110105  212.740856\n",
              "3       Male  71.730978  220.042470\n",
              "4       Male  69.881796  206.349801\n",
              "...      ...        ...         ...\n",
              "9995  Female  66.172652  136.777454\n",
              "9996  Female  67.067155  170.867906\n",
              "9997  Female  63.867992  128.475319\n",
              "9998  Female  69.034243  163.852461\n",
              "9999  Female  61.944246  113.649103\n",
              "\n",
              "[10000 rows x 3 columns]"
            ]
          },
          "metadata": {
            "tags": []
          },
          "execution_count": 3
        }
      ]
    },
    {
      "cell_type": "markdown",
      "metadata": {
        "id": "GqznGd4NtqJ0"
      },
      "source": [
        "# Función de recta"
      ]
    },
    {
      "cell_type": "code",
      "metadata": {
        "id": "ELt7-C1ftcnq"
      },
      "source": [
        "#Ya sabemos que la recta tiene la forma:\n",
        "# Y = b + wX\n",
        "\n",
        "def recta(x, w, b):\n",
        "  y = b + w*x\n",
        "  return y"
      ],
      "execution_count": 4,
      "outputs": []
    },
    {
      "cell_type": "markdown",
      "metadata": {
        "id": "Ahakmz_7L9Xu"
      },
      "source": [
        "# Función de error cuadrático"
      ]
    },
    {
      "cell_type": "code",
      "metadata": {
        "id": "4ItSIXCNLD8j"
      },
      "source": [
        "#Definicion de la funcion de costo de error cuadrático\n",
        "def mean_squared_error(y_real, y_hipotesis):\n",
        "  #Restamos uno a uno cada elemento del array y lo elevamos al cuadrado\n",
        "  #Obtenemos un array \"error\" con la diferencia de cada elemento\n",
        "  error = (y_real - y_hipotesis)**2\n",
        "\n",
        "  #Sumamos todos los elementos restados y lo dividmos entre el número de elementos (hacemos un promedio)\n",
        "  error_promedio = error.mean()\n",
        "\n",
        "  return error_promedio"
      ],
      "execution_count": 5,
      "outputs": []
    },
    {
      "cell_type": "markdown",
      "metadata": {
        "id": "u6n3Q1srPRpl"
      },
      "source": [
        "# Función para evaluar diferentes calibraciones de la recta manteniendo b=0"
      ]
    },
    {
      "cell_type": "code",
      "metadata": {
        "id": "Ou1nhg6XPgI2"
      },
      "source": [
        "#Definimos algunas calibraciones para w\n",
        "w = [0.0, 1.5, 1.9, 2.3, 2.7, 3.1, 3.5]\n",
        "b = 0"
      ],
      "execution_count": 6,
      "outputs": []
    },
    {
      "cell_type": "code",
      "metadata": {
        "colab": {
          "base_uri": "https://localhost:8080/"
        },
        "id": "0ukzuX99QQuq",
        "outputId": "fd07ebd6-c162-418d-f378-2ebf908ac2b8"
      },
      "source": [
        "#Array de errores en donde almacenaremos los errores de cada calibracion\n",
        "error = np.zeros(len(w))\n",
        "error"
      ],
      "execution_count": 7,
      "outputs": [
        {
          "output_type": "execute_result",
          "data": {
            "text/plain": [
              "array([0., 0., 0., 0., 0., 0., 0.])"
            ]
          },
          "metadata": {
            "tags": []
          },
          "execution_count": 7
        }
      ]
    },
    {
      "cell_type": "code",
      "metadata": {
        "id": "URPdww8KP3Im"
      },
      "source": [
        "#Implementamos la función\n",
        "def calibrar_recta_b_constante(x_real, y_real, w, b):\n",
        "\n",
        "  #Iteramos las calibraciones\n",
        "  for i, _w in enumerate(w):\n",
        "    #Obtenemos los y hipotesis\n",
        "    y_hipotesis = recta(x_real, _w, b)\n",
        "\n",
        "    #Obtenemos el error\n",
        "    error[i] = mean_squared_error(y_real, y_hipotesis)\n",
        "\n",
        "    #Graficamos\n",
        "    plt.plot(x_real, y_hipotesis, color = 'red', linewidth = '3')\n",
        "\n",
        "  #Obtenemos el índice de la calibración que nos dio el error mínimo\n",
        "  indice = error.argmin()\n",
        "\n",
        "  #Devolvemos el indice\n",
        "  return indice"
      ],
      "execution_count": 8,
      "outputs": []
    },
    {
      "cell_type": "markdown",
      "metadata": {
        "id": "4cVDJDpfuXIB"
      },
      "source": [
        "# Aplicamos la función"
      ]
    },
    {
      "cell_type": "code",
      "metadata": {
        "colab": {
          "base_uri": "https://localhost:8080/",
          "height": 295
        },
        "id": "kMUKRruwR5kD",
        "outputId": "ec58751b-e087-4e47-9981-0e9327052001"
      },
      "source": [
        "#Graficamos la nube de puntos\n",
        "df.plot(\n",
        "    kind = 'scatter',\n",
        "    x = 'Height',\n",
        "    y = 'Weight',\n",
        "    title = 'Estatura vs Peso'\n",
        ")\n",
        "\n",
        "#Seleccionamos las columnas con las que trabajaremos\n",
        "x_real = df['Height'].values\n",
        "y_real = df['Weight'].values\n",
        "\n",
        "#Usamos la función para calibrar\n",
        "indice = calibrar_recta_b_constante(x_real, y_real, w, b)"
      ],
      "execution_count": 9,
      "outputs": [
        {
          "output_type": "display_data",
          "data": {
            "image/png": "[encoded data removed]",
            "text/plain": [
              "<Figure size 432x288 with 1 Axes>"
            ]
          },
          "metadata": {
            "tags": [],
            "needs_background": "light"
          }
        }
      ]
    },
    {
      "cell_type": "code",
      "metadata": {
        "colab": {
          "base_uri": "https://localhost:8080/"
        },
        "id": "zPnLtkBySwqU",
        "outputId": "68b6c3db-92c2-42d3-ca42-7b2a47e4a2ae"
      },
      "source": [
        "#Vemos cuál calibración fue la mejor\n",
        "w[indice]"
      ],
      "execution_count": 10,
      "outputs": [
        {
          "output_type": "execute_result",
          "data": {
            "text/plain": [
              "2.3"
            ]
          },
          "metadata": {
            "tags": []
          },
          "execution_count": 10
        }
      ]
    },
    {
      "cell_type": "code",
      "metadata": {
        "colab": {
          "base_uri": "https://localhost:8080/"
        },
        "id": "RB6nhOBGS5RQ",
        "outputId": "bb7464ad-bc9c-4410-defb-558ae2f6bb14"
      },
      "source": [
        "#Veamos el array de errores\n",
        "error"
      ],
      "execution_count": 11,
      "outputs": [
        {
          "output_type": "execute_result",
          "data": {
            "text/plain": [
              "array([27093.83757456,  4551.70999642,  1899.26176046,   661.03911814,\n",
              "         837.04206944,  2427.27061438,  5431.72475296])"
            ]
          },
          "metadata": {
            "tags": []
          },
          "execution_count": 11
        }
      ]
    },
    {
      "cell_type": "markdown",
      "metadata": {
        "id": "ni8tc98mTF9R"
      },
      "source": [
        "Notemos como el error alcanza un mínimo y luego vuelve a subir\n",
        "\n",
        "Esto se debe a que la función de error al elevar al cuadrado la diferencia de errores en la gráfica \"error vs W\" obtendremos una gráfica cuadrática\n",
        "\n",
        "Una gráfica cuadrática siempre nos garantiza un valor mínimo global, por lo tanto en ese mínimo global podemos encontrar la recta con el error más pequeño y por lo tanto la recta que mejor represente la realidad"
      ]
    },
    {
      "cell_type": "markdown",
      "metadata": {
        "id": "x8xi8BrCTkjc"
      },
      "source": [
        "# Gráfico de la función de costo como función cuadrática con un mínimo global"
      ]
    },
    {
      "cell_type": "code",
      "metadata": {
        "colab": {
          "base_uri": "https://localhost:8080/"
        },
        "id": "OmQV7mYpTrME",
        "outputId": "4cb22de1-9248-4dff-8a1a-68c0267c73a0"
      },
      "source": [
        "#Para este ejemplo, b  ha sido constante (b = 0)\n",
        "b"
      ],
      "execution_count": 12,
      "outputs": [
        {
          "output_type": "execute_result",
          "data": {
            "text/plain": [
              "0"
            ]
          },
          "metadata": {
            "tags": []
          },
          "execution_count": 12
        }
      ]
    },
    {
      "cell_type": "code",
      "metadata": {
        "colab": {
          "base_uri": "https://localhost:8080/"
        },
        "id": "5DDRBXksTwOz",
        "outputId": "69396adb-d6e2-4eb3-8210-6a36169e2ce6"
      },
      "source": [
        "#Hemos probado estas calibraciones para W\n",
        "w"
      ],
      "execution_count": 13,
      "outputs": [
        {
          "output_type": "execute_result",
          "data": {
            "text/plain": [
              "[0.0, 1.5, 1.9, 2.3, 2.7, 3.1, 3.5]"
            ]
          },
          "metadata": {
            "tags": []
          },
          "execution_count": 13
        }
      ]
    },
    {
      "cell_type": "code",
      "metadata": {
        "colab": {
          "base_uri": "https://localhost:8080/"
        },
        "id": "APR9Wp0fT0kk",
        "outputId": "e33205bf-a401-4cec-d14d-acf808cd187f"
      },
      "source": [
        "#Y hemos obtenido estos errores para cada una\n",
        "error"
      ],
      "execution_count": 14,
      "outputs": [
        {
          "output_type": "execute_result",
          "data": {
            "text/plain": [
              "array([27093.83757456,  4551.70999642,  1899.26176046,   661.03911814,\n",
              "         837.04206944,  2427.27061438,  5431.72475296])"
            ]
          },
          "metadata": {
            "tags": []
          },
          "execution_count": 14
        }
      ]
    },
    {
      "cell_type": "code",
      "metadata": {
        "colab": {
          "base_uri": "https://localhost:8080/",
          "height": 282
        },
        "id": "zUieqBYoT4tV",
        "outputId": "0c1dca40-1b08-452e-9621-2f6c48c77981"
      },
      "source": [
        "#Gráfico de error vs W\n",
        "plt.plot(w, error)\n",
        "\n",
        "#Punto de error mínimo\n",
        "plt.plot(w[indice], error[indice], 'r*')"
      ],
      "execution_count": 15,
      "outputs": [
        {
          "output_type": "execute_result",
          "data": {
            "text/plain": [
              "[<matplotlib.lines.Line2D at 0x7fc78d7c0f50>]"
            ]
          },
          "metadata": {
            "tags": []
          },
          "execution_count": 15
        },
        {
          "output_type": "display_data",
          "data": {
            "image/png": "[encoded data removed]",
            "text/plain": [
              "<Figure size 432x288 with 1 Axes>"
            ]
          },
          "metadata": {
            "tags": [],
            "needs_background": "light"
          }
        }
      ]
    },
    {
      "cell_type": "markdown",
      "metadata": {
        "id": "qVnqhpW6UluD"
      },
      "source": [
        "Notamos que al graficar la función de costo, tenemos un mínimo global que está cercano al w = 2.5\n",
        "\n",
        "Para nuestras calibraciones hemos obtenido w = 2.3"
      ]
    },
    {
      "cell_type": "markdown",
      "metadata": {
        "id": "tNodggbFU9fr"
      },
      "source": [
        "# Probemos más calibraciones entre el rango de 0 y 3.5"
      ]
    },
    {
      "cell_type": "markdown",
      "metadata": {
        "id": "maKQv6nEVCl-"
      },
      "source": [
        "Ya sabemos que entre 0 y 3.5 se garantiza un mínimo global, probemos diferentes W entre ese rango"
      ]
    },
    {
      "cell_type": "code",
      "metadata": {
        "colab": {
          "base_uri": "https://localhost:8080/"
        },
        "id": "J7JY9aLXVIs8",
        "outputId": "0be8c0d0-de64-4133-895c-d8ed2dc7064b"
      },
      "source": [
        "#Creamos 100 elementos equidistantes entre 0 y 3.5\n",
        "w = np.linspace(0, 3.5, 100)\n",
        "w"
      ],
      "execution_count": 16,
      "outputs": [
        {
          "output_type": "execute_result",
          "data": {
            "text/plain": [
              "array([0.        , 0.03535354, 0.07070707, 0.10606061, 0.14141414,\n",
              "       0.17676768, 0.21212121, 0.24747475, 0.28282828, 0.31818182,\n",
              "       0.35353535, 0.38888889, 0.42424242, 0.45959596, 0.49494949,\n",
              "       0.53030303, 0.56565657, 0.6010101 , 0.63636364, 0.67171717,\n",
              "       0.70707071, 0.74242424, 0.77777778, 0.81313131, 0.84848485,\n",
              "       0.88383838, 0.91919192, 0.95454545, 0.98989899, 1.02525253,\n",
              "       1.06060606, 1.0959596 , 1.13131313, 1.16666667, 1.2020202 ,\n",
              "       1.23737374, 1.27272727, 1.30808081, 1.34343434, 1.37878788,\n",
              "       1.41414141, 1.44949495, 1.48484848, 1.52020202, 1.55555556,\n",
              "       1.59090909, 1.62626263, 1.66161616, 1.6969697 , 1.73232323,\n",
              "       1.76767677, 1.8030303 , 1.83838384, 1.87373737, 1.90909091,\n",
              "       1.94444444, 1.97979798, 2.01515152, 2.05050505, 2.08585859,\n",
              "       2.12121212, 2.15656566, 2.19191919, 2.22727273, 2.26262626,\n",
              "       2.2979798 , 2.33333333, 2.36868687, 2.4040404 , 2.43939394,\n",
              "       2.47474747, 2.51010101, 2.54545455, 2.58080808, 2.61616162,\n",
              "       2.65151515, 2.68686869, 2.72222222, 2.75757576, 2.79292929,\n",
              "       2.82828283, 2.86363636, 2.8989899 , 2.93434343, 2.96969697,\n",
              "       3.00505051, 3.04040404, 3.07575758, 3.11111111, 3.14646465,\n",
              "       3.18181818, 3.21717172, 3.25252525, 3.28787879, 3.32323232,\n",
              "       3.35858586, 3.39393939, 3.42929293, 3.46464646, 3.5       ])"
            ]
          },
          "metadata": {
            "tags": []
          },
          "execution_count": 16
        }
      ]
    },
    {
      "cell_type": "code",
      "metadata": {
        "id": "gggNwJMlVrfz"
      },
      "source": [
        "#Preparamos un array de 100 elementos para los erores\n",
        "error = np.zeros(len(w))"
      ],
      "execution_count": 17,
      "outputs": []
    },
    {
      "cell_type": "code",
      "metadata": {
        "id": "noB0_oGJVdcJ"
      },
      "source": [
        "#Volvemos a implementar la función, pero sin graficar, serían muchas rectas\n",
        "def calibrar_recta_b_constante(x_real, y_real, w, b):\n",
        "\n",
        "  #Iteramos las calibraciones\n",
        "  for i, _w in enumerate(w):\n",
        "    #Obtenemos los y hipotesis\n",
        "    y_hipotesis = recta(x_real, _w, b)\n",
        "\n",
        "    #Obtenemos el error\n",
        "    error[i] = mean_squared_error(y_real, y_hipotesis)\n",
        "\n",
        "  #Obtenemos el índice de la calibración que nos dio el error mínimo\n",
        "  indice = error.argmin()\n",
        "\n",
        "  #Devolvemos el indice\n",
        "  return indice"
      ],
      "execution_count": 18,
      "outputs": []
    },
    {
      "cell_type": "code",
      "metadata": {
        "id": "jz3UsOYjVQeZ"
      },
      "source": [
        "#Seleccionamos las columnas con las que trabajaremos\n",
        "x_real = df['Height'].values\n",
        "y_real = df['Weight'].values\n",
        "\n",
        "#Usamos la función para calibrar\n",
        "indice = calibrar_recta_b_constante(x_real, y_real, w, b)"
      ],
      "execution_count": 19,
      "outputs": []
    },
    {
      "cell_type": "code",
      "metadata": {
        "colab": {
          "base_uri": "https://localhost:8080/"
        },
        "id": "xrdL_KplV8cS",
        "outputId": "441a3bd9-61dd-4f35-e08c-936113528b56"
      },
      "source": [
        "#Veamos el índice de qué calibración fue la mejor\n",
        "indice"
      ],
      "execution_count": 20,
      "outputs": [
        {
          "output_type": "execute_result",
          "data": {
            "text/plain": [
              "69"
            ]
          },
          "metadata": {
            "tags": []
          },
          "execution_count": 20
        }
      ]
    },
    {
      "cell_type": "code",
      "metadata": {
        "colab": {
          "base_uri": "https://localhost:8080/"
        },
        "id": "5BvaBXaDVzLB",
        "outputId": "36148fcf-9722-4365-d31f-fde6f594073d"
      },
      "source": [
        "#Vemos cuál calibración fue la mejor\n",
        "w[indice]"
      ],
      "execution_count": 21,
      "outputs": [
        {
          "output_type": "execute_result",
          "data": {
            "text/plain": [
              "2.4393939393939394"
            ]
          },
          "metadata": {
            "tags": []
          },
          "execution_count": 21
        }
      ]
    },
    {
      "cell_type": "code",
      "metadata": {
        "colab": {
          "base_uri": "https://localhost:8080/"
        },
        "id": "z3SVMy0bV6G1",
        "outputId": "9e08547a-7ba3-4149-87d3-dddc1cf674d2"
      },
      "source": [
        "#Veamos el array de errores\n",
        "error[indice]"
      ],
      "execution_count": 22,
      "outputs": [
        {
          "output_type": "execute_result",
          "data": {
            "text/plain": [
              "561.8283568955101"
            ]
          },
          "metadata": {
            "tags": []
          },
          "execution_count": 22
        }
      ]
    },
    {
      "cell_type": "code",
      "metadata": {
        "colab": {
          "base_uri": "https://localhost:8080/",
          "height": 282
        },
        "id": "K2jFt7DJWCAH",
        "outputId": "d5c90477-1900-434a-8f1d-399886fafc6b"
      },
      "source": [
        "#Gráfico de error vs W\n",
        "plt.plot(w, error)\n",
        "\n",
        "#Punto de error mínimo\n",
        "plt.plot(w[indice], error[indice], 'r*')"
      ],
      "execution_count": 23,
      "outputs": [
        {
          "output_type": "execute_result",
          "data": {
            "text/plain": [
              "[<matplotlib.lines.Line2D at 0x7fc78d747e90>]"
            ]
          },
          "metadata": {
            "tags": []
          },
          "execution_count": 23
        },
        {
          "output_type": "display_data",
          "data": {
            "image/png": "[encoded data removed]",
            "text/plain": [
              "<Figure size 432x288 with 1 Axes>"
            ]
          },
          "metadata": {
            "tags": [],
            "needs_background": "light"
          }
        }
      ]
    },
    {
      "cell_type": "code",
      "metadata": {
        "colab": {
          "base_uri": "https://localhost:8080/",
          "height": 312
        },
        "id": "LMIqjlCfWZWc",
        "outputId": "689fa083-39e2-4798-cae4-06e92af9dc42"
      },
      "source": [
        "#Gráfico de la nube de puntos\n",
        "df.plot(\n",
        "    kind = 'scatter',\n",
        "    x = 'Height',\n",
        "    y = 'Weight',\n",
        "    title = 'Estatura vs Peso'\n",
        ")\n",
        "\n",
        "#Obtenemos los Y\n",
        "y_hipotesis = recta(x_real, w[indice], b)\n",
        "\n",
        "#Gráfico de la mejor recta\n",
        "plt.plot(x_real, y_hipotesis, color = 'red', linewidth = '3')"
      ],
      "execution_count": 24,
      "outputs": [
        {
          "output_type": "execute_result",
          "data": {
            "text/plain": [
              "[<matplotlib.lines.Line2D at 0x7fc78d752590>]"
            ]
          },
          "metadata": {
            "tags": []
          },
          "execution_count": 24
        },
        {
          "output_type": "display_data",
          "data": {
            "image/png": "[encoded data removed]",
            "text/plain": [
              "<Figure size 432x288 with 1 Axes>"
            ]
          },
          "metadata": {
            "tags": [],
            "needs_background": "light"
          }
        }
      ]
    }
  ]
}