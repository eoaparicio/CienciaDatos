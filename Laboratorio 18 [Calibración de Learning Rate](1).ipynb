{
  "nbformat": 4,
  "nbformat_minor": 0,
  "metadata": {
    "colab": {
      "name": "Laboratorio_18_[Calibración_de_Learning_Rate]_v1_0.ipynb",
      "provenance": [],
      "collapsed_sections": []
    },
    "kernelspec": {
      "name": "python3",
      "display_name": "Python 3"
    },
    "language_info": {
      "name": "python"
    }
  },
  "cells": [
    {
      "cell_type": "markdown",
      "metadata": {
        "id": "i-VGe8CSzeOs"
      },
      "source": [
        "# Librerías"
      ]
    },
    {
      "cell_type": "code",
      "metadata": {
        "id": "7DqYdKoPzivX"
      },
      "source": [
        "%matplotlib inline\n",
        "import matplotlib.pyplot as plt\n",
        "import numpy as np\n",
        "import pandas as pd\n",
        "from google.colab import drive"
      ],
      "execution_count": 1,
      "outputs": []
    },
    {
      "cell_type": "markdown",
      "metadata": {
        "id": "452_Vvx9zrOn"
      },
      "source": [
        "# Conexión al repositorio de datos"
      ]
    },
    {
      "cell_type": "code",
      "metadata": {
        "colab": {
          "base_uri": "https://localhost:8080/"
        },
        "id": "pTujE2_yzqx5",
        "outputId": "efdc5213-3327-45ec-ee24-ca612fe09eba"
      },
      "source": [
        "#Accedemos a Google Drive\n",
        "drive.mount('/content/drive')"
      ],
      "execution_count": 2,
      "outputs": [
        {
          "output_type": "stream",
          "name": "stdout",
          "text": [
            "Mounted at /content/drive\n"
          ]
        }
      ]
    },
    {
      "cell_type": "markdown",
      "metadata": {
        "id": "TRg5f2pCznXL"
      },
      "source": [
        "# Lectura de datos"
      ]
    },
    {
      "cell_type": "code",
      "metadata": {
        "colab": {
          "base_uri": "https://localhost:8080/",
          "height": 419
        },
        "id": "ANwZ_0qOzovZ",
        "outputId": "b3eddff9-49a3-445a-d79f-b4c606b6dc43"
      },
      "source": [
        "#Leemos los datos\n",
        "#Se trata de un dataset que describe las características de billetes verdaderos y falsos\n",
        "df = pd.read_csv('/content/drive/MyDrive/Data/billetes.csv')\n",
        "df\n",
        "\n",
        "#No entraremos mucho en los detalles de qué significa cada variable\n",
        "#Cada variable indica una característica del billete\n",
        "#El label \"class\" determina si un billete es o no falso"
      ],
      "execution_count": 3,
      "outputs": [
        {
          "output_type": "execute_result",
          "data": {
            "text/html": [
              "<div>\n",
              "<style scoped>\n",
              "    .dataframe tbody tr th:only-of-type {\n",
              "        vertical-align: middle;\n",
              "    }\n",
              "\n",
              "    .dataframe tbody tr th {\n",
              "        vertical-align: top;\n",
              "    }\n",
              "\n",
              "    .dataframe thead th {\n",
              "        text-align: right;\n",
              "    }\n",
              "</style>\n",
              "<table border=\"1\" class=\"dataframe\">\n",
              "  <thead>\n",
              "    <tr style=\"text-align: right;\">\n",
              "      <th></th>\n",
              "      <th>variace</th>\n",
              "      <th>skewness</th>\n",
              "      <th>curtosis</th>\n",
              "      <th>entropy</th>\n",
              "      <th>class</th>\n",
              "    </tr>\n",
              "  </thead>\n",
              "  <tbody>\n",
              "    <tr>\n",
              "      <th>0</th>\n",
              "      <td>3.62160</td>\n",
              "      <td>8.66610</td>\n",
              "      <td>-2.8073</td>\n",
              "      <td>-0.44699</td>\n",
              "      <td>0</td>\n",
              "    </tr>\n",
              "    <tr>\n",
              "      <th>1</th>\n",
              "      <td>4.54590</td>\n",
              "      <td>8.16740</td>\n",
              "      <td>-2.4586</td>\n",
              "      <td>-1.46210</td>\n",
              "      <td>0</td>\n",
              "    </tr>\n",
              "    <tr>\n",
              "      <th>2</th>\n",
              "      <td>3.86600</td>\n",
              "      <td>-2.63830</td>\n",
              "      <td>1.9242</td>\n",
              "      <td>0.10645</td>\n",
              "      <td>0</td>\n",
              "    </tr>\n",
              "    <tr>\n",
              "      <th>3</th>\n",
              "      <td>3.45660</td>\n",
              "      <td>9.52280</td>\n",
              "      <td>-4.0112</td>\n",
              "      <td>-3.59440</td>\n",
              "      <td>0</td>\n",
              "    </tr>\n",
              "    <tr>\n",
              "      <th>4</th>\n",
              "      <td>0.32924</td>\n",
              "      <td>-4.45520</td>\n",
              "      <td>4.5718</td>\n",
              "      <td>-0.98880</td>\n",
              "      <td>0</td>\n",
              "    </tr>\n",
              "    <tr>\n",
              "      <th>...</th>\n",
              "      <td>...</td>\n",
              "      <td>...</td>\n",
              "      <td>...</td>\n",
              "      <td>...</td>\n",
              "      <td>...</td>\n",
              "    </tr>\n",
              "    <tr>\n",
              "      <th>1367</th>\n",
              "      <td>0.40614</td>\n",
              "      <td>1.34920</td>\n",
              "      <td>-1.4501</td>\n",
              "      <td>-0.55949</td>\n",
              "      <td>1</td>\n",
              "    </tr>\n",
              "    <tr>\n",
              "      <th>1368</th>\n",
              "      <td>-1.38870</td>\n",
              "      <td>-4.87730</td>\n",
              "      <td>6.4774</td>\n",
              "      <td>0.34179</td>\n",
              "      <td>1</td>\n",
              "    </tr>\n",
              "    <tr>\n",
              "      <th>1369</th>\n",
              "      <td>-3.75030</td>\n",
              "      <td>-13.45860</td>\n",
              "      <td>17.5932</td>\n",
              "      <td>-2.77710</td>\n",
              "      <td>1</td>\n",
              "    </tr>\n",
              "    <tr>\n",
              "      <th>1370</th>\n",
              "      <td>-3.56370</td>\n",
              "      <td>-8.38270</td>\n",
              "      <td>12.3930</td>\n",
              "      <td>-1.28230</td>\n",
              "      <td>1</td>\n",
              "    </tr>\n",
              "    <tr>\n",
              "      <th>1371</th>\n",
              "      <td>-2.54190</td>\n",
              "      <td>-0.65804</td>\n",
              "      <td>2.6842</td>\n",
              "      <td>1.19520</td>\n",
              "      <td>1</td>\n",
              "    </tr>\n",
              "  </tbody>\n",
              "</table>\n",
              "<p>1372 rows × 5 columns</p>\n",
              "</div>"
            ],
            "text/plain": [
              "      variace  skewness  curtosis  entropy  class\n",
              "0     3.62160   8.66610   -2.8073 -0.44699      0\n",
              "1     4.54590   8.16740   -2.4586 -1.46210      0\n",
              "2     3.86600  -2.63830    1.9242  0.10645      0\n",
              "3     3.45660   9.52280   -4.0112 -3.59440      0\n",
              "4     0.32924  -4.45520    4.5718 -0.98880      0\n",
              "...       ...       ...       ...      ...    ...\n",
              "1367  0.40614   1.34920   -1.4501 -0.55949      1\n",
              "1368 -1.38870  -4.87730    6.4774  0.34179      1\n",
              "1369 -3.75030 -13.45860   17.5932 -2.77710      1\n",
              "1370 -3.56370  -8.38270   12.3930 -1.28230      1\n",
              "1371 -2.54190  -0.65804    2.6842  1.19520      1\n",
              "\n",
              "[1372 rows x 5 columns]"
            ]
          },
          "metadata": {},
          "execution_count": 3
        }
      ]
    },
    {
      "cell_type": "markdown",
      "metadata": {
        "id": "_mlvKlqVz7tS"
      },
      "source": [
        "# Definición de \"features\""
      ]
    },
    {
      "cell_type": "code",
      "metadata": {
        "colab": {
          "base_uri": "https://localhost:8080/"
        },
        "id": "86aFqKobz8wQ",
        "outputId": "d138577a-f743-4be3-dfb8-d327829de1b8"
      },
      "source": [
        "#Definimos los features\n",
        "x = df[['variace', 'skewness', 'curtosis', 'entropy']].values\n",
        "x"
      ],
      "execution_count": 4,
      "outputs": [
        {
          "output_type": "execute_result",
          "data": {
            "text/plain": [
              "array([[  3.6216 ,   8.6661 ,  -2.8073 ,  -0.44699],\n",
              "       [  4.5459 ,   8.1674 ,  -2.4586 ,  -1.4621 ],\n",
              "       [  3.866  ,  -2.6383 ,   1.9242 ,   0.10645],\n",
              "       ...,\n",
              "       [ -3.7503 , -13.4586 ,  17.5932 ,  -2.7771 ],\n",
              "       [ -3.5637 ,  -8.3827 ,  12.393  ,  -1.2823 ],\n",
              "       [ -2.5419 ,  -0.65804,   2.6842 ,   1.1952 ]])"
            ]
          },
          "metadata": {},
          "execution_count": 4
        }
      ]
    },
    {
      "cell_type": "code",
      "metadata": {
        "id": "MiLTRK4B0FEP"
      },
      "source": [
        "#En el caso de los features, vamos a escalarlos con valores entre 0 y 1"
      ],
      "execution_count": 5,
      "outputs": []
    },
    {
      "cell_type": "code",
      "metadata": {
        "id": "Rn2NvdK00HwN"
      },
      "source": [
        "#Importamos la librería para escalar\n",
        "from sklearn.preprocessing import scale"
      ],
      "execution_count": 6,
      "outputs": []
    },
    {
      "cell_type": "code",
      "metadata": {
        "colab": {
          "base_uri": "https://localhost:8080/"
        },
        "id": "DzZlT1Wl0JFh",
        "outputId": "b6577bea-f219-4379-e30c-9b8544f4c704"
      },
      "source": [
        "#Escalamos\n",
        "x = scale(x)\n",
        "x"
      ],
      "execution_count": 7,
      "outputs": [
        {
          "output_type": "execute_result",
          "data": {
            "text/plain": [
              "array([[ 1.12180565,  1.14945512, -0.97597007,  0.35456135],\n",
              "       [ 1.44706568,  1.06445293, -0.89503626, -0.12876744],\n",
              "       [ 1.20780971, -0.77735215,  0.12221838,  0.61807317],\n",
              "       ...,\n",
              "       [-1.47235682, -2.62164576,  3.75901744, -0.75488418],\n",
              "       [-1.40669251, -1.75647104,  2.552043  , -0.04315848],\n",
              "       [-1.04712236, -0.43982168,  0.29861555,  1.1364645 ]])"
            ]
          },
          "metadata": {},
          "execution_count": 7
        }
      ]
    },
    {
      "cell_type": "markdown",
      "metadata": {
        "id": "0Za_Wy2K0BAz"
      },
      "source": [
        "# Definición de \"labels\""
      ]
    },
    {
      "cell_type": "code",
      "metadata": {
        "colab": {
          "base_uri": "https://localhost:8080/"
        },
        "id": "BO0Rd3X40CTz",
        "outputId": "9771d958-cecd-486c-f033-27e18455ca67"
      },
      "source": [
        "#Definimos los labels\n",
        "y = df['class'].values\n",
        "y"
      ],
      "execution_count": 8,
      "outputs": [
        {
          "output_type": "execute_result",
          "data": {
            "text/plain": [
              "array([0, 0, 0, ..., 1, 1, 1])"
            ]
          },
          "metadata": {},
          "execution_count": 8
        }
      ]
    },
    {
      "cell_type": "markdown",
      "metadata": {
        "id": "pMxhPprr0LkX"
      },
      "source": [
        "# Un modelo de Machine Learning clásico: Random Forest"
      ]
    },
    {
      "cell_type": "code",
      "metadata": {
        "id": "yacl_1zx0Ps5"
      },
      "source": [
        "#Por un momento vamos a usar otro modelo diferente a los de Deep Learning\n",
        "#Vamos a usar un RandomForest\n",
        "#Un RandomForest es un conjunto de árboles de decisión\n",
        "#No nos importará cómo se crea, sólo lo usaremos para compararlo con la red neuronal\n",
        "\n",
        "#Importamos la librería\n",
        "from sklearn.ensemble import RandomForestClassifier"
      ],
      "execution_count": 9,
      "outputs": []
    },
    {
      "cell_type": "code",
      "metadata": {
        "id": "wR_d4moT0R2k"
      },
      "source": [
        "#Creamos el modelo\n",
        "model = RandomForestClassifier()"
      ],
      "execution_count": 10,
      "outputs": []
    },
    {
      "cell_type": "code",
      "metadata": {
        "colab": {
          "base_uri": "https://localhost:8080/"
        },
        "id": "elAOPJJc0Tqn",
        "outputId": "7b543a50-059c-47f2-f77d-22fe2ec84792"
      },
      "source": [
        "#Aplicamos validación cruzada para ver el ratio de predicción\n",
        "\n",
        "#Importamos la función de validación cruzada\n",
        "from sklearn.model_selection import cross_val_score\n",
        "\n",
        "#Por defecto, la función realiza 5 validaciones\n",
        "cross_val_score(model, x, y)"
      ],
      "execution_count": 11,
      "outputs": [
        {
          "output_type": "execute_result",
          "data": {
            "text/plain": [
              "array([0.99636364, 0.99636364, 0.98905109, 0.99635036, 0.99635036])"
            ]
          },
          "metadata": {},
          "execution_count": 11
        }
      ]
    },
    {
      "cell_type": "markdown",
      "metadata": {
        "id": "HZZjFmur0jy0"
      },
      "source": [
        "# Generación de una neurona con ratio de aprendizaje"
      ]
    },
    {
      "cell_type": "code",
      "metadata": {
        "id": "gnsrqUzg1AcS"
      },
      "source": [
        "#Importamos la librería para dividir los datos\n",
        "from sklearn.model_selection import train_test_split\n",
        "\n",
        "#Dividimos los datos en datos de entrenamiento (x_train, y_train) y datos de validación (x_test, y_test)\n",
        "x_train, x_test, y_train, y_test = train_test_split(x, y, test_size = 0.2)"
      ],
      "execution_count": 12,
      "outputs": []
    },
    {
      "cell_type": "code",
      "metadata": {
        "id": "LEOJFXXC0lv6"
      },
      "source": [
        "#Importamos las librerías de Keras\n",
        "from keras.models import Sequential\n",
        "from keras.layers import Dense, Activation\n",
        "\n",
        "#Importamos un optimizador\n",
        "#Ya sabemos que podemos usar el método de gradiente descendiente para encontrar el punto en dónde se mimice el error en nuestra función de costo\n",
        "#Usaremos una gradiente descendiente conocida como SDG: Stocastic Descendent Gradiente (Gradiente descedente estocástica)\n",
        "#¿Qué significa?, al decir que es estocástica significa que estamos colocando el punto inicial de evaluación de manera aleatoria\n",
        "from tensorflow.keras.optimizers import SGD"
      ],
      "execution_count": 13,
      "outputs": []
    },
    {
      "cell_type": "code",
      "metadata": {
        "id": "S7kJauNO0oLY"
      },
      "source": [
        "#Instaciamos un modelo de machine learning vacío con \"Sequential\"\n",
        "model = Sequential()"
      ],
      "execution_count": 14,
      "outputs": []
    },
    {
      "cell_type": "code",
      "metadata": {
        "id": "N8bg9nLy0s6Q"
      },
      "source": [
        "#Agregamos sólo 1 neurona con 4 entradas\n",
        "#Como estamos frente a un problema de clasificación binaria, la F.A. más adecuada es la \"sigmoid\"\n",
        "model.add(Dense(1, input_shape=(4,), activation='sigmoid'))"
      ],
      "execution_count": 15,
      "outputs": []
    },
    {
      "cell_type": "code",
      "metadata": {
        "id": "ouXtFu_403-N",
        "colab": {
          "base_uri": "https://localhost:8080/"
        },
        "outputId": "c42a0c70-f67c-4da4-ea22-c0d5465dc9d4"
      },
      "source": [
        "#Compilamos probando un \"learning rate\" (lr) pequeño de 0.01\n",
        "model.compile(\n",
        "  loss='binary_crossentropy',\n",
        "  optimizer=SGD(lr=0.01),\n",
        "  metrics=['accuracy']\n",
        ")"
      ],
      "execution_count": 16,
      "outputs": [
        {
          "output_type": "stream",
          "name": "stderr",
          "text": [
            "/usr/local/lib/python3.7/dist-packages/keras/optimizer_v2/optimizer_v2.py:356: UserWarning: The `lr` argument is deprecated, use `learning_rate` instead.\n",
            "  \"The `lr` argument is deprecated, use `learning_rate` instead.\")\n"
          ]
        }
      ]
    },
    {
      "cell_type": "code",
      "metadata": {
        "colab": {
          "base_uri": "https://localhost:8080/"
        },
        "id": "2plW_Q1Y1TeB",
        "outputId": "8c2f106a-1bfe-445a-e18c-f0d2c5d1cd07"
      },
      "source": [
        "#Entrenamos el modelo\n",
        "#Esta vez al momento de entrenar, vamos a guardar la descripción del entrenamiento\n",
        "#Configuramos 10 iteraciones\n",
        "descripcion_de_entrenamiento = model.fit(x_train, y_train, epochs = 10)"
      ],
      "execution_count": 17,
      "outputs": [
        {
          "output_type": "stream",
          "name": "stdout",
          "text": [
            "Epoch 1/10\n",
            "35/35 [==============================] - 1s 1ms/step - loss: 0.9486 - accuracy: 0.3345\n",
            "Epoch 2/10\n",
            "35/35 [==============================] - 0s 1ms/step - loss: 0.8228 - accuracy: 0.4047\n",
            "Epoch 3/10\n",
            "35/35 [==============================] - 0s 1ms/step - loss: 0.7231 - accuracy: 0.5141\n",
            "Epoch 4/10\n",
            "35/35 [==============================] - 0s 1ms/step - loss: 0.6445 - accuracy: 0.7129\n",
            "Epoch 5/10\n",
            "35/35 [==============================] - 0s 1ms/step - loss: 0.5832 - accuracy: 0.8778\n",
            "Epoch 6/10\n",
            "35/35 [==============================] - 0s 1ms/step - loss: 0.5356 - accuracy: 0.9307\n",
            "Epoch 7/10\n",
            "35/35 [==============================] - 0s 1ms/step - loss: 0.4987 - accuracy: 0.9426\n",
            "Epoch 8/10\n",
            "35/35 [==============================] - 0s 1ms/step - loss: 0.4687 - accuracy: 0.9371\n",
            "Epoch 9/10\n",
            "35/35 [==============================] - 0s 1ms/step - loss: 0.4441 - accuracy: 0.9362\n",
            "Epoch 10/10\n",
            "35/35 [==============================] - 0s 1ms/step - loss: 0.4235 - accuracy: 0.9325\n"
          ]
        }
      ]
    },
    {
      "cell_type": "code",
      "metadata": {
        "colab": {
          "base_uri": "https://localhost:8080/"
        },
        "id": "mOn-W91B1Xjs",
        "outputId": "e97f6975-987f-46a0-b1b4-74fb043f01a3"
      },
      "source": [
        "#Dentro de esta variable encontraremos el accuracy de entrenamiento y el error de ganancia de descubrimiento de patrones al entrenar (loss)\n",
        "descripcion_de_entrenamiento.history"
      ],
      "execution_count": 18,
      "outputs": [
        {
          "output_type": "execute_result",
          "data": {
            "text/plain": [
              "{'accuracy': [0.3345487713813782,\n",
              "  0.40474021434783936,\n",
              "  0.5141294598579407,\n",
              "  0.7128532528877258,\n",
              "  0.8778486847877502,\n",
              "  0.9307201504707336,\n",
              "  0.9425706267356873,\n",
              "  0.9371011853218079,\n",
              "  0.936189591884613,\n",
              "  0.9325432777404785],\n",
              " 'loss': [0.9485770463943481,\n",
              "  0.8228261470794678,\n",
              "  0.7231215238571167,\n",
              "  0.6445474624633789,\n",
              "  0.5832316875457764,\n",
              "  0.5356399416923523,\n",
              "  0.498688668012619,\n",
              "  0.4686990976333618,\n",
              "  0.44410961866378784,\n",
              "  0.42345643043518066]}"
            ]
          },
          "metadata": {},
          "execution_count": 18
        }
      ]
    },
    {
      "cell_type": "code",
      "metadata": {
        "colab": {
          "base_uri": "https://localhost:8080/"
        },
        "id": "GQxfM7iY1cuP",
        "outputId": "c2d6e600-505b-4602-fea1-b379f46263b5"
      },
      "source": [
        "#Dentro de esta variable también tenemos el número de iteraciones que nuestro modelo ha hecho\n",
        "descripcion_de_entrenamiento.epoch"
      ],
      "execution_count": 19,
      "outputs": [
        {
          "output_type": "execute_result",
          "data": {
            "text/plain": [
              "[0, 1, 2, 3, 4, 5, 6, 7, 8, 9]"
            ]
          },
          "metadata": {},
          "execution_count": 19
        }
      ]
    },
    {
      "cell_type": "code",
      "metadata": {
        "colab": {
          "base_uri": "https://localhost:8080/"
        },
        "id": "I1dx7W-i1j_y",
        "outputId": "0ff05cd7-9fdb-4616-e93e-e93ca0159167"
      },
      "source": [
        "#Evaluamos el modelo con los datos de entrenamiento\n",
        "accuracy = model.evaluate(x_test, y_test)\n",
        "accuracy"
      ],
      "execution_count": 20,
      "outputs": [
        {
          "output_type": "stream",
          "name": "stdout",
          "text": [
            "9/9 [==============================] - 0s 1ms/step - loss: 0.4096 - accuracy: 0.9418\n"
          ]
        },
        {
          "output_type": "execute_result",
          "data": {
            "text/plain": [
              "[0.40964755415916443, 0.9418181777000427]"
            ]
          },
          "metadata": {},
          "execution_count": 20
        }
      ]
    },
    {
      "cell_type": "code",
      "metadata": {
        "colab": {
          "base_uri": "https://localhost:8080/",
          "height": 359
        },
        "id": "kzDhK3Wk1n2b",
        "outputId": "70965f55-2795-4da9-bee0-8667da2a0e2c"
      },
      "source": [
        "#Colocamos los datos en un dataframe de pandas\n",
        "#El dataframe tendrá dos variables: accuracy y loss\n",
        "dfDescripcion = pd.DataFrame(\n",
        "    descripcion_de_entrenamiento.history,\n",
        "    index = descripcion_de_entrenamiento.epoch\n",
        ")\n",
        "\n",
        "dfDescripcion"
      ],
      "execution_count": 21,
      "outputs": [
        {
          "output_type": "execute_result",
          "data": {
            "text/html": [
              "<div>\n",
              "<style scoped>\n",
              "    .dataframe tbody tr th:only-of-type {\n",
              "        vertical-align: middle;\n",
              "    }\n",
              "\n",
              "    .dataframe tbody tr th {\n",
              "        vertical-align: top;\n",
              "    }\n",
              "\n",
              "    .dataframe thead th {\n",
              "        text-align: right;\n",
              "    }\n",
              "</style>\n",
              "<table border=\"1\" class=\"dataframe\">\n",
              "  <thead>\n",
              "    <tr style=\"text-align: right;\">\n",
              "      <th></th>\n",
              "      <th>loss</th>\n",
              "      <th>accuracy</th>\n",
              "    </tr>\n",
              "  </thead>\n",
              "  <tbody>\n",
              "    <tr>\n",
              "      <th>0</th>\n",
              "      <td>0.948577</td>\n",
              "      <td>0.334549</td>\n",
              "    </tr>\n",
              "    <tr>\n",
              "      <th>1</th>\n",
              "      <td>0.822826</td>\n",
              "      <td>0.404740</td>\n",
              "    </tr>\n",
              "    <tr>\n",
              "      <th>2</th>\n",
              "      <td>0.723122</td>\n",
              "      <td>0.514129</td>\n",
              "    </tr>\n",
              "    <tr>\n",
              "      <th>3</th>\n",
              "      <td>0.644547</td>\n",
              "      <td>0.712853</td>\n",
              "    </tr>\n",
              "    <tr>\n",
              "      <th>4</th>\n",
              "      <td>0.583232</td>\n",
              "      <td>0.877849</td>\n",
              "    </tr>\n",
              "    <tr>\n",
              "      <th>5</th>\n",
              "      <td>0.535640</td>\n",
              "      <td>0.930720</td>\n",
              "    </tr>\n",
              "    <tr>\n",
              "      <th>6</th>\n",
              "      <td>0.498689</td>\n",
              "      <td>0.942571</td>\n",
              "    </tr>\n",
              "    <tr>\n",
              "      <th>7</th>\n",
              "      <td>0.468699</td>\n",
              "      <td>0.937101</td>\n",
              "    </tr>\n",
              "    <tr>\n",
              "      <th>8</th>\n",
              "      <td>0.444110</td>\n",
              "      <td>0.936190</td>\n",
              "    </tr>\n",
              "    <tr>\n",
              "      <th>9</th>\n",
              "      <td>0.423456</td>\n",
              "      <td>0.932543</td>\n",
              "    </tr>\n",
              "  </tbody>\n",
              "</table>\n",
              "</div>"
            ],
            "text/plain": [
              "       loss  accuracy\n",
              "0  0.948577  0.334549\n",
              "1  0.822826  0.404740\n",
              "2  0.723122  0.514129\n",
              "3  0.644547  0.712853\n",
              "4  0.583232  0.877849\n",
              "5  0.535640  0.930720\n",
              "6  0.498689  0.942571\n",
              "7  0.468699  0.937101\n",
              "8  0.444110  0.936190\n",
              "9  0.423456  0.932543"
            ]
          },
          "metadata": {},
          "execution_count": 21
        }
      ]
    },
    {
      "cell_type": "markdown",
      "metadata": {
        "id": "b2DEHotW1s-6"
      },
      "source": [
        "# Calibración del ratio de aprendizaje"
      ]
    },
    {
      "cell_type": "code",
      "metadata": {
        "id": "ubSL6Sqp1vNo"
      },
      "source": [
        "#¿El valor de lr = 0.01 será muy grande o muy pequeño?\n",
        "#Vamos a calibrar el valor de lr para saberlo"
      ],
      "execution_count": 22,
      "outputs": []
    },
    {
      "cell_type": "code",
      "metadata": {
        "id": "zDZPmxqB1w-U"
      },
      "source": [
        "#Probaremos diferentes valores para lr\n",
        "array_lr = [0.01, 0.05, 0.1, 0.5]"
      ],
      "execution_count": 23,
      "outputs": []
    },
    {
      "cell_type": "code",
      "metadata": {
        "id": "BsbCvGQ91x2w"
      },
      "source": [
        "#Creamos un array en donde guardaremos las descripciones de cada entrenamiento\n",
        "array_descripciones = []"
      ],
      "execution_count": 24,
      "outputs": []
    },
    {
      "cell_type": "code",
      "metadata": {
        "id": "xz2KCQcL10JH",
        "colab": {
          "base_uri": "https://localhost:8080/"
        },
        "outputId": "e90402e2-a9aa-4adc-a573-6e93f592be0a"
      },
      "source": [
        "#Iteramos cada calibración\n",
        "for lr in array_lr:\n",
        "  model = Sequential()\n",
        "  model.add(Dense(1, input_shape=(4,), activation='sigmoid'))\n",
        "  \n",
        "  #Agregamos el \"lr\" de la calibración\n",
        "  model.compile(\n",
        "    loss='binary_crossentropy',\n",
        "    optimizer=SGD(lr=lr),\n",
        "    metrics=['accuracy']\n",
        "  )\n",
        "  \n",
        "  #Entrenamos la neurona\n",
        "  #Para evitar que el output de entrenamiento se muestre en pantalla desactivamos la variable \"verbose\"\n",
        "  descripcion_de_entrenamiento = model.fit(x_train, y_train, epochs = 10, batch_size=16, verbose=0)\n",
        "\n",
        "  #Convertimos la descripción del entrenamiento en un dataframe\n",
        "  df = pd.DataFrame(\n",
        "      descripcion_de_entrenamiento.history,\n",
        "      index = descripcion_de_entrenamiento.epoch\n",
        "  )\n",
        "\n",
        "  #Agregamos el dataframe a la lista de descripciones de entrenamiento\n",
        "  array_descripciones.append(df)"
      ],
      "execution_count": 25,
      "outputs": [
        {
          "output_type": "stream",
          "name": "stderr",
          "text": [
            "/usr/local/lib/python3.7/dist-packages/keras/optimizer_v2/optimizer_v2.py:356: UserWarning: The `lr` argument is deprecated, use `learning_rate` instead.\n",
            "  \"The `lr` argument is deprecated, use `learning_rate` instead.\")\n"
          ]
        }
      ]
    },
    {
      "cell_type": "code",
      "metadata": {
        "colab": {
          "base_uri": "https://localhost:8080/",
          "height": 359
        },
        "id": "8GbeHrEO1_Ez",
        "outputId": "efd612f5-11b4-4889-e417-db72eb5e0a1d"
      },
      "source": [
        "#Dentro de nuestro array de descripciones tendremos las descripciones de los cuatro entrenamientos con diferentes \"lr\"\n",
        "\n",
        "#El primer entrenamiento con lr = 0.01\n",
        "array_descripciones[0]"
      ],
      "execution_count": 26,
      "outputs": [
        {
          "output_type": "execute_result",
          "data": {
            "text/html": [
              "<div>\n",
              "<style scoped>\n",
              "    .dataframe tbody tr th:only-of-type {\n",
              "        vertical-align: middle;\n",
              "    }\n",
              "\n",
              "    .dataframe tbody tr th {\n",
              "        vertical-align: top;\n",
              "    }\n",
              "\n",
              "    .dataframe thead th {\n",
              "        text-align: right;\n",
              "    }\n",
              "</style>\n",
              "<table border=\"1\" class=\"dataframe\">\n",
              "  <thead>\n",
              "    <tr style=\"text-align: right;\">\n",
              "      <th></th>\n",
              "      <th>loss</th>\n",
              "      <th>accuracy</th>\n",
              "    </tr>\n",
              "  </thead>\n",
              "  <tbody>\n",
              "    <tr>\n",
              "      <th>0</th>\n",
              "      <td>1.005324</td>\n",
              "      <td>0.399271</td>\n",
              "    </tr>\n",
              "    <tr>\n",
              "      <th>1</th>\n",
              "      <td>0.783567</td>\n",
              "      <td>0.534184</td>\n",
              "    </tr>\n",
              "    <tr>\n",
              "      <th>2</th>\n",
              "      <td>0.630632</td>\n",
              "      <td>0.680036</td>\n",
              "    </tr>\n",
              "    <tr>\n",
              "      <th>3</th>\n",
              "      <td>0.525974</td>\n",
              "      <td>0.804011</td>\n",
              "    </tr>\n",
              "    <tr>\n",
              "      <th>4</th>\n",
              "      <td>0.453674</td>\n",
              "      <td>0.868733</td>\n",
              "    </tr>\n",
              "    <tr>\n",
              "      <th>5</th>\n",
              "      <td>0.402829</td>\n",
              "      <td>0.919781</td>\n",
              "    </tr>\n",
              "    <tr>\n",
              "      <th>6</th>\n",
              "      <td>0.365800</td>\n",
              "      <td>0.959891</td>\n",
              "    </tr>\n",
              "    <tr>\n",
              "      <th>7</th>\n",
              "      <td>0.337906</td>\n",
              "      <td>0.969918</td>\n",
              "    </tr>\n",
              "    <tr>\n",
              "      <th>8</th>\n",
              "      <td>0.316213</td>\n",
              "      <td>0.971741</td>\n",
              "    </tr>\n",
              "    <tr>\n",
              "      <th>9</th>\n",
              "      <td>0.298730</td>\n",
              "      <td>0.969918</td>\n",
              "    </tr>\n",
              "  </tbody>\n",
              "</table>\n",
              "</div>"
            ],
            "text/plain": [
              "       loss  accuracy\n",
              "0  1.005324  0.399271\n",
              "1  0.783567  0.534184\n",
              "2  0.630632  0.680036\n",
              "3  0.525974  0.804011\n",
              "4  0.453674  0.868733\n",
              "5  0.402829  0.919781\n",
              "6  0.365800  0.959891\n",
              "7  0.337906  0.969918\n",
              "8  0.316213  0.971741\n",
              "9  0.298730  0.969918"
            ]
          },
          "metadata": {},
          "execution_count": 26
        }
      ]
    },
    {
      "cell_type": "code",
      "metadata": {
        "colab": {
          "base_uri": "https://localhost:8080/",
          "height": 359
        },
        "id": "19xmPUJ82Axv",
        "outputId": "1eef949a-1b35-45bb-d3ac-b8c72c7f6170"
      },
      "source": [
        "#El segundo entrenamiento con lr = 0.05\n",
        "array_descripciones[1]"
      ],
      "execution_count": 27,
      "outputs": [
        {
          "output_type": "execute_result",
          "data": {
            "text/html": [
              "<div>\n",
              "<style scoped>\n",
              "    .dataframe tbody tr th:only-of-type {\n",
              "        vertical-align: middle;\n",
              "    }\n",
              "\n",
              "    .dataframe tbody tr th {\n",
              "        vertical-align: top;\n",
              "    }\n",
              "\n",
              "    .dataframe thead th {\n",
              "        text-align: right;\n",
              "    }\n",
              "</style>\n",
              "<table border=\"1\" class=\"dataframe\">\n",
              "  <thead>\n",
              "    <tr style=\"text-align: right;\">\n",
              "      <th></th>\n",
              "      <th>loss</th>\n",
              "      <th>accuracy</th>\n",
              "    </tr>\n",
              "  </thead>\n",
              "  <tbody>\n",
              "    <tr>\n",
              "      <th>0</th>\n",
              "      <td>0.430074</td>\n",
              "      <td>0.908842</td>\n",
              "    </tr>\n",
              "    <tr>\n",
              "      <th>1</th>\n",
              "      <td>0.281025</td>\n",
              "      <td>0.971741</td>\n",
              "    </tr>\n",
              "    <tr>\n",
              "      <th>2</th>\n",
              "      <td>0.231607</td>\n",
              "      <td>0.968095</td>\n",
              "    </tr>\n",
              "    <tr>\n",
              "      <th>3</th>\n",
              "      <td>0.203333</td>\n",
              "      <td>0.968095</td>\n",
              "    </tr>\n",
              "    <tr>\n",
              "      <th>4</th>\n",
              "      <td>0.183550</td>\n",
              "      <td>0.968095</td>\n",
              "    </tr>\n",
              "    <tr>\n",
              "      <th>5</th>\n",
              "      <td>0.168534</td>\n",
              "      <td>0.970830</td>\n",
              "    </tr>\n",
              "    <tr>\n",
              "      <th>6</th>\n",
              "      <td>0.156577</td>\n",
              "      <td>0.970830</td>\n",
              "    </tr>\n",
              "    <tr>\n",
              "      <th>7</th>\n",
              "      <td>0.146815</td>\n",
              "      <td>0.972653</td>\n",
              "    </tr>\n",
              "    <tr>\n",
              "      <th>8</th>\n",
              "      <td>0.138552</td>\n",
              "      <td>0.972653</td>\n",
              "    </tr>\n",
              "    <tr>\n",
              "      <th>9</th>\n",
              "      <td>0.131511</td>\n",
              "      <td>0.972653</td>\n",
              "    </tr>\n",
              "  </tbody>\n",
              "</table>\n",
              "</div>"
            ],
            "text/plain": [
              "       loss  accuracy\n",
              "0  0.430074  0.908842\n",
              "1  0.281025  0.971741\n",
              "2  0.231607  0.968095\n",
              "3  0.203333  0.968095\n",
              "4  0.183550  0.968095\n",
              "5  0.168534  0.970830\n",
              "6  0.156577  0.970830\n",
              "7  0.146815  0.972653\n",
              "8  0.138552  0.972653\n",
              "9  0.131511  0.972653"
            ]
          },
          "metadata": {},
          "execution_count": 27
        }
      ]
    },
    {
      "cell_type": "code",
      "metadata": {
        "colab": {
          "base_uri": "https://localhost:8080/"
        },
        "id": "TeIXIhhZ2Cp9",
        "outputId": "1a7603ca-3e9a-459b-9e62-54e2f92372cf"
      },
      "source": [
        "#Esto es un array de dataframes\n",
        "type(array_descripciones)"
      ],
      "execution_count": 28,
      "outputs": [
        {
          "output_type": "execute_result",
          "data": {
            "text/plain": [
              "list"
            ]
          },
          "metadata": {},
          "execution_count": 28
        }
      ]
    },
    {
      "cell_type": "code",
      "metadata": {
        "colab": {
          "base_uri": "https://localhost:8080/",
          "height": 1000
        },
        "id": "tBSR7h8H2D93",
        "outputId": "8da6a44b-28dc-401d-e523-66750617144d"
      },
      "source": [
        "#Vamos a fusionar los cuatro dataframes en uno solo\n",
        "#Para eso usamos la función \"concat\" de pandas\n",
        "#Podríamos fusionar cada dataframe como si fuese un registro de la siguiente manera\n",
        "dfDescripcion = pd.concat(array_descripciones)\n",
        "dfDescripcion"
      ],
      "execution_count": 29,
      "outputs": [
        {
          "output_type": "execute_result",
          "data": {
            "text/html": [
              "<div>\n",
              "<style scoped>\n",
              "    .dataframe tbody tr th:only-of-type {\n",
              "        vertical-align: middle;\n",
              "    }\n",
              "\n",
              "    .dataframe tbody tr th {\n",
              "        vertical-align: top;\n",
              "    }\n",
              "\n",
              "    .dataframe thead th {\n",
              "        text-align: right;\n",
              "    }\n",
              "</style>\n",
              "<table border=\"1\" class=\"dataframe\">\n",
              "  <thead>\n",
              "    <tr style=\"text-align: right;\">\n",
              "      <th></th>\n",
              "      <th>loss</th>\n",
              "      <th>accuracy</th>\n",
              "    </tr>\n",
              "  </thead>\n",
              "  <tbody>\n",
              "    <tr>\n",
              "      <th>0</th>\n",
              "      <td>1.005324</td>\n",
              "      <td>0.399271</td>\n",
              "    </tr>\n",
              "    <tr>\n",
              "      <th>1</th>\n",
              "      <td>0.783567</td>\n",
              "      <td>0.534184</td>\n",
              "    </tr>\n",
              "    <tr>\n",
              "      <th>2</th>\n",
              "      <td>0.630632</td>\n",
              "      <td>0.680036</td>\n",
              "    </tr>\n",
              "    <tr>\n",
              "      <th>3</th>\n",
              "      <td>0.525974</td>\n",
              "      <td>0.804011</td>\n",
              "    </tr>\n",
              "    <tr>\n",
              "      <th>4</th>\n",
              "      <td>0.453674</td>\n",
              "      <td>0.868733</td>\n",
              "    </tr>\n",
              "    <tr>\n",
              "      <th>5</th>\n",
              "      <td>0.402829</td>\n",
              "      <td>0.919781</td>\n",
              "    </tr>\n",
              "    <tr>\n",
              "      <th>6</th>\n",
              "      <td>0.365800</td>\n",
              "      <td>0.959891</td>\n",
              "    </tr>\n",
              "    <tr>\n",
              "      <th>7</th>\n",
              "      <td>0.337906</td>\n",
              "      <td>0.969918</td>\n",
              "    </tr>\n",
              "    <tr>\n",
              "      <th>8</th>\n",
              "      <td>0.316213</td>\n",
              "      <td>0.971741</td>\n",
              "    </tr>\n",
              "    <tr>\n",
              "      <th>9</th>\n",
              "      <td>0.298730</td>\n",
              "      <td>0.969918</td>\n",
              "    </tr>\n",
              "    <tr>\n",
              "      <th>0</th>\n",
              "      <td>0.430074</td>\n",
              "      <td>0.908842</td>\n",
              "    </tr>\n",
              "    <tr>\n",
              "      <th>1</th>\n",
              "      <td>0.281025</td>\n",
              "      <td>0.971741</td>\n",
              "    </tr>\n",
              "    <tr>\n",
              "      <th>2</th>\n",
              "      <td>0.231607</td>\n",
              "      <td>0.968095</td>\n",
              "    </tr>\n",
              "    <tr>\n",
              "      <th>3</th>\n",
              "      <td>0.203333</td>\n",
              "      <td>0.968095</td>\n",
              "    </tr>\n",
              "    <tr>\n",
              "      <th>4</th>\n",
              "      <td>0.183550</td>\n",
              "      <td>0.968095</td>\n",
              "    </tr>\n",
              "    <tr>\n",
              "      <th>5</th>\n",
              "      <td>0.168534</td>\n",
              "      <td>0.970830</td>\n",
              "    </tr>\n",
              "    <tr>\n",
              "      <th>6</th>\n",
              "      <td>0.156577</td>\n",
              "      <td>0.970830</td>\n",
              "    </tr>\n",
              "    <tr>\n",
              "      <th>7</th>\n",
              "      <td>0.146815</td>\n",
              "      <td>0.972653</td>\n",
              "    </tr>\n",
              "    <tr>\n",
              "      <th>8</th>\n",
              "      <td>0.138552</td>\n",
              "      <td>0.972653</td>\n",
              "    </tr>\n",
              "    <tr>\n",
              "      <th>9</th>\n",
              "      <td>0.131511</td>\n",
              "      <td>0.972653</td>\n",
              "    </tr>\n",
              "    <tr>\n",
              "      <th>0</th>\n",
              "      <td>0.335991</td>\n",
              "      <td>0.945305</td>\n",
              "    </tr>\n",
              "    <tr>\n",
              "      <th>1</th>\n",
              "      <td>0.228656</td>\n",
              "      <td>0.958067</td>\n",
              "    </tr>\n",
              "    <tr>\n",
              "      <th>2</th>\n",
              "      <td>0.184308</td>\n",
              "      <td>0.961714</td>\n",
              "    </tr>\n",
              "    <tr>\n",
              "      <th>3</th>\n",
              "      <td>0.157476</td>\n",
              "      <td>0.969918</td>\n",
              "    </tr>\n",
              "    <tr>\n",
              "      <th>4</th>\n",
              "      <td>0.139054</td>\n",
              "      <td>0.970830</td>\n",
              "    </tr>\n",
              "    <tr>\n",
              "      <th>5</th>\n",
              "      <td>0.125747</td>\n",
              "      <td>0.973564</td>\n",
              "    </tr>\n",
              "    <tr>\n",
              "      <th>6</th>\n",
              "      <td>0.115612</td>\n",
              "      <td>0.976299</td>\n",
              "    </tr>\n",
              "    <tr>\n",
              "      <th>7</th>\n",
              "      <td>0.107558</td>\n",
              "      <td>0.977211</td>\n",
              "    </tr>\n",
              "    <tr>\n",
              "      <th>8</th>\n",
              "      <td>0.101016</td>\n",
              "      <td>0.978122</td>\n",
              "    </tr>\n",
              "    <tr>\n",
              "      <th>9</th>\n",
              "      <td>0.095641</td>\n",
              "      <td>0.979034</td>\n",
              "    </tr>\n",
              "    <tr>\n",
              "      <th>0</th>\n",
              "      <td>0.279429</td>\n",
              "      <td>0.894257</td>\n",
              "    </tr>\n",
              "    <tr>\n",
              "      <th>1</th>\n",
              "      <td>0.121337</td>\n",
              "      <td>0.973564</td>\n",
              "    </tr>\n",
              "    <tr>\n",
              "      <th>2</th>\n",
              "      <td>0.089055</td>\n",
              "      <td>0.978122</td>\n",
              "    </tr>\n",
              "    <tr>\n",
              "      <th>3</th>\n",
              "      <td>0.075063</td>\n",
              "      <td>0.979945</td>\n",
              "    </tr>\n",
              "    <tr>\n",
              "      <th>4</th>\n",
              "      <td>0.066499</td>\n",
              "      <td>0.982680</td>\n",
              "    </tr>\n",
              "    <tr>\n",
              "      <th>5</th>\n",
              "      <td>0.060816</td>\n",
              "      <td>0.982680</td>\n",
              "    </tr>\n",
              "    <tr>\n",
              "      <th>6</th>\n",
              "      <td>0.056616</td>\n",
              "      <td>0.982680</td>\n",
              "    </tr>\n",
              "    <tr>\n",
              "      <th>7</th>\n",
              "      <td>0.053365</td>\n",
              "      <td>0.984503</td>\n",
              "    </tr>\n",
              "    <tr>\n",
              "      <th>8</th>\n",
              "      <td>0.050958</td>\n",
              "      <td>0.983592</td>\n",
              "    </tr>\n",
              "    <tr>\n",
              "      <th>9</th>\n",
              "      <td>0.048692</td>\n",
              "      <td>0.983592</td>\n",
              "    </tr>\n",
              "  </tbody>\n",
              "</table>\n",
              "</div>"
            ],
            "text/plain": [
              "       loss  accuracy\n",
              "0  1.005324  0.399271\n",
              "1  0.783567  0.534184\n",
              "2  0.630632  0.680036\n",
              "3  0.525974  0.804011\n",
              "4  0.453674  0.868733\n",
              "5  0.402829  0.919781\n",
              "6  0.365800  0.959891\n",
              "7  0.337906  0.969918\n",
              "8  0.316213  0.971741\n",
              "9  0.298730  0.969918\n",
              "0  0.430074  0.908842\n",
              "1  0.281025  0.971741\n",
              "2  0.231607  0.968095\n",
              "3  0.203333  0.968095\n",
              "4  0.183550  0.968095\n",
              "5  0.168534  0.970830\n",
              "6  0.156577  0.970830\n",
              "7  0.146815  0.972653\n",
              "8  0.138552  0.972653\n",
              "9  0.131511  0.972653\n",
              "0  0.335991  0.945305\n",
              "1  0.228656  0.958067\n",
              "2  0.184308  0.961714\n",
              "3  0.157476  0.969918\n",
              "4  0.139054  0.970830\n",
              "5  0.125747  0.973564\n",
              "6  0.115612  0.976299\n",
              "7  0.107558  0.977211\n",
              "8  0.101016  0.978122\n",
              "9  0.095641  0.979034\n",
              "0  0.279429  0.894257\n",
              "1  0.121337  0.973564\n",
              "2  0.089055  0.978122\n",
              "3  0.075063  0.979945\n",
              "4  0.066499  0.982680\n",
              "5  0.060816  0.982680\n",
              "6  0.056616  0.982680\n",
              "7  0.053365  0.984503\n",
              "8  0.050958  0.983592\n",
              "9  0.048692  0.983592"
            ]
          },
          "metadata": {},
          "execution_count": 29
        }
      ]
    },
    {
      "cell_type": "code",
      "metadata": {
        "colab": {
          "base_uri": "https://localhost:8080/",
          "height": 359
        },
        "id": "NXMvE4yY2F9u",
        "outputId": "fd2facfd-e2c2-4ece-ac9d-c2c771f232f8"
      },
      "source": [
        "#Pero esta vez los fusionaremos uno tras otro para crear un único registro\n",
        "#Recordemos que al usar \"axis = 1\" estamos fusionandolas filas\n",
        "dfDescripcion = pd.concat(array_descripciones, axis = 1)\n",
        "dfDescripcion"
      ],
      "execution_count": 30,
      "outputs": [
        {
          "output_type": "execute_result",
          "data": {
            "text/html": [
              "<div>\n",
              "<style scoped>\n",
              "    .dataframe tbody tr th:only-of-type {\n",
              "        vertical-align: middle;\n",
              "    }\n",
              "\n",
              "    .dataframe tbody tr th {\n",
              "        vertical-align: top;\n",
              "    }\n",
              "\n",
              "    .dataframe thead th {\n",
              "        text-align: right;\n",
              "    }\n",
              "</style>\n",
              "<table border=\"1\" class=\"dataframe\">\n",
              "  <thead>\n",
              "    <tr style=\"text-align: right;\">\n",
              "      <th></th>\n",
              "      <th>loss</th>\n",
              "      <th>accuracy</th>\n",
              "      <th>loss</th>\n",
              "      <th>accuracy</th>\n",
              "      <th>loss</th>\n",
              "      <th>accuracy</th>\n",
              "      <th>loss</th>\n",
              "      <th>accuracy</th>\n",
              "    </tr>\n",
              "  </thead>\n",
              "  <tbody>\n",
              "    <tr>\n",
              "      <th>0</th>\n",
              "      <td>1.005324</td>\n",
              "      <td>0.399271</td>\n",
              "      <td>0.430074</td>\n",
              "      <td>0.908842</td>\n",
              "      <td>0.335991</td>\n",
              "      <td>0.945305</td>\n",
              "      <td>0.279429</td>\n",
              "      <td>0.894257</td>\n",
              "    </tr>\n",
              "    <tr>\n",
              "      <th>1</th>\n",
              "      <td>0.783567</td>\n",
              "      <td>0.534184</td>\n",
              "      <td>0.281025</td>\n",
              "      <td>0.971741</td>\n",
              "      <td>0.228656</td>\n",
              "      <td>0.958067</td>\n",
              "      <td>0.121337</td>\n",
              "      <td>0.973564</td>\n",
              "    </tr>\n",
              "    <tr>\n",
              "      <th>2</th>\n",
              "      <td>0.630632</td>\n",
              "      <td>0.680036</td>\n",
              "      <td>0.231607</td>\n",
              "      <td>0.968095</td>\n",
              "      <td>0.184308</td>\n",
              "      <td>0.961714</td>\n",
              "      <td>0.089055</td>\n",
              "      <td>0.978122</td>\n",
              "    </tr>\n",
              "    <tr>\n",
              "      <th>3</th>\n",
              "      <td>0.525974</td>\n",
              "      <td>0.804011</td>\n",
              "      <td>0.203333</td>\n",
              "      <td>0.968095</td>\n",
              "      <td>0.157476</td>\n",
              "      <td>0.969918</td>\n",
              "      <td>0.075063</td>\n",
              "      <td>0.979945</td>\n",
              "    </tr>\n",
              "    <tr>\n",
              "      <th>4</th>\n",
              "      <td>0.453674</td>\n",
              "      <td>0.868733</td>\n",
              "      <td>0.183550</td>\n",
              "      <td>0.968095</td>\n",
              "      <td>0.139054</td>\n",
              "      <td>0.970830</td>\n",
              "      <td>0.066499</td>\n",
              "      <td>0.982680</td>\n",
              "    </tr>\n",
              "    <tr>\n",
              "      <th>5</th>\n",
              "      <td>0.402829</td>\n",
              "      <td>0.919781</td>\n",
              "      <td>0.168534</td>\n",
              "      <td>0.970830</td>\n",
              "      <td>0.125747</td>\n",
              "      <td>0.973564</td>\n",
              "      <td>0.060816</td>\n",
              "      <td>0.982680</td>\n",
              "    </tr>\n",
              "    <tr>\n",
              "      <th>6</th>\n",
              "      <td>0.365800</td>\n",
              "      <td>0.959891</td>\n",
              "      <td>0.156577</td>\n",
              "      <td>0.970830</td>\n",
              "      <td>0.115612</td>\n",
              "      <td>0.976299</td>\n",
              "      <td>0.056616</td>\n",
              "      <td>0.982680</td>\n",
              "    </tr>\n",
              "    <tr>\n",
              "      <th>7</th>\n",
              "      <td>0.337906</td>\n",
              "      <td>0.969918</td>\n",
              "      <td>0.146815</td>\n",
              "      <td>0.972653</td>\n",
              "      <td>0.107558</td>\n",
              "      <td>0.977211</td>\n",
              "      <td>0.053365</td>\n",
              "      <td>0.984503</td>\n",
              "    </tr>\n",
              "    <tr>\n",
              "      <th>8</th>\n",
              "      <td>0.316213</td>\n",
              "      <td>0.971741</td>\n",
              "      <td>0.138552</td>\n",
              "      <td>0.972653</td>\n",
              "      <td>0.101016</td>\n",
              "      <td>0.978122</td>\n",
              "      <td>0.050958</td>\n",
              "      <td>0.983592</td>\n",
              "    </tr>\n",
              "    <tr>\n",
              "      <th>9</th>\n",
              "      <td>0.298730</td>\n",
              "      <td>0.969918</td>\n",
              "      <td>0.131511</td>\n",
              "      <td>0.972653</td>\n",
              "      <td>0.095641</td>\n",
              "      <td>0.979034</td>\n",
              "      <td>0.048692</td>\n",
              "      <td>0.983592</td>\n",
              "    </tr>\n",
              "  </tbody>\n",
              "</table>\n",
              "</div>"
            ],
            "text/plain": [
              "       loss  accuracy      loss  ...  accuracy      loss  accuracy\n",
              "0  1.005324  0.399271  0.430074  ...  0.945305  0.279429  0.894257\n",
              "1  0.783567  0.534184  0.281025  ...  0.958067  0.121337  0.973564\n",
              "2  0.630632  0.680036  0.231607  ...  0.961714  0.089055  0.978122\n",
              "3  0.525974  0.804011  0.203333  ...  0.969918  0.075063  0.979945\n",
              "4  0.453674  0.868733  0.183550  ...  0.970830  0.066499  0.982680\n",
              "5  0.402829  0.919781  0.168534  ...  0.973564  0.060816  0.982680\n",
              "6  0.365800  0.959891  0.156577  ...  0.976299  0.056616  0.982680\n",
              "7  0.337906  0.969918  0.146815  ...  0.977211  0.053365  0.984503\n",
              "8  0.316213  0.971741  0.138552  ...  0.978122  0.050958  0.983592\n",
              "9  0.298730  0.969918  0.131511  ...  0.979034  0.048692  0.983592\n",
              "\n",
              "[10 rows x 8 columns]"
            ]
          },
          "metadata": {},
          "execution_count": 30
        }
      ]
    },
    {
      "cell_type": "code",
      "metadata": {
        "colab": {
          "base_uri": "https://localhost:8080/"
        },
        "id": "95fjPoVM2KEn",
        "outputId": "f4ce4110-ecd3-4efc-f2c9-d08cd4ab047a"
      },
      "source": [
        "#A cada \"loss\" y \"accuracy\" vamos a agregarle por encima su lr\n",
        "#Obtenemos el primer elemento del array de dataframes para obtener los títulos de las columnas\n",
        "columnas_loss_accuracy = array_descripciones[0].columns\n",
        "columnas_loss_accuracy"
      ],
      "execution_count": 31,
      "outputs": [
        {
          "output_type": "execute_result",
          "data": {
            "text/plain": [
              "Index(['loss', 'accuracy'], dtype='object')"
            ]
          },
          "metadata": {},
          "execution_count": 31
        }
      ]
    },
    {
      "cell_type": "code",
      "metadata": {
        "colab": {
          "base_uri": "https://localhost:8080/"
        },
        "id": "hez93L_G2L7Y",
        "outputId": "28023603-3f08-4a97-ef53-e9fbe4449c2d"
      },
      "source": [
        "#Vamos a crear nuevas columnas a nuestro dataframe\n",
        "#Primero colocaremos las columnas que tendrán el nombre de cada lr usado, estos valores están en \"array_lr\"\n",
        "#Luego, para cada \"lr\" vamos a colocarle las columnas \"columnas_loss_accuracy\"\n",
        "#Estas son columnas anidadas, las podemos crear con la función \"MultiIndex\" de Pandas\n",
        "#Por último, con el parámetro \"names\" colocamos el nombre para cada agrupación de columnas\n",
        "nuevas_columnas = pd.MultiIndex.from_product(\n",
        "  [array_lr, columnas_loss_accuracy],\n",
        "  names=['lr', 'metricas']\n",
        ")\n",
        "\n",
        "nuevas_columnas"
      ],
      "execution_count": 32,
      "outputs": [
        {
          "output_type": "execute_result",
          "data": {
            "text/plain": [
              "MultiIndex([(0.01,     'loss'),\n",
              "            (0.01, 'accuracy'),\n",
              "            (0.05,     'loss'),\n",
              "            (0.05, 'accuracy'),\n",
              "            ( 0.1,     'loss'),\n",
              "            ( 0.1, 'accuracy'),\n",
              "            ( 0.5,     'loss'),\n",
              "            ( 0.5, 'accuracy')],\n",
              "           names=['lr', 'metricas'])"
            ]
          },
          "metadata": {},
          "execution_count": 32
        }
      ]
    },
    {
      "cell_type": "code",
      "metadata": {
        "colab": {
          "base_uri": "https://localhost:8080/",
          "height": 390
        },
        "id": "VPpFD7O02Qk0",
        "outputId": "208136bb-3b54-472b-e32b-304d04f65f7d"
      },
      "source": [
        "#Colocamos las nuevas columnas a nuestro dataframe\n",
        "dfDescripcion.columns = nuevas_columnas\n",
        "dfDescripcion"
      ],
      "execution_count": 33,
      "outputs": [
        {
          "output_type": "execute_result",
          "data": {
            "text/html": [
              "<div>\n",
              "<style scoped>\n",
              "    .dataframe tbody tr th:only-of-type {\n",
              "        vertical-align: middle;\n",
              "    }\n",
              "\n",
              "    .dataframe tbody tr th {\n",
              "        vertical-align: top;\n",
              "    }\n",
              "\n",
              "    .dataframe thead tr th {\n",
              "        text-align: left;\n",
              "    }\n",
              "</style>\n",
              "<table border=\"1\" class=\"dataframe\">\n",
              "  <thead>\n",
              "    <tr>\n",
              "      <th>lr</th>\n",
              "      <th colspan=\"2\" halign=\"left\">0.01</th>\n",
              "      <th colspan=\"2\" halign=\"left\">0.05</th>\n",
              "      <th colspan=\"2\" halign=\"left\">0.10</th>\n",
              "      <th colspan=\"2\" halign=\"left\">0.50</th>\n",
              "    </tr>\n",
              "    <tr>\n",
              "      <th>metricas</th>\n",
              "      <th>loss</th>\n",
              "      <th>accuracy</th>\n",
              "      <th>loss</th>\n",
              "      <th>accuracy</th>\n",
              "      <th>loss</th>\n",
              "      <th>accuracy</th>\n",
              "      <th>loss</th>\n",
              "      <th>accuracy</th>\n",
              "    </tr>\n",
              "  </thead>\n",
              "  <tbody>\n",
              "    <tr>\n",
              "      <th>0</th>\n",
              "      <td>1.005324</td>\n",
              "      <td>0.399271</td>\n",
              "      <td>0.430074</td>\n",
              "      <td>0.908842</td>\n",
              "      <td>0.335991</td>\n",
              "      <td>0.945305</td>\n",
              "      <td>0.279429</td>\n",
              "      <td>0.894257</td>\n",
              "    </tr>\n",
              "    <tr>\n",
              "      <th>1</th>\n",
              "      <td>0.783567</td>\n",
              "      <td>0.534184</td>\n",
              "      <td>0.281025</td>\n",
              "      <td>0.971741</td>\n",
              "      <td>0.228656</td>\n",
              "      <td>0.958067</td>\n",
              "      <td>0.121337</td>\n",
              "      <td>0.973564</td>\n",
              "    </tr>\n",
              "    <tr>\n",
              "      <th>2</th>\n",
              "      <td>0.630632</td>\n",
              "      <td>0.680036</td>\n",
              "      <td>0.231607</td>\n",
              "      <td>0.968095</td>\n",
              "      <td>0.184308</td>\n",
              "      <td>0.961714</td>\n",
              "      <td>0.089055</td>\n",
              "      <td>0.978122</td>\n",
              "    </tr>\n",
              "    <tr>\n",
              "      <th>3</th>\n",
              "      <td>0.525974</td>\n",
              "      <td>0.804011</td>\n",
              "      <td>0.203333</td>\n",
              "      <td>0.968095</td>\n",
              "      <td>0.157476</td>\n",
              "      <td>0.969918</td>\n",
              "      <td>0.075063</td>\n",
              "      <td>0.979945</td>\n",
              "    </tr>\n",
              "    <tr>\n",
              "      <th>4</th>\n",
              "      <td>0.453674</td>\n",
              "      <td>0.868733</td>\n",
              "      <td>0.183550</td>\n",
              "      <td>0.968095</td>\n",
              "      <td>0.139054</td>\n",
              "      <td>0.970830</td>\n",
              "      <td>0.066499</td>\n",
              "      <td>0.982680</td>\n",
              "    </tr>\n",
              "    <tr>\n",
              "      <th>5</th>\n",
              "      <td>0.402829</td>\n",
              "      <td>0.919781</td>\n",
              "      <td>0.168534</td>\n",
              "      <td>0.970830</td>\n",
              "      <td>0.125747</td>\n",
              "      <td>0.973564</td>\n",
              "      <td>0.060816</td>\n",
              "      <td>0.982680</td>\n",
              "    </tr>\n",
              "    <tr>\n",
              "      <th>6</th>\n",
              "      <td>0.365800</td>\n",
              "      <td>0.959891</td>\n",
              "      <td>0.156577</td>\n",
              "      <td>0.970830</td>\n",
              "      <td>0.115612</td>\n",
              "      <td>0.976299</td>\n",
              "      <td>0.056616</td>\n",
              "      <td>0.982680</td>\n",
              "    </tr>\n",
              "    <tr>\n",
              "      <th>7</th>\n",
              "      <td>0.337906</td>\n",
              "      <td>0.969918</td>\n",
              "      <td>0.146815</td>\n",
              "      <td>0.972653</td>\n",
              "      <td>0.107558</td>\n",
              "      <td>0.977211</td>\n",
              "      <td>0.053365</td>\n",
              "      <td>0.984503</td>\n",
              "    </tr>\n",
              "    <tr>\n",
              "      <th>8</th>\n",
              "      <td>0.316213</td>\n",
              "      <td>0.971741</td>\n",
              "      <td>0.138552</td>\n",
              "      <td>0.972653</td>\n",
              "      <td>0.101016</td>\n",
              "      <td>0.978122</td>\n",
              "      <td>0.050958</td>\n",
              "      <td>0.983592</td>\n",
              "    </tr>\n",
              "    <tr>\n",
              "      <th>9</th>\n",
              "      <td>0.298730</td>\n",
              "      <td>0.969918</td>\n",
              "      <td>0.131511</td>\n",
              "      <td>0.972653</td>\n",
              "      <td>0.095641</td>\n",
              "      <td>0.979034</td>\n",
              "      <td>0.048692</td>\n",
              "      <td>0.983592</td>\n",
              "    </tr>\n",
              "  </tbody>\n",
              "</table>\n",
              "</div>"
            ],
            "text/plain": [
              "lr            0.01                0.05  ...      0.10      0.50          \n",
              "metricas      loss  accuracy      loss  ...  accuracy      loss  accuracy\n",
              "0         1.005324  0.399271  0.430074  ...  0.945305  0.279429  0.894257\n",
              "1         0.783567  0.534184  0.281025  ...  0.958067  0.121337  0.973564\n",
              "2         0.630632  0.680036  0.231607  ...  0.961714  0.089055  0.978122\n",
              "3         0.525974  0.804011  0.203333  ...  0.969918  0.075063  0.979945\n",
              "4         0.453674  0.868733  0.183550  ...  0.970830  0.066499  0.982680\n",
              "5         0.402829  0.919781  0.168534  ...  0.973564  0.060816  0.982680\n",
              "6         0.365800  0.959891  0.156577  ...  0.976299  0.056616  0.982680\n",
              "7         0.337906  0.969918  0.146815  ...  0.977211  0.053365  0.984503\n",
              "8         0.316213  0.971741  0.138552  ...  0.978122  0.050958  0.983592\n",
              "9         0.298730  0.969918  0.131511  ...  0.979034  0.048692  0.983592\n",
              "\n",
              "[10 rows x 8 columns]"
            ]
          },
          "metadata": {},
          "execution_count": 33
        }
      ]
    },
    {
      "cell_type": "code",
      "metadata": {
        "colab": {
          "base_uri": "https://localhost:8080/",
          "height": 359
        },
        "id": "OcO6Zt0f2S76",
        "outputId": "c40ac395-2bcd-45e9-e4f9-c841c557f6ab"
      },
      "source": [
        "#Vamos a crear el dataframe de \"loss\"\n",
        "#Usaremos la función \"xs\" que nos permite navegar en un dataframe con índices complejos y extraer los campos que queremos\n",
        "#En la función \"xs\" definimos:\n",
        "# 1. El campo que queremos consultar (loss)\n",
        "# 2. De qué subconjunto de campos queremos consultar (level = 'metricas')\n",
        "# 3. Cómo queremos extraer la data (axis = 1, queremos extraerla como columnas)\n",
        "dfLoss = dfDescripcion.xs('loss', level = 'metricas', axis = 1)\n",
        "dfLoss"
      ],
      "execution_count": 34,
      "outputs": [
        {
          "output_type": "execute_result",
          "data": {
            "text/html": [
              "<div>\n",
              "<style scoped>\n",
              "    .dataframe tbody tr th:only-of-type {\n",
              "        vertical-align: middle;\n",
              "    }\n",
              "\n",
              "    .dataframe tbody tr th {\n",
              "        vertical-align: top;\n",
              "    }\n",
              "\n",
              "    .dataframe thead th {\n",
              "        text-align: right;\n",
              "    }\n",
              "</style>\n",
              "<table border=\"1\" class=\"dataframe\">\n",
              "  <thead>\n",
              "    <tr style=\"text-align: right;\">\n",
              "      <th>lr</th>\n",
              "      <th>0.01</th>\n",
              "      <th>0.05</th>\n",
              "      <th>0.10</th>\n",
              "      <th>0.50</th>\n",
              "    </tr>\n",
              "  </thead>\n",
              "  <tbody>\n",
              "    <tr>\n",
              "      <th>0</th>\n",
              "      <td>1.005324</td>\n",
              "      <td>0.430074</td>\n",
              "      <td>0.335991</td>\n",
              "      <td>0.279429</td>\n",
              "    </tr>\n",
              "    <tr>\n",
              "      <th>1</th>\n",
              "      <td>0.783567</td>\n",
              "      <td>0.281025</td>\n",
              "      <td>0.228656</td>\n",
              "      <td>0.121337</td>\n",
              "    </tr>\n",
              "    <tr>\n",
              "      <th>2</th>\n",
              "      <td>0.630632</td>\n",
              "      <td>0.231607</td>\n",
              "      <td>0.184308</td>\n",
              "      <td>0.089055</td>\n",
              "    </tr>\n",
              "    <tr>\n",
              "      <th>3</th>\n",
              "      <td>0.525974</td>\n",
              "      <td>0.203333</td>\n",
              "      <td>0.157476</td>\n",
              "      <td>0.075063</td>\n",
              "    </tr>\n",
              "    <tr>\n",
              "      <th>4</th>\n",
              "      <td>0.453674</td>\n",
              "      <td>0.183550</td>\n",
              "      <td>0.139054</td>\n",
              "      <td>0.066499</td>\n",
              "    </tr>\n",
              "    <tr>\n",
              "      <th>5</th>\n",
              "      <td>0.402829</td>\n",
              "      <td>0.168534</td>\n",
              "      <td>0.125747</td>\n",
              "      <td>0.060816</td>\n",
              "    </tr>\n",
              "    <tr>\n",
              "      <th>6</th>\n",
              "      <td>0.365800</td>\n",
              "      <td>0.156577</td>\n",
              "      <td>0.115612</td>\n",
              "      <td>0.056616</td>\n",
              "    </tr>\n",
              "    <tr>\n",
              "      <th>7</th>\n",
              "      <td>0.337906</td>\n",
              "      <td>0.146815</td>\n",
              "      <td>0.107558</td>\n",
              "      <td>0.053365</td>\n",
              "    </tr>\n",
              "    <tr>\n",
              "      <th>8</th>\n",
              "      <td>0.316213</td>\n",
              "      <td>0.138552</td>\n",
              "      <td>0.101016</td>\n",
              "      <td>0.050958</td>\n",
              "    </tr>\n",
              "    <tr>\n",
              "      <th>9</th>\n",
              "      <td>0.298730</td>\n",
              "      <td>0.131511</td>\n",
              "      <td>0.095641</td>\n",
              "      <td>0.048692</td>\n",
              "    </tr>\n",
              "  </tbody>\n",
              "</table>\n",
              "</div>"
            ],
            "text/plain": [
              "lr      0.01      0.05      0.10      0.50\n",
              "0   1.005324  0.430074  0.335991  0.279429\n",
              "1   0.783567  0.281025  0.228656  0.121337\n",
              "2   0.630632  0.231607  0.184308  0.089055\n",
              "3   0.525974  0.203333  0.157476  0.075063\n",
              "4   0.453674  0.183550  0.139054  0.066499\n",
              "5   0.402829  0.168534  0.125747  0.060816\n",
              "6   0.365800  0.156577  0.115612  0.056616\n",
              "7   0.337906  0.146815  0.107558  0.053365\n",
              "8   0.316213  0.138552  0.101016  0.050958\n",
              "9   0.298730  0.131511  0.095641  0.048692"
            ]
          },
          "metadata": {},
          "execution_count": 34
        }
      ]
    },
    {
      "cell_type": "code",
      "metadata": {
        "colab": {
          "base_uri": "https://localhost:8080/",
          "height": 286
        },
        "id": "mLnQfPrL2YJM",
        "outputId": "787422ca-1985-4804-9f61-19e0500d1dee"
      },
      "source": [
        "#Vamos a graficar este dataframe\n",
        "#Recordemos que mientras más pequeño sea el \"loss\" en cada iteración significa que el error se está minimizando\n",
        "#En el eje X colocará los índices de cada iteración\n",
        "#En el eje Y el valor de su \"loss\"\n",
        "#Como son cuatro lr, creará cuatro gráficos\n",
        "dfLoss.plot(ylim=(0,1))"
      ],
      "execution_count": 35,
      "outputs": [
        {
          "output_type": "execute_result",
          "data": {
            "text/plain": [
              "<matplotlib.axes._subplots.AxesSubplot at 0x7fcfdddf1710>"
            ]
          },
          "metadata": {},
          "execution_count": 35
        },
        {
          "output_type": "display_data",
          "data": {
            "image/png": "[encoded data removed]",
            "text/plain": [
              "<Figure size 432x288 with 1 Axes>"
            ]
          },
          "metadata": {
            "needs_background": "light"
          }
        }
      ]
    },
    {
      "cell_type": "code",
      "metadata": {
        "id": "G1mg97fy2bkn"
      },
      "source": [
        "#INTERPRETACIÓN\n",
        "#Notemos como con un valor muy pequeño para \"lr\" (0.01), el \"loss\" disminuye muy lentamente y va de 0.6 a 0.4\n",
        "#En cambio con un valor muy grande para \"lr\" (0.5), el \"loss\" disminuye más rápidamente y va de 0.2 a casi 0\n",
        "#Eso significa que para este conjunto de datos el \"lr\" se optimiza al aumentarse\n",
        "#Podríamos seguir aumentando el valor de \"lr\" para ver cuál es el límite en dónde ya no podemos optimizar más"
      ],
      "execution_count": 36,
      "outputs": []
    },
    {
      "cell_type": "code",
      "metadata": {
        "colab": {
          "base_uri": "https://localhost:8080/",
          "height": 359
        },
        "id": "aQa05LUh2fsj",
        "outputId": "b01c999e-66ae-4b9d-9777-e8a4f4b847d8"
      },
      "source": [
        "#Vamos a crear el dataframe de \"accuracy\"\n",
        "#Usaremos la función \"xs\" que nos permite navegar en un dataframe con índices complejos y extraer los campos que queremos\n",
        "#En la función \"xs\" definimos:\n",
        "# 1. El campo que queremos consultar (accuracy)\n",
        "# 2. De qué subconjunto de campos queremos consultar (level = 'metricas')\n",
        "# 3. Cómo queremos extraer la data (axis = 1, queremos extraerla como columnas)\n",
        "dfAccuracy = dfDescripcion.xs('accuracy', level = 'metricas', axis = 1)\n",
        "dfAccuracy"
      ],
      "execution_count": 37,
      "outputs": [
        {
          "output_type": "execute_result",
          "data": {
            "text/html": [
              "<div>\n",
              "<style scoped>\n",
              "    .dataframe tbody tr th:only-of-type {\n",
              "        vertical-align: middle;\n",
              "    }\n",
              "\n",
              "    .dataframe tbody tr th {\n",
              "        vertical-align: top;\n",
              "    }\n",
              "\n",
              "    .dataframe thead th {\n",
              "        text-align: right;\n",
              "    }\n",
              "</style>\n",
              "<table border=\"1\" class=\"dataframe\">\n",
              "  <thead>\n",
              "    <tr style=\"text-align: right;\">\n",
              "      <th>lr</th>\n",
              "      <th>0.01</th>\n",
              "      <th>0.05</th>\n",
              "      <th>0.10</th>\n",
              "      <th>0.50</th>\n",
              "    </tr>\n",
              "  </thead>\n",
              "  <tbody>\n",
              "    <tr>\n",
              "      <th>0</th>\n",
              "      <td>0.399271</td>\n",
              "      <td>0.908842</td>\n",
              "      <td>0.945305</td>\n",
              "      <td>0.894257</td>\n",
              "    </tr>\n",
              "    <tr>\n",
              "      <th>1</th>\n",
              "      <td>0.534184</td>\n",
              "      <td>0.971741</td>\n",
              "      <td>0.958067</td>\n",
              "      <td>0.973564</td>\n",
              "    </tr>\n",
              "    <tr>\n",
              "      <th>2</th>\n",
              "      <td>0.680036</td>\n",
              "      <td>0.968095</td>\n",
              "      <td>0.961714</td>\n",
              "      <td>0.978122</td>\n",
              "    </tr>\n",
              "    <tr>\n",
              "      <th>3</th>\n",
              "      <td>0.804011</td>\n",
              "      <td>0.968095</td>\n",
              "      <td>0.969918</td>\n",
              "      <td>0.979945</td>\n",
              "    </tr>\n",
              "    <tr>\n",
              "      <th>4</th>\n",
              "      <td>0.868733</td>\n",
              "      <td>0.968095</td>\n",
              "      <td>0.970830</td>\n",
              "      <td>0.982680</td>\n",
              "    </tr>\n",
              "    <tr>\n",
              "      <th>5</th>\n",
              "      <td>0.919781</td>\n",
              "      <td>0.970830</td>\n",
              "      <td>0.973564</td>\n",
              "      <td>0.982680</td>\n",
              "    </tr>\n",
              "    <tr>\n",
              "      <th>6</th>\n",
              "      <td>0.959891</td>\n",
              "      <td>0.970830</td>\n",
              "      <td>0.976299</td>\n",
              "      <td>0.982680</td>\n",
              "    </tr>\n",
              "    <tr>\n",
              "      <th>7</th>\n",
              "      <td>0.969918</td>\n",
              "      <td>0.972653</td>\n",
              "      <td>0.977211</td>\n",
              "      <td>0.984503</td>\n",
              "    </tr>\n",
              "    <tr>\n",
              "      <th>8</th>\n",
              "      <td>0.971741</td>\n",
              "      <td>0.972653</td>\n",
              "      <td>0.978122</td>\n",
              "      <td>0.983592</td>\n",
              "    </tr>\n",
              "    <tr>\n",
              "      <th>9</th>\n",
              "      <td>0.969918</td>\n",
              "      <td>0.972653</td>\n",
              "      <td>0.979034</td>\n",
              "      <td>0.983592</td>\n",
              "    </tr>\n",
              "  </tbody>\n",
              "</table>\n",
              "</div>"
            ],
            "text/plain": [
              "lr      0.01      0.05      0.10      0.50\n",
              "0   0.399271  0.908842  0.945305  0.894257\n",
              "1   0.534184  0.971741  0.958067  0.973564\n",
              "2   0.680036  0.968095  0.961714  0.978122\n",
              "3   0.804011  0.968095  0.969918  0.979945\n",
              "4   0.868733  0.968095  0.970830  0.982680\n",
              "5   0.919781  0.970830  0.973564  0.982680\n",
              "6   0.959891  0.970830  0.976299  0.982680\n",
              "7   0.969918  0.972653  0.977211  0.984503\n",
              "8   0.971741  0.972653  0.978122  0.983592\n",
              "9   0.969918  0.972653  0.979034  0.983592"
            ]
          },
          "metadata": {},
          "execution_count": 37
        }
      ]
    },
    {
      "cell_type": "code",
      "metadata": {
        "colab": {
          "base_uri": "https://localhost:8080/",
          "height": 286
        },
        "id": "6Q4_GiL42irF",
        "outputId": "12e787b9-6f90-4d57-818b-dda57a7c6077"
      },
      "source": [
        "#Vamos a graficar este dataframe\n",
        "#Recordemos que mientras más pequeño sea el \"accuracy\" en cada iteración significa que los aciertos se están maximizando\n",
        "#En el eje X colocará los índices de cada iteración\n",
        "#En el eje Y el valor de su \"accuracy\"\n",
        "#Como son cuatro lr, creará cuatro gráficos\n",
        "dfAccuracy.plot(ylim=(0,1))"
      ],
      "execution_count": 38,
      "outputs": [
        {
          "output_type": "execute_result",
          "data": {
            "text/plain": [
              "<matplotlib.axes._subplots.AxesSubplot at 0x7fcfddcdf3d0>"
            ]
          },
          "metadata": {},
          "execution_count": 38
        },
        {
          "output_type": "display_data",
          "data": {
            "image/png": "[encoded data removed]",
            "text/plain": [
              "<Figure size 432x288 with 1 Axes>"
            ]
          },
          "metadata": {
            "needs_background": "light"
          }
        }
      ]
    },
    {
      "cell_type": "code",
      "metadata": {
        "id": "gbfbpRJf2nu9"
      },
      "source": [
        "#INTERPRETACIÓN\n",
        "#Notemos como con un valor muy pequeño para \"lr\" (0.01), el \"accuracy\" aumenta en 10 iteraciones hasta un 89%\n",
        "#En cambio con un valor muy grande para \"lr\" (0.5), el \"accuracy\" aumenta en 10 iteraciones hasta un 98%\n",
        "#Eso significa que para este conjunto de datos el \"lr\" se optimiza al aumentarse\n",
        "#Podríamos seguir aumentando el valor de \"lr\" para ver cuál es el límite en dónde ya no podemos optimizar más"
      ],
      "execution_count": 39,
      "outputs": []
    }
  ]
}