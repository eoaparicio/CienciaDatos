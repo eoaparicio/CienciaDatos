{
  "nbformat": 4,
  "nbformat_minor": 0,
  "metadata": {
    "colab": {
      "name": "Laboratorio_33_[Lectura_de_tensores_en_RAM].ipynb",
      "provenance": [],
      "collapsed_sections": []
    },
    "kernelspec": {
      "name": "python3",
      "display_name": "Python 3"
    },
    "language_info": {
      "name": "python"
    }
  },
  "cells": [
    {
      "cell_type": "code",
      "metadata": {
        "id": "M3O6QE99qrM0"
      },
      "source": [
        "#Autor: Alonso Melgarejo\n",
        "#Contacto: alonsoraulmgs@gmail.com\n",
        "#Copyright: Big Data Academy"
      ],
      "execution_count": 1,
      "outputs": []
    },
    {
      "cell_type": "markdown",
      "metadata": {
        "id": "GtIamGqnq8Hr"
      },
      "source": [
        "# Librerías"
      ]
    },
    {
      "cell_type": "code",
      "metadata": {
        "id": "SPPtMFZzq995"
      },
      "source": [
        "import numpy as np"
      ],
      "execution_count": 2,
      "outputs": []
    },
    {
      "cell_type": "markdown",
      "metadata": {
        "id": "WVNJbNjHrYLr"
      },
      "source": [
        "# Conexión al repositorio de datos"
      ]
    },
    {
      "cell_type": "code",
      "metadata": {
        "colab": {
          "base_uri": "https://localhost:8080/"
        },
        "id": "I3WiTr3drYzD",
        "outputId": "c1fd8337-4495-4259-8122-84adac19681a"
      },
      "source": [
        "#Nos conectamos a Google Drive\n",
        "from google.colab import drive\n",
        "drive.mount('/content/drive')"
      ],
      "execution_count": 3,
      "outputs": [
        {
          "output_type": "stream",
          "name": "stdout",
          "text": [
            "Mounted at /content/drive\n"
          ]
        }
      ]
    },
    {
      "cell_type": "markdown",
      "metadata": {
        "id": "nMqtbCFYqw-V"
      },
      "source": [
        "# Leyendo un archivo tensor"
      ]
    },
    {
      "cell_type": "code",
      "metadata": {
        "id": "Or2Ok57lq3G4"
      },
      "source": [
        "#Definimos la ruta del archivo de features que queremos leer\n",
        "#Vamos a leer el primer tensor de entrenamiento\n",
        "ruta = '/content/drive/MyDrive/Data/TENSORS/train/tensor_0.npz'"
      ],
      "execution_count": 4,
      "outputs": []
    },
    {
      "cell_type": "code",
      "metadata": {
        "id": "Rf9Mof7zq7H6"
      },
      "source": [
        "#Con Numpy, realizamos la lectura\n",
        "tensor = np.load(ruta, allow_pickle=True)"
      ],
      "execution_count": 5,
      "outputs": []
    },
    {
      "cell_type": "code",
      "metadata": {
        "colab": {
          "base_uri": "https://localhost:8080/"
        },
        "id": "TsBIRBOVriMe",
        "outputId": "818a471d-891a-4ed7-f990-bc7e91abedc6"
      },
      "source": [
        "#Si consultamos la variable, es del tipo NpzFile\n",
        "#Deberemos extraer los datos que están almacenados en esta variable\n",
        "type(tensor)"
      ],
      "execution_count": 6,
      "outputs": [
        {
          "output_type": "execute_result",
          "data": {
            "text/plain": [
              "numpy.lib.npyio.NpzFile"
            ]
          },
          "metadata": {},
          "execution_count": 6
        }
      ]
    },
    {
      "cell_type": "code",
      "metadata": {
        "colab": {
          "base_uri": "https://localhost:8080/"
        },
        "id": "7M3QXpEtrjIU",
        "outputId": "a93b8bb9-7b2e-408e-d9de-77a5c1ad07d9"
      },
      "source": [
        "#Extracción de la metadata del archivo\n",
        "metadata = tensor['arr_0'][()]['metadata']\n",
        "metadata"
      ],
      "execution_count": 7,
      "outputs": [
        {
          "output_type": "execute_result",
          "data": {
            "text/plain": [
              "['AVE', 'GATO', 'PERRO']"
            ]
          },
          "metadata": {},
          "execution_count": 7
        }
      ]
    },
    {
      "cell_type": "code",
      "metadata": {
        "colab": {
          "base_uri": "https://localhost:8080/"
        },
        "id": "_ErdmU4prkMI",
        "outputId": "a1276b7b-eb85-4ee6-dd87-8b6352d81047"
      },
      "source": [
        "#Extracción del tensor de features del archivo\n",
        "tensor_features = tensor['arr_0'][()]['features']\n",
        "tensor_features.shape"
      ],
      "execution_count": 8,
      "outputs": [
        {
          "output_type": "execute_result",
          "data": {
            "text/plain": [
              "(10, 32, 32, 3)"
            ]
          },
          "metadata": {},
          "execution_count": 8
        }
      ]
    },
    {
      "cell_type": "code",
      "metadata": {
        "colab": {
          "base_uri": "https://localhost:8080/"
        },
        "id": "tCA_Uye8rldt",
        "outputId": "33c07287-ea99-44ee-8ba3-6d62f85c7555"
      },
      "source": [
        "#Extracción del tensor de labels del archivo\n",
        "tensor_labels = tensor['arr_0'][()]['labels']\n",
        "tensor_labels"
      ],
      "execution_count": 9,
      "outputs": [
        {
          "output_type": "execute_result",
          "data": {
            "text/plain": [
              "array([[1., 0., 0.],\n",
              "       [0., 1., 0.],\n",
              "       [0., 1., 0.],\n",
              "       [0., 0., 1.],\n",
              "       [0., 1., 0.],\n",
              "       [1., 0., 0.],\n",
              "       [1., 0., 0.],\n",
              "       [0., 0., 1.],\n",
              "       [0., 1., 0.],\n",
              "       [0., 0., 1.]], dtype=float32)"
            ]
          },
          "metadata": {},
          "execution_count": 9
        }
      ]
    },
    {
      "cell_type": "markdown",
      "metadata": {
        "id": "MdzQ_19MrnRB"
      },
      "source": [
        "# Leyendo todos los archivos de tensores de una carpeta"
      ]
    },
    {
      "cell_type": "code",
      "metadata": {
        "id": "sUVg8gBJroB-"
      },
      "source": [
        "#Importamos de python la librería que nos permite listar archivos\n",
        "import glob"
      ],
      "execution_count": 10,
      "outputs": []
    },
    {
      "cell_type": "code",
      "metadata": {
        "colab": {
          "base_uri": "https://localhost:8080/"
        },
        "id": "uixZYKHgrp2I",
        "outputId": "818f6400-3b7f-4c14-eab1-4a9f382a6cea"
      },
      "source": [
        "#Listamos el contenido de una de las carpetas de archivos tensores\n",
        "archivos_entrenamiento = glob.glob('/content/drive/MyDrive/Data/TENSORS/train/*')\n",
        "archivos_entrenamiento"
      ],
      "execution_count": 11,
      "outputs": [
        {
          "output_type": "execute_result",
          "data": {
            "text/plain": [
              "['/content/drive/MyDrive/Data/TENSORS/train/tensor_0.npz',\n",
              " '/content/drive/MyDrive/Data/TENSORS/train/tensor_1.npz',\n",
              " '/content/drive/MyDrive/Data/TENSORS/train/tensor_2.npz',\n",
              " '/content/drive/MyDrive/Data/TENSORS/train/tensor_3.npz',\n",
              " '/content/drive/MyDrive/Data/TENSORS/train/tensor_4.npz',\n",
              " '/content/drive/MyDrive/Data/TENSORS/train/tensor_5.npz',\n",
              " '/content/drive/MyDrive/Data/TENSORS/train/tensor_6.npz',\n",
              " '/content/drive/MyDrive/Data/TENSORS/train/tensor_7.npz',\n",
              " '/content/drive/MyDrive/Data/TENSORS/train/tensor_8.npz']"
            ]
          },
          "metadata": {},
          "execution_count": 11
        }
      ]
    },
    {
      "cell_type": "code",
      "metadata": {
        "id": "kYNEPvWArrOY"
      },
      "source": [
        "#Cada archivo tiene un tensor de 10 imágenes\n",
        "#Vamos a iterar cada archivo, leer las 10 imágenes e ir acumulándolas en un nuevo tensor"
      ],
      "execution_count": 12,
      "outputs": []
    },
    {
      "cell_type": "code",
      "metadata": {
        "id": "kSbkhSe_rsVU"
      },
      "source": [
        "#Variable para acumular los tensores features\n",
        "x_train = []"
      ],
      "execution_count": 13,
      "outputs": []
    },
    {
      "cell_type": "code",
      "metadata": {
        "id": "FTd89Zo9rtaK"
      },
      "source": [
        "#Variable para acumular los tensores labels\n",
        "y_train = []"
      ],
      "execution_count": 14,
      "outputs": []
    },
    {
      "cell_type": "code",
      "metadata": {
        "id": "nIY5YsNtruUI"
      },
      "source": [
        "#Variable de metadata del archivo\n",
        "metadata = []"
      ],
      "execution_count": 15,
      "outputs": []
    },
    {
      "cell_type": "code",
      "metadata": {
        "id": "hqfXRDrBrvO4"
      },
      "source": [
        "#Iteramos los archivos\n",
        "index = 0\n",
        "for archivo in archivos_entrenamiento:\n",
        "  #Leemos los datos del archivo\n",
        "  tensor = np.load(archivo, allow_pickle=True)\n",
        "\n",
        "  #Extracción de la metadata del archivo\n",
        "  meta = tensor['arr_0'][()]['metadata']\n",
        "  \n",
        "  #Extracción del tensor de features del archivo\n",
        "  tensor_features = tensor['arr_0'][()]['features']\n",
        "\n",
        "  #Extracción del tensor de labels del archivo\n",
        "  tensor_labels = tensor['arr_0'][()]['labels']\n",
        "\n",
        "  #Si es la primera iteración, colocamos los valores en las variables acumulativas\n",
        "  if index == 0:\n",
        "    x_train = tensor_features\n",
        "    y_train = tensor_labels\n",
        "    metadata = meta\n",
        "  else:\n",
        "    x_train = np.concatenate((x_train, tensor_features))\n",
        "    y_train = np.concatenate((y_train, tensor_labels))\n",
        "\n",
        "  #Aumentamos el contador de iteraciones\n",
        "  index = index + 1"
      ],
      "execution_count": 16,
      "outputs": []
    },
    {
      "cell_type": "code",
      "metadata": {
        "colab": {
          "base_uri": "https://localhost:8080/"
        },
        "id": "gbvSAsWrrwpE",
        "outputId": "f01db7e1-f042-495d-859c-ed1f58ec57fe"
      },
      "source": [
        "#Consultamos las dimensiones del tensor de features para entrenamiento y notaremos que se cargaron las 82 imagenes\n",
        "x_train.shape"
      ],
      "execution_count": 17,
      "outputs": [
        {
          "output_type": "execute_result",
          "data": {
            "text/plain": [
              "(82, 32, 32, 3)"
            ]
          },
          "metadata": {},
          "execution_count": 17
        }
      ]
    },
    {
      "cell_type": "code",
      "metadata": {
        "colab": {
          "base_uri": "https://localhost:8080/"
        },
        "id": "Hn_Q1v02rxw-",
        "outputId": "9b834ddb-29b3-43e5-a4e4-167f44f95c59"
      },
      "source": [
        "#Consultamos las dimensiones del tensor de labesls para entrenamiento y notaremos que se cargaron los 82 labels para cada imagen\n",
        "y_train.shape"
      ],
      "execution_count": 18,
      "outputs": [
        {
          "output_type": "execute_result",
          "data": {
            "text/plain": [
              "(82, 3)"
            ]
          },
          "metadata": {},
          "execution_count": 18
        }
      ]
    },
    {
      "cell_type": "markdown",
      "metadata": {
        "id": "EilwH_U_rzTw"
      },
      "source": [
        "# Función utilitaria para lectura de tensores desde disco"
      ]
    },
    {
      "cell_type": "code",
      "metadata": {
        "id": "7Vr2Ne2Cr0IB"
      },
      "source": [
        "#Definimos la función\n",
        "def leer_tensor(ruta):\n",
        "  #Definimos las variables acumulativas\n",
        "  x = []\n",
        "  y = []\n",
        "  metadata = []\n",
        "\n",
        "  #Listamos el contenido de una de las carpetas de archivos tensores\n",
        "  lista_de_archivos = glob.glob(ruta)\n",
        "\n",
        "  #Iteramos los archivos\n",
        "  index = 0\n",
        "  for archivo in lista_de_archivos:\n",
        "    #Leemos los datos del archivo\n",
        "    tensor = np.load(archivo, allow_pickle=True)\n",
        "\n",
        "    #Extracción de la metadata del archivo\n",
        "    meta = tensor['arr_0'][()]['metadata']\n",
        "    \n",
        "    #Extracción del tensor de features del archivo\n",
        "    tensor_features = tensor['arr_0'][()]['features']\n",
        "\n",
        "    #Extracción del tensor de labels del archivo\n",
        "    tensor_labels = tensor['arr_0'][()]['labels']\n",
        "\n",
        "    #Si es la primera iteración, colocamos los valores en las variables acumulativas\n",
        "    if index == 0:\n",
        "      x = tensor_features\n",
        "      y = tensor_labels\n",
        "      metadata = meta\n",
        "    else:\n",
        "      x = np.concatenate((x, tensor_features))\n",
        "      y = np.concatenate((y, tensor_labels))\n",
        "\n",
        "    #Aumentamos el contador de iteraciones\n",
        "    index = index + 1\n",
        "\n",
        "  #Devolvemos las variables\n",
        "  return x, y, metadata"
      ],
      "execution_count": 19,
      "outputs": []
    },
    {
      "cell_type": "markdown",
      "metadata": {
        "id": "u5rrxF8Sr4Lk"
      },
      "source": [
        "# Uso de la función para leer la carpeta de tensores de entrenamiento"
      ]
    },
    {
      "cell_type": "code",
      "metadata": {
        "id": "kTElkeAOr5Ag"
      },
      "source": [
        "#Definimos la ruta de los archivos de tensores de entrenamiento\n",
        "ruta_tensores_entrenamiento = '/content/drive/MyDrive/Data/TENSORS/train/*'"
      ],
      "execution_count": 20,
      "outputs": []
    },
    {
      "cell_type": "code",
      "metadata": {
        "id": "-2tHF5OXr63T"
      },
      "source": [
        "#Leemos los archivos\n",
        "x_train, y_train, metadata_train = leer_tensor(ruta_tensores_entrenamiento)"
      ],
      "execution_count": 21,
      "outputs": []
    },
    {
      "cell_type": "code",
      "metadata": {
        "colab": {
          "base_uri": "https://localhost:8080/"
        },
        "id": "ue2CyS7zr7_4",
        "outputId": "63c75069-f40b-4e8e-9345-d37eef8ce645"
      },
      "source": [
        "#Features de entrenamiento\n",
        "x_train.shape"
      ],
      "execution_count": 22,
      "outputs": [
        {
          "output_type": "execute_result",
          "data": {
            "text/plain": [
              "(82, 32, 32, 3)"
            ]
          },
          "metadata": {},
          "execution_count": 22
        }
      ]
    },
    {
      "cell_type": "code",
      "metadata": {
        "colab": {
          "base_uri": "https://localhost:8080/"
        },
        "id": "4sAr8VgNr8pG",
        "outputId": "d98127b5-7f57-41ae-904a-0eb6648ad97f"
      },
      "source": [
        "#Labels de entrenamiento\n",
        "y_train.shape"
      ],
      "execution_count": 23,
      "outputs": [
        {
          "output_type": "execute_result",
          "data": {
            "text/plain": [
              "(82, 3)"
            ]
          },
          "metadata": {},
          "execution_count": 23
        }
      ]
    },
    {
      "cell_type": "code",
      "metadata": {
        "colab": {
          "base_uri": "https://localhost:8080/"
        },
        "id": "D64BsbNzr94y",
        "outputId": "ef45850b-9eb7-40c3-8128-21e702902262"
      },
      "source": [
        "#Metadata\n",
        "metadata_train"
      ],
      "execution_count": 24,
      "outputs": [
        {
          "output_type": "execute_result",
          "data": {
            "text/plain": [
              "['AVE', 'GATO', 'PERRO']"
            ]
          },
          "metadata": {},
          "execution_count": 24
        }
      ]
    },
    {
      "cell_type": "markdown",
      "metadata": {
        "id": "9g2h_FKzr--h"
      },
      "source": [
        "# Uso de la función para leer la carpeta de tensores de entrenamiento"
      ]
    },
    {
      "cell_type": "code",
      "metadata": {
        "id": "MZxC_U_isAwG"
      },
      "source": [
        "#Definimos la ruta de los archivos de tensores de validación\n",
        "ruta_tensores_validacion = '/content/drive/MyDrive/Data/TENSORS/test/*'"
      ],
      "execution_count": 25,
      "outputs": []
    },
    {
      "cell_type": "code",
      "metadata": {
        "id": "f2dUmoghsCzr"
      },
      "source": [
        "#Leemos los archivos\n",
        "x_test, y_test, metadata_test = leer_tensor(ruta_tensores_validacion)"
      ],
      "execution_count": 26,
      "outputs": []
    },
    {
      "cell_type": "code",
      "metadata": {
        "colab": {
          "base_uri": "https://localhost:8080/"
        },
        "id": "M9cu5SlNsD0a",
        "outputId": "1adcadb7-5644-42f4-8363-d1fdea971378"
      },
      "source": [
        "#Features de validación\n",
        "x_test.shape"
      ],
      "execution_count": 27,
      "outputs": [
        {
          "output_type": "execute_result",
          "data": {
            "text/plain": [
              "(18, 32, 32, 3)"
            ]
          },
          "metadata": {},
          "execution_count": 27
        }
      ]
    },
    {
      "cell_type": "code",
      "metadata": {
        "colab": {
          "base_uri": "https://localhost:8080/"
        },
        "id": "7Cyfa4tgsE5d",
        "outputId": "dd5bc7a3-41b1-47df-cf38-1f9cd54956d3"
      },
      "source": [
        "#Labels de validación\n",
        "y_test.shape"
      ],
      "execution_count": 28,
      "outputs": [
        {
          "output_type": "execute_result",
          "data": {
            "text/plain": [
              "(18, 3)"
            ]
          },
          "metadata": {},
          "execution_count": 28
        }
      ]
    },
    {
      "cell_type": "code",
      "metadata": {
        "colab": {
          "base_uri": "https://localhost:8080/"
        },
        "id": "p_al-oYPsF-H",
        "outputId": "ade9418d-f004-4f8c-cba2-6491283ea2a6"
      },
      "source": [
        "#Metadata\n",
        "metadata_test"
      ],
      "execution_count": 29,
      "outputs": [
        {
          "output_type": "execute_result",
          "data": {
            "text/plain": [
              "['AVE', 'GATO', 'PERRO']"
            ]
          },
          "metadata": {},
          "execution_count": 29
        }
      ]
    }
  ]
}