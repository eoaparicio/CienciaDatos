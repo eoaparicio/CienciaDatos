{
  "nbformat": 4,
  "nbformat_minor": 0,
  "metadata": {
    "colab": {
      "name": "Laboratorio 8 [Arquetipo de entrenamiento de modelos].ipynb",
      "provenance": [],
      "collapsed_sections": [],
      "toc_visible": true
    },
    "kernelspec": {
      "name": "python3",
      "display_name": "Python 3"
    },
    "language_info": {
      "name": "python"
    }
  },
  "cells": [
    {
      "cell_type": "markdown",
      "metadata": {
        "id": "mI3l6DmVCFtz"
      },
      "source": [
        "# Librerías"
      ]
    },
    {
      "cell_type": "code",
      "metadata": {
        "id": "x7Q8pGFxCEyB"
      },
      "source": [
        "#Librerías Base\n",
        "%matplotlib inline\n",
        "import matplotlib.pyplot as plt\n",
        "import numpy as np\n",
        "import pandas as pd\n",
        "from google.colab import drive\n",
        "\n",
        "#Librerías de Métricas\n",
        "from sklearn.metrics import mean_squared_error as mse\n",
        "from sklearn.metrics import r2_score\n",
        "from sklearn.model_selection import train_test_split\n",
        "\n",
        "#Librerías de Machine Learning\n",
        "from keras.models import Sequential\n",
        "from keras.layers import Dense\n",
        "from tensorflow.keras.optimizers import Adam, SGD"
      ],
      "execution_count": 2,
      "outputs": []
    },
    {
      "cell_type": "markdown",
      "metadata": {
        "id": "3LMBEfno7B18"
      },
      "source": [
        "# Conexión al repositorio de datos"
      ]
    },
    {
      "cell_type": "code",
      "metadata": {
        "colab": {
          "base_uri": "https://localhost:8080/"
        },
        "id": "MXQowfKJ7Krk",
        "outputId": "f81cc1dd-ed3d-4015-d476-670272461f0e"
      },
      "source": [
        "#Accedemos a Google Drive\n",
        "drive.mount('/content/drive')"
      ],
      "execution_count": 3,
      "outputs": [
        {
          "output_type": "stream",
          "name": "stdout",
          "text": [
            "Mounted at /content/drive\n"
          ]
        }
      ]
    },
    {
      "cell_type": "markdown",
      "metadata": {
        "id": "DbnIoGC5CJbw"
      },
      "source": [
        "# Lectura de datos"
      ]
    },
    {
      "cell_type": "code",
      "metadata": {
        "colab": {
          "base_uri": "https://localhost:8080/",
          "height": 419
        },
        "id": "X5Ze_XG5CYgq",
        "outputId": "bcbe9cf4-4645-4969-ee07-31186c34e504"
      },
      "source": [
        "#Leemos el dataset\n",
        "df = pd.read_csv('/content/drive/MyDrive/Data/weight-height.csv')\n",
        "df"
      ],
      "execution_count": 4,
      "outputs": [
        {
          "output_type": "execute_result",
          "data": {
            "text/html": [
              "<div>\n",
              "<style scoped>\n",
              "    .dataframe tbody tr th:only-of-type {\n",
              "        vertical-align: middle;\n",
              "    }\n",
              "\n",
              "    .dataframe tbody tr th {\n",
              "        vertical-align: top;\n",
              "    }\n",
              "\n",
              "    .dataframe thead th {\n",
              "        text-align: right;\n",
              "    }\n",
              "</style>\n",
              "<table border=\"1\" class=\"dataframe\">\n",
              "  <thead>\n",
              "    <tr style=\"text-align: right;\">\n",
              "      <th></th>\n",
              "      <th>Gender</th>\n",
              "      <th>Height</th>\n",
              "      <th>Weight</th>\n",
              "    </tr>\n",
              "  </thead>\n",
              "  <tbody>\n",
              "    <tr>\n",
              "      <th>0</th>\n",
              "      <td>Male</td>\n",
              "      <td>73.847017</td>\n",
              "      <td>241.893563</td>\n",
              "    </tr>\n",
              "    <tr>\n",
              "      <th>1</th>\n",
              "      <td>Male</td>\n",
              "      <td>68.781904</td>\n",
              "      <td>162.310473</td>\n",
              "    </tr>\n",
              "    <tr>\n",
              "      <th>2</th>\n",
              "      <td>Male</td>\n",
              "      <td>74.110105</td>\n",
              "      <td>212.740856</td>\n",
              "    </tr>\n",
              "    <tr>\n",
              "      <th>3</th>\n",
              "      <td>Male</td>\n",
              "      <td>71.730978</td>\n",
              "      <td>220.042470</td>\n",
              "    </tr>\n",
              "    <tr>\n",
              "      <th>4</th>\n",
              "      <td>Male</td>\n",
              "      <td>69.881796</td>\n",
              "      <td>206.349801</td>\n",
              "    </tr>\n",
              "    <tr>\n",
              "      <th>...</th>\n",
              "      <td>...</td>\n",
              "      <td>...</td>\n",
              "      <td>...</td>\n",
              "    </tr>\n",
              "    <tr>\n",
              "      <th>9995</th>\n",
              "      <td>Female</td>\n",
              "      <td>66.172652</td>\n",
              "      <td>136.777454</td>\n",
              "    </tr>\n",
              "    <tr>\n",
              "      <th>9996</th>\n",
              "      <td>Female</td>\n",
              "      <td>67.067155</td>\n",
              "      <td>170.867906</td>\n",
              "    </tr>\n",
              "    <tr>\n",
              "      <th>9997</th>\n",
              "      <td>Female</td>\n",
              "      <td>63.867992</td>\n",
              "      <td>128.475319</td>\n",
              "    </tr>\n",
              "    <tr>\n",
              "      <th>9998</th>\n",
              "      <td>Female</td>\n",
              "      <td>69.034243</td>\n",
              "      <td>163.852461</td>\n",
              "    </tr>\n",
              "    <tr>\n",
              "      <th>9999</th>\n",
              "      <td>Female</td>\n",
              "      <td>61.944246</td>\n",
              "      <td>113.649103</td>\n",
              "    </tr>\n",
              "  </tbody>\n",
              "</table>\n",
              "<p>10000 rows × 3 columns</p>\n",
              "</div>"
            ],
            "text/plain": [
              "      Gender     Height      Weight\n",
              "0       Male  73.847017  241.893563\n",
              "1       Male  68.781904  162.310473\n",
              "2       Male  74.110105  212.740856\n",
              "3       Male  71.730978  220.042470\n",
              "4       Male  69.881796  206.349801\n",
              "...      ...        ...         ...\n",
              "9995  Female  66.172652  136.777454\n",
              "9996  Female  67.067155  170.867906\n",
              "9997  Female  63.867992  128.475319\n",
              "9998  Female  69.034243  163.852461\n",
              "9999  Female  61.944246  113.649103\n",
              "\n",
              "[10000 rows x 3 columns]"
            ]
          },
          "metadata": {},
          "execution_count": 4
        }
      ]
    },
    {
      "cell_type": "markdown",
      "metadata": {
        "id": "lKfz4AopC6nT"
      },
      "source": [
        "# Definición de \"features\""
      ]
    },
    {
      "cell_type": "code",
      "metadata": {
        "colab": {
          "base_uri": "https://localhost:8080/"
        },
        "id": "seYi1hsgCkuk",
        "outputId": "865cf3cd-ee11-48e7-dd1d-18549f4514bd"
      },
      "source": [
        "#Definimos los features (x), es decir los datos que nos ayudan a predecir\n",
        "x = df['Height'].values\n",
        "x"
      ],
      "execution_count": 5,
      "outputs": [
        {
          "output_type": "execute_result",
          "data": {
            "text/plain": [
              "array([73.84701702, 68.78190405, 74.11010539, ..., 63.86799221,\n",
              "       69.03424313, 61.94424588])"
            ]
          },
          "metadata": {},
          "execution_count": 5
        }
      ]
    },
    {
      "cell_type": "markdown",
      "metadata": {
        "id": "r6C7YWdm7Sjx"
      },
      "source": [
        "# Definición de \"labels\""
      ]
    },
    {
      "cell_type": "code",
      "metadata": {
        "colab": {
          "base_uri": "https://localhost:8080/"
        },
        "id": "sgksuyzqCxNK",
        "outputId": "dc6d7de5-8897-4e40-b3c3-1ea31b1c2735"
      },
      "source": [
        "#Definimos los labels (y), es decir el dato que se predice\n",
        "y = df['Weight'].values\n",
        "y"
      ],
      "execution_count": 6,
      "outputs": [
        {
          "output_type": "execute_result",
          "data": {
            "text/plain": [
              "array([241.89356318, 162.31047252, 212.74085556, ..., 128.47531878,\n",
              "       163.85246135, 113.64910268])"
            ]
          },
          "metadata": {},
          "execution_count": 6
        }
      ]
    },
    {
      "cell_type": "markdown",
      "metadata": {
        "id": "CcdCM9jhDIjw"
      },
      "source": [
        "# División de los datos en datos de entrenamiento (x_train, y_train) y datos de validación (x_test, y_test)"
      ]
    },
    {
      "cell_type": "code",
      "metadata": {
        "id": "sPOc6CwYDRzE"
      },
      "source": [
        "#Dividimos los datos en datos de entrenamiento (x_train, y_train) y datos de validación (x_test, y_test)\n",
        "x_train, x_test, y_train, y_test = train_test_split(x, y, test_size = 0.2)"
      ],
      "execution_count": 7,
      "outputs": []
    },
    {
      "cell_type": "code",
      "metadata": {
        "colab": {
          "base_uri": "https://localhost:8080/"
        },
        "id": "oYVJSfYIDfbF",
        "outputId": "27b6ab24-ee23-4e3a-c4d5-693b02693733"
      },
      "source": [
        "#Features de entrenamiento\n",
        "x_train"
      ],
      "execution_count": 8,
      "outputs": [
        {
          "output_type": "execute_result",
          "data": {
            "text/plain": [
              "array([62.47625672, 62.59475897, 61.62720923, ..., 65.74773144,\n",
              "       67.94539137, 64.56167877])"
            ]
          },
          "metadata": {},
          "execution_count": 8
        }
      ]
    },
    {
      "cell_type": "code",
      "metadata": {
        "colab": {
          "base_uri": "https://localhost:8080/"
        },
        "id": "Nd0M0aXWDf0t",
        "outputId": "d1549ef8-90a4-460a-d5f1-a27a32a7ed60"
      },
      "source": [
        "#Labels de entrenamiento\n",
        "y_train"
      ],
      "execution_count": 9,
      "outputs": [
        {
          "output_type": "execute_result",
          "data": {
            "text/plain": [
              "array([140.16065861, 145.98778678, 134.33528348, ..., 145.57624836,\n",
              "       162.16397466, 142.84177112])"
            ]
          },
          "metadata": {},
          "execution_count": 9
        }
      ]
    },
    {
      "cell_type": "code",
      "metadata": {
        "colab": {
          "base_uri": "https://localhost:8080/"
        },
        "id": "0Wjjol2QDf6u",
        "outputId": "23a76b70-8ff4-4a38-8b81-a5bb04d2d5ee"
      },
      "source": [
        "#Features de validación\n",
        "x_test"
      ],
      "execution_count": 10,
      "outputs": [
        {
          "output_type": "execute_result",
          "data": {
            "text/plain": [
              "array([65.92886874, 71.59068401, 69.86074638, ..., 66.69188002,\n",
              "       65.27034552, 63.69530743])"
            ]
          },
          "metadata": {},
          "execution_count": 10
        }
      ]
    },
    {
      "cell_type": "code",
      "metadata": {
        "colab": {
          "base_uri": "https://localhost:8080/"
        },
        "id": "vgPl9WMdDf_k",
        "outputId": "4cb6dd8a-f990-4324-f3c9-9e4ed3a4b9a3"
      },
      "source": [
        "#Labels de validación\n",
        "y_test"
      ],
      "execution_count": 11,
      "outputs": [
        {
          "output_type": "execute_result",
          "data": {
            "text/plain": [
              "array([125.51585486, 201.61149375, 198.32182812, ..., 151.81290663,\n",
              "       168.6177462 , 120.96557632])"
            ]
          },
          "metadata": {},
          "execution_count": 11
        }
      ]
    },
    {
      "cell_type": "markdown",
      "metadata": {
        "id": "r96xnSbuDp_m"
      },
      "source": [
        "# Configuración del modelo"
      ]
    },
    {
      "cell_type": "code",
      "metadata": {
        "id": "TFBYBjHCDuT0"
      },
      "source": [
        "#Instaciamos un modelo de machine learning vacío con \"Sequential\"\n",
        "model = Sequential()"
      ],
      "execution_count": 12,
      "outputs": []
    },
    {
      "cell_type": "code",
      "metadata": {
        "id": "1gy6tGUJEDUS"
      },
      "source": [
        "#Agregamos las configuraciones con \"Dense\"\n",
        "#Parámetro 1: Número de outputs labels (sólo 1, el Weight)\n",
        "#Parámetro 2: Número de inputs features (sólo 1, el Height)\n",
        "model.add(Dense(1, input_shape=(1,)))"
      ],
      "execution_count": 13,
      "outputs": []
    },
    {
      "cell_type": "code",
      "metadata": {
        "colab": {
          "base_uri": "https://localhost:8080/"
        },
        "id": "ffau_jpmEEv0",
        "outputId": "c3f73864-e728-4111-9e66-e9b0dd1aac3d"
      },
      "source": [
        "#Vemos un resumen del modelo\n",
        "model.summary()"
      ],
      "execution_count": 14,
      "outputs": [
        {
          "output_type": "stream",
          "name": "stdout",
          "text": [
            "Model: \"sequential\"\n",
            "_________________________________________________________________\n",
            "Layer (type)                 Output Shape              Param #   \n",
            "=================================================================\n",
            "dense (Dense)                (None, 1)                 2         \n",
            "=================================================================\n",
            "Total params: 2\n",
            "Trainable params: 2\n",
            "Non-trainable params: 0\n",
            "_________________________________________________________________\n"
          ]
        }
      ]
    },
    {
      "cell_type": "markdown",
      "metadata": {
        "id": "i0x3dWr97dlm"
      },
      "source": [
        "# Compilación del modelo"
      ]
    },
    {
      "cell_type": "code",
      "metadata": {
        "id": "b_ZSaP47EGod",
        "colab": {
          "base_uri": "https://localhost:8080/"
        },
        "outputId": "094b6474-09c8-4909-e67d-e130ec0c2cd1"
      },
      "source": [
        "#Compilamos el modelo indicando el tipo de error con el que se calcula la solución\n",
        "model.compile(Adam(lr=0.8), 'mean_squared_error')"
      ],
      "execution_count": 15,
      "outputs": [
        {
          "output_type": "stream",
          "name": "stderr",
          "text": [
            "/usr/local/lib/python3.7/dist-packages/keras/optimizer_v2/optimizer_v2.py:356: UserWarning: The `lr` argument is deprecated, use `learning_rate` instead.\n",
            "  \"The `lr` argument is deprecated, use `learning_rate` instead.\")\n"
          ]
        }
      ]
    },
    {
      "cell_type": "markdown",
      "metadata": {
        "id": "t56C1hhGEeDL"
      },
      "source": [
        "# Entrenamiento del modelo"
      ]
    },
    {
      "cell_type": "code",
      "metadata": {
        "colab": {
          "base_uri": "https://localhost:8080/"
        },
        "id": "MhkHjsy_Ef15",
        "outputId": "9470fdea-4e4c-4228-c8ac-3b5a16c41080"
      },
      "source": [
        "#Entrenamos el modelo enviándole los features (x_train) y labels (y_train) de entrenamiento\n",
        "#Configuramos el número de iteraciones (40)\n",
        "model.fit(x_train, y_train, epochs=40)"
      ],
      "execution_count": 16,
      "outputs": [
        {
          "output_type": "stream",
          "name": "stdout",
          "text": [
            "Epoch 1/40\n",
            "250/250 [==============================] - 1s 1ms/step - loss: 1162.3656\n",
            "Epoch 2/40\n",
            "250/250 [==============================] - 0s 1ms/step - loss: 561.5641\n",
            "Epoch 3/40\n",
            "250/250 [==============================] - 0s 1ms/step - loss: 534.6224\n",
            "Epoch 4/40\n",
            "250/250 [==============================] - 0s 1ms/step - loss: 540.4683\n",
            "Epoch 5/40\n",
            "250/250 [==============================] - 0s 1ms/step - loss: 480.6610\n",
            "Epoch 6/40\n",
            "250/250 [==============================] - 0s 1ms/step - loss: 459.6234\n",
            "Epoch 7/40\n",
            "250/250 [==============================] - 0s 1ms/step - loss: 398.5357\n",
            "Epoch 8/40\n",
            "250/250 [==============================] - 0s 1ms/step - loss: 384.7019\n",
            "Epoch 9/40\n",
            "250/250 [==============================] - 0s 1ms/step - loss: 364.9358\n",
            "Epoch 10/40\n",
            "250/250 [==============================] - 0s 1ms/step - loss: 328.4210\n",
            "Epoch 11/40\n",
            "250/250 [==============================] - 0s 1ms/step - loss: 315.4635\n",
            "Epoch 12/40\n",
            "250/250 [==============================] - 0s 1ms/step - loss: 289.1324\n",
            "Epoch 13/40\n",
            "250/250 [==============================] - 0s 1ms/step - loss: 292.6490\n",
            "Epoch 14/40\n",
            "250/250 [==============================] - 0s 1ms/step - loss: 246.5054\n",
            "Epoch 15/40\n",
            "250/250 [==============================] - 0s 1ms/step - loss: 236.2974\n",
            "Epoch 16/40\n",
            "250/250 [==============================] - 0s 1ms/step - loss: 244.9970\n",
            "Epoch 17/40\n",
            "250/250 [==============================] - 0s 1ms/step - loss: 210.7557\n",
            "Epoch 18/40\n",
            "250/250 [==============================] - 0s 1ms/step - loss: 204.2114\n",
            "Epoch 19/40\n",
            "250/250 [==============================] - 0s 1ms/step - loss: 211.6603\n",
            "Epoch 20/40\n",
            "250/250 [==============================] - 0s 1ms/step - loss: 201.7684\n",
            "Epoch 21/40\n",
            "250/250 [==============================] - 0s 1ms/step - loss: 194.1562\n",
            "Epoch 22/40\n",
            "250/250 [==============================] - 0s 1ms/step - loss: 184.9268\n",
            "Epoch 23/40\n",
            "250/250 [==============================] - 0s 1ms/step - loss: 186.5467\n",
            "Epoch 24/40\n",
            "250/250 [==============================] - 0s 1ms/step - loss: 183.7051\n",
            "Epoch 25/40\n",
            "250/250 [==============================] - 0s 1ms/step - loss: 179.7480\n",
            "Epoch 26/40\n",
            "250/250 [==============================] - 0s 1ms/step - loss: 204.7578\n",
            "Epoch 27/40\n",
            "250/250 [==============================] - 0s 1ms/step - loss: 183.5492\n",
            "Epoch 28/40\n",
            "250/250 [==============================] - 0s 1ms/step - loss: 181.4760\n",
            "Epoch 29/40\n",
            "250/250 [==============================] - 0s 1ms/step - loss: 184.4949\n",
            "Epoch 30/40\n",
            "250/250 [==============================] - 0s 1ms/step - loss: 175.8417\n",
            "Epoch 31/40\n",
            "250/250 [==============================] - 0s 1ms/step - loss: 176.1030\n",
            "Epoch 32/40\n",
            "250/250 [==============================] - 0s 1ms/step - loss: 187.8745\n",
            "Epoch 33/40\n",
            "250/250 [==============================] - 0s 1ms/step - loss: 168.8047\n",
            "Epoch 34/40\n",
            "250/250 [==============================] - 0s 1ms/step - loss: 179.7059\n",
            "Epoch 35/40\n",
            "250/250 [==============================] - 0s 1ms/step - loss: 191.8965\n",
            "Epoch 36/40\n",
            "250/250 [==============================] - 0s 1ms/step - loss: 166.5182\n",
            "Epoch 37/40\n",
            "250/250 [==============================] - 0s 1ms/step - loss: 175.0906\n",
            "Epoch 38/40\n",
            "250/250 [==============================] - 0s 1ms/step - loss: 187.8981\n",
            "Epoch 39/40\n",
            "250/250 [==============================] - 0s 1ms/step - loss: 173.0082\n",
            "Epoch 40/40\n",
            "250/250 [==============================] - 0s 1ms/step - loss: 175.1313\n"
          ]
        },
        {
          "output_type": "execute_result",
          "data": {
            "text/plain": [
              "<keras.callbacks.History at 0x7fefba4fdb90>"
            ]
          },
          "metadata": {},
          "execution_count": 16
        }
      ]
    },
    {
      "cell_type": "markdown",
      "metadata": {
        "id": "FrqOayu_E0JX"
      },
      "source": [
        "# Accuracy de entrenamiento (patrones encontrados en la data)"
      ]
    },
    {
      "cell_type": "code",
      "metadata": {
        "colab": {
          "base_uri": "https://localhost:8080/"
        },
        "id": "XTYu4XFVE28o",
        "outputId": "677f4b8f-dbbb-41ba-c987-4a9dbc7cc26c"
      },
      "source": [
        "#Con los features (x_train) que usamos para entrenar el modelo, realizamos las predicciones (y_train_prediccion)\n",
        "y_train_prediccion = model.predict(x_train).ravel()\n",
        "y_train_prediccion"
      ],
      "execution_count": 17,
      "outputs": [
        {
          "output_type": "execute_result",
          "data": {
            "text/plain": [
              "array([132.57977 , 133.48306 , 126.107605, ..., 157.5177  , 174.27008 ,\n",
              "       148.47656 ], dtype=float32)"
            ]
          },
          "metadata": {},
          "execution_count": 17
        }
      ]
    },
    {
      "cell_type": "code",
      "metadata": {
        "colab": {
          "base_uri": "https://localhost:8080/"
        },
        "id": "5--4E73YFIzK",
        "outputId": "252c6879-7646-4912-d14d-057566dde8f4"
      },
      "source": [
        "#Calculamos el error de entrenamiento\n",
        "mse(y_train, y_train_prediccion)"
      ],
      "execution_count": 18,
      "outputs": [
        {
          "output_type": "execute_result",
          "data": {
            "text/plain": [
              "150.71784207968017"
            ]
          },
          "metadata": {},
          "execution_count": 18
        }
      ]
    },
    {
      "cell_type": "code",
      "metadata": {
        "colab": {
          "base_uri": "https://localhost:8080/"
        },
        "id": "70MfNdoKFQ8U",
        "outputId": "9d14fe56-3b28-4c45-cb0e-4474ad39bcdd"
      },
      "source": [
        "#Calculamos el error de entrenamiento estándar con r2 para poder realizar la interpretación\n",
        "#INTERPRETACIÓN: El modelo encontró el 83.13% de los patrones existentes en la data\n",
        "r2_score(y_train, y_train_prediccion)"
      ],
      "execution_count": 19,
      "outputs": [
        {
          "output_type": "execute_result",
          "data": {
            "text/plain": [
              "0.8540814437610962"
            ]
          },
          "metadata": {},
          "execution_count": 19
        }
      ]
    },
    {
      "cell_type": "markdown",
      "metadata": {
        "id": "Mx3QPUNDFfnM"
      },
      "source": [
        "# Accuracy de uso (accuracy de predicción)"
      ]
    },
    {
      "cell_type": "code",
      "metadata": {
        "colab": {
          "base_uri": "https://localhost:8080/"
        },
        "id": "in51pu1HFhhK",
        "outputId": "f00e297c-b1c7-4ba3-a249-a59876ac84b1"
      },
      "source": [
        "#Con los features (x_test) que no usamos para entrenar al modelo, realizamos las predicciones (y_test_prediccion)\n",
        "y_test_prediccion = model.predict(x_test).ravel()\n",
        "y_test_prediccion"
      ],
      "execution_count": 20,
      "outputs": [
        {
          "output_type": "execute_result",
          "data": {
            "text/plain": [
              "array([158.89847, 202.05756, 188.87054, ..., 164.71475, 153.87866,\n",
              "       141.8724 ], dtype=float32)"
            ]
          },
          "metadata": {},
          "execution_count": 20
        }
      ]
    },
    {
      "cell_type": "code",
      "metadata": {
        "colab": {
          "base_uri": "https://localhost:8080/"
        },
        "id": "8Ar7zwsOFrHg",
        "outputId": "59d83a68-2bcf-4e5d-fa3e-1d2ca053d6d0"
      },
      "source": [
        "#Calculamos el error de uso (error de predicción)\n",
        "mse(y_test, y_test_prediccion)"
      ],
      "execution_count": 21,
      "outputs": [
        {
          "output_type": "execute_result",
          "data": {
            "text/plain": [
              "147.4736833342699"
            ]
          },
          "metadata": {},
          "execution_count": 21
        }
      ]
    },
    {
      "cell_type": "code",
      "metadata": {
        "colab": {
          "base_uri": "https://localhost:8080/"
        },
        "id": "yLyLq7MtF_-Y",
        "outputId": "4015481e-feed-4cf4-c255-3e51a94d747a"
      },
      "source": [
        "#Calculamos el error de uso estándar con r2 para poder realizar la interpretación\n",
        "#INTERPRETACIÓN: El modelo al ser usado en un entorno productivo, de 100 casos acertará en 83 y se equivocará en 17 casos\n",
        "r2_score(y_test, y_test_prediccion)"
      ],
      "execution_count": 22,
      "outputs": [
        {
          "output_type": "execute_result",
          "data": {
            "text/plain": [
              "0.8557943229248715"
            ]
          },
          "metadata": {},
          "execution_count": 22
        }
      ]
    },
    {
      "cell_type": "markdown",
      "metadata": {
        "id": "sI37fSavGNd9"
      },
      "source": [
        "# Análisis final"
      ]
    },
    {
      "cell_type": "code",
      "metadata": {
        "id": "1uo7BHXFGP7s"
      },
      "source": [
        "#El modelo tiene un alto porcentaje de reconocimiento de patrones en los datos (83.13%)\n",
        "#El modelo tiene un alto porcentaje de aciertos en nuestras predicciones (83.87%)\n",
        "#La diferencia entre el porcentaje de reconocimiento de patrones (83.13%) y el porcentaje de aciertos (83.87%) es pequeña (0.74%)\n",
        "#Como la diferencia es pequeña, estamos frente a un modelo que representa y predice muy bien la realidad de negocio\n",
        "#Es un modelo que podemos usar en un entorno real de producción"
      ],
      "execution_count": 23,
      "outputs": []
    },
    {
      "cell_type": "markdown",
      "metadata": {
        "id": "8eUs0TJweF8A"
      },
      "source": [
        "# Uso del modelo para predecir nuevos casos"
      ]
    },
    {
      "cell_type": "code",
      "metadata": {
        "colab": {
          "base_uri": "https://localhost:8080/"
        },
        "id": "yzOuzhCGeIfS",
        "outputId": "dd19aeb5-d581-4bdd-b5c4-f9cf514a45d6"
      },
      "source": [
        "#Definimos la estatura de una persona\n",
        "#1.60 METROS = 60 PULGADAS\n",
        "#1.70 METROS = 65 PULGADAS\n",
        "#1.80 METROS = 70 PULGADAS\n",
        "estatura = [60, 65, 70]\n",
        "\n",
        "#Peso según el modelo\n",
        "peso_prediccion = model.predict(estatura)\n",
        "peso_prediccion"
      ],
      "execution_count": 24,
      "outputs": [
        {
          "output_type": "execute_result",
          "data": {
            "text/plain": [
              "array([[113.70364],\n",
              "       [151.81784],\n",
              "       [189.932  ]], dtype=float32)"
            ]
          },
          "metadata": {},
          "execution_count": 24
        }
      ]
    },
    {
      "cell_type": "code",
      "metadata": {
        "colab": {
          "base_uri": "https://localhost:8080/"
        },
        "id": "DieyhMnff0AS",
        "outputId": "6a3d4c5d-fbe3-4e77-a37c-afb037a8afb6"
      },
      "source": [
        "#El peso está en libras, vamos a convertilo a kilogramos\n",
        "peso_prediccion_kilogramos = peso_prediccion / 2.205\n",
        "peso_prediccion_kilogramos"
      ],
      "execution_count": 25,
      "outputs": [
        {
          "output_type": "execute_result",
          "data": {
            "text/plain": [
              "array([[51.56628],\n",
              "       [68.85163],\n",
              "       [86.13697]], dtype=float32)"
            ]
          },
          "metadata": {},
          "execution_count": 25
        }
      ]
    },
    {
      "cell_type": "markdown",
      "metadata": {
        "id": "J-XIr2ov7pv3"
      },
      "source": [
        "# Despliegue del modelo en un entorno productivo"
      ]
    },
    {
      "cell_type": "code",
      "metadata": {
        "id": "k7xHzwYL7u8x"
      },
      "source": [
        "#Lo veremos luego de implementar:\n",
        "# Redes neuronales\n",
        "# Redes convolucionales\n",
        "# Redes recurrentes"
      ],
      "execution_count": 26,
      "outputs": []
    }
  ]
}