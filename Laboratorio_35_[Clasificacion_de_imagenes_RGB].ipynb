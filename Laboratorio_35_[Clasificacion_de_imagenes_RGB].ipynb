{
  "nbformat": 4,
  "nbformat_minor": 0,
  "metadata": {
    "colab": {
      "name": "Laboratorio_35_[Clasificacion_de_imagenes_RGB].ipynb",
      "provenance": [],
      "collapsed_sections": []
    },
    "kernelspec": {
      "name": "python3",
      "display_name": "Python 3"
    },
    "language_info": {
      "name": "python"
    },
    "accelerator": "GPU"
  },
  "cells": [
    {
      "cell_type": "code",
      "metadata": {
        "id": "CV6wFiH86Nru"
      },
      "source": [
        "#Autor: Alonso Melgarejo\n",
        "#Contacto: alonsoraulmgs@gmail.com\n",
        "#Copyright: Big Data Academy"
      ],
      "execution_count": 81,
      "outputs": []
    },
    {
      "cell_type": "markdown",
      "metadata": {
        "id": "av4HQqwo7I50"
      },
      "source": [
        "# Librerías"
      ]
    },
    {
      "cell_type": "code",
      "metadata": {
        "id": "ihqKFumw7GUK"
      },
      "source": [
        "#Importamos las librerías estándar\n",
        "import pandas as pd\n",
        "import numpy as np\n",
        "%matplotlib inline\n",
        "import matplotlib.pyplot as plt\n",
        "import glob\n",
        "import os"
      ],
      "execution_count": 82,
      "outputs": []
    },
    {
      "cell_type": "code",
      "metadata": {
        "id": "uWsiJA317Kl-"
      },
      "source": [
        "#Importamos las librerías de Keras\n",
        "from keras.utils.np_utils import to_categorical\n",
        "from keras.preprocessing import image\n",
        "from keras.models import Sequential\n",
        "from keras.layers import Flatten\n",
        "from keras.layers import Conv2D\n",
        "from keras.layers import MaxPool2D, AvgPool2D\n",
        "from keras.layers import Activation\n",
        "from keras.layers import Dense"
      ],
      "execution_count": 83,
      "outputs": []
    },
    {
      "cell_type": "markdown",
      "metadata": {
        "id": "rYLe5drg7ahs"
      },
      "source": [
        "# Conexión al repositorio de datos"
      ]
    },
    {
      "cell_type": "code",
      "metadata": {
        "colab": {
          "base_uri": "https://localhost:8080/"
        },
        "id": "RvmYXozu7cao",
        "outputId": "c8661d40-573d-4319-ede5-a0101050190a"
      },
      "source": [
        "#Nos conectamos a Google Drive\n",
        "from google.colab import drive\n",
        "drive.mount('/content/drive')"
      ],
      "execution_count": 84,
      "outputs": [
        {
          "output_type": "stream",
          "name": "stdout",
          "text": [
            "Drive already mounted at /content/drive; to attempt to forcibly remount, call drive.mount(\"/content/drive\", force_remount=True).\n"
          ]
        }
      ]
    },
    {
      "cell_type": "markdown",
      "metadata": {
        "id": "dRmmzcl79wX_"
      },
      "source": [
        "# Funciones utilitarias"
      ]
    },
    {
      "cell_type": "code",
      "metadata": {
        "id": "psVLPtci9yWe"
      },
      "source": [
        "def leer_carpeta_de_imagenes_como_tensor(ruta):\n",
        "  tensores = []\n",
        "\n",
        "  #Obtenemos las rutas de las imágenes\n",
        "  rutas_imagenes = sorted(glob.glob(ruta+'/*'))\n",
        "  \n",
        "  index = 0\n",
        "  for ruta in rutas_imagenes:\n",
        "    #Leemos la imagen\n",
        "    imagen = image.load_img(\n",
        "      ruta, \n",
        "      grayscale=False,\n",
        "      color_mode=\"rgb\",\n",
        "      target_size = (32, 32),\n",
        "      interpolation=\"nearest\"\n",
        "    )\n",
        "\n",
        "    #La tensorizamos\n",
        "    tensor = np.array([image.img_to_array(imagen)])\n",
        "\n",
        "    #La agregamos a la lista de tensores\n",
        "    if index == 0:\n",
        "      tensores = tensor\n",
        "    else:\n",
        "      tensores = np.concatenate((tensores, tensor))\n",
        "\n",
        "    index = index + 1\n",
        "\n",
        "  #La retornamos\n",
        "  return tensores"
      ],
      "execution_count": 85,
      "outputs": []
    },
    {
      "cell_type": "markdown",
      "metadata": {
        "id": "CUPJRixc7fM_"
      },
      "source": [
        "# Lectura de tensores"
      ]
    },
    {
      "cell_type": "code",
      "metadata": {
        "id": "1X28WA-I7etu"
      },
      "source": [
        "from keras.datasets import cifar10\n",
        "(x_train, y_train), (x_test, y_test) = cifar10.load_data()"
      ],
      "execution_count": 86,
      "outputs": []
    },
    {
      "cell_type": "code",
      "metadata": {
        "colab": {
          "base_uri": "https://localhost:8080/",
          "height": 283
        },
        "id": "c86Z9BR6AFM6",
        "outputId": "5b68e667-095e-4379-899f-894a77bf4ca8"
      },
      "source": [
        "plt.imshow(x_train[4])"
      ],
      "execution_count": 87,
      "outputs": [
        {
          "output_type": "execute_result",
          "data": {
            "text/plain": [
              "<matplotlib.image.AxesImage at 0x7f056a9e5a10>"
            ]
          },
          "metadata": {},
          "execution_count": 87
        },
        {
          "output_type": "display_data",
          "data": {
            "image/png": "[encoded data removed]",
            "text/plain": [
              "<Figure size 432x288 with 1 Axes>"
            ]
          },
          "metadata": {
            "needs_background": "light"
          }
        }
      ]
    },
    {
      "cell_type": "markdown",
      "metadata": {
        "id": "i2Vyr94u7pXq"
      },
      "source": [
        "# Procesamiento de features"
      ]
    },
    {
      "cell_type": "code",
      "metadata": {
        "id": "8b7t7cKf7qKZ"
      },
      "source": [
        "#PROCESAMIENTO DE LOS FEATURES DE ENTRENAMIENTO "
      ],
      "execution_count": 88,
      "outputs": []
    },
    {
      "cell_type": "code",
      "metadata": {
        "colab": {
          "base_uri": "https://localhost:8080/"
        },
        "id": "FXF4_Ywd8A4I",
        "outputId": "992ceda6-c126-407a-bcf2-d64fc286ebb2"
      },
      "source": [
        "#Si no está en forma tensorial [imagenes, pixelX, pixelY, canales], deberemos adaptarlo\n",
        "x_train.shape"
      ],
      "execution_count": 89,
      "outputs": [
        {
          "output_type": "execute_result",
          "data": {
            "text/plain": [
              "(50000, 32, 32, 3)"
            ]
          },
          "metadata": {},
          "execution_count": 89
        }
      ]
    },
    {
      "cell_type": "code",
      "metadata": {
        "colab": {
          "base_uri": "https://localhost:8080/"
        },
        "id": "DO49hCxe78Ta",
        "outputId": "1bc8baa3-34ba-43d1-e2f5-e692e8bd3490"
      },
      "source": [
        "#Escalamos los datos\n",
        "x_tensor_train_scale = x_train.astype('float32') / 255.0\n",
        "x_tensor_train_scale.shape"
      ],
      "execution_count": 90,
      "outputs": [
        {
          "output_type": "execute_result",
          "data": {
            "text/plain": [
              "(50000, 32, 32, 3)"
            ]
          },
          "metadata": {},
          "execution_count": 90
        }
      ]
    },
    {
      "cell_type": "code",
      "metadata": {
        "id": "U1x19_gA8KMS"
      },
      "source": [
        "#PROCESAMIENTO DE LOS FEATURES DE VALIDACIÓN "
      ],
      "execution_count": 91,
      "outputs": []
    },
    {
      "cell_type": "code",
      "metadata": {
        "colab": {
          "base_uri": "https://localhost:8080/"
        },
        "id": "NL_aR0vZ8SOF",
        "outputId": "0cf78061-14ed-4e2d-b980-020eb30938c3"
      },
      "source": [
        "#Si no está en forma tensorial [imagenes, pixelX, pixelY, canales], deberemos adaptarlo\n",
        "x_test.shape"
      ],
      "execution_count": 92,
      "outputs": [
        {
          "output_type": "execute_result",
          "data": {
            "text/plain": [
              "(10000, 32, 32, 3)"
            ]
          },
          "metadata": {},
          "execution_count": 92
        }
      ]
    },
    {
      "cell_type": "code",
      "metadata": {
        "colab": {
          "base_uri": "https://localhost:8080/"
        },
        "id": "Ki6bMKtN8XXU",
        "outputId": "f517dd77-bebb-470c-acd0-4f6abb8f4681"
      },
      "source": [
        "#Escalamos los datos\n",
        "x_tensor_test_scale = x_test.astype('float32') / 255.0\n",
        "x_tensor_test_scale.shape"
      ],
      "execution_count": 93,
      "outputs": [
        {
          "output_type": "execute_result",
          "data": {
            "text/plain": [
              "(10000, 32, 32, 3)"
            ]
          },
          "metadata": {},
          "execution_count": 93
        }
      ]
    },
    {
      "cell_type": "markdown",
      "metadata": {
        "id": "qdahFuTi8bZH"
      },
      "source": [
        "# Procesamiento de labels"
      ]
    },
    {
      "cell_type": "code",
      "metadata": {
        "id": "Ze4DmjDp8c_z"
      },
      "source": [
        "#PROCESAMIENTO DE LOS LABELS DE ENTRENAMIENTO "
      ],
      "execution_count": 94,
      "outputs": []
    },
    {
      "cell_type": "code",
      "metadata": {
        "colab": {
          "base_uri": "https://localhost:8080/"
        },
        "id": "rgVHqa8k8nwk",
        "outputId": "0a6c6bdd-e347-4d1c-d052-6f61d48f7a77"
      },
      "source": [
        "#Los labels tienen que estar categorizados\n",
        "y_train"
      ],
      "execution_count": 95,
      "outputs": [
        {
          "output_type": "execute_result",
          "data": {
            "text/plain": [
              "array([[6],\n",
              "       [9],\n",
              "       [9],\n",
              "       ...,\n",
              "       [9],\n",
              "       [1],\n",
              "       [1]], dtype=uint8)"
            ]
          },
          "metadata": {},
          "execution_count": 95
        }
      ]
    },
    {
      "cell_type": "code",
      "metadata": {
        "colab": {
          "base_uri": "https://localhost:8080/"
        },
        "id": "zP299uQT8uAD",
        "outputId": "24378d80-e9a3-4b34-efc9-18eeabdf2b2b"
      },
      "source": [
        "#Categorizamos los labels\n",
        "y_train_categorico = to_categorical(y_train)\n",
        "y_train_categorico.shape"
      ],
      "execution_count": 96,
      "outputs": [
        {
          "output_type": "execute_result",
          "data": {
            "text/plain": [
              "(50000, 10)"
            ]
          },
          "metadata": {},
          "execution_count": 96
        }
      ]
    },
    {
      "cell_type": "code",
      "metadata": {
        "id": "6rN-32B_81Yn"
      },
      "source": [
        "#PROCESAMIENTO DE LOS LABELS DE VALIDACION "
      ],
      "execution_count": 97,
      "outputs": []
    },
    {
      "cell_type": "code",
      "metadata": {
        "colab": {
          "base_uri": "https://localhost:8080/"
        },
        "id": "LAmDM_0882yq",
        "outputId": "5d39ebfd-d5ae-44e5-ce52-919f1b554833"
      },
      "source": [
        "#Los labels tienen que estar categorizados\n",
        "y_test"
      ],
      "execution_count": 98,
      "outputs": [
        {
          "output_type": "execute_result",
          "data": {
            "text/plain": [
              "array([[3],\n",
              "       [8],\n",
              "       [8],\n",
              "       ...,\n",
              "       [5],\n",
              "       [1],\n",
              "       [7]], dtype=uint8)"
            ]
          },
          "metadata": {},
          "execution_count": 98
        }
      ]
    },
    {
      "cell_type": "code",
      "metadata": {
        "colab": {
          "base_uri": "https://localhost:8080/"
        },
        "id": "DqdjfHGE84Qa",
        "outputId": "feb0f378-bfe8-4cd0-c168-c7a15a623ba2"
      },
      "source": [
        "#Categorizamos los labels\n",
        "y_test_categorico = to_categorical(y_test)\n",
        "y_test_categorico.shape"
      ],
      "execution_count": 99,
      "outputs": [
        {
          "output_type": "execute_result",
          "data": {
            "text/plain": [
              "(10000, 10)"
            ]
          },
          "metadata": {},
          "execution_count": 99
        }
      ]
    },
    {
      "cell_type": "markdown",
      "metadata": {
        "id": "y03Elnt_9G10"
      },
      "source": [
        "# Construcción de Red Convolucional"
      ]
    },
    {
      "cell_type": "code",
      "metadata": {
        "id": "AVqyHplo9Huk"
      },
      "source": [
        "#Instaciamos un modelo vacío\n",
        "model = Sequential()"
      ],
      "execution_count": 100,
      "outputs": []
    },
    {
      "cell_type": "code",
      "metadata": {
        "id": "kSNPzmnL9JWA"
      },
      "source": [
        "#Capa 1\n",
        "model.add(Conv2D(32, (2, 2), input_shape=(32, 32, 3)))"
      ],
      "execution_count": 101,
      "outputs": []
    },
    {
      "cell_type": "code",
      "metadata": {
        "id": "zkM3DTwbAuYn"
      },
      "source": [
        "#Capa 2\n",
        "model.add(Conv2D(32, (2, 2)))"
      ],
      "execution_count": 102,
      "outputs": []
    },
    {
      "cell_type": "code",
      "metadata": {
        "id": "7Qxt6RIy9LR0"
      },
      "source": [
        "#Capa 3\n",
        "model.add(Conv2D(64, (4, 4)))"
      ],
      "execution_count": 103,
      "outputs": []
    },
    {
      "cell_type": "code",
      "metadata": {
        "id": "tsr4F-dtDpMI"
      },
      "source": [
        "#Capa 4\n",
        "model.add(Conv2D(64, (4, 4)))"
      ],
      "execution_count": 104,
      "outputs": []
    },
    {
      "cell_type": "markdown",
      "metadata": {
        "id": "2GLbZgDA9Ozm"
      },
      "source": [
        "# Vectorización del tensor"
      ]
    },
    {
      "cell_type": "code",
      "metadata": {
        "id": "0kl5L58A9Prd"
      },
      "source": [
        "#Vectorizamos los patrones\n",
        "model.add(Flatten())"
      ],
      "execution_count": 105,
      "outputs": []
    },
    {
      "cell_type": "markdown",
      "metadata": {
        "id": "InbJtGm09RmM"
      },
      "source": [
        "# Red neuronal para clasificación"
      ]
    },
    {
      "cell_type": "code",
      "metadata": {
        "id": "sfLlEwGT9TUc"
      },
      "source": [
        "#Agregamos capas de nuestra red neuronal, 512 neuronas\n",
        "model.add(Dense(512, activation='relu'))"
      ],
      "execution_count": 106,
      "outputs": []
    },
    {
      "cell_type": "code",
      "metadata": {
        "id": "Y_I8DmnG9Vvm"
      },
      "source": [
        "#Como estamos clasificando, agregamos una capa de salida de 10 neuronas con softmax\n",
        "model.add(Dense(10, activation='softmax'))"
      ],
      "execution_count": 107,
      "outputs": []
    },
    {
      "cell_type": "markdown",
      "metadata": {
        "id": "2sQvS9bp9X32"
      },
      "source": [
        "# Compilación del modelo de Deep Learning (Red Convolucional + Red Neuronal)"
      ]
    },
    {
      "cell_type": "code",
      "metadata": {
        "id": "ed1m1oHR9YoE"
      },
      "source": [
        "#Compilamos\n",
        "model.compile(loss='categorical_crossentropy', optimizer='rmsprop', metrics=['accuracy'])"
      ],
      "execution_count": 108,
      "outputs": []
    },
    {
      "cell_type": "markdown",
      "metadata": {
        "id": "z79DskVe9cIH"
      },
      "source": [
        "# Entrenamiento del modelo"
      ]
    },
    {
      "cell_type": "code",
      "metadata": {
        "colab": {
          "base_uri": "https://localhost:8080/"
        },
        "id": "3R7OpZhr9btb",
        "outputId": "ba0888e2-74ef-45ab-c47d-d7687a20fc42"
      },
      "source": [
        "#AL ejecutarlo, notamos que se entrena muy lento\n",
        "#Esto se debe a la gran cantidad de información que se está procesando, matricialmente cada imagen es de 28x28, \n",
        "model.fit(x_tensor_train_scale, y_train_categorico, batch_size=128, epochs=2, verbose=1, validation_split=0.3)"
      ],
      "execution_count": 109,
      "outputs": [
        {
          "output_type": "stream",
          "name": "stdout",
          "text": [
            "Epoch 1/2\n",
            "274/274 [==============================] - 19s 64ms/step - loss: 5.9262 - accuracy: 0.2610 - val_loss: 3.0004 - val_accuracy: 0.1865\n",
            "Epoch 2/2\n",
            "274/274 [==============================] - 17s 62ms/step - loss: 1.8633 - accuracy: 0.3660 - val_loss: 1.8293 - val_accuracy: 0.3729\n"
          ]
        },
        {
          "output_type": "execute_result",
          "data": {
            "text/plain": [
              "<keras.callbacks.History at 0x7f056a9a88d0>"
            ]
          },
          "metadata": {},
          "execution_count": 109
        }
      ]
    },
    {
      "cell_type": "markdown",
      "metadata": {
        "id": "aqWA2eAp9j_7"
      },
      "source": [
        "# Evaluación del modelo"
      ]
    },
    {
      "cell_type": "code",
      "metadata": {
        "colab": {
          "base_uri": "https://localhost:8080/"
        },
        "id": "IY_4AKKm9mNx",
        "outputId": "000138f0-1533-43dd-961a-5fc9d12bf121"
      },
      "source": [
        "#Evaluamos el modelo\n",
        "#Notamos que está acertando en el 97% de los casos\n",
        "model.evaluate(x_tensor_test_scale, y_test_categorico)"
      ],
      "execution_count": 110,
      "outputs": [
        {
          "output_type": "stream",
          "name": "stdout",
          "text": [
            "313/313 [==============================] - 3s 8ms/step - loss: 1.8361 - accuracy: 0.3637\n"
          ]
        },
        {
          "output_type": "execute_result",
          "data": {
            "text/plain": [
              "[1.8361461162567139, 0.3637000024318695]"
            ]
          },
          "metadata": {},
          "execution_count": 110
        }
      ]
    },
    {
      "cell_type": "markdown",
      "metadata": {
        "id": "PivuGFOk92Z6"
      },
      "source": [
        "# Uso del modelo"
      ]
    },
    {
      "cell_type": "code",
      "metadata": {
        "colab": {
          "base_uri": "https://localhost:8080/"
        },
        "id": "epfajZvr94br",
        "outputId": "4b0ff47d-887d-4856-bc23-33dcc4afcafe"
      },
      "source": [
        "#Leemos las imagenes como tensores\n",
        "tensores = leer_carpeta_de_imagenes_como_tensor('/content/drive/MyDrive/Data/CIFAR10')\n",
        "tensores.shape"
      ],
      "execution_count": 111,
      "outputs": [
        {
          "output_type": "execute_result",
          "data": {
            "text/plain": [
              "(2, 32, 32, 3)"
            ]
          },
          "metadata": {},
          "execution_count": 111
        }
      ]
    },
    {
      "cell_type": "code",
      "metadata": {
        "colab": {
          "base_uri": "https://localhost:8080/"
        },
        "id": "lKIAkKv-97Hp",
        "outputId": "ee1db9b9-2bf0-4c3f-88ff-4c8b2e28cc06"
      },
      "source": [
        "#Usamos el modelo para predecir\n",
        "predicciones_labels = model.predict(tensores)\n",
        "predicciones_labels"
      ],
      "execution_count": 112,
      "outputs": [
        {
          "output_type": "execute_result",
          "data": {
            "text/plain": [
              "array([[0., 0., 0., 0., 0., 0., 0., 0., 1., 0.],\n",
              "       [0., 0., 0., 1., 0., 0., 0., 0., 0., 0.]], dtype=float32)"
            ]
          },
          "metadata": {},
          "execution_count": 112
        }
      ]
    },
    {
      "cell_type": "code",
      "metadata": {
        "colab": {
          "base_uri": "https://localhost:8080/"
        },
        "id": "Z6FOFRSf98KE",
        "outputId": "e682c573-6f0a-4e81-ad75-ce129dac302a"
      },
      "source": [
        "#Obtenemos el índice del array de predicciones para saber a qué categoría pertenece\n",
        "predicciones = predicciones_labels.argmax(axis = 1)\n",
        "predicciones"
      ],
      "execution_count": 113,
      "outputs": [
        {
          "output_type": "execute_result",
          "data": {
            "text/plain": [
              "array([8, 3])"
            ]
          },
          "metadata": {},
          "execution_count": 113
        }
      ]
    },
    {
      "cell_type": "code",
      "metadata": {
        "colab": {
          "base_uri": "https://localhost:8080/"
        },
        "id": "5dzN2ZZKB1Km",
        "outputId": "1b5faeca-cd0c-4ac2-d7e8-4136fb231c57"
      },
      "source": [
        "#En el dataset cifar, las categorias estan etiquetadas de la siguiente manera\n",
        "metadata = [\n",
        "  'airplane',\n",
        "  'automobile',\n",
        "  'bird',\n",
        "  'cat',\n",
        "  'deer',\n",
        "  'dog',\n",
        "  'frog',\n",
        "  'horse',\n",
        "  'ship',\n",
        "  'truck',\n",
        "]\n",
        "\n",
        "metadata"
      ],
      "execution_count": 114,
      "outputs": [
        {
          "output_type": "execute_result",
          "data": {
            "text/plain": [
              "['airplane',\n",
              " 'automobile',\n",
              " 'bird',\n",
              " 'cat',\n",
              " 'deer',\n",
              " 'dog',\n",
              " 'frog',\n",
              " 'horse',\n",
              " 'ship',\n",
              " 'truck']"
            ]
          },
          "metadata": {},
          "execution_count": 114
        }
      ]
    },
    {
      "cell_type": "code",
      "metadata": {
        "colab": {
          "base_uri": "https://localhost:8080/"
        },
        "id": "Q2UrHyr9CB3v",
        "outputId": "8acebca6-9f41-48cf-b400-14f35a8675d3"
      },
      "source": [
        "#Iteramos las predicciones para ver las categorias\n",
        "for prediccion in predicciones:\n",
        "  print(metadata[prediccion])"
      ],
      "execution_count": 115,
      "outputs": [
        {
          "output_type": "stream",
          "name": "stdout",
          "text": [
            "ship\n",
            "cat\n"
          ]
        }
      ]
    }
  ]
}