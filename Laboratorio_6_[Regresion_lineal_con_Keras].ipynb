{
  "nbformat": 4,
  "nbformat_minor": 0,
  "metadata": {
    "colab": {
      "name": "Laboratorio 6 [Regresion lineal con Keras].ipynb",
      "provenance": [],
      "collapsed_sections": []
    },
    "kernelspec": {
      "name": "python3",
      "display_name": "Python 3"
    },
    "language_info": {
      "name": "python"
    }
  },
  "cells": [
    {
      "cell_type": "markdown",
      "metadata": {
        "id": "L4BMTvBYxIH-"
      },
      "source": [
        "En el laboratorio anterior vimos como manualmente probando diferentes valores de \"w\" y \"b\" podríamos encontrar una recta que modele bien una realidad\n",
        "\n",
        "Sin embargo no es necesario que realicemos una implementación desde cero del algoritmo, podemos usar un framework que lo implemente, como Tensorflow\n",
        "\n",
        "Tensorflow tiene muchos algoritmos implementados, y funciona sobre entornos de Big Data, el problema es que tiene una sintaxis compleja\n",
        "\n",
        "Usemos entonces un frameowork fachada que simplifique la programación: Keras\n",
        "\n",
        "La ventaja de Keras es que el código que implementamos puede ser traducido a diferentes motores de Machine Learning, en este ejemplo haremos la traducción a Tensorflow"
      ]
    },
    {
      "cell_type": "markdown",
      "metadata": {
        "id": "uk-PCnFdxb8J"
      },
      "source": [
        "# Librerias"
      ]
    },
    {
      "cell_type": "code",
      "metadata": {
        "id": "vmhrC2UzxZ3m"
      },
      "source": [
        "%matplotlib inline\n",
        "import pandas as pd\n",
        "import numpy as np\n",
        "import matplotlib.pyplot as plt\n",
        "from sklearn.model_selection import train_test_split"
      ],
      "execution_count": 24,
      "outputs": []
    },
    {
      "cell_type": "code",
      "metadata": {
        "id": "jVJUlsUXxeEy"
      },
      "source": [
        "#Importamos el objeto \"Sequential\", que nos permitirá agregarle una serie de configuraciones a nuestro modelo\n",
        "from keras.models import Sequential\n",
        "\n",
        "#El objeto Dense nos permite definir una configuración del modelo\n",
        "from keras.layers import Dense\n",
        "\n",
        "#Importamos los optimizadores, son los objetos que nos ayudan a buscar los mejores valores para el modelo (\"w\", y \"b\")\n",
        "from tensorflow.keras.optimizers import Adam, SGD"
      ],
      "execution_count": 25,
      "outputs": []
    },
    {
      "cell_type": "markdown",
      "metadata": {
        "id": "RhvS2uwBzlss"
      },
      "source": [
        "# Conexión a repositorio de datos"
      ]
    },
    {
      "cell_type": "code",
      "metadata": {
        "colab": {
          "base_uri": "https://localhost:8080/"
        },
        "id": "njh8RAcFzmDF",
        "outputId": "6dca3f83-689b-483a-f13c-9f9006e226f8"
      },
      "source": [
        "from google.colab import drive\n",
        "drive.mount('/content/drive')"
      ],
      "execution_count": 26,
      "outputs": [
        {
          "output_type": "stream",
          "name": "stdout",
          "text": [
            "Drive already mounted at /content/drive; to attempt to forcibly remount, call drive.mount(\"/content/drive\", force_remount=True).\n"
          ]
        }
      ]
    },
    {
      "cell_type": "markdown",
      "metadata": {
        "id": "-yvsx5fuxh12"
      },
      "source": [
        "# Lectura de datos"
      ]
    },
    {
      "cell_type": "code",
      "metadata": {
        "colab": {
          "base_uri": "https://localhost:8080/",
          "height": 419
        },
        "id": "beH2zCm9rf20",
        "outputId": "8f363183-12ce-4ecc-a38b-4d8431e96d18"
      },
      "source": [
        "#Leemos los datos de las estaruras de las personas según sus pesos\n",
        "df = pd.read_csv('/content/drive/MyDrive/Data/weight-height.csv')\n",
        "df"
      ],
      "execution_count": 27,
      "outputs": [
        {
          "output_type": "execute_result",
          "data": {
            "text/html": [
              "<div>\n",
              "<style scoped>\n",
              "    .dataframe tbody tr th:only-of-type {\n",
              "        vertical-align: middle;\n",
              "    }\n",
              "\n",
              "    .dataframe tbody tr th {\n",
              "        vertical-align: top;\n",
              "    }\n",
              "\n",
              "    .dataframe thead th {\n",
              "        text-align: right;\n",
              "    }\n",
              "</style>\n",
              "<table border=\"1\" class=\"dataframe\">\n",
              "  <thead>\n",
              "    <tr style=\"text-align: right;\">\n",
              "      <th></th>\n",
              "      <th>Gender</th>\n",
              "      <th>Height</th>\n",
              "      <th>Weight</th>\n",
              "    </tr>\n",
              "  </thead>\n",
              "  <tbody>\n",
              "    <tr>\n",
              "      <th>0</th>\n",
              "      <td>Male</td>\n",
              "      <td>73.847017</td>\n",
              "      <td>241.893563</td>\n",
              "    </tr>\n",
              "    <tr>\n",
              "      <th>1</th>\n",
              "      <td>Male</td>\n",
              "      <td>68.781904</td>\n",
              "      <td>162.310473</td>\n",
              "    </tr>\n",
              "    <tr>\n",
              "      <th>2</th>\n",
              "      <td>Male</td>\n",
              "      <td>74.110105</td>\n",
              "      <td>212.740856</td>\n",
              "    </tr>\n",
              "    <tr>\n",
              "      <th>3</th>\n",
              "      <td>Male</td>\n",
              "      <td>71.730978</td>\n",
              "      <td>220.042470</td>\n",
              "    </tr>\n",
              "    <tr>\n",
              "      <th>4</th>\n",
              "      <td>Male</td>\n",
              "      <td>69.881796</td>\n",
              "      <td>206.349801</td>\n",
              "    </tr>\n",
              "    <tr>\n",
              "      <th>...</th>\n",
              "      <td>...</td>\n",
              "      <td>...</td>\n",
              "      <td>...</td>\n",
              "    </tr>\n",
              "    <tr>\n",
              "      <th>9995</th>\n",
              "      <td>Female</td>\n",
              "      <td>66.172652</td>\n",
              "      <td>136.777454</td>\n",
              "    </tr>\n",
              "    <tr>\n",
              "      <th>9996</th>\n",
              "      <td>Female</td>\n",
              "      <td>67.067155</td>\n",
              "      <td>170.867906</td>\n",
              "    </tr>\n",
              "    <tr>\n",
              "      <th>9997</th>\n",
              "      <td>Female</td>\n",
              "      <td>63.867992</td>\n",
              "      <td>128.475319</td>\n",
              "    </tr>\n",
              "    <tr>\n",
              "      <th>9998</th>\n",
              "      <td>Female</td>\n",
              "      <td>69.034243</td>\n",
              "      <td>163.852461</td>\n",
              "    </tr>\n",
              "    <tr>\n",
              "      <th>9999</th>\n",
              "      <td>Female</td>\n",
              "      <td>61.944246</td>\n",
              "      <td>113.649103</td>\n",
              "    </tr>\n",
              "  </tbody>\n",
              "</table>\n",
              "<p>10000 rows × 3 columns</p>\n",
              "</div>"
            ],
            "text/plain": [
              "      Gender     Height      Weight\n",
              "0       Male  73.847017  241.893563\n",
              "1       Male  68.781904  162.310473\n",
              "2       Male  74.110105  212.740856\n",
              "3       Male  71.730978  220.042470\n",
              "4       Male  69.881796  206.349801\n",
              "...      ...        ...         ...\n",
              "9995  Female  66.172652  136.777454\n",
              "9996  Female  67.067155  170.867906\n",
              "9997  Female  63.867992  128.475319\n",
              "9998  Female  69.034243  163.852461\n",
              "9999  Female  61.944246  113.649103\n",
              "\n",
              "[10000 rows x 3 columns]"
            ]
          },
          "metadata": {},
          "execution_count": 27
        }
      ]
    },
    {
      "cell_type": "markdown",
      "metadata": {
        "id": "6tFoeKPcxo15"
      },
      "source": [
        "# Definición del modelo"
      ]
    },
    {
      "cell_type": "code",
      "metadata": {
        "id": "8avM2GzXrlfR"
      },
      "source": [
        "#Instaciamos un modelo de machine learning vacío con \"Sequential\"\n",
        "model = Sequential()"
      ],
      "execution_count": 28,
      "outputs": []
    },
    {
      "cell_type": "code",
      "metadata": {
        "id": "FoFumlvcrmmn"
      },
      "source": [
        "#Agregamos una configuración con \"Dense\"\n",
        "#Con el primer parámetro definimos el número de outputs que tiene nuestro modelo (1, el Weight)\n",
        "#Con \"input_shape\" definimos el número de inputs que entra al modelo (1, el Height)\n",
        "model.add(Dense(1, input_shape=(1,)))"
      ],
      "execution_count": 29,
      "outputs": []
    },
    {
      "cell_type": "code",
      "metadata": {
        "colab": {
          "base_uri": "https://localhost:8080/"
        },
        "id": "cs-TDnsornt5",
        "outputId": "708dd1bd-336f-4f34-ab32-2742a25ae565"
      },
      "source": [
        "#Vemos un resumen del modelo\n",
        "#En la columna \"layer\" vemos la configuración, por ahora sólo 1\n",
        "#En la columna \"output\" vemos cuántos salidas tiene el modelo, sólo 1 (el weight)\n",
        "#En la columna \"Param #\" vemos la cantidad de parámetros de entrada y salida (2, 1 de entrada [Height] y 1 de salida [Weight])\n",
        "model.summary()"
      ],
      "execution_count": 30,
      "outputs": [
        {
          "output_type": "stream",
          "name": "stdout",
          "text": [
            "Model: \"sequential_1\"\n",
            "_________________________________________________________________\n",
            "Layer (type)                 Output Shape              Param #   \n",
            "=================================================================\n",
            "dense_1 (Dense)              (None, 1)                 2         \n",
            "=================================================================\n",
            "Total params: 2\n",
            "Trainable params: 2\n",
            "Non-trainable params: 0\n",
            "_________________________________________________________________\n"
          ]
        }
      ]
    },
    {
      "cell_type": "markdown",
      "metadata": {
        "id": "JSItD_ahxuDR"
      },
      "source": [
        "# Compilación del modelo"
      ]
    },
    {
      "cell_type": "code",
      "metadata": {
        "id": "hqPFbf8Fro_o",
        "colab": {
          "base_uri": "https://localhost:8080/"
        },
        "outputId": "1a16ad35-1f67-4efc-d0b2-749ea04394c1"
      },
      "source": [
        "#Compilamos el modelo con Keras\n",
        "#Recordemos que \"Keras\" nos da la sintaxis de alto nivel\n",
        "#La compilación se hará a algún motor de Machine Learning, en este caso a Tensorflow\n",
        "#La ventaja de codificar nuestros modelos con Keras es que nos abstraemos de la tecnología que los ejecuta por detrás\n",
        "#De hecho gracias a esto podemos integrar fácilmente nuestros modelos de Machine Learning a entornos de Big Data y Cloud\n",
        "#Por ahora ignoraremos el primer parámetro\n",
        "#En el segundo parámetro colocamos el tipo de error que queremos usar para nuestros cálculos, usaremos el error cuadrático\n",
        "model.compile(Adam(lr=0.8), 'mean_squared_error')"
      ],
      "execution_count": 31,
      "outputs": [
        {
          "output_type": "stream",
          "name": "stderr",
          "text": [
            "/usr/local/lib/python3.7/dist-packages/keras/optimizer_v2/optimizer_v2.py:356: UserWarning: The `lr` argument is deprecated, use `learning_rate` instead.\n",
            "  \"The `lr` argument is deprecated, use `learning_rate` instead.\")\n"
          ]
        }
      ]
    },
    {
      "cell_type": "markdown",
      "metadata": {
        "id": "E-HmA0Zcxxxp"
      },
      "source": [
        "# Entrenamiento del modelo"
      ]
    },
    {
      "cell_type": "code",
      "metadata": {
        "id": "OZ_WtIzArqWg"
      },
      "source": [
        "#Con el modelo compilado, usaremos el modelo para entrenar nuestra solución\n",
        "\n",
        "#Obtenemos los valores X\n",
        "x = df['Height'].values\n",
        "\n",
        "#Obtenemos los valores Y\n",
        "y_real = df['Weight'].values"
      ],
      "execution_count": 32,
      "outputs": []
    },
    {
      "cell_type": "code",
      "metadata": {
        "colab": {
          "base_uri": "https://localhost:8080/"
        },
        "id": "FwLCbZVMrrbf",
        "outputId": "f0491eba-0275-49f6-c448-4fc444228480"
      },
      "source": [
        "#Entrenamos el modelo para que encuentre la mejor recta\n",
        "#Definiremos 40 iteraciones (epochs=40)\n",
        "#Notemos como en cada iteración el error (loss) disminuye\n",
        "model.fit(x, y_real, epochs=40)"
      ],
      "execution_count": 16,
      "outputs": [
        {
          "output_type": "stream",
          "name": "stdout",
          "text": [
            "Epoch 1/40\n",
            "313/313 [==============================] - 1s 1ms/step - loss: 1287.0601\n",
            "Epoch 2/40\n",
            "313/313 [==============================] - 0s 1ms/step - loss: 561.6902\n",
            "Epoch 3/40\n",
            "313/313 [==============================] - 0s 1ms/step - loss: 533.4579\n",
            "Epoch 4/40\n",
            "313/313 [==============================] - 0s 1ms/step - loss: 494.2726\n",
            "Epoch 5/40\n",
            "313/313 [==============================] - 0s 1ms/step - loss: 465.3591\n",
            "Epoch 6/40\n",
            "313/313 [==============================] - 0s 1ms/step - loss: 410.1791\n",
            "Epoch 7/40\n",
            "313/313 [==============================] - 0s 1ms/step - loss: 388.6223\n",
            "Epoch 8/40\n",
            "313/313 [==============================] - 0s 1ms/step - loss: 363.8864\n",
            "Epoch 9/40\n",
            "313/313 [==============================] - 0s 1ms/step - loss: 314.7358\n",
            "Epoch 10/40\n",
            "313/313 [==============================] - 0s 1ms/step - loss: 277.3217\n",
            "Epoch 11/40\n",
            "313/313 [==============================] - 0s 1ms/step - loss: 286.0679\n",
            "Epoch 12/40\n",
            "313/313 [==============================] - 0s 1ms/step - loss: 246.9991\n",
            "Epoch 13/40\n",
            "313/313 [==============================] - 0s 1ms/step - loss: 238.0199\n",
            "Epoch 14/40\n",
            "313/313 [==============================] - 0s 1ms/step - loss: 216.6557\n",
            "Epoch 15/40\n",
            "313/313 [==============================] - 0s 1ms/step - loss: 221.1456\n",
            "Epoch 16/40\n",
            "313/313 [==============================] - 0s 1ms/step - loss: 198.9144\n",
            "Epoch 17/40\n",
            "313/313 [==============================] - 0s 1ms/step - loss: 191.5645\n",
            "Epoch 18/40\n",
            "313/313 [==============================] - 0s 1ms/step - loss: 189.8820\n",
            "Epoch 19/40\n",
            "313/313 [==============================] - 0s 1ms/step - loss: 188.6893\n",
            "Epoch 20/40\n",
            "313/313 [==============================] - 0s 1ms/step - loss: 189.4005\n",
            "Epoch 21/40\n",
            "313/313 [==============================] - 0s 1ms/step - loss: 186.2680\n",
            "Epoch 22/40\n",
            "313/313 [==============================] - 0s 1ms/step - loss: 189.1635\n",
            "Epoch 23/40\n",
            "313/313 [==============================] - 0s 1ms/step - loss: 187.7088\n",
            "Epoch 24/40\n",
            "313/313 [==============================] - 0s 1ms/step - loss: 176.3399\n",
            "Epoch 25/40\n",
            "313/313 [==============================] - 0s 1ms/step - loss: 174.3372\n",
            "Epoch 26/40\n",
            "313/313 [==============================] - 0s 1ms/step - loss: 173.4562\n",
            "Epoch 27/40\n",
            "313/313 [==============================] - 0s 1ms/step - loss: 184.8318\n",
            "Epoch 28/40\n",
            "313/313 [==============================] - 0s 1ms/step - loss: 172.4440\n",
            "Epoch 29/40\n",
            "313/313 [==============================] - 0s 1ms/step - loss: 181.2014\n",
            "Epoch 30/40\n",
            "313/313 [==============================] - 0s 1ms/step - loss: 180.5025\n",
            "Epoch 31/40\n",
            "313/313 [==============================] - 0s 1ms/step - loss: 187.0045\n",
            "Epoch 32/40\n",
            "313/313 [==============================] - 0s 1ms/step - loss: 170.8708\n",
            "Epoch 33/40\n",
            "313/313 [==============================] - 0s 1ms/step - loss: 187.0810\n",
            "Epoch 34/40\n",
            "313/313 [==============================] - 0s 1ms/step - loss: 177.8224\n",
            "Epoch 35/40\n",
            "313/313 [==============================] - 0s 1ms/step - loss: 170.6776\n",
            "Epoch 36/40\n",
            "313/313 [==============================] - 0s 1ms/step - loss: 181.0535\n",
            "Epoch 37/40\n",
            "313/313 [==============================] - 0s 1ms/step - loss: 192.9506\n",
            "Epoch 38/40\n",
            "313/313 [==============================] - 0s 1ms/step - loss: 180.9422\n",
            "Epoch 39/40\n",
            "313/313 [==============================] - 0s 1ms/step - loss: 163.9362\n",
            "Epoch 40/40\n",
            "313/313 [==============================] - 0s 1ms/step - loss: 190.6405\n"
          ]
        },
        {
          "output_type": "execute_result",
          "data": {
            "text/plain": [
              "<keras.callbacks.History at 0x7f6ba0e3b510>"
            ]
          },
          "metadata": {},
          "execution_count": 16
        }
      ]
    },
    {
      "cell_type": "markdown",
      "metadata": {
        "id": "RdiFWMcOx4bh"
      },
      "source": [
        "# Uso del modelo"
      ]
    },
    {
      "cell_type": "code",
      "metadata": {
        "colab": {
          "base_uri": "https://localhost:8080/"
        },
        "id": "wmehUbsLrvbI",
        "outputId": "f6f8190f-4635-4dd8-ac2b-016a22f2472d"
      },
      "source": [
        "#Ahora que tenemos el modelo entrenado, vamos a usarlo para predecir los Y\n",
        "y_prediccion = model.predict(x)\n",
        "y_prediccion"
      ],
      "execution_count": 17,
      "outputs": [
        {
          "output_type": "execute_result",
          "data": {
            "text/plain": [
              "array([[221.78735],\n",
              "       [182.75323],\n",
              "       [223.81482],\n",
              "       ...,\n",
              "       [144.88431],\n",
              "       [184.69781],\n",
              "       [130.05899]], dtype=float32)"
            ]
          },
          "metadata": {},
          "execution_count": 17
        }
      ]
    },
    {
      "cell_type": "markdown",
      "metadata": {
        "id": "Xiyo2Md8zVyK"
      },
      "source": [
        "# Gráfico del modelo solución"
      ]
    },
    {
      "cell_type": "code",
      "metadata": {
        "colab": {
          "base_uri": "https://localhost:8080/",
          "height": 282
        },
        "id": "BztfvM0lrw2g",
        "outputId": "f0542552-e0fb-4b5f-9c4e-bfe3c53421a8"
      },
      "source": [
        "%matplotlib inline\n",
        "import matplotlib.pyplot as plt\n",
        "\n",
        "#Dibujamos el gráfico de los puntos reales\n",
        "plt.plot(x, y_real, '.')\n",
        "\n",
        "#Dibujamos la recta obtenida por el modelo\n",
        "plt.plot(x, y_prediccion, color='red', linewidth=3)"
      ],
      "execution_count": 18,
      "outputs": [
        {
          "output_type": "execute_result",
          "data": {
            "text/plain": [
              "[<matplotlib.lines.Line2D at 0x7f6ba41b47d0>]"
            ]
          },
          "metadata": {},
          "execution_count": 18
        },
        {
          "output_type": "display_data",
          "data": {
            "image/png": "[encoded data removed]",
            "text/plain": [
              "<Figure size 432x288 with 1 Axes>"
            ]
          },
          "metadata": {
            "needs_background": "light"
          }
        }
      ]
    },
    {
      "cell_type": "code",
      "metadata": {
        "id": "3pArOqlzrzm_"
      },
      "source": [
        "#Obtenemos los valores de \"w\" y \"b\" que el modelo encontró\n",
        "w, b = model.get_weights()"
      ],
      "execution_count": 19,
      "outputs": []
    },
    {
      "cell_type": "code",
      "metadata": {
        "colab": {
          "base_uri": "https://localhost:8080/"
        },
        "id": "sf_esPGtr09T",
        "outputId": "44025ab4-432a-4914-bb1e-d77a271dcf0a"
      },
      "source": [
        "#Vemos el valor de \"w\"\n",
        "w"
      ],
      "execution_count": 20,
      "outputs": [
        {
          "output_type": "execute_result",
          "data": {
            "text/plain": [
              "array([[7.7064686]], dtype=float32)"
            ]
          },
          "metadata": {},
          "execution_count": 20
        }
      ]
    },
    {
      "cell_type": "code",
      "metadata": {
        "colab": {
          "base_uri": "https://localhost:8080/"
        },
        "id": "00KDx1iZr1_4",
        "outputId": "b0b43f04-9fd7-423f-b827-fdbf406ebb11"
      },
      "source": [
        "#Vemos el valor de \"b\"\n",
        "b"
      ],
      "execution_count": 21,
      "outputs": [
        {
          "output_type": "execute_result",
          "data": {
            "text/plain": [
              "array([-347.31238], dtype=float32)"
            ]
          },
          "metadata": {},
          "execution_count": 21
        }
      ]
    },
    {
      "cell_type": "code",
      "metadata": {
        "id": "ULIQc8ncr3dk"
      },
      "source": [
        "#Utilizaremos una métrica llamada r2, que nos da los porcentajes de precisión\n",
        "from sklearn.metrics import r2_score"
      ],
      "execution_count": 22,
      "outputs": []
    },
    {
      "cell_type": "code",
      "metadata": {
        "colab": {
          "base_uri": "https://localhost:8080/"
        },
        "id": "Hq-_d_BMr4og",
        "outputId": "43cf4066-e5ee-4291-afa1-9d12754a434d"
      },
      "source": [
        "#Esto representa el porcentaje de patrones encontrados\n",
        "r2_score(y_real, y_prediccion)"
      ],
      "execution_count": 23,
      "outputs": [
        {
          "output_type": "execute_result",
          "data": {
            "text/plain": [
              "0.8480651294185608"
            ]
          },
          "metadata": {},
          "execution_count": 23
        }
      ]
    }
  ]
}