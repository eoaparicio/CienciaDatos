{
  "nbformat": 4,
  "nbformat_minor": 0,
  "metadata": {
    "colab": {
      "name": "Laboratorio_40_[Arquetipo_de_Red_Recurrente].ipynb",
      "provenance": []
    },
    "kernelspec": {
      "name": "python3",
      "display_name": "Python 3"
    },
    "language_info": {
      "name": "python"
    }
  },
  "cells": [
    {
      "cell_type": "markdown",
      "metadata": {
        "id": "YvkLtJHcjzii"
      },
      "source": [
        "# Librerías"
      ]
    },
    {
      "cell_type": "code",
      "metadata": {
        "id": "CmaSHGYtj1H4"
      },
      "source": [
        "#Librerías Base\n",
        "%matplotlib inline\n",
        "import matplotlib.pyplot as plt\n",
        "import numpy as np\n",
        "import pandas as pd\n",
        "from google.colab import drive\n",
        "from pandas.tseries.offsets import MonthEnd\n",
        "from sklearn.preprocessing import MinMaxScaler"
      ],
      "execution_count": null,
      "outputs": []
    },
    {
      "cell_type": "code",
      "metadata": {
        "id": "FkTWEsU5kCYk"
      },
      "source": [
        "#Librerías de Métricas\n",
        "from sklearn.model_selection import train_test_split\n",
        "from sklearn.metrics import accuracy_score, confusion_matrix\n",
        "from sklearn.preprocessing import scale"
      ],
      "execution_count": null,
      "outputs": []
    },
    {
      "cell_type": "code",
      "metadata": {
        "id": "tB_nMbrDkD5B"
      },
      "source": [
        "#Librerías de Deep Learning\n",
        "from keras.models import Sequential\n",
        "from keras.layers import Dense\n",
        "from tensorflow.keras.optimizers import SGD, Adam, Adagrad, RMSprop\n",
        "from keras.models import Sequential\n",
        "from keras.layers import LSTM"
      ],
      "execution_count": null,
      "outputs": []
    },
    {
      "cell_type": "markdown",
      "metadata": {
        "id": "SVB098W6ki_K"
      },
      "source": [
        "# Conexión al repositorio de datos"
      ]
    },
    {
      "cell_type": "code",
      "metadata": {
        "colab": {
          "base_uri": "https://localhost:8080/"
        },
        "id": "_BH05eiNklrz",
        "outputId": "bb70e3ff-59c6-48da-d11b-84ff658ca3a3"
      },
      "source": [
        "#Accedemos a Google Drive\n",
        "drive.mount('/content/drive')"
      ],
      "execution_count": null,
      "outputs": [
        {
          "output_type": "stream",
          "name": "stdout",
          "text": [
            "Mounted at /content/drive\n"
          ]
        }
      ]
    },
    {
      "cell_type": "markdown",
      "metadata": {
        "id": "kLrZ7iHTkTMH"
      },
      "source": [
        "# Funciones utilitarias"
      ]
    },
    {
      "cell_type": "code",
      "metadata": {
        "id": "ruxJqSuPkXGL"
      },
      "source": [
        "#Funcion utilitaria\n",
        "def predecir_red_recurrente(cantidad_predicciones, data_sin_escalar, features):\n",
        "  #Aqui colocaremos las predicciones\n",
        "  predicciones = np.zeros(cantidad_predicciones)\n",
        "\n",
        "  #Copiamos los datos a procesar\n",
        "  input = features\n",
        "\n",
        "  #Obtenemos el escalador\n",
        "  sc = MinMaxScaler()\n",
        "  x_scaler = sc.fit_transform(data_sin_escalar)\n",
        "\n",
        "  #Iteramos la cantidad de predicciones solicitadas\n",
        "  for i in range(0, cantidad_predicciones):\n",
        "    #Convertimos en un array numpy\n",
        "    features_numpy = np.array(input)\n",
        "\n",
        "    #Tensorizamos\n",
        "    input_tensor = features_numpy[None, None, :]\n",
        "\n",
        "    #Predecimos\n",
        "    prediccion = model.predict(input_tensor)\n",
        "\n",
        "    #Des-escalamos\n",
        "    prediccion_no_escalada = sc.inverse_transform(prediccion)[0][0]\n",
        "\n",
        "    #Colocamos la prediccion en el array\n",
        "    predicciones[i] = prediccion_no_escalada\n",
        "\n",
        "    #Modificamos vector de features agregando la predicción y eliminando el último elemento\n",
        "    input = [prediccion_no_escalada] + input[:-1]\n",
        "  \n",
        "  #Devolvemos las predicciones\n",
        "  return predicciones"
      ],
      "execution_count": null,
      "outputs": []
    },
    {
      "cell_type": "markdown",
      "metadata": {
        "id": "Ra0w4Wkikab1"
      },
      "source": [
        "# Featuring"
      ]
    },
    {
      "cell_type": "code",
      "metadata": {
        "colab": {
          "base_uri": "https://localhost:8080/",
          "height": 419
        },
        "id": "X5xzvQ_9kcYR",
        "outputId": "b22c0940-807a-4f35-e587-b8a8a829fd74"
      },
      "source": [
        "#Cargaremos un dataset de ventas\n",
        "#Este dataset contiene las ventas mensuales de una cadena de tiendas\n",
        "df = pd.read_csv('/content/drive/MyDrive/Data/ventas.csv')\n",
        "df"
      ],
      "execution_count": null,
      "outputs": [
        {
          "output_type": "execute_result",
          "data": {
            "text/html": [
              "<div>\n",
              "<style scoped>\n",
              "    .dataframe tbody tr th:only-of-type {\n",
              "        vertical-align: middle;\n",
              "    }\n",
              "\n",
              "    .dataframe tbody tr th {\n",
              "        vertical-align: top;\n",
              "    }\n",
              "\n",
              "    .dataframe thead th {\n",
              "        text-align: right;\n",
              "    }\n",
              "</style>\n",
              "<table border=\"1\" class=\"dataframe\">\n",
              "  <thead>\n",
              "    <tr style=\"text-align: right;\">\n",
              "      <th></th>\n",
              "      <th>Adjustments</th>\n",
              "      <th>Unadjusted</th>\n",
              "      <th>Seasonally adjusted</th>\n",
              "    </tr>\n",
              "  </thead>\n",
              "  <tbody>\n",
              "    <tr>\n",
              "      <th>0</th>\n",
              "      <td>Jan-1991</td>\n",
              "      <td>12588862</td>\n",
              "      <td>15026890</td>\n",
              "    </tr>\n",
              "    <tr>\n",
              "      <th>1</th>\n",
              "      <td>Feb-1991</td>\n",
              "      <td>12154321</td>\n",
              "      <td>15304585</td>\n",
              "    </tr>\n",
              "    <tr>\n",
              "      <th>2</th>\n",
              "      <td>Mar-1991</td>\n",
              "      <td>14337072</td>\n",
              "      <td>15413591</td>\n",
              "    </tr>\n",
              "    <tr>\n",
              "      <th>3</th>\n",
              "      <td>Apr-1991</td>\n",
              "      <td>15108570</td>\n",
              "      <td>15293409</td>\n",
              "    </tr>\n",
              "    <tr>\n",
              "      <th>4</th>\n",
              "      <td>May-1991</td>\n",
              "      <td>17225734</td>\n",
              "      <td>15676083</td>\n",
              "    </tr>\n",
              "    <tr>\n",
              "      <th>...</th>\n",
              "      <td>...</td>\n",
              "      <td>...</td>\n",
              "      <td>...</td>\n",
              "    </tr>\n",
              "    <tr>\n",
              "      <th>308</th>\n",
              "      <td>Sep-2016</td>\n",
              "      <td>45528702</td>\n",
              "      <td>44534797</td>\n",
              "    </tr>\n",
              "    <tr>\n",
              "      <th>309</th>\n",
              "      <td>Oct-2016</td>\n",
              "      <td>44770113</td>\n",
              "      <td>45061618</td>\n",
              "    </tr>\n",
              "    <tr>\n",
              "      <th>310</th>\n",
              "      <td>Nov-2016</td>\n",
              "      <td>46285062</td>\n",
              "      <td>45141762</td>\n",
              "    </tr>\n",
              "    <tr>\n",
              "      <th>311</th>\n",
              "      <td>Dec-2016</td>\n",
              "      <td>50016137</td>\n",
              "      <td>44943929</td>\n",
              "    </tr>\n",
              "    <tr>\n",
              "      <th>312</th>\n",
              "      <td>Jan-2017</td>\n",
              "      <td>37628452</td>\n",
              "      <td>45952103</td>\n",
              "    </tr>\n",
              "  </tbody>\n",
              "</table>\n",
              "<p>313 rows × 3 columns</p>\n",
              "</div>"
            ],
            "text/plain": [
              "    Adjustments  Unadjusted  Seasonally adjusted\n",
              "0      Jan-1991    12588862             15026890\n",
              "1      Feb-1991    12154321             15304585\n",
              "2      Mar-1991    14337072             15413591\n",
              "3      Apr-1991    15108570             15293409\n",
              "4      May-1991    17225734             15676083\n",
              "..          ...         ...                  ...\n",
              "308    Sep-2016    45528702             44534797\n",
              "309    Oct-2016    44770113             45061618\n",
              "310    Nov-2016    46285062             45141762\n",
              "311    Dec-2016    50016137             44943929\n",
              "312    Jan-2017    37628452             45952103\n",
              "\n",
              "[313 rows x 3 columns]"
            ]
          },
          "metadata": {},
          "execution_count": 9
        }
      ]
    },
    {
      "cell_type": "code",
      "metadata": {
        "colab": {
          "base_uri": "https://localhost:8080/",
          "height": 419
        },
        "id": "pzWj_-UBkSj_",
        "outputId": "467d59d4-e055-4864-a373-2dc4d0303a41"
      },
      "source": [
        "#Vamos a cambiar los nombres de los campos por nombres más intuitivos\n",
        "df1 = df.rename(columns = {\n",
        "  'Adjustments': 'Mes', \n",
        "  'Unadjusted': 'Monto', \n",
        "  'Seasonally adjusted': 'Monto_Aprox'\n",
        "})\n",
        "\n",
        "df1"
      ],
      "execution_count": null,
      "outputs": [
        {
          "output_type": "execute_result",
          "data": {
            "text/html": [
              "<div>\n",
              "<style scoped>\n",
              "    .dataframe tbody tr th:only-of-type {\n",
              "        vertical-align: middle;\n",
              "    }\n",
              "\n",
              "    .dataframe tbody tr th {\n",
              "        vertical-align: top;\n",
              "    }\n",
              "\n",
              "    .dataframe thead th {\n",
              "        text-align: right;\n",
              "    }\n",
              "</style>\n",
              "<table border=\"1\" class=\"dataframe\">\n",
              "  <thead>\n",
              "    <tr style=\"text-align: right;\">\n",
              "      <th></th>\n",
              "      <th>Mes</th>\n",
              "      <th>Monto</th>\n",
              "      <th>Monto_Aprox</th>\n",
              "    </tr>\n",
              "  </thead>\n",
              "  <tbody>\n",
              "    <tr>\n",
              "      <th>0</th>\n",
              "      <td>Jan-1991</td>\n",
              "      <td>12588862</td>\n",
              "      <td>15026890</td>\n",
              "    </tr>\n",
              "    <tr>\n",
              "      <th>1</th>\n",
              "      <td>Feb-1991</td>\n",
              "      <td>12154321</td>\n",
              "      <td>15304585</td>\n",
              "    </tr>\n",
              "    <tr>\n",
              "      <th>2</th>\n",
              "      <td>Mar-1991</td>\n",
              "      <td>14337072</td>\n",
              "      <td>15413591</td>\n",
              "    </tr>\n",
              "    <tr>\n",
              "      <th>3</th>\n",
              "      <td>Apr-1991</td>\n",
              "      <td>15108570</td>\n",
              "      <td>15293409</td>\n",
              "    </tr>\n",
              "    <tr>\n",
              "      <th>4</th>\n",
              "      <td>May-1991</td>\n",
              "      <td>17225734</td>\n",
              "      <td>15676083</td>\n",
              "    </tr>\n",
              "    <tr>\n",
              "      <th>...</th>\n",
              "      <td>...</td>\n",
              "      <td>...</td>\n",
              "      <td>...</td>\n",
              "    </tr>\n",
              "    <tr>\n",
              "      <th>308</th>\n",
              "      <td>Sep-2016</td>\n",
              "      <td>45528702</td>\n",
              "      <td>44534797</td>\n",
              "    </tr>\n",
              "    <tr>\n",
              "      <th>309</th>\n",
              "      <td>Oct-2016</td>\n",
              "      <td>44770113</td>\n",
              "      <td>45061618</td>\n",
              "    </tr>\n",
              "    <tr>\n",
              "      <th>310</th>\n",
              "      <td>Nov-2016</td>\n",
              "      <td>46285062</td>\n",
              "      <td>45141762</td>\n",
              "    </tr>\n",
              "    <tr>\n",
              "      <th>311</th>\n",
              "      <td>Dec-2016</td>\n",
              "      <td>50016137</td>\n",
              "      <td>44943929</td>\n",
              "    </tr>\n",
              "    <tr>\n",
              "      <th>312</th>\n",
              "      <td>Jan-2017</td>\n",
              "      <td>37628452</td>\n",
              "      <td>45952103</td>\n",
              "    </tr>\n",
              "  </tbody>\n",
              "</table>\n",
              "<p>313 rows × 3 columns</p>\n",
              "</div>"
            ],
            "text/plain": [
              "          Mes     Monto  Monto_Aprox\n",
              "0    Jan-1991  12588862     15026890\n",
              "1    Feb-1991  12154321     15304585\n",
              "2    Mar-1991  14337072     15413591\n",
              "3    Apr-1991  15108570     15293409\n",
              "4    May-1991  17225734     15676083\n",
              "..        ...       ...          ...\n",
              "308  Sep-2016  45528702     44534797\n",
              "309  Oct-2016  44770113     45061618\n",
              "310  Nov-2016  46285062     45141762\n",
              "311  Dec-2016  50016137     44943929\n",
              "312  Jan-2017  37628452     45952103\n",
              "\n",
              "[313 rows x 3 columns]"
            ]
          },
          "metadata": {},
          "execution_count": 10
        }
      ]
    },
    {
      "cell_type": "code",
      "metadata": {
        "colab": {
          "base_uri": "https://localhost:8080/",
          "height": 419
        },
        "id": "SRB28ee_kqO6",
        "outputId": "f3ac5e44-8a87-49ef-fffa-e76767fcfb5a"
      },
      "source": [
        "#Vamos a seleccionar los campos que nos interesan\n",
        "df2 = df1[['Mes', 'Monto']]\n",
        "df2"
      ],
      "execution_count": null,
      "outputs": [
        {
          "output_type": "execute_result",
          "data": {
            "text/html": [
              "<div>\n",
              "<style scoped>\n",
              "    .dataframe tbody tr th:only-of-type {\n",
              "        vertical-align: middle;\n",
              "    }\n",
              "\n",
              "    .dataframe tbody tr th {\n",
              "        vertical-align: top;\n",
              "    }\n",
              "\n",
              "    .dataframe thead th {\n",
              "        text-align: right;\n",
              "    }\n",
              "</style>\n",
              "<table border=\"1\" class=\"dataframe\">\n",
              "  <thead>\n",
              "    <tr style=\"text-align: right;\">\n",
              "      <th></th>\n",
              "      <th>Mes</th>\n",
              "      <th>Monto</th>\n",
              "    </tr>\n",
              "  </thead>\n",
              "  <tbody>\n",
              "    <tr>\n",
              "      <th>0</th>\n",
              "      <td>Jan-1991</td>\n",
              "      <td>12588862</td>\n",
              "    </tr>\n",
              "    <tr>\n",
              "      <th>1</th>\n",
              "      <td>Feb-1991</td>\n",
              "      <td>12154321</td>\n",
              "    </tr>\n",
              "    <tr>\n",
              "      <th>2</th>\n",
              "      <td>Mar-1991</td>\n",
              "      <td>14337072</td>\n",
              "    </tr>\n",
              "    <tr>\n",
              "      <th>3</th>\n",
              "      <td>Apr-1991</td>\n",
              "      <td>15108570</td>\n",
              "    </tr>\n",
              "    <tr>\n",
              "      <th>4</th>\n",
              "      <td>May-1991</td>\n",
              "      <td>17225734</td>\n",
              "    </tr>\n",
              "    <tr>\n",
              "      <th>...</th>\n",
              "      <td>...</td>\n",
              "      <td>...</td>\n",
              "    </tr>\n",
              "    <tr>\n",
              "      <th>308</th>\n",
              "      <td>Sep-2016</td>\n",
              "      <td>45528702</td>\n",
              "    </tr>\n",
              "    <tr>\n",
              "      <th>309</th>\n",
              "      <td>Oct-2016</td>\n",
              "      <td>44770113</td>\n",
              "    </tr>\n",
              "    <tr>\n",
              "      <th>310</th>\n",
              "      <td>Nov-2016</td>\n",
              "      <td>46285062</td>\n",
              "    </tr>\n",
              "    <tr>\n",
              "      <th>311</th>\n",
              "      <td>Dec-2016</td>\n",
              "      <td>50016137</td>\n",
              "    </tr>\n",
              "    <tr>\n",
              "      <th>312</th>\n",
              "      <td>Jan-2017</td>\n",
              "      <td>37628452</td>\n",
              "    </tr>\n",
              "  </tbody>\n",
              "</table>\n",
              "<p>313 rows × 2 columns</p>\n",
              "</div>"
            ],
            "text/plain": [
              "          Mes     Monto\n",
              "0    Jan-1991  12588862\n",
              "1    Feb-1991  12154321\n",
              "2    Mar-1991  14337072\n",
              "3    Apr-1991  15108570\n",
              "4    May-1991  17225734\n",
              "..        ...       ...\n",
              "308  Sep-2016  45528702\n",
              "309  Oct-2016  44770113\n",
              "310  Nov-2016  46285062\n",
              "311  Dec-2016  50016137\n",
              "312  Jan-2017  37628452\n",
              "\n",
              "[313 rows x 2 columns]"
            ]
          },
          "metadata": {},
          "execution_count": 11
        }
      ]
    },
    {
      "cell_type": "code",
      "metadata": {
        "colab": {
          "base_uri": "https://localhost:8080/",
          "height": 419
        },
        "id": "BNuSxLVAkteN",
        "outputId": "4b55f376-51a0-46b6-9cdc-7e6196bcac8e"
      },
      "source": [
        "#Creamos un nuevo campo llamado \"Fecha\" formateando el campo \"Mes\"\n",
        "df2['Fecha'] = pd.to_datetime(df2['Mes'], format='%b-%Y', errors = 'ignore')\n",
        "df2"
      ],
      "execution_count": null,
      "outputs": [
        {
          "output_type": "execute_result",
          "data": {
            "text/html": [
              "<div>\n",
              "<style scoped>\n",
              "    .dataframe tbody tr th:only-of-type {\n",
              "        vertical-align: middle;\n",
              "    }\n",
              "\n",
              "    .dataframe tbody tr th {\n",
              "        vertical-align: top;\n",
              "    }\n",
              "\n",
              "    .dataframe thead th {\n",
              "        text-align: right;\n",
              "    }\n",
              "</style>\n",
              "<table border=\"1\" class=\"dataframe\">\n",
              "  <thead>\n",
              "    <tr style=\"text-align: right;\">\n",
              "      <th></th>\n",
              "      <th>Mes</th>\n",
              "      <th>Monto</th>\n",
              "      <th>Fecha</th>\n",
              "    </tr>\n",
              "  </thead>\n",
              "  <tbody>\n",
              "    <tr>\n",
              "      <th>0</th>\n",
              "      <td>Jan-1991</td>\n",
              "      <td>12588862</td>\n",
              "      <td>1991-01-01</td>\n",
              "    </tr>\n",
              "    <tr>\n",
              "      <th>1</th>\n",
              "      <td>Feb-1991</td>\n",
              "      <td>12154321</td>\n",
              "      <td>1991-02-01</td>\n",
              "    </tr>\n",
              "    <tr>\n",
              "      <th>2</th>\n",
              "      <td>Mar-1991</td>\n",
              "      <td>14337072</td>\n",
              "      <td>1991-03-01</td>\n",
              "    </tr>\n",
              "    <tr>\n",
              "      <th>3</th>\n",
              "      <td>Apr-1991</td>\n",
              "      <td>15108570</td>\n",
              "      <td>1991-04-01</td>\n",
              "    </tr>\n",
              "    <tr>\n",
              "      <th>4</th>\n",
              "      <td>May-1991</td>\n",
              "      <td>17225734</td>\n",
              "      <td>1991-05-01</td>\n",
              "    </tr>\n",
              "    <tr>\n",
              "      <th>...</th>\n",
              "      <td>...</td>\n",
              "      <td>...</td>\n",
              "      <td>...</td>\n",
              "    </tr>\n",
              "    <tr>\n",
              "      <th>308</th>\n",
              "      <td>Sep-2016</td>\n",
              "      <td>45528702</td>\n",
              "      <td>2016-09-01</td>\n",
              "    </tr>\n",
              "    <tr>\n",
              "      <th>309</th>\n",
              "      <td>Oct-2016</td>\n",
              "      <td>44770113</td>\n",
              "      <td>2016-10-01</td>\n",
              "    </tr>\n",
              "    <tr>\n",
              "      <th>310</th>\n",
              "      <td>Nov-2016</td>\n",
              "      <td>46285062</td>\n",
              "      <td>2016-11-01</td>\n",
              "    </tr>\n",
              "    <tr>\n",
              "      <th>311</th>\n",
              "      <td>Dec-2016</td>\n",
              "      <td>50016137</td>\n",
              "      <td>2016-12-01</td>\n",
              "    </tr>\n",
              "    <tr>\n",
              "      <th>312</th>\n",
              "      <td>Jan-2017</td>\n",
              "      <td>37628452</td>\n",
              "      <td>2017-01-01</td>\n",
              "    </tr>\n",
              "  </tbody>\n",
              "</table>\n",
              "<p>313 rows × 3 columns</p>\n",
              "</div>"
            ],
            "text/plain": [
              "          Mes     Monto      Fecha\n",
              "0    Jan-1991  12588862 1991-01-01\n",
              "1    Feb-1991  12154321 1991-02-01\n",
              "2    Mar-1991  14337072 1991-03-01\n",
              "3    Apr-1991  15108570 1991-04-01\n",
              "4    May-1991  17225734 1991-05-01\n",
              "..        ...       ...        ...\n",
              "308  Sep-2016  45528702 2016-09-01\n",
              "309  Oct-2016  44770113 2016-10-01\n",
              "310  Nov-2016  46285062 2016-11-01\n",
              "311  Dec-2016  50016137 2016-12-01\n",
              "312  Jan-2017  37628452 2017-01-01\n",
              "\n",
              "[313 rows x 3 columns]"
            ]
          },
          "metadata": {},
          "execution_count": 12
        }
      ]
    },
    {
      "cell_type": "code",
      "metadata": {
        "id": "dYCefEOUku_4"
      },
      "source": [
        "#Eliminamos el campo \"Mes\"\n",
        "del df2['Mes']"
      ],
      "execution_count": null,
      "outputs": []
    },
    {
      "cell_type": "code",
      "metadata": {
        "colab": {
          "base_uri": "https://localhost:8080/",
          "height": 419
        },
        "id": "uFHFto6FkxMi",
        "outputId": "fa1b1bd5-dfd3-449d-e53d-45b54aeabfa1"
      },
      "source": [
        "#Si consultamos, solo tenemos dos campos, la fecha (que representa la estacionalidad) y el monto de ventas\n",
        "#También notemos que como ahora el campo \"Fecha\" es un \"date\" le ha agregado el primer día del mes a cada mes\n",
        "df2"
      ],
      "execution_count": null,
      "outputs": [
        {
          "output_type": "execute_result",
          "data": {
            "text/html": [
              "<div>\n",
              "<style scoped>\n",
              "    .dataframe tbody tr th:only-of-type {\n",
              "        vertical-align: middle;\n",
              "    }\n",
              "\n",
              "    .dataframe tbody tr th {\n",
              "        vertical-align: top;\n",
              "    }\n",
              "\n",
              "    .dataframe thead th {\n",
              "        text-align: right;\n",
              "    }\n",
              "</style>\n",
              "<table border=\"1\" class=\"dataframe\">\n",
              "  <thead>\n",
              "    <tr style=\"text-align: right;\">\n",
              "      <th></th>\n",
              "      <th>Monto</th>\n",
              "      <th>Fecha</th>\n",
              "    </tr>\n",
              "  </thead>\n",
              "  <tbody>\n",
              "    <tr>\n",
              "      <th>0</th>\n",
              "      <td>12588862</td>\n",
              "      <td>1991-01-01</td>\n",
              "    </tr>\n",
              "    <tr>\n",
              "      <th>1</th>\n",
              "      <td>12154321</td>\n",
              "      <td>1991-02-01</td>\n",
              "    </tr>\n",
              "    <tr>\n",
              "      <th>2</th>\n",
              "      <td>14337072</td>\n",
              "      <td>1991-03-01</td>\n",
              "    </tr>\n",
              "    <tr>\n",
              "      <th>3</th>\n",
              "      <td>15108570</td>\n",
              "      <td>1991-04-01</td>\n",
              "    </tr>\n",
              "    <tr>\n",
              "      <th>4</th>\n",
              "      <td>17225734</td>\n",
              "      <td>1991-05-01</td>\n",
              "    </tr>\n",
              "    <tr>\n",
              "      <th>...</th>\n",
              "      <td>...</td>\n",
              "      <td>...</td>\n",
              "    </tr>\n",
              "    <tr>\n",
              "      <th>308</th>\n",
              "      <td>45528702</td>\n",
              "      <td>2016-09-01</td>\n",
              "    </tr>\n",
              "    <tr>\n",
              "      <th>309</th>\n",
              "      <td>44770113</td>\n",
              "      <td>2016-10-01</td>\n",
              "    </tr>\n",
              "    <tr>\n",
              "      <th>310</th>\n",
              "      <td>46285062</td>\n",
              "      <td>2016-11-01</td>\n",
              "    </tr>\n",
              "    <tr>\n",
              "      <th>311</th>\n",
              "      <td>50016137</td>\n",
              "      <td>2016-12-01</td>\n",
              "    </tr>\n",
              "    <tr>\n",
              "      <th>312</th>\n",
              "      <td>37628452</td>\n",
              "      <td>2017-01-01</td>\n",
              "    </tr>\n",
              "  </tbody>\n",
              "</table>\n",
              "<p>313 rows × 2 columns</p>\n",
              "</div>"
            ],
            "text/plain": [
              "        Monto      Fecha\n",
              "0    12588862 1991-01-01\n",
              "1    12154321 1991-02-01\n",
              "2    14337072 1991-03-01\n",
              "3    15108570 1991-04-01\n",
              "4    17225734 1991-05-01\n",
              "..        ...        ...\n",
              "308  45528702 2016-09-01\n",
              "309  44770113 2016-10-01\n",
              "310  46285062 2016-11-01\n",
              "311  50016137 2016-12-01\n",
              "312  37628452 2017-01-01\n",
              "\n",
              "[313 rows x 2 columns]"
            ]
          },
          "metadata": {},
          "execution_count": 14
        }
      ]
    },
    {
      "cell_type": "code",
      "metadata": {
        "colab": {
          "base_uri": "https://localhost:8080/",
          "height": 419
        },
        "id": "w3G9lIRLk1Qs",
        "outputId": "31651fda-213c-4f5f-c155-7cd5b76b8838"
      },
      "source": [
        "#Agregamos el último día del mes a todas las fechas\n",
        "df2['Fecha'] = df2['Fecha'] + MonthEnd(1)\n",
        "df2"
      ],
      "execution_count": null,
      "outputs": [
        {
          "output_type": "execute_result",
          "data": {
            "text/html": [
              "<div>\n",
              "<style scoped>\n",
              "    .dataframe tbody tr th:only-of-type {\n",
              "        vertical-align: middle;\n",
              "    }\n",
              "\n",
              "    .dataframe tbody tr th {\n",
              "        vertical-align: top;\n",
              "    }\n",
              "\n",
              "    .dataframe thead th {\n",
              "        text-align: right;\n",
              "    }\n",
              "</style>\n",
              "<table border=\"1\" class=\"dataframe\">\n",
              "  <thead>\n",
              "    <tr style=\"text-align: right;\">\n",
              "      <th></th>\n",
              "      <th>Monto</th>\n",
              "      <th>Fecha</th>\n",
              "    </tr>\n",
              "  </thead>\n",
              "  <tbody>\n",
              "    <tr>\n",
              "      <th>0</th>\n",
              "      <td>12588862</td>\n",
              "      <td>1991-01-31</td>\n",
              "    </tr>\n",
              "    <tr>\n",
              "      <th>1</th>\n",
              "      <td>12154321</td>\n",
              "      <td>1991-02-28</td>\n",
              "    </tr>\n",
              "    <tr>\n",
              "      <th>2</th>\n",
              "      <td>14337072</td>\n",
              "      <td>1991-03-31</td>\n",
              "    </tr>\n",
              "    <tr>\n",
              "      <th>3</th>\n",
              "      <td>15108570</td>\n",
              "      <td>1991-04-30</td>\n",
              "    </tr>\n",
              "    <tr>\n",
              "      <th>4</th>\n",
              "      <td>17225734</td>\n",
              "      <td>1991-05-31</td>\n",
              "    </tr>\n",
              "    <tr>\n",
              "      <th>...</th>\n",
              "      <td>...</td>\n",
              "      <td>...</td>\n",
              "    </tr>\n",
              "    <tr>\n",
              "      <th>308</th>\n",
              "      <td>45528702</td>\n",
              "      <td>2016-09-30</td>\n",
              "    </tr>\n",
              "    <tr>\n",
              "      <th>309</th>\n",
              "      <td>44770113</td>\n",
              "      <td>2016-10-31</td>\n",
              "    </tr>\n",
              "    <tr>\n",
              "      <th>310</th>\n",
              "      <td>46285062</td>\n",
              "      <td>2016-11-30</td>\n",
              "    </tr>\n",
              "    <tr>\n",
              "      <th>311</th>\n",
              "      <td>50016137</td>\n",
              "      <td>2016-12-31</td>\n",
              "    </tr>\n",
              "    <tr>\n",
              "      <th>312</th>\n",
              "      <td>37628452</td>\n",
              "      <td>2017-01-31</td>\n",
              "    </tr>\n",
              "  </tbody>\n",
              "</table>\n",
              "<p>313 rows × 2 columns</p>\n",
              "</div>"
            ],
            "text/plain": [
              "        Monto      Fecha\n",
              "0    12588862 1991-01-31\n",
              "1    12154321 1991-02-28\n",
              "2    14337072 1991-03-31\n",
              "3    15108570 1991-04-30\n",
              "4    17225734 1991-05-31\n",
              "..        ...        ...\n",
              "308  45528702 2016-09-30\n",
              "309  44770113 2016-10-31\n",
              "310  46285062 2016-11-30\n",
              "311  50016137 2016-12-31\n",
              "312  37628452 2017-01-31\n",
              "\n",
              "[313 rows x 2 columns]"
            ]
          },
          "metadata": {},
          "execution_count": 15
        }
      ]
    },
    {
      "cell_type": "code",
      "metadata": {
        "colab": {
          "base_uri": "https://localhost:8080/",
          "height": 419
        },
        "id": "hfpyf_hLk4Ll",
        "outputId": "d059bdaa-0cef-4cb6-f9f7-0ab5fa0610a5"
      },
      "source": [
        "#Ahora ordenamos el dataframe en función del campo fecha, de menor a mayor\n",
        "df3 = df2.sort_values('Fecha')\n",
        "df3"
      ],
      "execution_count": null,
      "outputs": [
        {
          "output_type": "execute_result",
          "data": {
            "text/html": [
              "<div>\n",
              "<style scoped>\n",
              "    .dataframe tbody tr th:only-of-type {\n",
              "        vertical-align: middle;\n",
              "    }\n",
              "\n",
              "    .dataframe tbody tr th {\n",
              "        vertical-align: top;\n",
              "    }\n",
              "\n",
              "    .dataframe thead th {\n",
              "        text-align: right;\n",
              "    }\n",
              "</style>\n",
              "<table border=\"1\" class=\"dataframe\">\n",
              "  <thead>\n",
              "    <tr style=\"text-align: right;\">\n",
              "      <th></th>\n",
              "      <th>Monto</th>\n",
              "      <th>Fecha</th>\n",
              "    </tr>\n",
              "  </thead>\n",
              "  <tbody>\n",
              "    <tr>\n",
              "      <th>0</th>\n",
              "      <td>12588862</td>\n",
              "      <td>1991-01-31</td>\n",
              "    </tr>\n",
              "    <tr>\n",
              "      <th>1</th>\n",
              "      <td>12154321</td>\n",
              "      <td>1991-02-28</td>\n",
              "    </tr>\n",
              "    <tr>\n",
              "      <th>2</th>\n",
              "      <td>14337072</td>\n",
              "      <td>1991-03-31</td>\n",
              "    </tr>\n",
              "    <tr>\n",
              "      <th>3</th>\n",
              "      <td>15108570</td>\n",
              "      <td>1991-04-30</td>\n",
              "    </tr>\n",
              "    <tr>\n",
              "      <th>4</th>\n",
              "      <td>17225734</td>\n",
              "      <td>1991-05-31</td>\n",
              "    </tr>\n",
              "    <tr>\n",
              "      <th>...</th>\n",
              "      <td>...</td>\n",
              "      <td>...</td>\n",
              "    </tr>\n",
              "    <tr>\n",
              "      <th>308</th>\n",
              "      <td>45528702</td>\n",
              "      <td>2016-09-30</td>\n",
              "    </tr>\n",
              "    <tr>\n",
              "      <th>309</th>\n",
              "      <td>44770113</td>\n",
              "      <td>2016-10-31</td>\n",
              "    </tr>\n",
              "    <tr>\n",
              "      <th>310</th>\n",
              "      <td>46285062</td>\n",
              "      <td>2016-11-30</td>\n",
              "    </tr>\n",
              "    <tr>\n",
              "      <th>311</th>\n",
              "      <td>50016137</td>\n",
              "      <td>2016-12-31</td>\n",
              "    </tr>\n",
              "    <tr>\n",
              "      <th>312</th>\n",
              "      <td>37628452</td>\n",
              "      <td>2017-01-31</td>\n",
              "    </tr>\n",
              "  </tbody>\n",
              "</table>\n",
              "<p>313 rows × 2 columns</p>\n",
              "</div>"
            ],
            "text/plain": [
              "        Monto      Fecha\n",
              "0    12588862 1991-01-31\n",
              "1    12154321 1991-02-28\n",
              "2    14337072 1991-03-31\n",
              "3    15108570 1991-04-30\n",
              "4    17225734 1991-05-31\n",
              "..        ...        ...\n",
              "308  45528702 2016-09-30\n",
              "309  44770113 2016-10-31\n",
              "310  46285062 2016-11-30\n",
              "311  50016137 2016-12-31\n",
              "312  37628452 2017-01-31\n",
              "\n",
              "[313 rows x 2 columns]"
            ]
          },
          "metadata": {},
          "execution_count": 16
        }
      ]
    },
    {
      "cell_type": "code",
      "metadata": {
        "colab": {
          "base_uri": "https://localhost:8080/",
          "height": 450
        },
        "id": "W6uifuvhk61r",
        "outputId": "9b30caf4-15d4-47fb-957e-19366f8bb6a8"
      },
      "source": [
        "#Reasignamos al campo fecha como índice del dataframe\n",
        "df3 = df3.set_index('Fecha')\n",
        "df3"
      ],
      "execution_count": null,
      "outputs": [
        {
          "output_type": "execute_result",
          "data": {
            "text/html": [
              "<div>\n",
              "<style scoped>\n",
              "    .dataframe tbody tr th:only-of-type {\n",
              "        vertical-align: middle;\n",
              "    }\n",
              "\n",
              "    .dataframe tbody tr th {\n",
              "        vertical-align: top;\n",
              "    }\n",
              "\n",
              "    .dataframe thead th {\n",
              "        text-align: right;\n",
              "    }\n",
              "</style>\n",
              "<table border=\"1\" class=\"dataframe\">\n",
              "  <thead>\n",
              "    <tr style=\"text-align: right;\">\n",
              "      <th></th>\n",
              "      <th>Monto</th>\n",
              "    </tr>\n",
              "    <tr>\n",
              "      <th>Fecha</th>\n",
              "      <th></th>\n",
              "    </tr>\n",
              "  </thead>\n",
              "  <tbody>\n",
              "    <tr>\n",
              "      <th>1991-01-31</th>\n",
              "      <td>12588862</td>\n",
              "    </tr>\n",
              "    <tr>\n",
              "      <th>1991-02-28</th>\n",
              "      <td>12154321</td>\n",
              "    </tr>\n",
              "    <tr>\n",
              "      <th>1991-03-31</th>\n",
              "      <td>14337072</td>\n",
              "    </tr>\n",
              "    <tr>\n",
              "      <th>1991-04-30</th>\n",
              "      <td>15108570</td>\n",
              "    </tr>\n",
              "    <tr>\n",
              "      <th>1991-05-31</th>\n",
              "      <td>17225734</td>\n",
              "    </tr>\n",
              "    <tr>\n",
              "      <th>...</th>\n",
              "      <td>...</td>\n",
              "    </tr>\n",
              "    <tr>\n",
              "      <th>2016-09-30</th>\n",
              "      <td>45528702</td>\n",
              "    </tr>\n",
              "    <tr>\n",
              "      <th>2016-10-31</th>\n",
              "      <td>44770113</td>\n",
              "    </tr>\n",
              "    <tr>\n",
              "      <th>2016-11-30</th>\n",
              "      <td>46285062</td>\n",
              "    </tr>\n",
              "    <tr>\n",
              "      <th>2016-12-31</th>\n",
              "      <td>50016137</td>\n",
              "    </tr>\n",
              "    <tr>\n",
              "      <th>2017-01-31</th>\n",
              "      <td>37628452</td>\n",
              "    </tr>\n",
              "  </tbody>\n",
              "</table>\n",
              "<p>313 rows × 1 columns</p>\n",
              "</div>"
            ],
            "text/plain": [
              "               Monto\n",
              "Fecha               \n",
              "1991-01-31  12588862\n",
              "1991-02-28  12154321\n",
              "1991-03-31  14337072\n",
              "1991-04-30  15108570\n",
              "1991-05-31  17225734\n",
              "...              ...\n",
              "2016-09-30  45528702\n",
              "2016-10-31  44770113\n",
              "2016-11-30  46285062\n",
              "2016-12-31  50016137\n",
              "2017-01-31  37628452\n",
              "\n",
              "[313 rows x 1 columns]"
            ]
          },
          "metadata": {},
          "execution_count": 17
        }
      ]
    },
    {
      "cell_type": "markdown",
      "metadata": {
        "id": "CelhFejVk9Mc"
      },
      "source": [
        "# División en datos de entrenamiento y validación"
      ]
    },
    {
      "cell_type": "code",
      "metadata": {
        "colab": {
          "base_uri": "https://localhost:8080/"
        },
        "id": "wEzAzKAnk95q",
        "outputId": "b8bb4213-334b-420f-c2af-f4f991ea0ece"
      },
      "source": [
        "#Para realizar el corte, tenemos que tener los datos ordenados e indicar hasta que fecha se usará la data para entrenar\n",
        "#Debemos definir la fecha como un tipo date\n",
        "fecha_entrenar = pd.Timestamp('2011-01-01')\n",
        "fecha_entrenar"
      ],
      "execution_count": null,
      "outputs": [
        {
          "output_type": "execute_result",
          "data": {
            "text/plain": [
              "Timestamp('2011-01-01 00:00:00')"
            ]
          },
          "metadata": {},
          "execution_count": 18
        }
      ]
    },
    {
      "cell_type": "code",
      "metadata": {
        "colab": {
          "base_uri": "https://localhost:8080/",
          "height": 450
        },
        "id": "4sTAGHFMlAAy",
        "outputId": "750d03fb-7181-442d-ce51-4b745457521b"
      },
      "source": [
        "#Hacemos el corte para entrenar\n",
        "dfTrain = df3.loc[:fecha_entrenar]\n",
        "dfTrain"
      ],
      "execution_count": null,
      "outputs": [
        {
          "output_type": "execute_result",
          "data": {
            "text/html": [
              "<div>\n",
              "<style scoped>\n",
              "    .dataframe tbody tr th:only-of-type {\n",
              "        vertical-align: middle;\n",
              "    }\n",
              "\n",
              "    .dataframe tbody tr th {\n",
              "        vertical-align: top;\n",
              "    }\n",
              "\n",
              "    .dataframe thead th {\n",
              "        text-align: right;\n",
              "    }\n",
              "</style>\n",
              "<table border=\"1\" class=\"dataframe\">\n",
              "  <thead>\n",
              "    <tr style=\"text-align: right;\">\n",
              "      <th></th>\n",
              "      <th>Monto</th>\n",
              "    </tr>\n",
              "    <tr>\n",
              "      <th>Fecha</th>\n",
              "      <th></th>\n",
              "    </tr>\n",
              "  </thead>\n",
              "  <tbody>\n",
              "    <tr>\n",
              "      <th>1991-01-31</th>\n",
              "      <td>12588862</td>\n",
              "    </tr>\n",
              "    <tr>\n",
              "      <th>1991-02-28</th>\n",
              "      <td>12154321</td>\n",
              "    </tr>\n",
              "    <tr>\n",
              "      <th>1991-03-31</th>\n",
              "      <td>14337072</td>\n",
              "    </tr>\n",
              "    <tr>\n",
              "      <th>1991-04-30</th>\n",
              "      <td>15108570</td>\n",
              "    </tr>\n",
              "    <tr>\n",
              "      <th>1991-05-31</th>\n",
              "      <td>17225734</td>\n",
              "    </tr>\n",
              "    <tr>\n",
              "      <th>...</th>\n",
              "      <td>...</td>\n",
              "    </tr>\n",
              "    <tr>\n",
              "      <th>2010-08-31</th>\n",
              "      <td>37395330</td>\n",
              "    </tr>\n",
              "    <tr>\n",
              "      <th>2010-09-30</th>\n",
              "      <td>36923390</td>\n",
              "    </tr>\n",
              "    <tr>\n",
              "      <th>2010-10-31</th>\n",
              "      <td>37014326</td>\n",
              "    </tr>\n",
              "    <tr>\n",
              "      <th>2010-11-30</th>\n",
              "      <td>37408825</td>\n",
              "    </tr>\n",
              "    <tr>\n",
              "      <th>2010-12-31</th>\n",
              "      <td>43147947</td>\n",
              "    </tr>\n",
              "  </tbody>\n",
              "</table>\n",
              "<p>240 rows × 1 columns</p>\n",
              "</div>"
            ],
            "text/plain": [
              "               Monto\n",
              "Fecha               \n",
              "1991-01-31  12588862\n",
              "1991-02-28  12154321\n",
              "1991-03-31  14337072\n",
              "1991-04-30  15108570\n",
              "1991-05-31  17225734\n",
              "...              ...\n",
              "2010-08-31  37395330\n",
              "2010-09-30  36923390\n",
              "2010-10-31  37014326\n",
              "2010-11-30  37408825\n",
              "2010-12-31  43147947\n",
              "\n",
              "[240 rows x 1 columns]"
            ]
          },
          "metadata": {},
          "execution_count": 19
        }
      ]
    },
    {
      "cell_type": "code",
      "metadata": {
        "colab": {
          "base_uri": "https://localhost:8080/",
          "height": 450
        },
        "id": "pPALiKEalBQ9",
        "outputId": "ade19cbb-bc33-4f93-f74b-9601af412fe6"
      },
      "source": [
        "#Hacemos el corte para validar\n",
        "dfTest = df3.loc[fecha_entrenar:]\n",
        "dfTest"
      ],
      "execution_count": null,
      "outputs": [
        {
          "output_type": "execute_result",
          "data": {
            "text/html": [
              "<div>\n",
              "<style scoped>\n",
              "    .dataframe tbody tr th:only-of-type {\n",
              "        vertical-align: middle;\n",
              "    }\n",
              "\n",
              "    .dataframe tbody tr th {\n",
              "        vertical-align: top;\n",
              "    }\n",
              "\n",
              "    .dataframe thead th {\n",
              "        text-align: right;\n",
              "    }\n",
              "</style>\n",
              "<table border=\"1\" class=\"dataframe\">\n",
              "  <thead>\n",
              "    <tr style=\"text-align: right;\">\n",
              "      <th></th>\n",
              "      <th>Monto</th>\n",
              "    </tr>\n",
              "    <tr>\n",
              "      <th>Fecha</th>\n",
              "      <th></th>\n",
              "    </tr>\n",
              "  </thead>\n",
              "  <tbody>\n",
              "    <tr>\n",
              "      <th>2011-01-31</th>\n",
              "      <td>31191594</td>\n",
              "    </tr>\n",
              "    <tr>\n",
              "      <th>2011-02-28</th>\n",
              "      <td>29797949</td>\n",
              "    </tr>\n",
              "    <tr>\n",
              "      <th>2011-03-31</th>\n",
              "      <td>36099866</td>\n",
              "    </tr>\n",
              "    <tr>\n",
              "      <th>2011-04-30</th>\n",
              "      <td>38035760</td>\n",
              "    </tr>\n",
              "    <tr>\n",
              "      <th>2011-05-31</th>\n",
              "      <td>40046516</td>\n",
              "    </tr>\n",
              "    <tr>\n",
              "      <th>...</th>\n",
              "      <td>...</td>\n",
              "    </tr>\n",
              "    <tr>\n",
              "      <th>2016-09-30</th>\n",
              "      <td>45528702</td>\n",
              "    </tr>\n",
              "    <tr>\n",
              "      <th>2016-10-31</th>\n",
              "      <td>44770113</td>\n",
              "    </tr>\n",
              "    <tr>\n",
              "      <th>2016-11-30</th>\n",
              "      <td>46285062</td>\n",
              "    </tr>\n",
              "    <tr>\n",
              "      <th>2016-12-31</th>\n",
              "      <td>50016137</td>\n",
              "    </tr>\n",
              "    <tr>\n",
              "      <th>2017-01-31</th>\n",
              "      <td>37628452</td>\n",
              "    </tr>\n",
              "  </tbody>\n",
              "</table>\n",
              "<p>73 rows × 1 columns</p>\n",
              "</div>"
            ],
            "text/plain": [
              "               Monto\n",
              "Fecha               \n",
              "2011-01-31  31191594\n",
              "2011-02-28  29797949\n",
              "2011-03-31  36099866\n",
              "2011-04-30  38035760\n",
              "2011-05-31  40046516\n",
              "...              ...\n",
              "2016-09-30  45528702\n",
              "2016-10-31  44770113\n",
              "2016-11-30  46285062\n",
              "2016-12-31  50016137\n",
              "2017-01-31  37628452\n",
              "\n",
              "[73 rows x 1 columns]"
            ]
          },
          "metadata": {},
          "execution_count": 20
        }
      ]
    },
    {
      "cell_type": "code",
      "metadata": {
        "colab": {
          "base_uri": "https://localhost:8080/",
          "height": 307
        },
        "id": "oGjWS-C6lDhH",
        "outputId": "864459be-16ac-4e7f-ea1d-4fe456fd7c22"
      },
      "source": [
        "#Graficamos los datos de entrenamiento y validación\n",
        "\n",
        "#Graficamos la data de entrenamiento y obtenemos el cuadro en donde se dibujo\n",
        "ejes = dfTrain.plot()\n",
        "\n",
        "#Usamos estos ejes para dibujar la data de validación\n",
        "dfTest.plot(ax = ejes)\n",
        "\n",
        "#Agregamos una leyenda\n",
        "plt.legend(['Train', 'Test'])"
      ],
      "execution_count": null,
      "outputs": [
        {
          "output_type": "execute_result",
          "data": {
            "text/plain": [
              "<matplotlib.legend.Legend at 0x7f2afa8c2c10>"
            ]
          },
          "metadata": {},
          "execution_count": 21
        },
        {
          "output_type": "display_data",
          "data": {
            "image/png": "[encoded data removed]",
            "text/plain": [
              "<Figure size 432x288 with 1 Axes>"
            ]
          },
          "metadata": {
            "needs_background": "light"
          }
        }
      ]
    },
    {
      "cell_type": "code",
      "metadata": {
        "id": "GqXW8U_FlQLm"
      },
      "source": [
        "#Finalmente, escalamos los datos\n",
        "sc = MinMaxScaler()"
      ],
      "execution_count": null,
      "outputs": []
    },
    {
      "cell_type": "code",
      "metadata": {
        "id": "BFBIhlkolV66"
      },
      "source": [
        "#Como aplicaremos Rolling Windows, solo necesitaremos los x_train y x_test\n",
        "x_train = sc.fit_transform(dfTrain)\n",
        "x_test = sc.transform(dfTest)"
      ],
      "execution_count": null,
      "outputs": []
    },
    {
      "cell_type": "markdown",
      "metadata": {
        "id": "79cps9aClkIS"
      },
      "source": [
        "# Definición de features y labels"
      ]
    },
    {
      "cell_type": "code",
      "metadata": {
        "id": "bqljZMHzlmbp"
      },
      "source": [
        "#Para aplicar esta técnica, deberemos volver a convertir los tensores en dataframes pandas\n",
        "dfTrain = pd.DataFrame(x_train.reshape(-1), columns=['Monto'])\n",
        "dfTest = pd.DataFrame(x_test.reshape(-1), columns=['Monto'])"
      ],
      "execution_count": null,
      "outputs": []
    },
    {
      "cell_type": "code",
      "metadata": {
        "id": "yVoLQnVbl0lH"
      },
      "source": [
        "#Le agreamos los features necesarios\n",
        "for salto in range(1, 12):\n",
        "  dfTrain['anterior_{}'.format(salto)] = dfTrain['Monto'].shift(salto)\n",
        "  dfTest['anterior_{}'.format(salto)] = dfTest['Monto'].shift(salto)"
      ],
      "execution_count": null,
      "outputs": []
    },
    {
      "cell_type": "code",
      "metadata": {
        "id": "fGsdwrQfmpjK"
      },
      "source": [
        "#Eliminamos los nulos\n",
        "dfTrain = dfTrain.dropna()\n",
        "dfTest = dfTest.dropna()"
      ],
      "execution_count": null,
      "outputs": []
    },
    {
      "cell_type": "code",
      "metadata": {
        "colab": {
          "base_uri": "https://localhost:8080/"
        },
        "id": "RLIERF19m0LA",
        "outputId": "872a6f5e-6465-49b0-e51f-36c96aa54233"
      },
      "source": [
        "#Obtenemos los valores en un array tensorial\n",
        "#Para los features usaremos todos los valores previos al mes\n",
        "x_train_tensor = dfTrain.loc[:, dfTrain.columns != 'Monto'].values\n",
        "x_train_tensor.shape"
      ],
      "execution_count": null,
      "outputs": [
        {
          "output_type": "execute_result",
          "data": {
            "text/plain": [
              "(229, 11)"
            ]
          },
          "metadata": {},
          "execution_count": 27
        }
      ]
    },
    {
      "cell_type": "code",
      "metadata": {
        "colab": {
          "base_uri": "https://localhost:8080/"
        },
        "id": "9FrIGuSwm0Nq",
        "outputId": "d39505b8-e18a-4e70-8d74-8048b2a4a3c1"
      },
      "source": [
        "#En este caso los \"y\" son la columna \"Monto\"\n",
        "y_train_tensor = dfTrain['Monto'].values\n",
        "y_train_tensor.shape"
      ],
      "execution_count": null,
      "outputs": [
        {
          "output_type": "execute_result",
          "data": {
            "text/plain": [
              "(229,)"
            ]
          },
          "metadata": {},
          "execution_count": 28
        }
      ]
    },
    {
      "cell_type": "code",
      "metadata": {
        "colab": {
          "base_uri": "https://localhost:8080/"
        },
        "id": "Bbg1CH-0mr6R",
        "outputId": "24e98880-aca5-4ac7-f2e7-5fc8316cf151"
      },
      "source": [
        "#Finalmente obtenemos los valores en un array tensorial\n",
        "x_test_tensor = dfTest.loc[:, dfTest.columns != 'Monto'].values\n",
        "x_test_tensor.shape"
      ],
      "execution_count": null,
      "outputs": [
        {
          "output_type": "execute_result",
          "data": {
            "text/plain": [
              "(62, 11)"
            ]
          },
          "metadata": {},
          "execution_count": 29
        }
      ]
    },
    {
      "cell_type": "code",
      "metadata": {
        "colab": {
          "base_uri": "https://localhost:8080/"
        },
        "id": "Cv9dZIQMmxEj",
        "outputId": "bb0165cc-aca7-4c69-eac6-afad7cf0ffae"
      },
      "source": [
        "#En este caso los \"y\" son la columna \"Monto\"\n",
        "y_test_tensor = dfTest['Monto'].values\n",
        "y_test_tensor.shape"
      ],
      "execution_count": null,
      "outputs": [
        {
          "output_type": "execute_result",
          "data": {
            "text/plain": [
              "(62,)"
            ]
          },
          "metadata": {},
          "execution_count": 30
        }
      ]
    },
    {
      "cell_type": "markdown",
      "metadata": {
        "id": "pBzjccsFm9cM"
      },
      "source": [
        "# Tensor de orden 3 estándar para las redes recurrentes"
      ]
    },
    {
      "cell_type": "code",
      "metadata": {
        "colab": {
          "base_uri": "https://localhost:8080/"
        },
        "id": "9FcaFMmAm-Mk",
        "outputId": "7acef9a3-a7cb-43a0-da92-c16568a7cd29"
      },
      "source": [
        "#Estas son las variables que procesaremos\n",
        "x_train_tensor.shape, y_train_tensor.shape, x_test_tensor.shape, y_test_tensor.shape"
      ],
      "execution_count": null,
      "outputs": [
        {
          "output_type": "execute_result",
          "data": {
            "text/plain": [
              "((229, 11), (229,), (62, 11), (62,))"
            ]
          },
          "metadata": {},
          "execution_count": 31
        }
      ]
    },
    {
      "cell_type": "code",
      "metadata": {
        "colab": {
          "base_uri": "https://localhost:8080/"
        },
        "id": "YQe8epk2nAfR",
        "outputId": "95a9a7cd-0601-4219-e211-af6e59a0657d"
      },
      "source": [
        "#A los features deberemos darle la forma tensorial de orden 3 que necesitan las redes recurrentes\n",
        "#Primero lo haremos con los features de entrenamiento\n",
        "x_train_tensor_rr = x_train_tensor[:, None, :]\n",
        "x_train_tensor_rr.shape"
      ],
      "execution_count": null,
      "outputs": [
        {
          "output_type": "execute_result",
          "data": {
            "text/plain": [
              "(229, 1, 11)"
            ]
          },
          "metadata": {},
          "execution_count": 32
        }
      ]
    },
    {
      "cell_type": "code",
      "metadata": {
        "colab": {
          "base_uri": "https://localhost:8080/"
        },
        "id": "NLTkc2vonB-o",
        "outputId": "6ac3fde2-eff0-43e9-c789-6b42a0a561be"
      },
      "source": [
        "#Ahora los features de validación\n",
        "x_test_tensor_rr = x_test_tensor[:, None, :]\n",
        "x_test_tensor_rr.shape"
      ],
      "execution_count": null,
      "outputs": [
        {
          "output_type": "execute_result",
          "data": {
            "text/plain": [
              "(62, 1, 11)"
            ]
          },
          "metadata": {},
          "execution_count": 33
        }
      ]
    },
    {
      "cell_type": "markdown",
      "metadata": {
        "id": "8fIQm4gKnD2f"
      },
      "source": [
        "# Implementación de Red Recurrente"
      ]
    },
    {
      "cell_type": "code",
      "metadata": {
        "id": "wRnAXmBonHVr"
      },
      "source": [
        "#Instanciamos un modelo\n",
        "model = Sequential()"
      ],
      "execution_count": null,
      "outputs": []
    },
    {
      "cell_type": "code",
      "metadata": {
        "id": "1UAyXN6PnJAl"
      },
      "source": [
        "#Agregamos una capa de recurrente de 6 neuronas, en input_shape deberemos colocar de cuánto en cuánto se procesan los datos (1) y luego cuántos features tenemos (11)\n",
        "#Con \"return_sequences\" devolvemos lo procesado para la siguiente capa\n",
        "model.add(LSTM(6, input_shape=(1, 11), return_sequences=True))"
      ],
      "execution_count": null,
      "outputs": []
    },
    {
      "cell_type": "code",
      "metadata": {
        "id": "0fcw8fBenfKw"
      },
      "source": [
        "#Agregamos otra capa\n",
        "model.add(LSTM(7, return_sequences=True))"
      ],
      "execution_count": null,
      "outputs": []
    },
    {
      "cell_type": "code",
      "metadata": {
        "id": "b8zYFn-5ngnT"
      },
      "source": [
        "#Agregamos la última capa, como es la última LSTM no necesita el \"return_sequences\"\n",
        "model.add(LSTM(5))"
      ],
      "execution_count": null,
      "outputs": []
    },
    {
      "cell_type": "code",
      "metadata": {
        "id": "4uxv8gd3nhu9"
      },
      "source": [
        "#Agregamos la neurona de salida\n",
        "model.add(Dense(1))"
      ],
      "execution_count": null,
      "outputs": []
    },
    {
      "cell_type": "markdown",
      "metadata": {
        "id": "bJ0xoeKBnjH7"
      },
      "source": [
        "# Compilación"
      ]
    },
    {
      "cell_type": "code",
      "metadata": {
        "id": "3Ydi076dnjlW"
      },
      "source": [
        "#Compilamos\n",
        "model.compile(loss='mean_squared_error', optimizer='adam')"
      ],
      "execution_count": null,
      "outputs": []
    },
    {
      "cell_type": "markdown",
      "metadata": {
        "id": "g2CeAnpxnlUL"
      },
      "source": [
        "# Entrenamiento"
      ]
    },
    {
      "cell_type": "code",
      "metadata": {
        "colab": {
          "base_uri": "https://localhost:8080/"
        },
        "id": "n_0sRn_ynm0m",
        "outputId": "1bcda56b-0b60-4a74-8a9a-606b7a01bb81"
      },
      "source": [
        "#Entrenamos\n",
        "model.fit(\n",
        "  x_train_tensor_rr, \n",
        "  y_train_tensor, \n",
        "  epochs=100,\n",
        "  batch_size=2, \n",
        "  verbose=1\n",
        ")"
      ],
      "execution_count": null,
      "outputs": [
        {
          "output_type": "stream",
          "name": "stdout",
          "text": [
            "Epoch 1/100\n",
            "115/115 [==============================] - 6s 4ms/step - loss: 0.1500\n",
            "Epoch 2/100\n",
            "115/115 [==============================] - 1s 5ms/step - loss: 0.0261\n",
            "Epoch 3/100\n",
            "115/115 [==============================] - 1s 5ms/step - loss: 0.0149\n",
            "Epoch 4/100\n",
            "115/115 [==============================] - 1s 5ms/step - loss: 0.0106\n",
            "Epoch 5/100\n",
            "115/115 [==============================] - 1s 5ms/step - loss: 0.0091\n",
            "Epoch 6/100\n",
            "115/115 [==============================] - 1s 5ms/step - loss: 0.0089\n",
            "Epoch 7/100\n",
            "115/115 [==============================] - 1s 5ms/step - loss: 0.0089\n",
            "Epoch 8/100\n",
            "115/115 [==============================] - 1s 5ms/step - loss: 0.0087\n",
            "Epoch 9/100\n",
            "115/115 [==============================] - 1s 5ms/step - loss: 0.0087\n",
            "Epoch 10/100\n",
            "115/115 [==============================] - 1s 5ms/step - loss: 0.0086\n",
            "Epoch 11/100\n",
            "115/115 [==============================] - 1s 5ms/step - loss: 0.0091\n",
            "Epoch 12/100\n",
            "115/115 [==============================] - 1s 5ms/step - loss: 0.0089\n",
            "Epoch 13/100\n",
            "115/115 [==============================] - 1s 5ms/step - loss: 0.0083\n",
            "Epoch 14/100\n",
            "115/115 [==============================] - 1s 5ms/step - loss: 0.0082\n",
            "Epoch 15/100\n",
            "115/115 [==============================] - 1s 5ms/step - loss: 0.0082\n",
            "Epoch 16/100\n",
            "115/115 [==============================] - 1s 5ms/step - loss: 0.0083\n",
            "Epoch 17/100\n",
            "115/115 [==============================] - 1s 5ms/step - loss: 0.0082\n",
            "Epoch 18/100\n",
            "115/115 [==============================] - 1s 5ms/step - loss: 0.0082\n",
            "Epoch 19/100\n",
            "115/115 [==============================] - 1s 5ms/step - loss: 0.0080\n",
            "Epoch 20/100\n",
            "115/115 [==============================] - 1s 5ms/step - loss: 0.0081\n",
            "Epoch 21/100\n",
            "115/115 [==============================] - 1s 5ms/step - loss: 0.0078\n",
            "Epoch 22/100\n",
            "115/115 [==============================] - 1s 5ms/step - loss: 0.0079\n",
            "Epoch 23/100\n",
            "115/115 [==============================] - 1s 5ms/step - loss: 0.0082\n",
            "Epoch 24/100\n",
            "115/115 [==============================] - 1s 5ms/step - loss: 0.0085\n",
            "Epoch 25/100\n",
            "115/115 [==============================] - 1s 6ms/step - loss: 0.0078\n",
            "Epoch 26/100\n",
            "115/115 [==============================] - 1s 5ms/step - loss: 0.0075\n",
            "Epoch 27/100\n",
            "115/115 [==============================] - 1s 5ms/step - loss: 0.0075\n",
            "Epoch 28/100\n",
            "115/115 [==============================] - 1s 5ms/step - loss: 0.0075\n",
            "Epoch 29/100\n",
            "115/115 [==============================] - 1s 5ms/step - loss: 0.0074\n",
            "Epoch 30/100\n",
            "115/115 [==============================] - 1s 5ms/step - loss: 0.0076\n",
            "Epoch 31/100\n",
            "115/115 [==============================] - 1s 5ms/step - loss: 0.0077\n",
            "Epoch 32/100\n",
            "115/115 [==============================] - 1s 5ms/step - loss: 0.0073\n",
            "Epoch 33/100\n",
            "115/115 [==============================] - 1s 6ms/step - loss: 0.0073\n",
            "Epoch 34/100\n",
            "115/115 [==============================] - 1s 5ms/step - loss: 0.0077\n",
            "Epoch 35/100\n",
            "115/115 [==============================] - 1s 5ms/step - loss: 0.0075\n",
            "Epoch 36/100\n",
            "115/115 [==============================] - 1s 5ms/step - loss: 0.0071\n",
            "Epoch 37/100\n",
            "115/115 [==============================] - 1s 5ms/step - loss: 0.0072\n",
            "Epoch 38/100\n",
            "115/115 [==============================] - 1s 5ms/step - loss: 0.0073\n",
            "Epoch 39/100\n",
            "115/115 [==============================] - 1s 5ms/step - loss: 0.0071\n",
            "Epoch 40/100\n",
            "115/115 [==============================] - 1s 5ms/step - loss: 0.0071\n",
            "Epoch 41/100\n",
            "115/115 [==============================] - 1s 5ms/step - loss: 0.0068\n",
            "Epoch 42/100\n",
            "115/115 [==============================] - 1s 5ms/step - loss: 0.0073\n",
            "Epoch 43/100\n",
            "115/115 [==============================] - 1s 5ms/step - loss: 0.0070\n",
            "Epoch 44/100\n",
            "115/115 [==============================] - 1s 5ms/step - loss: 0.0066\n",
            "Epoch 45/100\n",
            "115/115 [==============================] - 1s 5ms/step - loss: 0.0069\n",
            "Epoch 46/100\n",
            "115/115 [==============================] - 1s 5ms/step - loss: 0.0069\n",
            "Epoch 47/100\n",
            "115/115 [==============================] - 1s 5ms/step - loss: 0.0067\n",
            "Epoch 48/100\n",
            "115/115 [==============================] - 1s 5ms/step - loss: 0.0067\n",
            "Epoch 49/100\n",
            "115/115 [==============================] - 1s 6ms/step - loss: 0.0069\n",
            "Epoch 50/100\n",
            "115/115 [==============================] - 1s 6ms/step - loss: 0.0067\n",
            "Epoch 51/100\n",
            "115/115 [==============================] - 1s 5ms/step - loss: 0.0063\n",
            "Epoch 52/100\n",
            "115/115 [==============================] - 1s 5ms/step - loss: 0.0065\n",
            "Epoch 53/100\n",
            "115/115 [==============================] - 1s 5ms/step - loss: 0.0070\n",
            "Epoch 54/100\n",
            "115/115 [==============================] - 1s 6ms/step - loss: 0.0064\n",
            "Epoch 55/100\n",
            "115/115 [==============================] - 1s 6ms/step - loss: 0.0064\n",
            "Epoch 56/100\n",
            "115/115 [==============================] - 1s 5ms/step - loss: 0.0065\n",
            "Epoch 57/100\n",
            "115/115 [==============================] - 1s 5ms/step - loss: 0.0063\n",
            "Epoch 58/100\n",
            "115/115 [==============================] - 1s 5ms/step - loss: 0.0067\n",
            "Epoch 59/100\n",
            "115/115 [==============================] - 1s 5ms/step - loss: 0.0066\n",
            "Epoch 60/100\n",
            "115/115 [==============================] - 1s 5ms/step - loss: 0.0065\n",
            "Epoch 61/100\n",
            "115/115 [==============================] - 1s 5ms/step - loss: 0.0066\n",
            "Epoch 62/100\n",
            "115/115 [==============================] - 1s 5ms/step - loss: 0.0066\n",
            "Epoch 63/100\n",
            "115/115 [==============================] - 1s 5ms/step - loss: 0.0062\n",
            "Epoch 64/100\n",
            "115/115 [==============================] - 1s 5ms/step - loss: 0.0065\n",
            "Epoch 65/100\n",
            "115/115 [==============================] - 1s 5ms/step - loss: 0.0067\n",
            "Epoch 66/100\n",
            "115/115 [==============================] - 1s 5ms/step - loss: 0.0065\n",
            "Epoch 67/100\n",
            "115/115 [==============================] - 1s 6ms/step - loss: 0.0064\n",
            "Epoch 68/100\n",
            "115/115 [==============================] - 1s 6ms/step - loss: 0.0064\n",
            "Epoch 69/100\n",
            "115/115 [==============================] - 1s 6ms/step - loss: 0.0063\n",
            "Epoch 70/100\n",
            "115/115 [==============================] - 1s 6ms/step - loss: 0.0066\n",
            "Epoch 71/100\n",
            "115/115 [==============================] - 1s 6ms/step - loss: 0.0064\n",
            "Epoch 72/100\n",
            "115/115 [==============================] - 1s 5ms/step - loss: 0.0062\n",
            "Epoch 73/100\n",
            "115/115 [==============================] - 1s 5ms/step - loss: 0.0064\n",
            "Epoch 74/100\n",
            "115/115 [==============================] - 1s 5ms/step - loss: 0.0061\n",
            "Epoch 75/100\n",
            "115/115 [==============================] - 1s 6ms/step - loss: 0.0064\n",
            "Epoch 76/100\n",
            "115/115 [==============================] - 1s 6ms/step - loss: 0.0063\n",
            "Epoch 77/100\n",
            "115/115 [==============================] - 1s 5ms/step - loss: 0.0063\n",
            "Epoch 78/100\n",
            "115/115 [==============================] - 1s 5ms/step - loss: 0.0062\n",
            "Epoch 79/100\n",
            "115/115 [==============================] - 1s 5ms/step - loss: 0.0062\n",
            "Epoch 80/100\n",
            "115/115 [==============================] - 1s 5ms/step - loss: 0.0061\n",
            "Epoch 81/100\n",
            "115/115 [==============================] - 1s 5ms/step - loss: 0.0062\n",
            "Epoch 82/100\n",
            "115/115 [==============================] - 1s 5ms/step - loss: 0.0062\n",
            "Epoch 83/100\n",
            "115/115 [==============================] - 1s 5ms/step - loss: 0.0064\n",
            "Epoch 84/100\n",
            "115/115 [==============================] - 1s 5ms/step - loss: 0.0060\n",
            "Epoch 85/100\n",
            "115/115 [==============================] - 1s 5ms/step - loss: 0.0061\n",
            "Epoch 86/100\n",
            "115/115 [==============================] - 1s 5ms/step - loss: 0.0060\n",
            "Epoch 87/100\n",
            "115/115 [==============================] - 1s 5ms/step - loss: 0.0062\n",
            "Epoch 88/100\n",
            "115/115 [==============================] - 1s 5ms/step - loss: 0.0062\n",
            "Epoch 89/100\n",
            "115/115 [==============================] - 1s 5ms/step - loss: 0.0062\n",
            "Epoch 90/100\n",
            "115/115 [==============================] - 1s 5ms/step - loss: 0.0063\n",
            "Epoch 91/100\n",
            "115/115 [==============================] - 1s 5ms/step - loss: 0.0062\n",
            "Epoch 92/100\n",
            "115/115 [==============================] - 1s 5ms/step - loss: 0.0060\n",
            "Epoch 93/100\n",
            "115/115 [==============================] - 1s 5ms/step - loss: 0.0063\n",
            "Epoch 94/100\n",
            "115/115 [==============================] - 1s 5ms/step - loss: 0.0062\n",
            "Epoch 95/100\n",
            "115/115 [==============================] - 1s 5ms/step - loss: 0.0062\n",
            "Epoch 96/100\n",
            "115/115 [==============================] - 1s 5ms/step - loss: 0.0059\n",
            "Epoch 97/100\n",
            "115/115 [==============================] - 1s 5ms/step - loss: 0.0062\n",
            "Epoch 98/100\n",
            "115/115 [==============================] - 1s 5ms/step - loss: 0.0062\n",
            "Epoch 99/100\n",
            "115/115 [==============================] - 1s 5ms/step - loss: 0.0060\n",
            "Epoch 100/100\n",
            "115/115 [==============================] - 1s 5ms/step - loss: 0.0060\n"
          ]
        },
        {
          "output_type": "execute_result",
          "data": {
            "text/plain": [
              "<keras.callbacks.History at 0x7f2af5b22790>"
            ]
          },
          "metadata": {},
          "execution_count": 40
        }
      ]
    },
    {
      "cell_type": "markdown",
      "metadata": {
        "id": "pikFTESJnrCn"
      },
      "source": [
        "# Uso del modelo"
      ]
    },
    {
      "cell_type": "code",
      "metadata": {
        "colab": {
          "base_uri": "https://localhost:8080/",
          "height": 419
        },
        "id": "VUllo9QMnvJ3",
        "outputId": "50aabda9-4b43-44a5-ad26-a048bade9528"
      },
      "source": [
        "#Cargaremos un dataset original para re-escalar las predicciones\n",
        "dfData = pd.read_csv('/content/drive/MyDrive/Data/ventas.csv')\n",
        "dfData"
      ],
      "execution_count": null,
      "outputs": [
        {
          "output_type": "execute_result",
          "data": {
            "text/html": [
              "<div>\n",
              "<style scoped>\n",
              "    .dataframe tbody tr th:only-of-type {\n",
              "        vertical-align: middle;\n",
              "    }\n",
              "\n",
              "    .dataframe tbody tr th {\n",
              "        vertical-align: top;\n",
              "    }\n",
              "\n",
              "    .dataframe thead th {\n",
              "        text-align: right;\n",
              "    }\n",
              "</style>\n",
              "<table border=\"1\" class=\"dataframe\">\n",
              "  <thead>\n",
              "    <tr style=\"text-align: right;\">\n",
              "      <th></th>\n",
              "      <th>Adjustments</th>\n",
              "      <th>Unadjusted</th>\n",
              "      <th>Seasonally adjusted</th>\n",
              "    </tr>\n",
              "  </thead>\n",
              "  <tbody>\n",
              "    <tr>\n",
              "      <th>0</th>\n",
              "      <td>Jan-1991</td>\n",
              "      <td>12588862</td>\n",
              "      <td>15026890</td>\n",
              "    </tr>\n",
              "    <tr>\n",
              "      <th>1</th>\n",
              "      <td>Feb-1991</td>\n",
              "      <td>12154321</td>\n",
              "      <td>15304585</td>\n",
              "    </tr>\n",
              "    <tr>\n",
              "      <th>2</th>\n",
              "      <td>Mar-1991</td>\n",
              "      <td>14337072</td>\n",
              "      <td>15413591</td>\n",
              "    </tr>\n",
              "    <tr>\n",
              "      <th>3</th>\n",
              "      <td>Apr-1991</td>\n",
              "      <td>15108570</td>\n",
              "      <td>15293409</td>\n",
              "    </tr>\n",
              "    <tr>\n",
              "      <th>4</th>\n",
              "      <td>May-1991</td>\n",
              "      <td>17225734</td>\n",
              "      <td>15676083</td>\n",
              "    </tr>\n",
              "    <tr>\n",
              "      <th>...</th>\n",
              "      <td>...</td>\n",
              "      <td>...</td>\n",
              "      <td>...</td>\n",
              "    </tr>\n",
              "    <tr>\n",
              "      <th>308</th>\n",
              "      <td>Sep-2016</td>\n",
              "      <td>45528702</td>\n",
              "      <td>44534797</td>\n",
              "    </tr>\n",
              "    <tr>\n",
              "      <th>309</th>\n",
              "      <td>Oct-2016</td>\n",
              "      <td>44770113</td>\n",
              "      <td>45061618</td>\n",
              "    </tr>\n",
              "    <tr>\n",
              "      <th>310</th>\n",
              "      <td>Nov-2016</td>\n",
              "      <td>46285062</td>\n",
              "      <td>45141762</td>\n",
              "    </tr>\n",
              "    <tr>\n",
              "      <th>311</th>\n",
              "      <td>Dec-2016</td>\n",
              "      <td>50016137</td>\n",
              "      <td>44943929</td>\n",
              "    </tr>\n",
              "    <tr>\n",
              "      <th>312</th>\n",
              "      <td>Jan-2017</td>\n",
              "      <td>37628452</td>\n",
              "      <td>45952103</td>\n",
              "    </tr>\n",
              "  </tbody>\n",
              "</table>\n",
              "<p>313 rows × 3 columns</p>\n",
              "</div>"
            ],
            "text/plain": [
              "    Adjustments  Unadjusted  Seasonally adjusted\n",
              "0      Jan-1991    12588862             15026890\n",
              "1      Feb-1991    12154321             15304585\n",
              "2      Mar-1991    14337072             15413591\n",
              "3      Apr-1991    15108570             15293409\n",
              "4      May-1991    17225734             15676083\n",
              "..          ...         ...                  ...\n",
              "308    Sep-2016    45528702             44534797\n",
              "309    Oct-2016    44770113             45061618\n",
              "310    Nov-2016    46285062             45141762\n",
              "311    Dec-2016    50016137             44943929\n",
              "312    Jan-2017    37628452             45952103\n",
              "\n",
              "[313 rows x 3 columns]"
            ]
          },
          "metadata": {},
          "execution_count": 41
        }
      ]
    },
    {
      "cell_type": "code",
      "metadata": {
        "colab": {
          "base_uri": "https://localhost:8080/"
        },
        "id": "9CF_Ck5en3Af",
        "outputId": "5642f3f4-7f05-4bd0-cb30-5ed14bbee3b7"
      },
      "source": [
        "#Usamos la función para obtener las predicciones de los próximos 5 meses\n",
        "predicciones = predecir_red_recurrente(5, dfData[['Unadjusted']], [1.101218, 1.052339, 1.076814, 1.098520, 1.102388, 1.137163, 1.135161, 1.055935, 0.943724, 0.758063, 0.782767])\n",
        "predicciones"
      ],
      "execution_count": null,
      "outputs": [
        {
          "output_type": "execute_result",
          "data": {
            "text/plain": [
              "array([47766856., 47067480., 47067480., 47067480., 41613508.])"
            ]
          },
          "metadata": {},
          "execution_count": 42
        }
      ]
    }
  ]
}