{
  "nbformat": 4,
  "nbformat_minor": 0,
  "metadata": {
    "colab": {
      "name": "Laboratorio_21_[Arquetipo_Red_Neuronal_Calibrada_[prediccion_binaria]]_v1_0.ipynb",
      "provenance": [],
      "collapsed_sections": []
    },
    "kernelspec": {
      "name": "python3",
      "display_name": "Python 3"
    },
    "language_info": {
      "name": "python"
    }
  },
  "cells": [
    {
      "cell_type": "markdown",
      "metadata": {
        "id": "mI3l6DmVCFtz"
      },
      "source": [
        "# Librerías"
      ]
    },
    {
      "cell_type": "code",
      "metadata": {
        "id": "x7Q8pGFxCEyB"
      },
      "source": [
        "#Librerías Base\n",
        "%matplotlib inline\n",
        "import matplotlib.pyplot as plt\n",
        "import numpy as np\n",
        "import pandas as pd\n",
        "from google.colab import drive"
      ],
      "execution_count": 4,
      "outputs": []
    },
    {
      "cell_type": "code",
      "metadata": {
        "id": "vpmiY58yz7TN"
      },
      "source": [
        "#Librerías de Métricas\n",
        "from sklearn.model_selection import train_test_split\n",
        "from sklearn.metrics import accuracy_score, confusion_matrix\n",
        "from sklearn.preprocessing import scale"
      ],
      "execution_count": 5,
      "outputs": []
    },
    {
      "cell_type": "code",
      "metadata": {
        "id": "8ZC0PtlXz8PN"
      },
      "source": [
        "#Librerías de Machine Learning\n",
        "from keras.models import Sequential\n",
        "from keras.layers import Dense\n",
        "from tensorflow.keras.optimizers import SGD, Adam, Adagrad, RMSprop"
      ],
      "execution_count": 6,
      "outputs": []
    },
    {
      "cell_type": "markdown",
      "metadata": {
        "id": "REQQs7CxHFBG"
      },
      "source": [
        "# Conexión al repositorio de datos"
      ]
    },
    {
      "cell_type": "code",
      "metadata": {
        "colab": {
          "base_uri": "https://localhost:8080/"
        },
        "id": "jacRxK4RHEIB",
        "outputId": "dcc32902-53e3-4e07-fbc3-67ab30f6913c"
      },
      "source": [
        "#Accedemos a Google Drive\n",
        "drive.mount('/content/drive')"
      ],
      "execution_count": 7,
      "outputs": [
        {
          "output_type": "stream",
          "name": "stdout",
          "text": [
            "Mounted at /content/drive\n"
          ]
        }
      ]
    },
    {
      "cell_type": "markdown",
      "metadata": {
        "id": "ibkDUFGB-YIG"
      },
      "source": [
        "# Calibraciones"
      ]
    },
    {
      "cell_type": "code",
      "metadata": {
        "id": "_uqV42m1_yQa"
      },
      "source": [
        "#Cantidad de iteraciones en el entrenamiento\n",
        "numero_de_iteraciones_al_entrenar = 10"
      ],
      "execution_count": 8,
      "outputs": []
    },
    {
      "cell_type": "code",
      "metadata": {
        "id": "d9IYDJR1-ayG"
      },
      "source": [
        "#Calibración del learning rate\n",
        "calibracion_lr = [0.01, 0.05, 0.1, 0.5]\n",
        "\n",
        "#Valor óptimo\n",
        "lr_calibrado = 0"
      ],
      "execution_count": 9,
      "outputs": []
    },
    {
      "cell_type": "code",
      "metadata": {
        "id": "CF4fRR6C-g1k"
      },
      "source": [
        "#Calibración del tamaño de batch\n",
        "calibracion_batch = [16, 32, 64, 128]\n",
        "\n",
        "#Valor óptimo\n",
        "batch_calibrado = 0"
      ],
      "execution_count": 10,
      "outputs": []
    },
    {
      "cell_type": "code",
      "metadata": {
        "id": "g9LvrAsB-rMZ"
      },
      "source": [
        "#Calibración de optimizador\n",
        "calibracion_optimizador = [\n",
        "'SGD(lr=0.5)',\n",
        "'SGD(lr=0.5, momentum=0.3)',\n",
        "'SGD(lr=0.5, momentum=0.3, nesterov=True)',  \n",
        "'Adam(lr=0.5)',\n",
        "'Adagrad(lr=0.5)',\n",
        "'RMSprop(lr=0.5)'\n",
        "]\n",
        "\n",
        "#Valor óptimo\n",
        "optimizador_calibrado = 0"
      ],
      "execution_count": 11,
      "outputs": []
    },
    {
      "cell_type": "markdown",
      "metadata": {
        "id": "m184r5v9-E8y"
      },
      "source": [
        "# Funciones utilitarias"
      ]
    },
    {
      "cell_type": "code",
      "metadata": {
        "id": "Ovbe_bX7-HJz"
      },
      "source": [
        "#Vamos a crear una función utilitaria para obtener el dataframe con los \"accuracy\" y \"loss\"\n",
        "def obtener_df_loss_accuracy(array_calibracion, descripcion_calibracion, array_descripciones):\n",
        "  #Fusionaremos uno tras otro para crear un único registro\n",
        "  #Recordemos que al usar \"axis = 1\" estamos fusionandolas filas\n",
        "  dfDescripcion = pd.concat(array_descripciones, axis = 1)\n",
        "\n",
        "  #A cada \"loss\" y \"accuracy\" vamos a agregarle por encima su lr\n",
        "  #Obtenemos el primer elemento del array de dataframes para obtener los títulos de las columnas\n",
        "  columnas_loss_accuracy = array_descripciones[0].columns\n",
        "\n",
        "  #Vamos a crear nuevas columnas a nuestro dataframe\n",
        "  #Primero colocaremos las columnas que tendrán el nombre de cada lr usado, estos valores están en \"array_lr\"\n",
        "  #Luego, para cada \"descripcion_calibracion\" vamos a colocarle las columnas \"columnas_loss_accuracy\"\n",
        "  #Estas son columnas anidadas, las podemos crear con la función \"MultiIndex\" de Pandas\n",
        "  #Por último, con el parámetro \"names\" colocamos el nombre para cada agrupación de columnas\n",
        "  nuevas_columnas = pd.MultiIndex.from_product(\n",
        "    [array_calibracion, columnas_loss_accuracy],\n",
        "    names=[descripcion_calibracion, 'metricas']\n",
        "  )\n",
        "\n",
        "  #Colocamos las nuevas columnas a nuestro dataframe\n",
        "  dfDescripcion.columns = nuevas_columnas\n",
        "  dfDescripcion\n",
        "\n",
        "  #Vamos a crear el dataframe de \"loss\"\n",
        "  #Usaremos la función \"xs\" que nos permite navegar en un dataframe con índices complejos y extraer los campos que queremos\n",
        "  #En la función \"xs\" definimos:\n",
        "  # 1. El campo que queremos consultar (loss)\n",
        "  # 2. De qué subconjunto de campos queremos consultar (level = 'metricas')\n",
        "  # 3. Cómo queremos extraer la data (axis = 1, queremos extraerla como columnas)\n",
        "  dfLoss = dfDescripcion.xs('loss', level = 'metricas', axis = 1)\n",
        "  \n",
        "  #Vamos a crear el dataframe de \"accuracy\"\n",
        "  #Usaremos la función \"xs\" que nos permite navegar en un dataframe con índices complejos y extraer los campos que queremos\n",
        "  #En la función \"xs\" definimos:\n",
        "  # 1. El campo que queremos consultar (accuracy)\n",
        "  # 2. De qué subconjunto de campos queremos consultar (level = 'metricas')\n",
        "  # 3. Cómo queremos extraer la data (axis = 1, queremos extraerla como columnas)\n",
        "  dfAccuracy = dfDescripcion.xs('accuracy', level = 'metricas', axis = 1)\n",
        "  dfAccuracy\n",
        "\n",
        "  #Devolvemos los dataframes\n",
        "  return dfLoss, dfAccuracy"
      ],
      "execution_count": 12,
      "outputs": []
    },
    {
      "cell_type": "markdown",
      "metadata": {
        "id": "DbnIoGC5CJbw"
      },
      "source": [
        "# Lectura de datos"
      ]
    },
    {
      "cell_type": "code",
      "metadata": {
        "colab": {
          "base_uri": "https://localhost:8080/",
          "height": 419
        },
        "id": "X5Ze_XG5CYgq",
        "outputId": "34bbde81-5984-4b68-f02b-5b241152830b"
      },
      "source": [
        "#Leemos el dataset\n",
        "df = pd.read_csv('/content/drive/MyDrive/Data/billetes.csv')\n",
        "df"
      ],
      "execution_count": 13,
      "outputs": [
        {
          "output_type": "execute_result",
          "data": {
            "text/html": [
              "<div>\n",
              "<style scoped>\n",
              "    .dataframe tbody tr th:only-of-type {\n",
              "        vertical-align: middle;\n",
              "    }\n",
              "\n",
              "    .dataframe tbody tr th {\n",
              "        vertical-align: top;\n",
              "    }\n",
              "\n",
              "    .dataframe thead th {\n",
              "        text-align: right;\n",
              "    }\n",
              "</style>\n",
              "<table border=\"1\" class=\"dataframe\">\n",
              "  <thead>\n",
              "    <tr style=\"text-align: right;\">\n",
              "      <th></th>\n",
              "      <th>variace</th>\n",
              "      <th>skewness</th>\n",
              "      <th>curtosis</th>\n",
              "      <th>entropy</th>\n",
              "      <th>class</th>\n",
              "    </tr>\n",
              "  </thead>\n",
              "  <tbody>\n",
              "    <tr>\n",
              "      <th>0</th>\n",
              "      <td>3.62160</td>\n",
              "      <td>8.66610</td>\n",
              "      <td>-2.8073</td>\n",
              "      <td>-0.44699</td>\n",
              "      <td>0</td>\n",
              "    </tr>\n",
              "    <tr>\n",
              "      <th>1</th>\n",
              "      <td>4.54590</td>\n",
              "      <td>8.16740</td>\n",
              "      <td>-2.4586</td>\n",
              "      <td>-1.46210</td>\n",
              "      <td>0</td>\n",
              "    </tr>\n",
              "    <tr>\n",
              "      <th>2</th>\n",
              "      <td>3.86600</td>\n",
              "      <td>-2.63830</td>\n",
              "      <td>1.9242</td>\n",
              "      <td>0.10645</td>\n",
              "      <td>0</td>\n",
              "    </tr>\n",
              "    <tr>\n",
              "      <th>3</th>\n",
              "      <td>3.45660</td>\n",
              "      <td>9.52280</td>\n",
              "      <td>-4.0112</td>\n",
              "      <td>-3.59440</td>\n",
              "      <td>0</td>\n",
              "    </tr>\n",
              "    <tr>\n",
              "      <th>4</th>\n",
              "      <td>0.32924</td>\n",
              "      <td>-4.45520</td>\n",
              "      <td>4.5718</td>\n",
              "      <td>-0.98880</td>\n",
              "      <td>0</td>\n",
              "    </tr>\n",
              "    <tr>\n",
              "      <th>...</th>\n",
              "      <td>...</td>\n",
              "      <td>...</td>\n",
              "      <td>...</td>\n",
              "      <td>...</td>\n",
              "      <td>...</td>\n",
              "    </tr>\n",
              "    <tr>\n",
              "      <th>1367</th>\n",
              "      <td>0.40614</td>\n",
              "      <td>1.34920</td>\n",
              "      <td>-1.4501</td>\n",
              "      <td>-0.55949</td>\n",
              "      <td>1</td>\n",
              "    </tr>\n",
              "    <tr>\n",
              "      <th>1368</th>\n",
              "      <td>-1.38870</td>\n",
              "      <td>-4.87730</td>\n",
              "      <td>6.4774</td>\n",
              "      <td>0.34179</td>\n",
              "      <td>1</td>\n",
              "    </tr>\n",
              "    <tr>\n",
              "      <th>1369</th>\n",
              "      <td>-3.75030</td>\n",
              "      <td>-13.45860</td>\n",
              "      <td>17.5932</td>\n",
              "      <td>-2.77710</td>\n",
              "      <td>1</td>\n",
              "    </tr>\n",
              "    <tr>\n",
              "      <th>1370</th>\n",
              "      <td>-3.56370</td>\n",
              "      <td>-8.38270</td>\n",
              "      <td>12.3930</td>\n",
              "      <td>-1.28230</td>\n",
              "      <td>1</td>\n",
              "    </tr>\n",
              "    <tr>\n",
              "      <th>1371</th>\n",
              "      <td>-2.54190</td>\n",
              "      <td>-0.65804</td>\n",
              "      <td>2.6842</td>\n",
              "      <td>1.19520</td>\n",
              "      <td>1</td>\n",
              "    </tr>\n",
              "  </tbody>\n",
              "</table>\n",
              "<p>1372 rows × 5 columns</p>\n",
              "</div>"
            ],
            "text/plain": [
              "      variace  skewness  curtosis  entropy  class\n",
              "0     3.62160   8.66610   -2.8073 -0.44699      0\n",
              "1     4.54590   8.16740   -2.4586 -1.46210      0\n",
              "2     3.86600  -2.63830    1.9242  0.10645      0\n",
              "3     3.45660   9.52280   -4.0112 -3.59440      0\n",
              "4     0.32924  -4.45520    4.5718 -0.98880      0\n",
              "...       ...       ...       ...      ...    ...\n",
              "1367  0.40614   1.34920   -1.4501 -0.55949      1\n",
              "1368 -1.38870  -4.87730    6.4774  0.34179      1\n",
              "1369 -3.75030 -13.45860   17.5932 -2.77710      1\n",
              "1370 -3.56370  -8.38270   12.3930 -1.28230      1\n",
              "1371 -2.54190  -0.65804    2.6842  1.19520      1\n",
              "\n",
              "[1372 rows x 5 columns]"
            ]
          },
          "metadata": {},
          "execution_count": 13
        }
      ]
    },
    {
      "cell_type": "markdown",
      "metadata": {
        "id": "lKfz4AopC6nT"
      },
      "source": [
        "# Definición de \"features\""
      ]
    },
    {
      "cell_type": "code",
      "metadata": {
        "colab": {
          "base_uri": "https://localhost:8080/"
        },
        "id": "seYi1hsgCkuk",
        "outputId": "72602e6b-1963-4a02-80c9-ca5fce67dc20"
      },
      "source": [
        "#Seleccionamos las columnas con las que trabajaremos\n",
        "x = df[['variace', 'skewness', 'curtosis', 'entropy']].values\n",
        "x"
      ],
      "execution_count": 14,
      "outputs": [
        {
          "output_type": "execute_result",
          "data": {
            "text/plain": [
              "array([[  3.6216 ,   8.6661 ,  -2.8073 ,  -0.44699],\n",
              "       [  4.5459 ,   8.1674 ,  -2.4586 ,  -1.4621 ],\n",
              "       [  3.866  ,  -2.6383 ,   1.9242 ,   0.10645],\n",
              "       ...,\n",
              "       [ -3.7503 , -13.4586 ,  17.5932 ,  -2.7771 ],\n",
              "       [ -3.5637 ,  -8.3827 ,  12.393  ,  -1.2823 ],\n",
              "       [ -2.5419 ,  -0.65804,   2.6842 ,   1.1952 ]])"
            ]
          },
          "metadata": {},
          "execution_count": 14
        }
      ]
    },
    {
      "cell_type": "markdown",
      "metadata": {
        "id": "r6C7YWdm7Sjx"
      },
      "source": [
        "# Definición de \"labels\""
      ]
    },
    {
      "cell_type": "code",
      "metadata": {
        "colab": {
          "base_uri": "https://localhost:8080/"
        },
        "id": "sgksuyzqCxNK",
        "outputId": "4d2e31e1-4f84-44c3-ae55-8c41da380799"
      },
      "source": [
        "#Definimos los labels\n",
        "y = df['class'].values\n",
        "y"
      ],
      "execution_count": 15,
      "outputs": [
        {
          "output_type": "execute_result",
          "data": {
            "text/plain": [
              "array([0, 0, 0, ..., 1, 1, 1])"
            ]
          },
          "metadata": {},
          "execution_count": 15
        }
      ]
    },
    {
      "cell_type": "markdown",
      "metadata": {
        "id": "CcdCM9jhDIjw"
      },
      "source": [
        "# División de los datos en datos de entrenamiento (x_train, y_train) y datos de validación (x_test, y_test)"
      ]
    },
    {
      "cell_type": "code",
      "metadata": {
        "id": "sPOc6CwYDRzE"
      },
      "source": [
        "#Dividimos los datos en datos de entrenamiento (x_train, y_train) y datos de validación (x_test, y_test)\n",
        "x_train, x_test, y_train, y_test = train_test_split(x, y, test_size = 0.2)"
      ],
      "execution_count": 16,
      "outputs": []
    },
    {
      "cell_type": "code",
      "metadata": {
        "colab": {
          "base_uri": "https://localhost:8080/"
        },
        "id": "oYVJSfYIDfbF",
        "outputId": "28a2a859-4dd8-4b31-c90a-21acc846ee02"
      },
      "source": [
        "#Features de entrenamiento\n",
        "x_train"
      ],
      "execution_count": 17,
      "outputs": [
        {
          "output_type": "execute_result",
          "data": {
            "text/plain": [
              "array([[-4.1429 ,  2.7749 ,  0.68261, -0.71984],\n",
              "       [ 2.1059 ,  7.6046 , -0.47755, -1.8461 ],\n",
              "       [ 4.0948 , -2.9674 ,  2.3689 ,  0.75429],\n",
              "       ...,\n",
              "       [ 0.27451,  9.2186 , -3.2863 , -4.8448 ],\n",
              "       [-0.49081,  2.8452 , -3.6436 , -3.1004 ],\n",
              "       [ 3.5912 ,  3.0129 ,  0.72888,  0.56421]])"
            ]
          },
          "metadata": {},
          "execution_count": 17
        }
      ]
    },
    {
      "cell_type": "code",
      "metadata": {
        "colab": {
          "base_uri": "https://localhost:8080/"
        },
        "id": "Nd0M0aXWDf0t",
        "outputId": "75017b8a-4da7-462b-e71a-ef756c2799a4"
      },
      "source": [
        "#Labels de entrenamiento\n",
        "y_train"
      ],
      "execution_count": 18,
      "outputs": [
        {
          "output_type": "execute_result",
          "data": {
            "text/plain": [
              "array([1, 0, 0, ..., 0, 1, 0])"
            ]
          },
          "metadata": {},
          "execution_count": 18
        }
      ]
    },
    {
      "cell_type": "code",
      "metadata": {
        "colab": {
          "base_uri": "https://localhost:8080/"
        },
        "id": "0Wjjol2QDf6u",
        "outputId": "252d38df-1196-4915-ebf2-b02bd85b6183"
      },
      "source": [
        "#Features de validación\n",
        "x_test"
      ],
      "execution_count": 19,
      "outputs": [
        {
          "output_type": "execute_result",
          "data": {
            "text/plain": [
              "array([[ 2.6517e-01,  2.4066e+00, -2.8416e+00, -5.9958e-01],\n",
              "       [-1.1497e+00,  1.2954e+00,  7.7010e+00,  6.2627e-01],\n",
              "       [-2.2804e+00, -3.0626e-01,  1.3347e+00,  1.3763e+00],\n",
              "       ...,\n",
              "       [ 3.8478e-01,  6.5989e+00, -3.3360e-01, -5.6466e-01],\n",
              "       [ 1.8384e+00,  6.0630e+00,  5.4723e-01,  5.1248e-01],\n",
              "       [ 4.5691e+00, -4.4552e+00,  3.1769e+00,  4.2961e-03]])"
            ]
          },
          "metadata": {},
          "execution_count": 19
        }
      ]
    },
    {
      "cell_type": "code",
      "metadata": {
        "colab": {
          "base_uri": "https://localhost:8080/"
        },
        "id": "vgPl9WMdDf_k",
        "outputId": "518a39ac-7fef-41c7-a061-b927e2a098b3"
      },
      "source": [
        "#Labels de validación\n",
        "y_test"
      ],
      "execution_count": 20,
      "outputs": [
        {
          "output_type": "execute_result",
          "data": {
            "text/plain": [
              "array([1, 0, 1, 1, 1, 0, 0, 1, 1, 0, 1, 0, 1, 0, 1, 0, 1, 0, 0, 1, 1, 0,\n",
              "       0, 0, 1, 1, 0, 0, 1, 0, 0, 1, 0, 1, 0, 0, 1, 0, 1, 1, 0, 0, 1, 0,\n",
              "       1, 0, 0, 0, 0, 0, 0, 0, 1, 1, 0, 1, 0, 1, 0, 1, 1, 1, 0, 0, 0, 0,\n",
              "       1, 1, 0, 1, 1, 0, 0, 0, 0, 1, 0, 1, 0, 1, 1, 0, 0, 1, 1, 0, 0, 0,\n",
              "       1, 0, 1, 1, 1, 1, 0, 1, 1, 1, 1, 0, 1, 1, 1, 1, 0, 1, 0, 1, 1, 0,\n",
              "       0, 1, 0, 0, 0, 0, 0, 0, 0, 0, 0, 0, 1, 1, 0, 1, 1, 1, 0, 0, 1, 0,\n",
              "       1, 1, 0, 0, 0, 0, 1, 0, 1, 0, 0, 1, 1, 1, 0, 1, 1, 1, 0, 0, 0, 0,\n",
              "       0, 0, 1, 0, 0, 0, 1, 0, 0, 0, 0, 0, 0, 1, 1, 1, 1, 1, 1, 0, 1, 0,\n",
              "       1, 0, 1, 1, 0, 0, 0, 1, 1, 1, 0, 0, 1, 1, 0, 0, 0, 0, 0, 0, 0, 1,\n",
              "       0, 1, 1, 0, 0, 0, 1, 0, 0, 0, 0, 1, 0, 0, 1, 1, 1, 0, 1, 1, 0, 1,\n",
              "       1, 0, 0, 1, 0, 1, 0, 1, 1, 1, 1, 0, 0, 1, 0, 0, 0, 0, 1, 0, 1, 0,\n",
              "       0, 1, 0, 0, 1, 0, 1, 1, 1, 1, 0, 1, 1, 0, 0, 0, 1, 1, 1, 1, 0, 1,\n",
              "       0, 1, 0, 0, 0, 1, 0, 0, 0, 0, 0])"
            ]
          },
          "metadata": {},
          "execution_count": 20
        }
      ]
    },
    {
      "cell_type": "markdown",
      "metadata": {
        "id": "r96xnSbuDp_m"
      },
      "source": [
        "# Configuración del modelo"
      ]
    },
    {
      "cell_type": "code",
      "metadata": {
        "id": "bhCX7DwXB16-"
      },
      "source": [
        "#Crearemos una función que construya la red neuronal\n",
        "def definicion_red_neuronal():\n",
        "  #Instaciamos un modelo de machine learning vacío con \"Sequential\"\n",
        "  model = Sequential()\n",
        "\n",
        "  #Creamos la red neuronal\n",
        "  #En la primera neurona verificamos si le hemos enviado un inicializador\n",
        "  model.add(Dense(1, input_shape=(4,), activation='sigmoid'))\n",
        "\n",
        "  #De aquí en adelante seguimos construyendo nuestra red neuronal\n",
        "\n",
        "  return model"
      ],
      "execution_count": 21,
      "outputs": []
    },
    {
      "cell_type": "markdown",
      "metadata": {
        "id": "KZ5DNZxz-AWO"
      },
      "source": [
        "# Calibracion de Learning Rate"
      ]
    },
    {
      "cell_type": "code",
      "metadata": {
        "id": "fg97kLyP-SED",
        "colab": {
          "base_uri": "https://localhost:8080/"
        },
        "outputId": "78c0d773-6b98-42e4-c973-dc9508af7dd5"
      },
      "source": [
        "#Creamos un array en donde guardaremos las descripciones de cada entrenamiento\n",
        "array_descripciones = []\n",
        "\n",
        "#Iteramos cada calibración\n",
        "for lr in calibracion_lr:\n",
        "  #Obtenemos la red neuronal\n",
        "  model = definicion_red_neuronal()\n",
        "\n",
        "  #Agregamos el \"lr\" de la calibración\n",
        "  model.compile(\n",
        "    loss='binary_crossentropy',\n",
        "    optimizer=SGD(lr=lr),\n",
        "    metrics=['accuracy']\n",
        "  )\n",
        "  \n",
        "  #Entrenamos la neurona\n",
        "  #Para evitar que el output de entrenamiento se muestre en pantalla desactivamos la variable \"verbose\"\n",
        "  descripcion_de_entrenamiento = model.fit(x_train, y_train, epochs = numero_de_iteraciones_al_entrenar, verbose=0)\n",
        "\n",
        "  #Convertimos la descripción del entrenamiento en un dataframe\n",
        "  df = pd.DataFrame(\n",
        "      descripcion_de_entrenamiento.history,\n",
        "      index = descripcion_de_entrenamiento.epoch\n",
        "  )\n",
        "\n",
        "  #Agregamos el dataframe a la lista de descripciones de entrenamiento\n",
        "  array_descripciones.append(df)"
      ],
      "execution_count": 22,
      "outputs": [
        {
          "output_type": "stream",
          "name": "stderr",
          "text": [
            "/usr/local/lib/python3.7/dist-packages/keras/optimizer_v2/optimizer_v2.py:356: UserWarning: The `lr` argument is deprecated, use `learning_rate` instead.\n",
            "  \"The `lr` argument is deprecated, use `learning_rate` instead.\")\n"
          ]
        }
      ]
    },
    {
      "cell_type": "code",
      "metadata": {
        "id": "_T9t6HBd_LWS"
      },
      "source": [
        "#Obtenemos la evolucion del \"loss\" y el \"accuracy\"\n",
        "dfLoss, dfAccuracy = obtener_df_loss_accuracy(calibracion_lr, 'lr', array_descripciones)"
      ],
      "execution_count": 23,
      "outputs": []
    },
    {
      "cell_type": "code",
      "metadata": {
        "colab": {
          "base_uri": "https://localhost:8080/",
          "height": 286
        },
        "id": "MZR7XKp5_Vxo",
        "outputId": "896be5be-8740-4d89-9639-4c0688646997"
      },
      "source": [
        "#Graficamos el dfLoss\n",
        "dfLoss.plot(ylim=(0,1))"
      ],
      "execution_count": 24,
      "outputs": [
        {
          "output_type": "execute_result",
          "data": {
            "text/plain": [
              "<matplotlib.axes._subplots.AxesSubplot at 0x7fbb60519d50>"
            ]
          },
          "metadata": {},
          "execution_count": 24
        },
        {
          "output_type": "display_data",
          "data": {
            "image/png": "[encoded data removed]",
            "text/plain": [
              "<Figure size 432x288 with 1 Axes>"
            ]
          },
          "metadata": {
            "needs_background": "light"
          }
        }
      ]
    },
    {
      "cell_type": "code",
      "metadata": {
        "colab": {
          "base_uri": "https://localhost:8080/",
          "height": 286
        },
        "id": "MDfMfRrd_a4Y",
        "outputId": "b58bbe12-79d7-46de-d45d-35b4e1deea4c"
      },
      "source": [
        "#Graficamos el dfLoss\n",
        "dfAccuracy.plot(ylim=(0,1))"
      ],
      "execution_count": 25,
      "outputs": [
        {
          "output_type": "execute_result",
          "data": {
            "text/plain": [
              "<matplotlib.axes._subplots.AxesSubplot at 0x7fbb61acc2d0>"
            ]
          },
          "metadata": {},
          "execution_count": 25
        },
        {
          "output_type": "display_data",
          "data": {
            "image/png": "[encoded data removed]",
            "text/plain": [
              "<Figure size 432x288 with 1 Axes>"
            ]
          },
          "metadata": {
            "needs_background": "light"
          }
        }
      ]
    },
    {
      "cell_type": "code",
      "metadata": {
        "id": "oXKGFDjB_gFu"
      },
      "source": [
        "#NOS QUEDAMOS CON EL VALOR MÁS BAJO DEL LOSS O EL MÁS ALTO DEL ACCURACY\n",
        "lr_calibrado = 0.5"
      ],
      "execution_count": 26,
      "outputs": []
    },
    {
      "cell_type": "markdown",
      "metadata": {
        "id": "AMyQAIFx_p8P"
      },
      "source": [
        "# Calibración del Batch Size"
      ]
    },
    {
      "cell_type": "code",
      "metadata": {
        "id": "s_dlaV6S_w4Y",
        "colab": {
          "base_uri": "https://localhost:8080/"
        },
        "outputId": "cf647c26-1de3-43ba-ac69-2c410331df93"
      },
      "source": [
        "#Creamos un array en donde guardaremos las descripciones de cada entrenamiento\n",
        "array_descripciones = []\n",
        "\n",
        "#Iteramos cada calibración\n",
        "for batch in calibracion_batch:\n",
        "  #Obtenemos la red neuronal\n",
        "  model = definicion_red_neuronal()\n",
        "\n",
        "  #Agregamos el \"lr\" de la calibración\n",
        "  #En \"lr\" ya hemos calibrado su valor, sabemos que el valor de 0.5 es el indicado\n",
        "  model.compile(\n",
        "    loss='binary_crossentropy',\n",
        "    optimizer=SGD(lr=lr_calibrado),\n",
        "    metrics=['accuracy']\n",
        "  )\n",
        "  \n",
        "  #Entrenamos la neurona\n",
        "  #En \"batch_size\" definimos el valor\n",
        "  descripcion_de_entrenamiento = model.fit(x_train, y_train, epochs = numero_de_iteraciones_al_entrenar, batch_size=batch, verbose=0)\n",
        "\n",
        "  #Convertimos la descripción del entrenamiento en un dataframe\n",
        "  df = pd.DataFrame(\n",
        "      descripcion_de_entrenamiento.history,\n",
        "      index = descripcion_de_entrenamiento.epoch\n",
        "  )\n",
        "\n",
        "  #Agregamos el dataframe a la lista de descripciones de entrenamiento\n",
        "  array_descripciones.append(df)"
      ],
      "execution_count": 27,
      "outputs": [
        {
          "output_type": "stream",
          "name": "stderr",
          "text": [
            "/usr/local/lib/python3.7/dist-packages/keras/optimizer_v2/optimizer_v2.py:356: UserWarning: The `lr` argument is deprecated, use `learning_rate` instead.\n",
            "  \"The `lr` argument is deprecated, use `learning_rate` instead.\")\n"
          ]
        }
      ]
    },
    {
      "cell_type": "code",
      "metadata": {
        "id": "Z5YaZSyzA84G"
      },
      "source": [
        "#Obtenemos la evolucion del \"loss\" y el \"accuracy\"\n",
        "dfLoss, dfAccuracy = obtener_df_loss_accuracy(calibracion_batch, 'batch', array_descripciones)"
      ],
      "execution_count": 28,
      "outputs": []
    },
    {
      "cell_type": "code",
      "metadata": {
        "colab": {
          "base_uri": "https://localhost:8080/",
          "height": 286
        },
        "id": "9IMePSM5BDMk",
        "outputId": "5af9d034-d643-4f45-b7e9-2ab83bb2a64a"
      },
      "source": [
        "#Graficamos el dfLoss\n",
        "dfLoss.plot(ylim=(0,1))"
      ],
      "execution_count": 29,
      "outputs": [
        {
          "output_type": "execute_result",
          "data": {
            "text/plain": [
              "<matplotlib.axes._subplots.AxesSubplot at 0x7fbb5cea7a50>"
            ]
          },
          "metadata": {},
          "execution_count": 29
        },
        {
          "output_type": "display_data",
          "data": {
            "image/png": "[encoded data removed]",
            "text/plain": [
              "<Figure size 432x288 with 1 Axes>"
            ]
          },
          "metadata": {
            "needs_background": "light"
          }
        }
      ]
    },
    {
      "cell_type": "code",
      "metadata": {
        "colab": {
          "base_uri": "https://localhost:8080/",
          "height": 286
        },
        "id": "Fcbf4EiFBHCm",
        "outputId": "ea01d6e1-7791-4eb3-beec-39417cddc873"
      },
      "source": [
        "#Graficamos el dfLoss\n",
        "dfAccuracy.plot(ylim=(0,1))"
      ],
      "execution_count": 30,
      "outputs": [
        {
          "output_type": "execute_result",
          "data": {
            "text/plain": [
              "<matplotlib.axes._subplots.AxesSubplot at 0x7fbb5ce06350>"
            ]
          },
          "metadata": {},
          "execution_count": 30
        },
        {
          "output_type": "display_data",
          "data": {
            "image/png": "[encoded data removed]",
            "text/plain": [
              "<Figure size 432x288 with 1 Axes>"
            ]
          },
          "metadata": {
            "needs_background": "light"
          }
        }
      ]
    },
    {
      "cell_type": "code",
      "metadata": {
        "id": "_TSerM5MCrnQ"
      },
      "source": [
        "#NOS QUEDAMOS CON EL VALOR MÁS BAJO DEL LOSS O EL MÁS ALTO DEL ACCURACY\n",
        "batch_calibrado = 32"
      ],
      "execution_count": 31,
      "outputs": []
    },
    {
      "cell_type": "markdown",
      "metadata": {
        "id": "xEtvGCokDNa-"
      },
      "source": [
        "# Calibración del optimizador"
      ]
    },
    {
      "cell_type": "code",
      "metadata": {
        "id": "fE7URuGzDUB5",
        "colab": {
          "base_uri": "https://localhost:8080/"
        },
        "outputId": "fc38e15d-0440-4559-e5a5-ba7e20dfb0af"
      },
      "source": [
        "#Creamos un array en donde guardaremos las descripciones de cada entrenamiento\n",
        "array_descripciones = []\n",
        "\n",
        "#Iteramos cada calibración\n",
        "for optimizador in calibracion_optimizador:\n",
        "  #Obtenemos la red neuronal\n",
        "  model = definicion_red_neuronal()\n",
        "  \n",
        "  #Agregamos el \"lr\" de la calibración\n",
        "  #En \"lr\" ya hemos calibrado su valor, sabemos que el valor de 0.5 es el indicado\n",
        "  model.compile(\n",
        "    loss='binary_crossentropy',\n",
        "    optimizer=eval(optimizador),\n",
        "    metrics=['accuracy']\n",
        "  )\n",
        "  \n",
        "  #Entrenamos la neurona\n",
        "  #En \"batch_size\" colocamos 32, ya que fue lo que encontramos en la calibración anterior\n",
        "  descripcion_de_entrenamiento = model.fit(x_train, y_train, epochs = numero_de_iteraciones_al_entrenar, batch_size=batch_calibrado, verbose=0)\n",
        "\n",
        "  #Convertimos la descripción del entrenamiento en un dataframe\n",
        "  df = pd.DataFrame(\n",
        "      descripcion_de_entrenamiento.history,\n",
        "      index = descripcion_de_entrenamiento.epoch\n",
        "  )\n",
        "\n",
        "  #Agregamos el dataframe a la lista de descripciones de entrenamiento\n",
        "  array_descripciones.append(df)"
      ],
      "execution_count": 32,
      "outputs": [
        {
          "output_type": "stream",
          "name": "stderr",
          "text": [
            "/usr/local/lib/python3.7/dist-packages/keras/optimizer_v2/optimizer_v2.py:356: UserWarning: The `lr` argument is deprecated, use `learning_rate` instead.\n",
            "  \"The `lr` argument is deprecated, use `learning_rate` instead.\")\n"
          ]
        }
      ]
    },
    {
      "cell_type": "code",
      "metadata": {
        "id": "phl8ey8GD5g5"
      },
      "source": [
        "#Obtenemos la evolucion del \"loss\" y el \"accuracy\"\n",
        "dfLoss, dfAccuracy = obtener_df_loss_accuracy(calibracion_optimizador, 'optimizador', array_descripciones)"
      ],
      "execution_count": 33,
      "outputs": []
    },
    {
      "cell_type": "code",
      "metadata": {
        "colab": {
          "base_uri": "https://localhost:8080/",
          "height": 286
        },
        "id": "UpTKb0uGEFCc",
        "outputId": "0872103d-ed43-4b3d-c987-d22b81d96859"
      },
      "source": [
        "#Graficamos el dfLoss\n",
        "dfLoss.plot(ylim=(0,1))"
      ],
      "execution_count": 34,
      "outputs": [
        {
          "output_type": "execute_result",
          "data": {
            "text/plain": [
              "<matplotlib.axes._subplots.AxesSubplot at 0x7fbb61681d90>"
            ]
          },
          "metadata": {},
          "execution_count": 34
        },
        {
          "output_type": "display_data",
          "data": {
            "image/png": "[encoded data removed]",
            "text/plain": [
              "<Figure size 432x288 with 1 Axes>"
            ]
          },
          "metadata": {
            "needs_background": "light"
          }
        }
      ]
    },
    {
      "cell_type": "code",
      "metadata": {
        "colab": {
          "base_uri": "https://localhost:8080/",
          "height": 286
        },
        "id": "j7FpFZoZEHc-",
        "outputId": "7d88c91e-dddc-446a-a3bb-d8945403e009"
      },
      "source": [
        "#Graficamos el dfLoss\n",
        "dfAccuracy.plot(ylim=(0,1))"
      ],
      "execution_count": 35,
      "outputs": [
        {
          "output_type": "execute_result",
          "data": {
            "text/plain": [
              "<matplotlib.axes._subplots.AxesSubplot at 0x7fbb61be5c50>"
            ]
          },
          "metadata": {},
          "execution_count": 35
        },
        {
          "output_type": "display_data",
          "data": {
            "image/png": "[encoded data removed]",
            "text/plain": [
              "<Figure size 432x288 with 1 Axes>"
            ]
          },
          "metadata": {
            "needs_background": "light"
          }
        }
      ]
    },
    {
      "cell_type": "code",
      "metadata": {
        "id": "WsX3Cn-EELEw",
        "colab": {
          "base_uri": "https://localhost:8080/"
        },
        "outputId": "964ed98a-5fc1-45be-d320-dacddcfb80b5"
      },
      "source": [
        "#NOS QUEDAMOS CON EL VALOR MÁS BAJO DEL LOSS O EL MÁS ALTO DEL ACCURACY\n",
        "optimizador_calibrado = Adam(lr=0.5)"
      ],
      "execution_count": 36,
      "outputs": [
        {
          "output_type": "stream",
          "name": "stderr",
          "text": [
            "/usr/local/lib/python3.7/dist-packages/keras/optimizer_v2/optimizer_v2.py:356: UserWarning: The `lr` argument is deprecated, use `learning_rate` instead.\n",
            "  \"The `lr` argument is deprecated, use `learning_rate` instead.\")\n"
          ]
        }
      ]
    },
    {
      "cell_type": "markdown",
      "metadata": {
        "id": "i0x3dWr97dlm"
      },
      "source": [
        "# Definicion del modelo"
      ]
    },
    {
      "cell_type": "code",
      "metadata": {
        "id": "b_ZSaP47EGod"
      },
      "source": [
        "#Definimos el modelo con el inicializador calibrado\n",
        "model = definicion_red_neuronal()"
      ],
      "execution_count": 37,
      "outputs": []
    },
    {
      "cell_type": "markdown",
      "metadata": {
        "id": "rmH3oNmvFhUa"
      },
      "source": [
        "# Compilación del modelo"
      ]
    },
    {
      "cell_type": "code",
      "metadata": {
        "id": "6xjz0OvwFgrC"
      },
      "source": [
        "#Compilamos el modelo con el optimizador calibrado\n",
        "model.compile(\n",
        "  loss='binary_crossentropy',\n",
        "  optimizer=optimizador_calibrado,\n",
        "  metrics=['accuracy']\n",
        ")"
      ],
      "execution_count": 38,
      "outputs": []
    },
    {
      "cell_type": "markdown",
      "metadata": {
        "id": "t56C1hhGEeDL"
      },
      "source": [
        "# Entrenamiento del modelo"
      ]
    },
    {
      "cell_type": "code",
      "metadata": {
        "colab": {
          "base_uri": "https://localhost:8080/"
        },
        "id": "MhkHjsy_Ef15",
        "outputId": "5dddd95d-fd1d-40a8-8e1e-57f10e32f2e4"
      },
      "source": [
        "#Entrenamos el modelo enviándole los features (x_train) y labels (y_train) de entrenamiento, con el batch calibrado\n",
        "model.fit(x_train, y_train, epochs=numero_de_iteraciones_al_entrenar, batch_size=batch_calibrado)"
      ],
      "execution_count": 39,
      "outputs": [
        {
          "output_type": "stream",
          "name": "stdout",
          "text": [
            "Epoch 1/10\n",
            "35/35 [==============================] - 0s 1ms/step - loss: 0.2294 - accuracy: 0.9152\n",
            "Epoch 2/10\n",
            "35/35 [==============================] - 0s 1ms/step - loss: 0.0383 - accuracy: 0.9863\n",
            "Epoch 3/10\n",
            "35/35 [==============================] - 0s 1ms/step - loss: 0.0702 - accuracy: 0.9772\n",
            "Epoch 4/10\n",
            "35/35 [==============================] - 0s 1ms/step - loss: 0.0331 - accuracy: 0.9872\n",
            "Epoch 5/10\n",
            "35/35 [==============================] - 0s 1ms/step - loss: 0.0236 - accuracy: 0.9881\n",
            "Epoch 6/10\n",
            "35/35 [==============================] - 0s 1ms/step - loss: 0.0448 - accuracy: 0.9872\n",
            "Epoch 7/10\n",
            "35/35 [==============================] - 0s 1ms/step - loss: 0.0354 - accuracy: 0.9863\n",
            "Epoch 8/10\n",
            "35/35 [==============================] - 0s 1ms/step - loss: 0.0263 - accuracy: 0.9881\n",
            "Epoch 9/10\n",
            "35/35 [==============================] - 0s 1ms/step - loss: 0.0679 - accuracy: 0.9809\n",
            "Epoch 10/10\n",
            "35/35 [==============================] - 0s 1ms/step - loss: 0.0473 - accuracy: 0.9854\n"
          ]
        },
        {
          "output_type": "execute_result",
          "data": {
            "text/plain": [
              "<keras.callbacks.History at 0x7fbb61d96c10>"
            ]
          },
          "metadata": {},
          "execution_count": 39
        }
      ]
    },
    {
      "cell_type": "markdown",
      "metadata": {
        "id": "FrqOayu_E0JX"
      },
      "source": [
        "# Accuracy de entrenamiento (patrones encontrados en la data)"
      ]
    },
    {
      "cell_type": "code",
      "metadata": {
        "colab": {
          "base_uri": "https://localhost:8080/"
        },
        "id": "XTYu4XFVE28o",
        "outputId": "feca758f-15da-4562-896a-62d92c52455b"
      },
      "source": [
        "#Con los features (x_train) que usamos para entrenar el modelo, realizamos las predicciones (y_train_prediccion)\n",
        "y_train_prediccion = model.predict(x_train).ravel()\n",
        "y_train_prediccion"
      ],
      "execution_count": 40,
      "outputs": [
        {
          "output_type": "execute_result",
          "data": {
            "text/plain": [
              "array([1.0000000e+00, 2.1990498e-14, 8.9682106e-10, ..., 2.1727128e-05,\n",
              "       1.0000000e+00, 1.6350057e-14], dtype=float32)"
            ]
          },
          "metadata": {},
          "execution_count": 40
        }
      ]
    },
    {
      "cell_type": "code",
      "metadata": {
        "colab": {
          "base_uri": "https://localhost:8080/"
        },
        "id": "BQs5QbSfMIOB",
        "outputId": "09edec19-8e32-4ea4-90d7-47b1940cb7c7"
      },
      "source": [
        "#Binarizamos las predicciones\n",
        "#Todo lo que esté por encima de \"0.5\" será un \"1\"\n",
        "#Todo lo que esté por debajo de \"0.5\" será un \"0\"\n",
        "y_train_prediccion_binaria = y_train_prediccion > 0.5\n",
        "y_train_prediccion_binaria"
      ],
      "execution_count": 41,
      "outputs": [
        {
          "output_type": "execute_result",
          "data": {
            "text/plain": [
              "array([ True, False, False, ..., False,  True, False])"
            ]
          },
          "metadata": {},
          "execution_count": 41
        }
      ]
    },
    {
      "cell_type": "code",
      "metadata": {
        "colab": {
          "base_uri": "https://localhost:8080/"
        },
        "id": "70MfNdoKFQ8U",
        "outputId": "e073086b-b122-4c93-cf2f-c4cd4f810d46"
      },
      "source": [
        "#Calculamos el error de entrenamiento\n",
        "#INTERPRETACIÓN: El modelo encontró el 81.25% de los patrones existentes en la data\n",
        "accuracy_score(y_train, y_train_prediccion_binaria)"
      ],
      "execution_count": 42,
      "outputs": [
        {
          "output_type": "execute_result",
          "data": {
            "text/plain": [
              "0.9881494986326345"
            ]
          },
          "metadata": {},
          "execution_count": 42
        }
      ]
    },
    {
      "cell_type": "markdown",
      "metadata": {
        "id": "Mx3QPUNDFfnM"
      },
      "source": [
        "# Accuracy de uso (accuracy de predicción)"
      ]
    },
    {
      "cell_type": "code",
      "metadata": {
        "colab": {
          "base_uri": "https://localhost:8080/"
        },
        "id": "in51pu1HFhhK",
        "outputId": "971088ee-c4b2-4c61-b703-aca3566fb166"
      },
      "source": [
        "#Con los features (x_test) que no usamos para entrenar al modelo, realizamos las predicciones (y_test_prediccion)\n",
        "y_test_prediccion = model.predict(x_test).ravel()\n",
        "y_test_prediccion"
      ],
      "execution_count": 43,
      "outputs": [
        {
          "output_type": "execute_result",
          "data": {
            "text/plain": [
              "array([9.99945045e-01, 1.96822905e-10, 1.00000000e+00, 1.00000000e+00,\n",
              "       9.99997675e-01, 6.70245516e-14, 7.17724075e-11, 9.99695301e-01,\n",
              "       1.00000000e+00, 2.17984844e-14, 8.60651076e-01, 9.46454790e-11,\n",
              "       1.00000000e+00, 7.79219189e-10, 9.97345328e-01, 5.67541398e-18,\n",
              "       1.00000000e+00, 1.82728748e-08, 2.28609936e-15, 9.99996543e-01,\n",
              "       9.99944568e-01, 3.16545218e-19, 4.85827592e-17, 5.91479385e-18,\n",
              "       9.99999166e-01, 1.00000000e+00, 1.86737667e-15, 5.54964874e-13,\n",
              "       1.00000000e+00, 3.86505842e-01, 1.05098777e-11, 9.99998391e-01,\n",
              "       9.61964536e-11, 1.00000000e+00, 1.24227302e-13, 2.08050117e-15,\n",
              "       1.00000000e+00, 3.74016749e-14, 9.99997139e-01, 1.00000000e+00,\n",
              "       1.06490062e-15, 2.84671283e-16, 1.00000000e+00, 1.08398984e-11,\n",
              "       1.00000000e+00, 3.43297114e-13, 9.35759174e-13, 7.73918690e-12,\n",
              "       2.08312448e-20, 2.82416222e-15, 2.45890974e-10, 1.36436835e-08,\n",
              "       1.00000000e+00, 9.99993324e-01, 4.17909042e-19, 9.99993324e-01,\n",
              "       5.81269652e-14, 1.00000000e+00, 5.32421954e-11, 9.99994874e-01,\n",
              "       1.00000000e+00, 1.00000000e+00, 2.56100163e-09, 3.10899552e-16,\n",
              "       1.04332429e-07, 2.46136023e-09, 1.00000000e+00, 1.00000000e+00,\n",
              "       2.82885992e-10, 1.00000000e+00, 1.00000000e+00, 2.09442144e-14,\n",
              "       1.91236527e-10, 3.86505842e-01, 2.23837355e-12, 1.00000000e+00,\n",
              "       7.85786158e-10, 9.92413938e-01, 6.18597090e-01, 1.00000000e+00,\n",
              "       9.92691755e-01, 1.78268372e-10, 7.65323639e-03, 1.00000000e+00,\n",
              "       9.99769926e-01, 3.98685703e-15, 9.16915834e-01, 8.45317035e-13,\n",
              "       9.94907379e-01, 2.98658288e-05, 9.99999583e-01, 1.00000000e+00,\n",
              "       1.00000000e+00, 9.99817193e-01, 2.86142182e-16, 1.00000000e+00,\n",
              "       9.99998927e-01, 1.00000000e+00, 1.00000000e+00, 6.77869075e-15,\n",
              "       9.99799311e-01, 1.00000000e+00, 9.99940753e-01, 1.00000000e+00,\n",
              "       2.74964486e-13, 1.00000000e+00, 9.25314568e-16, 9.99998987e-01,\n",
              "       1.00000000e+00, 3.50958378e-14, 1.42670167e-16, 9.99961972e-01,\n",
              "       1.04975043e-17, 3.20340178e-11, 5.32446049e-12, 5.48055389e-15,\n",
              "       2.35921770e-01, 2.10067742e-06, 2.06083059e-04, 2.60006172e-09,\n",
              "       7.31191449e-07, 2.52836657e-07, 9.99976039e-01, 9.99999642e-01,\n",
              "       6.66290003e-19, 9.81565237e-01, 1.00000000e+00, 1.00000000e+00,\n",
              "       8.91440838e-13, 7.00231214e-13, 8.11775625e-02, 1.21510633e-08,\n",
              "       1.00000000e+00, 1.00000000e+00, 2.56324421e-13, 1.74078299e-18,\n",
              "       4.11268960e-16, 1.77410760e-11, 9.99413013e-01, 1.10212980e-07,\n",
              "       9.99999642e-01, 7.51234737e-08, 5.38245257e-14, 9.99996245e-01,\n",
              "       1.00000000e+00, 9.99707460e-01, 1.57605754e-13, 1.00000000e+00,\n",
              "       9.99999821e-01, 9.99999583e-01, 3.07738390e-09, 4.78923512e-10,\n",
              "       5.95575467e-17, 8.22347647e-05, 1.26121238e-10, 1.67440372e-15,\n",
              "       1.00000000e+00, 7.30339617e-13, 2.17668981e-15, 5.28424978e-04,\n",
              "       1.00000000e+00, 6.15460894e-12, 4.00758121e-14, 1.57329847e-08,\n",
              "       6.18597090e-01, 1.97556858e-12, 5.17046295e-10, 9.99037623e-01,\n",
              "       9.99997914e-01, 9.99999404e-01, 1.00000000e+00, 1.00000000e+00,\n",
              "       8.95548284e-01, 9.38917485e-11, 1.00000000e+00, 3.22143537e-14,\n",
              "       9.99994755e-01, 2.71341980e-01, 1.00000000e+00, 1.00000000e+00,\n",
              "       3.25850241e-13, 2.23417760e-11, 6.20218330e-08, 1.00000000e+00,\n",
              "       9.99998808e-01, 9.99901414e-01, 4.03200406e-09, 9.45607889e-16,\n",
              "       9.99972224e-01, 1.00000000e+00, 4.51554704e-15, 6.65354729e-03,\n",
              "       9.57159618e-16, 6.00223274e-11, 2.68886096e-13, 2.32749990e-16,\n",
              "       1.66014527e-14, 9.99999523e-01, 1.53791299e-10, 1.00000000e+00,\n",
              "       1.00000000e+00, 1.39663566e-19, 2.42300185e-20, 3.51197671e-09,\n",
              "       9.99999404e-01, 5.82535214e-13, 1.58244238e-05, 6.16867113e-10,\n",
              "       1.57851854e-13, 9.99998569e-01, 4.63587935e-13, 2.76103099e-11,\n",
              "       1.00000000e+00, 9.98563290e-01, 1.00000000e+00, 4.02998110e-13,\n",
              "       1.00000000e+00, 1.00000000e+00, 2.73409821e-16, 1.00000000e+00,\n",
              "       1.00000000e+00, 3.18152817e-12, 2.02716499e-15, 9.99152660e-01,\n",
              "       4.75591670e-18, 1.00000000e+00, 5.57604466e-14, 1.00000000e+00,\n",
              "       1.00000000e+00, 1.00000000e+00, 1.00000000e+00, 1.26946233e-07,\n",
              "       1.33713680e-16, 1.00000000e+00, 1.79214998e-15, 3.70405616e-07,\n",
              "       8.08668879e-19, 1.56412511e-15, 9.99712586e-01, 1.52740197e-16,\n",
              "       1.00000000e+00, 8.24224749e-13, 2.48116208e-07, 1.00000000e+00,\n",
              "       2.56907719e-14, 8.45640835e-10, 1.00000000e+00, 7.09060555e-15,\n",
              "       9.99964118e-01, 1.00000000e+00, 9.99999046e-01, 9.98103142e-01,\n",
              "       2.58561835e-11, 1.00000000e+00, 1.00000000e+00, 7.77569809e-21,\n",
              "       6.51311204e-15, 1.35678585e-15, 1.00000000e+00, 1.00000000e+00,\n",
              "       1.00000000e+00, 1.00000000e+00, 1.08311951e-06, 9.99147534e-01,\n",
              "       6.88284636e-04, 1.00000000e+00, 1.24968774e-13, 1.61999941e-01,\n",
              "       9.58771467e-01, 1.00000000e+00, 4.15090911e-17, 5.99601876e-15,\n",
              "       4.05419982e-08, 1.32243825e-13, 3.16263044e-10], dtype=float32)"
            ]
          },
          "metadata": {},
          "execution_count": 43
        }
      ]
    },
    {
      "cell_type": "code",
      "metadata": {
        "colab": {
          "base_uri": "https://localhost:8080/"
        },
        "id": "KGKJ31yaMs8k",
        "outputId": "0fe7df7f-80a7-4edc-b6bb-17e57598342c"
      },
      "source": [
        "#Binarizamos las predicciones\n",
        "#Todo lo que esté por encima de \"0.5\" será un \"1\"\n",
        "#Todo lo que esté por debajo de \"0.5\" será un \"0\"\n",
        "y_test_prediccion_binaria = y_test_prediccion > 0.5\n",
        "y_test_prediccion_binaria"
      ],
      "execution_count": 44,
      "outputs": [
        {
          "output_type": "execute_result",
          "data": {
            "text/plain": [
              "array([ True, False,  True,  True,  True, False, False,  True,  True,\n",
              "       False,  True, False,  True, False,  True, False,  True, False,\n",
              "       False,  True,  True, False, False, False,  True,  True, False,\n",
              "       False,  True, False, False,  True, False,  True, False, False,\n",
              "        True, False,  True,  True, False, False,  True, False,  True,\n",
              "       False, False, False, False, False, False, False,  True,  True,\n",
              "       False,  True, False,  True, False,  True,  True,  True, False,\n",
              "       False, False, False,  True,  True, False,  True,  True, False,\n",
              "       False, False, False,  True, False,  True,  True,  True,  True,\n",
              "       False, False,  True,  True, False,  True, False,  True, False,\n",
              "        True,  True,  True,  True, False,  True,  True,  True,  True,\n",
              "       False,  True,  True,  True,  True, False,  True, False,  True,\n",
              "        True, False, False,  True, False, False, False, False, False,\n",
              "       False, False, False, False, False,  True,  True, False,  True,\n",
              "        True,  True, False, False, False, False,  True,  True, False,\n",
              "       False, False, False,  True, False,  True, False, False,  True,\n",
              "        True,  True, False,  True,  True,  True, False, False, False,\n",
              "       False, False, False,  True, False, False, False,  True, False,\n",
              "       False, False,  True, False, False,  True,  True,  True,  True,\n",
              "        True,  True, False,  True, False,  True, False,  True,  True,\n",
              "       False, False, False,  True,  True,  True, False, False,  True,\n",
              "        True, False, False, False, False, False, False, False,  True,\n",
              "       False,  True,  True, False, False, False,  True, False, False,\n",
              "       False, False,  True, False, False,  True,  True,  True, False,\n",
              "        True,  True, False,  True,  True, False, False,  True, False,\n",
              "        True, False,  True,  True,  True,  True, False, False,  True,\n",
              "       False, False, False, False,  True, False,  True, False, False,\n",
              "        True, False, False,  True, False,  True,  True,  True,  True,\n",
              "       False,  True,  True, False, False, False,  True,  True,  True,\n",
              "        True, False,  True, False,  True, False, False,  True,  True,\n",
              "       False, False, False, False, False])"
            ]
          },
          "metadata": {},
          "execution_count": 44
        }
      ]
    },
    {
      "cell_type": "code",
      "metadata": {
        "colab": {
          "base_uri": "https://localhost:8080/"
        },
        "id": "yLyLq7MtF_-Y",
        "outputId": "8476060f-5339-4f23-bca7-98639f5b9462"
      },
      "source": [
        "#Calculamos el error\n",
        "#INTERPRETACIÓN: El modelo al ser usado en un entorno productivo, de 100 casos acertará en 80 y se equivocará en 20 casos\n",
        "accuracy_score(y_test, y_test_prediccion_binaria)"
      ],
      "execution_count": 45,
      "outputs": [
        {
          "output_type": "execute_result",
          "data": {
            "text/plain": [
              "0.9818181818181818"
            ]
          },
          "metadata": {},
          "execution_count": 45
        }
      ]
    },
    {
      "cell_type": "markdown",
      "metadata": {
        "id": "sI37fSavGNd9"
      },
      "source": [
        "# Análisis final"
      ]
    },
    {
      "cell_type": "code",
      "metadata": {
        "id": "1uo7BHXFGP7s"
      },
      "source": [
        "#El modelo tiene un alto porcentaje de reconocimiento de patrones en los datos (98.26%)\n",
        "#El modelo tiene un alto porcentaje de aciertos en nuestras predicciones (98.18%)\n",
        "#La diferencia entre el porcentaje de reconocimiento de patrones (98.26%) y el porcentaje de aciertos (98.18%) es pequeña (0.08%)\n",
        "#Como la diferencia es pequeña, estamos frente a un modelo que representa y predice muy bien la realidad de negocio\n",
        "#Es un modelo que podemos usar en un entorno real de producción"
      ],
      "execution_count": 46,
      "outputs": []
    }
  ]
}