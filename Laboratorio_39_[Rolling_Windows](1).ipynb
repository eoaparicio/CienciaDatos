{
  "nbformat": 4,
  "nbformat_minor": 0,
  "metadata": {
    "colab": {
      "name": "Laboratorio 51 [Rolling Windows].ipynb",
      "provenance": []
    },
    "kernelspec": {
      "name": "python3",
      "display_name": "Python 3"
    },
    "language_info": {
      "name": "python"
    }
  },
  "cells": [
    {
      "cell_type": "markdown",
      "metadata": {
        "id": "sG0todWUPaqf"
      },
      "source": [
        "# Librerías"
      ]
    },
    {
      "cell_type": "code",
      "metadata": {
        "id": "BzLxx_oIPbLU"
      },
      "source": [
        "import pandas as pd\n",
        "import numpy as np\n",
        "%matplotlib inline\n",
        "import matplotlib.pyplot as plt"
      ],
      "execution_count": 410,
      "outputs": []
    },
    {
      "cell_type": "markdown",
      "metadata": {
        "id": "kMVwINAyPatA"
      },
      "source": [
        "# Conexión al repositorio de datos"
      ]
    },
    {
      "cell_type": "code",
      "metadata": {
        "colab": {
          "base_uri": "https://localhost:8080/"
        },
        "id": "TUJLzJD4PfJb",
        "outputId": "e5c07a01-f4c4-4b3d-a9a9-8b0f8cca981f"
      },
      "source": [
        "from google.colab import drive\n",
        "drive.mount('/content/drive')"
      ],
      "execution_count": 411,
      "outputs": [
        {
          "output_type": "stream",
          "text": [
            "Drive already mounted at /content/drive; to attempt to forcibly remount, call drive.mount(\"/content/drive\", force_remount=True).\n"
          ],
          "name": "stdout"
        }
      ]
    },
    {
      "cell_type": "markdown",
      "metadata": {
        "id": "ucnYIyrzPavN"
      },
      "source": [
        "# Lectura de archivos tensoriales"
      ]
    },
    {
      "cell_type": "code",
      "metadata": {
        "id": "FoW2m1w4PjIC"
      },
      "source": [
        "#Leemos el archivo tensorial de entrenamiento\n",
        "dataset_train = np.load('/content/drive/MyDrive/Data/train_rr.npz', allow_pickle=True)\n",
        "\n",
        "#Extraemos los features de entrenamiento\n",
        "x_train = dataset_train['arr_0'][()]['features']\n",
        "\n",
        "#Extraemos los labels de entrenamiento\n",
        "y_train = dataset_train['arr_0'][()]['labels']"
      ],
      "execution_count": 412,
      "outputs": []
    },
    {
      "cell_type": "code",
      "metadata": {
        "id": "QCTY2IYPPpYq"
      },
      "source": [
        "#Leemos el archivo tensorial de validación\n",
        "dataset_test = np.load('/content/drive/MyDrive/Data/test_rr.npz', allow_pickle=True)\n",
        "\n",
        "#Extraemos los features de validación\n",
        "x_test = dataset_test['arr_0'][()]['features']\n",
        "\n",
        "#Extraemos los labels de validación\n",
        "y_test = dataset_test['arr_0'][()]['labels']"
      ],
      "execution_count": 413,
      "outputs": []
    },
    {
      "cell_type": "markdown",
      "metadata": {
        "id": "LXC2FysjPaxg"
      },
      "source": [
        "# Creación de Rolling Windows"
      ]
    },
    {
      "cell_type": "code",
      "metadata": {
        "colab": {
          "base_uri": "https://localhost:8080/",
          "height": 419
        },
        "id": "VC2AM6gKQCph",
        "outputId": "1fa447d9-bb6b-4706-8ec0-9ad41bcd4435"
      },
      "source": [
        "#Para aplicar esta técnica, deberemos volver a convertir los tensores en dataframes pandas\n",
        "dfTrain = pd.DataFrame(x_train.reshape(-1), columns=['Monto'])\n",
        "dfTrain"
      ],
      "execution_count": 414,
      "outputs": [
        {
          "output_type": "execute_result",
          "data": {
            "text/html": [
              "<div>\n",
              "<style scoped>\n",
              "    .dataframe tbody tr th:only-of-type {\n",
              "        vertical-align: middle;\n",
              "    }\n",
              "\n",
              "    .dataframe tbody tr th {\n",
              "        vertical-align: top;\n",
              "    }\n",
              "\n",
              "    .dataframe thead th {\n",
              "        text-align: right;\n",
              "    }\n",
              "</style>\n",
              "<table border=\"1\" class=\"dataframe\">\n",
              "  <thead>\n",
              "    <tr style=\"text-align: right;\">\n",
              "      <th></th>\n",
              "      <th>Monto</th>\n",
              "    </tr>\n",
              "  </thead>\n",
              "  <tbody>\n",
              "    <tr>\n",
              "      <th>0</th>\n",
              "      <td>0.014020</td>\n",
              "    </tr>\n",
              "    <tr>\n",
              "      <th>1</th>\n",
              "      <td>0.000000</td>\n",
              "    </tr>\n",
              "    <tr>\n",
              "      <th>2</th>\n",
              "      <td>0.070426</td>\n",
              "    </tr>\n",
              "    <tr>\n",
              "      <th>3</th>\n",
              "      <td>0.095318</td>\n",
              "    </tr>\n",
              "    <tr>\n",
              "      <th>4</th>\n",
              "      <td>0.163628</td>\n",
              "    </tr>\n",
              "    <tr>\n",
              "      <th>...</th>\n",
              "      <td>...</td>\n",
              "    </tr>\n",
              "    <tr>\n",
              "      <th>234</th>\n",
              "      <td>0.863983</td>\n",
              "    </tr>\n",
              "    <tr>\n",
              "      <th>235</th>\n",
              "      <td>0.814394</td>\n",
              "    </tr>\n",
              "    <tr>\n",
              "      <th>236</th>\n",
              "      <td>0.799167</td>\n",
              "    </tr>\n",
              "    <tr>\n",
              "      <th>237</th>\n",
              "      <td>0.802101</td>\n",
              "    </tr>\n",
              "    <tr>\n",
              "      <th>238</th>\n",
              "      <td>0.814829</td>\n",
              "    </tr>\n",
              "  </tbody>\n",
              "</table>\n",
              "<p>239 rows × 1 columns</p>\n",
              "</div>"
            ],
            "text/plain": [
              "        Monto\n",
              "0    0.014020\n",
              "1    0.000000\n",
              "2    0.070426\n",
              "3    0.095318\n",
              "4    0.163628\n",
              "..        ...\n",
              "234  0.863983\n",
              "235  0.814394\n",
              "236  0.799167\n",
              "237  0.802101\n",
              "238  0.814829\n",
              "\n",
              "[239 rows x 1 columns]"
            ]
          },
          "metadata": {
            "tags": []
          },
          "execution_count": 414
        }
      ]
    },
    {
      "cell_type": "code",
      "metadata": {
        "colab": {
          "base_uri": "https://localhost:8080/",
          "height": 419
        },
        "id": "IJUZW9rgRHE2",
        "outputId": "3549b907-1895-4c41-9971-102b0ec09de6"
      },
      "source": [
        "#Vamos a agregar manualmente al dataframe una columna con los valores del mes anterior\n",
        "#La operación \"shift\" copia el valor de la siguiente fila y lo coloca en la nueva columna \"mes_anterior_1\"\n",
        "dfTrain[\"mes_anterior_1\"] = dfTrain[\"Monto\"].shift(1)\n",
        "dfTrain"
      ],
      "execution_count": 415,
      "outputs": [
        {
          "output_type": "execute_result",
          "data": {
            "text/html": [
              "<div>\n",
              "<style scoped>\n",
              "    .dataframe tbody tr th:only-of-type {\n",
              "        vertical-align: middle;\n",
              "    }\n",
              "\n",
              "    .dataframe tbody tr th {\n",
              "        vertical-align: top;\n",
              "    }\n",
              "\n",
              "    .dataframe thead th {\n",
              "        text-align: right;\n",
              "    }\n",
              "</style>\n",
              "<table border=\"1\" class=\"dataframe\">\n",
              "  <thead>\n",
              "    <tr style=\"text-align: right;\">\n",
              "      <th></th>\n",
              "      <th>Monto</th>\n",
              "      <th>mes_anterior_1</th>\n",
              "    </tr>\n",
              "  </thead>\n",
              "  <tbody>\n",
              "    <tr>\n",
              "      <th>0</th>\n",
              "      <td>0.014020</td>\n",
              "      <td>NaN</td>\n",
              "    </tr>\n",
              "    <tr>\n",
              "      <th>1</th>\n",
              "      <td>0.000000</td>\n",
              "      <td>0.014020</td>\n",
              "    </tr>\n",
              "    <tr>\n",
              "      <th>2</th>\n",
              "      <td>0.070426</td>\n",
              "      <td>0.000000</td>\n",
              "    </tr>\n",
              "    <tr>\n",
              "      <th>3</th>\n",
              "      <td>0.095318</td>\n",
              "      <td>0.070426</td>\n",
              "    </tr>\n",
              "    <tr>\n",
              "      <th>4</th>\n",
              "      <td>0.163628</td>\n",
              "      <td>0.095318</td>\n",
              "    </tr>\n",
              "    <tr>\n",
              "      <th>...</th>\n",
              "      <td>...</td>\n",
              "      <td>...</td>\n",
              "    </tr>\n",
              "    <tr>\n",
              "      <th>234</th>\n",
              "      <td>0.863983</td>\n",
              "      <td>0.865311</td>\n",
              "    </tr>\n",
              "    <tr>\n",
              "      <th>235</th>\n",
              "      <td>0.814394</td>\n",
              "      <td>0.863983</td>\n",
              "    </tr>\n",
              "    <tr>\n",
              "      <th>236</th>\n",
              "      <td>0.799167</td>\n",
              "      <td>0.814394</td>\n",
              "    </tr>\n",
              "    <tr>\n",
              "      <th>237</th>\n",
              "      <td>0.802101</td>\n",
              "      <td>0.799167</td>\n",
              "    </tr>\n",
              "    <tr>\n",
              "      <th>238</th>\n",
              "      <td>0.814829</td>\n",
              "      <td>0.802101</td>\n",
              "    </tr>\n",
              "  </tbody>\n",
              "</table>\n",
              "<p>239 rows × 2 columns</p>\n",
              "</div>"
            ],
            "text/plain": [
              "        Monto  mes_anterior_1\n",
              "0    0.014020             NaN\n",
              "1    0.000000        0.014020\n",
              "2    0.070426        0.000000\n",
              "3    0.095318        0.070426\n",
              "4    0.163628        0.095318\n",
              "..        ...             ...\n",
              "234  0.863983        0.865311\n",
              "235  0.814394        0.863983\n",
              "236  0.799167        0.814394\n",
              "237  0.802101        0.799167\n",
              "238  0.814829        0.802101\n",
              "\n",
              "[239 rows x 2 columns]"
            ]
          },
          "metadata": {
            "tags": []
          },
          "execution_count": 415
        }
      ]
    },
    {
      "cell_type": "code",
      "metadata": {
        "colab": {
          "base_uri": "https://localhost:8080/",
          "height": 419
        },
        "id": "MgafEkpwReR9",
        "outputId": "cd2e669e-8ee4-4d0a-e6fd-362da0375c9b"
      },
      "source": [
        "#Ahora vamos a agregar manualmente al dataframe una columna con los valores del segundo mes anterior\n",
        "#Esta vez \"shift\" saltará dos posiciones para extraer el valor de la nueva columna\n",
        "dfTrain[\"mes_anterior_2\"] = dfTrain[\"Monto\"].shift(2)\n",
        "dfTrain"
      ],
      "execution_count": 416,
      "outputs": [
        {
          "output_type": "execute_result",
          "data": {
            "text/html": [
              "<div>\n",
              "<style scoped>\n",
              "    .dataframe tbody tr th:only-of-type {\n",
              "        vertical-align: middle;\n",
              "    }\n",
              "\n",
              "    .dataframe tbody tr th {\n",
              "        vertical-align: top;\n",
              "    }\n",
              "\n",
              "    .dataframe thead th {\n",
              "        text-align: right;\n",
              "    }\n",
              "</style>\n",
              "<table border=\"1\" class=\"dataframe\">\n",
              "  <thead>\n",
              "    <tr style=\"text-align: right;\">\n",
              "      <th></th>\n",
              "      <th>Monto</th>\n",
              "      <th>mes_anterior_1</th>\n",
              "      <th>mes_anterior_2</th>\n",
              "    </tr>\n",
              "  </thead>\n",
              "  <tbody>\n",
              "    <tr>\n",
              "      <th>0</th>\n",
              "      <td>0.014020</td>\n",
              "      <td>NaN</td>\n",
              "      <td>NaN</td>\n",
              "    </tr>\n",
              "    <tr>\n",
              "      <th>1</th>\n",
              "      <td>0.000000</td>\n",
              "      <td>0.014020</td>\n",
              "      <td>NaN</td>\n",
              "    </tr>\n",
              "    <tr>\n",
              "      <th>2</th>\n",
              "      <td>0.070426</td>\n",
              "      <td>0.000000</td>\n",
              "      <td>0.014020</td>\n",
              "    </tr>\n",
              "    <tr>\n",
              "      <th>3</th>\n",
              "      <td>0.095318</td>\n",
              "      <td>0.070426</td>\n",
              "      <td>0.000000</td>\n",
              "    </tr>\n",
              "    <tr>\n",
              "      <th>4</th>\n",
              "      <td>0.163628</td>\n",
              "      <td>0.095318</td>\n",
              "      <td>0.070426</td>\n",
              "    </tr>\n",
              "    <tr>\n",
              "      <th>...</th>\n",
              "      <td>...</td>\n",
              "      <td>...</td>\n",
              "      <td>...</td>\n",
              "    </tr>\n",
              "    <tr>\n",
              "      <th>234</th>\n",
              "      <td>0.863983</td>\n",
              "      <td>0.865311</td>\n",
              "      <td>0.847598</td>\n",
              "    </tr>\n",
              "    <tr>\n",
              "      <th>235</th>\n",
              "      <td>0.814394</td>\n",
              "      <td>0.863983</td>\n",
              "      <td>0.865311</td>\n",
              "    </tr>\n",
              "    <tr>\n",
              "      <th>236</th>\n",
              "      <td>0.799167</td>\n",
              "      <td>0.814394</td>\n",
              "      <td>0.863983</td>\n",
              "    </tr>\n",
              "    <tr>\n",
              "      <th>237</th>\n",
              "      <td>0.802101</td>\n",
              "      <td>0.799167</td>\n",
              "      <td>0.814394</td>\n",
              "    </tr>\n",
              "    <tr>\n",
              "      <th>238</th>\n",
              "      <td>0.814829</td>\n",
              "      <td>0.802101</td>\n",
              "      <td>0.799167</td>\n",
              "    </tr>\n",
              "  </tbody>\n",
              "</table>\n",
              "<p>239 rows × 3 columns</p>\n",
              "</div>"
            ],
            "text/plain": [
              "        Monto  mes_anterior_1  mes_anterior_2\n",
              "0    0.014020             NaN             NaN\n",
              "1    0.000000        0.014020             NaN\n",
              "2    0.070426        0.000000        0.014020\n",
              "3    0.095318        0.070426        0.000000\n",
              "4    0.163628        0.095318        0.070426\n",
              "..        ...             ...             ...\n",
              "234  0.863983        0.865311        0.847598\n",
              "235  0.814394        0.863983        0.865311\n",
              "236  0.799167        0.814394        0.863983\n",
              "237  0.802101        0.799167        0.814394\n",
              "238  0.814829        0.802101        0.799167\n",
              "\n",
              "[239 rows x 3 columns]"
            ]
          },
          "metadata": {
            "tags": []
          },
          "execution_count": 416
        }
      ]
    },
    {
      "cell_type": "code",
      "metadata": {
        "colab": {
          "base_uri": "https://localhost:8080/",
          "height": 419
        },
        "id": "u2U-Lr7DRqew",
        "outputId": "84198b9c-c958-4d2b-e9c0-77d4ed6852f0"
      },
      "source": [
        "#Extraemos el tercer mes anterior\n",
        "#Notemos que de esta manera cada registro define 4 features, el monto de ventas del mes actual, y el de los 3 últimos meses\n",
        "#De esa manera la red tendrá más features qué comparar para poder encontrar más patrones\n",
        "dfTrain[\"mes_anterior_3\"] = dfTrain[\"Monto\"].shift(3)\n",
        "dfTrain"
      ],
      "execution_count": 417,
      "outputs": [
        {
          "output_type": "execute_result",
          "data": {
            "text/html": [
              "<div>\n",
              "<style scoped>\n",
              "    .dataframe tbody tr th:only-of-type {\n",
              "        vertical-align: middle;\n",
              "    }\n",
              "\n",
              "    .dataframe tbody tr th {\n",
              "        vertical-align: top;\n",
              "    }\n",
              "\n",
              "    .dataframe thead th {\n",
              "        text-align: right;\n",
              "    }\n",
              "</style>\n",
              "<table border=\"1\" class=\"dataframe\">\n",
              "  <thead>\n",
              "    <tr style=\"text-align: right;\">\n",
              "      <th></th>\n",
              "      <th>Monto</th>\n",
              "      <th>mes_anterior_1</th>\n",
              "      <th>mes_anterior_2</th>\n",
              "      <th>mes_anterior_3</th>\n",
              "    </tr>\n",
              "  </thead>\n",
              "  <tbody>\n",
              "    <tr>\n",
              "      <th>0</th>\n",
              "      <td>0.014020</td>\n",
              "      <td>NaN</td>\n",
              "      <td>NaN</td>\n",
              "      <td>NaN</td>\n",
              "    </tr>\n",
              "    <tr>\n",
              "      <th>1</th>\n",
              "      <td>0.000000</td>\n",
              "      <td>0.014020</td>\n",
              "      <td>NaN</td>\n",
              "      <td>NaN</td>\n",
              "    </tr>\n",
              "    <tr>\n",
              "      <th>2</th>\n",
              "      <td>0.070426</td>\n",
              "      <td>0.000000</td>\n",
              "      <td>0.014020</td>\n",
              "      <td>NaN</td>\n",
              "    </tr>\n",
              "    <tr>\n",
              "      <th>3</th>\n",
              "      <td>0.095318</td>\n",
              "      <td>0.070426</td>\n",
              "      <td>0.000000</td>\n",
              "      <td>0.014020</td>\n",
              "    </tr>\n",
              "    <tr>\n",
              "      <th>4</th>\n",
              "      <td>0.163628</td>\n",
              "      <td>0.095318</td>\n",
              "      <td>0.070426</td>\n",
              "      <td>0.000000</td>\n",
              "    </tr>\n",
              "    <tr>\n",
              "      <th>...</th>\n",
              "      <td>...</td>\n",
              "      <td>...</td>\n",
              "      <td>...</td>\n",
              "      <td>...</td>\n",
              "    </tr>\n",
              "    <tr>\n",
              "      <th>234</th>\n",
              "      <td>0.863983</td>\n",
              "      <td>0.865311</td>\n",
              "      <td>0.847598</td>\n",
              "      <td>0.784536</td>\n",
              "    </tr>\n",
              "    <tr>\n",
              "      <th>235</th>\n",
              "      <td>0.814394</td>\n",
              "      <td>0.863983</td>\n",
              "      <td>0.865311</td>\n",
              "      <td>0.847598</td>\n",
              "    </tr>\n",
              "    <tr>\n",
              "      <th>236</th>\n",
              "      <td>0.799167</td>\n",
              "      <td>0.814394</td>\n",
              "      <td>0.863983</td>\n",
              "      <td>0.865311</td>\n",
              "    </tr>\n",
              "    <tr>\n",
              "      <th>237</th>\n",
              "      <td>0.802101</td>\n",
              "      <td>0.799167</td>\n",
              "      <td>0.814394</td>\n",
              "      <td>0.863983</td>\n",
              "    </tr>\n",
              "    <tr>\n",
              "      <th>238</th>\n",
              "      <td>0.814829</td>\n",
              "      <td>0.802101</td>\n",
              "      <td>0.799167</td>\n",
              "      <td>0.814394</td>\n",
              "    </tr>\n",
              "  </tbody>\n",
              "</table>\n",
              "<p>239 rows × 4 columns</p>\n",
              "</div>"
            ],
            "text/plain": [
              "        Monto  mes_anterior_1  mes_anterior_2  mes_anterior_3\n",
              "0    0.014020             NaN             NaN             NaN\n",
              "1    0.000000        0.014020             NaN             NaN\n",
              "2    0.070426        0.000000        0.014020             NaN\n",
              "3    0.095318        0.070426        0.000000        0.014020\n",
              "4    0.163628        0.095318        0.070426        0.000000\n",
              "..        ...             ...             ...             ...\n",
              "234  0.863983        0.865311        0.847598        0.784536\n",
              "235  0.814394        0.863983        0.865311        0.847598\n",
              "236  0.799167        0.814394        0.863983        0.865311\n",
              "237  0.802101        0.799167        0.814394        0.863983\n",
              "238  0.814829        0.802101        0.799167        0.814394\n",
              "\n",
              "[239 rows x 4 columns]"
            ]
          },
          "metadata": {
            "tags": []
          },
          "execution_count": 417
        }
      ]
    },
    {
      "cell_type": "code",
      "metadata": {
        "colab": {
          "base_uri": "https://localhost:8080/",
          "height": 419
        },
        "id": "-_8_AagGSCi4",
        "outputId": "e268621f-af8e-4fdb-aacf-21d31349e44a"
      },
      "source": [
        "#Vamos a volver al dataframe a su forma original\n",
        "dfTrain = pd.DataFrame(x_train.reshape(-1), columns=['Monto'])\n",
        "dfTrain"
      ],
      "execution_count": 418,
      "outputs": [
        {
          "output_type": "execute_result",
          "data": {
            "text/html": [
              "<div>\n",
              "<style scoped>\n",
              "    .dataframe tbody tr th:only-of-type {\n",
              "        vertical-align: middle;\n",
              "    }\n",
              "\n",
              "    .dataframe tbody tr th {\n",
              "        vertical-align: top;\n",
              "    }\n",
              "\n",
              "    .dataframe thead th {\n",
              "        text-align: right;\n",
              "    }\n",
              "</style>\n",
              "<table border=\"1\" class=\"dataframe\">\n",
              "  <thead>\n",
              "    <tr style=\"text-align: right;\">\n",
              "      <th></th>\n",
              "      <th>Monto</th>\n",
              "    </tr>\n",
              "  </thead>\n",
              "  <tbody>\n",
              "    <tr>\n",
              "      <th>0</th>\n",
              "      <td>0.014020</td>\n",
              "    </tr>\n",
              "    <tr>\n",
              "      <th>1</th>\n",
              "      <td>0.000000</td>\n",
              "    </tr>\n",
              "    <tr>\n",
              "      <th>2</th>\n",
              "      <td>0.070426</td>\n",
              "    </tr>\n",
              "    <tr>\n",
              "      <th>3</th>\n",
              "      <td>0.095318</td>\n",
              "    </tr>\n",
              "    <tr>\n",
              "      <th>4</th>\n",
              "      <td>0.163628</td>\n",
              "    </tr>\n",
              "    <tr>\n",
              "      <th>...</th>\n",
              "      <td>...</td>\n",
              "    </tr>\n",
              "    <tr>\n",
              "      <th>234</th>\n",
              "      <td>0.863983</td>\n",
              "    </tr>\n",
              "    <tr>\n",
              "      <th>235</th>\n",
              "      <td>0.814394</td>\n",
              "    </tr>\n",
              "    <tr>\n",
              "      <th>236</th>\n",
              "      <td>0.799167</td>\n",
              "    </tr>\n",
              "    <tr>\n",
              "      <th>237</th>\n",
              "      <td>0.802101</td>\n",
              "    </tr>\n",
              "    <tr>\n",
              "      <th>238</th>\n",
              "      <td>0.814829</td>\n",
              "    </tr>\n",
              "  </tbody>\n",
              "</table>\n",
              "<p>239 rows × 1 columns</p>\n",
              "</div>"
            ],
            "text/plain": [
              "        Monto\n",
              "0    0.014020\n",
              "1    0.000000\n",
              "2    0.070426\n",
              "3    0.095318\n",
              "4    0.163628\n",
              "..        ...\n",
              "234  0.863983\n",
              "235  0.814394\n",
              "236  0.799167\n",
              "237  0.802101\n",
              "238  0.814829\n",
              "\n",
              "[239 rows x 1 columns]"
            ]
          },
          "metadata": {
            "tags": []
          },
          "execution_count": 418
        }
      ]
    },
    {
      "cell_type": "code",
      "metadata": {
        "id": "DhhljYNDRvN1"
      },
      "source": [
        "#Y vamos a agregarle la información de los últimos 12 meses\n",
        "#Esta vez lo haremos de manera iterativa en lugar de manual\n",
        "for salto in range(1, 12):\n",
        "  dfTrain['mes_anterior_{}'.format(salto)] = dfTrain['Monto'].shift(salto)"
      ],
      "execution_count": 419,
      "outputs": []
    },
    {
      "cell_type": "code",
      "metadata": {
        "colab": {
          "base_uri": "https://localhost:8080/",
          "height": 419
        },
        "id": "OQT3nWReQqaI",
        "outputId": "87169d4a-1441-452e-f856-07b4269cdc99"
      },
      "source": [
        "#Al consultar el dataframe, veremos los nuevos features\n",
        "dfTrain"
      ],
      "execution_count": 420,
      "outputs": [
        {
          "output_type": "execute_result",
          "data": {
            "text/html": [
              "<div>\n",
              "<style scoped>\n",
              "    .dataframe tbody tr th:only-of-type {\n",
              "        vertical-align: middle;\n",
              "    }\n",
              "\n",
              "    .dataframe tbody tr th {\n",
              "        vertical-align: top;\n",
              "    }\n",
              "\n",
              "    .dataframe thead th {\n",
              "        text-align: right;\n",
              "    }\n",
              "</style>\n",
              "<table border=\"1\" class=\"dataframe\">\n",
              "  <thead>\n",
              "    <tr style=\"text-align: right;\">\n",
              "      <th></th>\n",
              "      <th>Monto</th>\n",
              "      <th>mes_anterior_1</th>\n",
              "      <th>mes_anterior_2</th>\n",
              "      <th>mes_anterior_3</th>\n",
              "      <th>mes_anterior_4</th>\n",
              "      <th>mes_anterior_5</th>\n",
              "      <th>mes_anterior_6</th>\n",
              "      <th>mes_anterior_7</th>\n",
              "      <th>mes_anterior_8</th>\n",
              "      <th>mes_anterior_9</th>\n",
              "      <th>mes_anterior_10</th>\n",
              "      <th>mes_anterior_11</th>\n",
              "    </tr>\n",
              "  </thead>\n",
              "  <tbody>\n",
              "    <tr>\n",
              "      <th>0</th>\n",
              "      <td>0.014020</td>\n",
              "      <td>NaN</td>\n",
              "      <td>NaN</td>\n",
              "      <td>NaN</td>\n",
              "      <td>NaN</td>\n",
              "      <td>NaN</td>\n",
              "      <td>NaN</td>\n",
              "      <td>NaN</td>\n",
              "      <td>NaN</td>\n",
              "      <td>NaN</td>\n",
              "      <td>NaN</td>\n",
              "      <td>NaN</td>\n",
              "    </tr>\n",
              "    <tr>\n",
              "      <th>1</th>\n",
              "      <td>0.000000</td>\n",
              "      <td>0.014020</td>\n",
              "      <td>NaN</td>\n",
              "      <td>NaN</td>\n",
              "      <td>NaN</td>\n",
              "      <td>NaN</td>\n",
              "      <td>NaN</td>\n",
              "      <td>NaN</td>\n",
              "      <td>NaN</td>\n",
              "      <td>NaN</td>\n",
              "      <td>NaN</td>\n",
              "      <td>NaN</td>\n",
              "    </tr>\n",
              "    <tr>\n",
              "      <th>2</th>\n",
              "      <td>0.070426</td>\n",
              "      <td>0.000000</td>\n",
              "      <td>0.014020</td>\n",
              "      <td>NaN</td>\n",
              "      <td>NaN</td>\n",
              "      <td>NaN</td>\n",
              "      <td>NaN</td>\n",
              "      <td>NaN</td>\n",
              "      <td>NaN</td>\n",
              "      <td>NaN</td>\n",
              "      <td>NaN</td>\n",
              "      <td>NaN</td>\n",
              "    </tr>\n",
              "    <tr>\n",
              "      <th>3</th>\n",
              "      <td>0.095318</td>\n",
              "      <td>0.070426</td>\n",
              "      <td>0.000000</td>\n",
              "      <td>0.014020</td>\n",
              "      <td>NaN</td>\n",
              "      <td>NaN</td>\n",
              "      <td>NaN</td>\n",
              "      <td>NaN</td>\n",
              "      <td>NaN</td>\n",
              "      <td>NaN</td>\n",
              "      <td>NaN</td>\n",
              "      <td>NaN</td>\n",
              "    </tr>\n",
              "    <tr>\n",
              "      <th>4</th>\n",
              "      <td>0.163628</td>\n",
              "      <td>0.095318</td>\n",
              "      <td>0.070426</td>\n",
              "      <td>0.000000</td>\n",
              "      <td>0.014020</td>\n",
              "      <td>NaN</td>\n",
              "      <td>NaN</td>\n",
              "      <td>NaN</td>\n",
              "      <td>NaN</td>\n",
              "      <td>NaN</td>\n",
              "      <td>NaN</td>\n",
              "      <td>NaN</td>\n",
              "    </tr>\n",
              "    <tr>\n",
              "      <th>...</th>\n",
              "      <td>...</td>\n",
              "      <td>...</td>\n",
              "      <td>...</td>\n",
              "      <td>...</td>\n",
              "      <td>...</td>\n",
              "      <td>...</td>\n",
              "      <td>...</td>\n",
              "      <td>...</td>\n",
              "      <td>...</td>\n",
              "      <td>...</td>\n",
              "      <td>...</td>\n",
              "      <td>...</td>\n",
              "    </tr>\n",
              "    <tr>\n",
              "      <th>234</th>\n",
              "      <td>0.863983</td>\n",
              "      <td>0.865311</td>\n",
              "      <td>0.847598</td>\n",
              "      <td>0.784536</td>\n",
              "      <td>0.736050</td>\n",
              "      <td>0.531665</td>\n",
              "      <td>0.597349</td>\n",
              "      <td>0.929722</td>\n",
              "      <td>0.716290</td>\n",
              "      <td>0.773687</td>\n",
              "      <td>0.754447</td>\n",
              "      <td>0.770968</td>\n",
              "    </tr>\n",
              "    <tr>\n",
              "      <th>235</th>\n",
              "      <td>0.814394</td>\n",
              "      <td>0.863983</td>\n",
              "      <td>0.865311</td>\n",
              "      <td>0.847598</td>\n",
              "      <td>0.784536</td>\n",
              "      <td>0.736050</td>\n",
              "      <td>0.531665</td>\n",
              "      <td>0.597349</td>\n",
              "      <td>0.929722</td>\n",
              "      <td>0.716290</td>\n",
              "      <td>0.773687</td>\n",
              "      <td>0.754447</td>\n",
              "    </tr>\n",
              "    <tr>\n",
              "      <th>236</th>\n",
              "      <td>0.799167</td>\n",
              "      <td>0.814394</td>\n",
              "      <td>0.863983</td>\n",
              "      <td>0.865311</td>\n",
              "      <td>0.847598</td>\n",
              "      <td>0.784536</td>\n",
              "      <td>0.736050</td>\n",
              "      <td>0.531665</td>\n",
              "      <td>0.597349</td>\n",
              "      <td>0.929722</td>\n",
              "      <td>0.716290</td>\n",
              "      <td>0.773687</td>\n",
              "    </tr>\n",
              "    <tr>\n",
              "      <th>237</th>\n",
              "      <td>0.802101</td>\n",
              "      <td>0.799167</td>\n",
              "      <td>0.814394</td>\n",
              "      <td>0.863983</td>\n",
              "      <td>0.865311</td>\n",
              "      <td>0.847598</td>\n",
              "      <td>0.784536</td>\n",
              "      <td>0.736050</td>\n",
              "      <td>0.531665</td>\n",
              "      <td>0.597349</td>\n",
              "      <td>0.929722</td>\n",
              "      <td>0.716290</td>\n",
              "    </tr>\n",
              "    <tr>\n",
              "      <th>238</th>\n",
              "      <td>0.814829</td>\n",
              "      <td>0.802101</td>\n",
              "      <td>0.799167</td>\n",
              "      <td>0.814394</td>\n",
              "      <td>0.863983</td>\n",
              "      <td>0.865311</td>\n",
              "      <td>0.847598</td>\n",
              "      <td>0.784536</td>\n",
              "      <td>0.736050</td>\n",
              "      <td>0.531665</td>\n",
              "      <td>0.597349</td>\n",
              "      <td>0.929722</td>\n",
              "    </tr>\n",
              "  </tbody>\n",
              "</table>\n",
              "<p>239 rows × 12 columns</p>\n",
              "</div>"
            ],
            "text/plain": [
              "        Monto  mes_anterior_1  ...  mes_anterior_10  mes_anterior_11\n",
              "0    0.014020             NaN  ...              NaN              NaN\n",
              "1    0.000000        0.014020  ...              NaN              NaN\n",
              "2    0.070426        0.000000  ...              NaN              NaN\n",
              "3    0.095318        0.070426  ...              NaN              NaN\n",
              "4    0.163628        0.095318  ...              NaN              NaN\n",
              "..        ...             ...  ...              ...              ...\n",
              "234  0.863983        0.865311  ...         0.754447         0.770968\n",
              "235  0.814394        0.863983  ...         0.773687         0.754447\n",
              "236  0.799167        0.814394  ...         0.716290         0.773687\n",
              "237  0.802101        0.799167  ...         0.929722         0.716290\n",
              "238  0.814829        0.802101  ...         0.597349         0.929722\n",
              "\n",
              "[239 rows x 12 columns]"
            ]
          },
          "metadata": {
            "tags": []
          },
          "execution_count": 420
        }
      ]
    },
    {
      "cell_type": "code",
      "metadata": {
        "colab": {
          "base_uri": "https://localhost:8080/",
          "height": 419
        },
        "id": "mMYACJh1SeLx",
        "outputId": "b433737b-6d30-4f5a-d9fd-7803c62c4d03"
      },
      "source": [
        "#Como las redes no pueden procesar valores nulos deberemos eliminar los registros que no tengan información\n",
        "dfTrain = dfTrain.dropna()\n",
        "dfTrain"
      ],
      "execution_count": 421,
      "outputs": [
        {
          "output_type": "execute_result",
          "data": {
            "text/html": [
              "<div>\n",
              "<style scoped>\n",
              "    .dataframe tbody tr th:only-of-type {\n",
              "        vertical-align: middle;\n",
              "    }\n",
              "\n",
              "    .dataframe tbody tr th {\n",
              "        vertical-align: top;\n",
              "    }\n",
              "\n",
              "    .dataframe thead th {\n",
              "        text-align: right;\n",
              "    }\n",
              "</style>\n",
              "<table border=\"1\" class=\"dataframe\">\n",
              "  <thead>\n",
              "    <tr style=\"text-align: right;\">\n",
              "      <th></th>\n",
              "      <th>Monto</th>\n",
              "      <th>mes_anterior_1</th>\n",
              "      <th>mes_anterior_2</th>\n",
              "      <th>mes_anterior_3</th>\n",
              "      <th>mes_anterior_4</th>\n",
              "      <th>mes_anterior_5</th>\n",
              "      <th>mes_anterior_6</th>\n",
              "      <th>mes_anterior_7</th>\n",
              "      <th>mes_anterior_8</th>\n",
              "      <th>mes_anterior_9</th>\n",
              "      <th>mes_anterior_10</th>\n",
              "      <th>mes_anterior_11</th>\n",
              "    </tr>\n",
              "  </thead>\n",
              "  <tbody>\n",
              "    <tr>\n",
              "      <th>11</th>\n",
              "      <td>0.200913</td>\n",
              "      <td>0.131738</td>\n",
              "      <td>0.111395</td>\n",
              "      <td>0.092309</td>\n",
              "      <td>0.126174</td>\n",
              "      <td>0.123958</td>\n",
              "      <td>0.135141</td>\n",
              "      <td>0.163628</td>\n",
              "      <td>0.095318</td>\n",
              "      <td>0.070426</td>\n",
              "      <td>0.000000</td>\n",
              "      <td>0.014020</td>\n",
              "    </tr>\n",
              "    <tr>\n",
              "      <th>12</th>\n",
              "      <td>0.030027</td>\n",
              "      <td>0.200913</td>\n",
              "      <td>0.131738</td>\n",
              "      <td>0.111395</td>\n",
              "      <td>0.092309</td>\n",
              "      <td>0.126174</td>\n",
              "      <td>0.123958</td>\n",
              "      <td>0.135141</td>\n",
              "      <td>0.163628</td>\n",
              "      <td>0.095318</td>\n",
              "      <td>0.070426</td>\n",
              "      <td>0.000000</td>\n",
              "    </tr>\n",
              "    <tr>\n",
              "      <th>13</th>\n",
              "      <td>0.019993</td>\n",
              "      <td>0.030027</td>\n",
              "      <td>0.200913</td>\n",
              "      <td>0.131738</td>\n",
              "      <td>0.111395</td>\n",
              "      <td>0.092309</td>\n",
              "      <td>0.126174</td>\n",
              "      <td>0.123958</td>\n",
              "      <td>0.135141</td>\n",
              "      <td>0.163628</td>\n",
              "      <td>0.095318</td>\n",
              "      <td>0.070426</td>\n",
              "    </tr>\n",
              "    <tr>\n",
              "      <th>14</th>\n",
              "      <td>0.065964</td>\n",
              "      <td>0.019993</td>\n",
              "      <td>0.030027</td>\n",
              "      <td>0.200913</td>\n",
              "      <td>0.131738</td>\n",
              "      <td>0.111395</td>\n",
              "      <td>0.092309</td>\n",
              "      <td>0.126174</td>\n",
              "      <td>0.123958</td>\n",
              "      <td>0.135141</td>\n",
              "      <td>0.163628</td>\n",
              "      <td>0.095318</td>\n",
              "    </tr>\n",
              "    <tr>\n",
              "      <th>15</th>\n",
              "      <td>0.109831</td>\n",
              "      <td>0.065964</td>\n",
              "      <td>0.019993</td>\n",
              "      <td>0.030027</td>\n",
              "      <td>0.200913</td>\n",
              "      <td>0.131738</td>\n",
              "      <td>0.111395</td>\n",
              "      <td>0.092309</td>\n",
              "      <td>0.126174</td>\n",
              "      <td>0.123958</td>\n",
              "      <td>0.135141</td>\n",
              "      <td>0.163628</td>\n",
              "    </tr>\n",
              "    <tr>\n",
              "      <th>...</th>\n",
              "      <td>...</td>\n",
              "      <td>...</td>\n",
              "      <td>...</td>\n",
              "      <td>...</td>\n",
              "      <td>...</td>\n",
              "      <td>...</td>\n",
              "      <td>...</td>\n",
              "      <td>...</td>\n",
              "      <td>...</td>\n",
              "      <td>...</td>\n",
              "      <td>...</td>\n",
              "      <td>...</td>\n",
              "    </tr>\n",
              "    <tr>\n",
              "      <th>234</th>\n",
              "      <td>0.863983</td>\n",
              "      <td>0.865311</td>\n",
              "      <td>0.847598</td>\n",
              "      <td>0.784536</td>\n",
              "      <td>0.736050</td>\n",
              "      <td>0.531665</td>\n",
              "      <td>0.597349</td>\n",
              "      <td>0.929722</td>\n",
              "      <td>0.716290</td>\n",
              "      <td>0.773687</td>\n",
              "      <td>0.754447</td>\n",
              "      <td>0.770968</td>\n",
              "    </tr>\n",
              "    <tr>\n",
              "      <th>235</th>\n",
              "      <td>0.814394</td>\n",
              "      <td>0.863983</td>\n",
              "      <td>0.865311</td>\n",
              "      <td>0.847598</td>\n",
              "      <td>0.784536</td>\n",
              "      <td>0.736050</td>\n",
              "      <td>0.531665</td>\n",
              "      <td>0.597349</td>\n",
              "      <td>0.929722</td>\n",
              "      <td>0.716290</td>\n",
              "      <td>0.773687</td>\n",
              "      <td>0.754447</td>\n",
              "    </tr>\n",
              "    <tr>\n",
              "      <th>236</th>\n",
              "      <td>0.799167</td>\n",
              "      <td>0.814394</td>\n",
              "      <td>0.863983</td>\n",
              "      <td>0.865311</td>\n",
              "      <td>0.847598</td>\n",
              "      <td>0.784536</td>\n",
              "      <td>0.736050</td>\n",
              "      <td>0.531665</td>\n",
              "      <td>0.597349</td>\n",
              "      <td>0.929722</td>\n",
              "      <td>0.716290</td>\n",
              "      <td>0.773687</td>\n",
              "    </tr>\n",
              "    <tr>\n",
              "      <th>237</th>\n",
              "      <td>0.802101</td>\n",
              "      <td>0.799167</td>\n",
              "      <td>0.814394</td>\n",
              "      <td>0.863983</td>\n",
              "      <td>0.865311</td>\n",
              "      <td>0.847598</td>\n",
              "      <td>0.784536</td>\n",
              "      <td>0.736050</td>\n",
              "      <td>0.531665</td>\n",
              "      <td>0.597349</td>\n",
              "      <td>0.929722</td>\n",
              "      <td>0.716290</td>\n",
              "    </tr>\n",
              "    <tr>\n",
              "      <th>238</th>\n",
              "      <td>0.814829</td>\n",
              "      <td>0.802101</td>\n",
              "      <td>0.799167</td>\n",
              "      <td>0.814394</td>\n",
              "      <td>0.863983</td>\n",
              "      <td>0.865311</td>\n",
              "      <td>0.847598</td>\n",
              "      <td>0.784536</td>\n",
              "      <td>0.736050</td>\n",
              "      <td>0.531665</td>\n",
              "      <td>0.597349</td>\n",
              "      <td>0.929722</td>\n",
              "    </tr>\n",
              "  </tbody>\n",
              "</table>\n",
              "<p>228 rows × 12 columns</p>\n",
              "</div>"
            ],
            "text/plain": [
              "        Monto  mes_anterior_1  ...  mes_anterior_10  mes_anterior_11\n",
              "11   0.200913        0.131738  ...         0.000000         0.014020\n",
              "12   0.030027        0.200913  ...         0.070426         0.000000\n",
              "13   0.019993        0.030027  ...         0.095318         0.070426\n",
              "14   0.065964        0.019993  ...         0.163628         0.095318\n",
              "15   0.109831        0.065964  ...         0.135141         0.163628\n",
              "..        ...             ...  ...              ...              ...\n",
              "234  0.863983        0.865311  ...         0.754447         0.770968\n",
              "235  0.814394        0.863983  ...         0.773687         0.754447\n",
              "236  0.799167        0.814394  ...         0.716290         0.773687\n",
              "237  0.802101        0.799167  ...         0.929722         0.716290\n",
              "238  0.814829        0.802101  ...         0.597349         0.929722\n",
              "\n",
              "[228 rows x 12 columns]"
            ]
          },
          "metadata": {
            "tags": []
          },
          "execution_count": 421
        }
      ]
    },
    {
      "cell_type": "code",
      "metadata": {
        "colab": {
          "base_uri": "https://localhost:8080/"
        },
        "id": "as63St_lS0mz",
        "outputId": "42822cd7-3d9e-4d84-94ff-74389b3bb8f1"
      },
      "source": [
        "#Finalmente obtenemos los valores en un array tensorial\n",
        "#Para los features usaremos todos los valores previos al mes\n",
        "x_train_tensor = dfTrain.loc[:, dfTrain.columns != 'Monto'].values\n",
        "x_train_tensor.shape"
      ],
      "execution_count": 422,
      "outputs": [
        {
          "output_type": "execute_result",
          "data": {
            "text/plain": [
              "(228, 11)"
            ]
          },
          "metadata": {
            "tags": []
          },
          "execution_count": 422
        }
      ]
    },
    {
      "cell_type": "code",
      "metadata": {
        "colab": {
          "base_uri": "https://localhost:8080/"
        },
        "id": "8gZgUBhFVaX_",
        "outputId": "740e58c1-a9c2-40e1-e31f-a9b75ce653a0"
      },
      "source": [
        "#En este caso los \"y\" son la columna \"Monto\"\n",
        "y_train_tensor = dfTrain['Monto'].values\n",
        "y_train_tensor.shape"
      ],
      "execution_count": 423,
      "outputs": [
        {
          "output_type": "execute_result",
          "data": {
            "text/plain": [
              "(228,)"
            ]
          },
          "metadata": {
            "tags": []
          },
          "execution_count": 423
        }
      ]
    },
    {
      "cell_type": "code",
      "metadata": {
        "colab": {
          "base_uri": "https://localhost:8080/",
          "height": 419
        },
        "id": "4SrRA_OuSvig",
        "outputId": "a1f520e2-57ab-4b45-d144-785acc022bf5"
      },
      "source": [
        "#Hacemos lo mismo con los datos de validación\n",
        "#Vamos a volver al dataframe a su forma original\n",
        "dfTest = pd.DataFrame(x_test.reshape(-1), columns=['Monto'])\n",
        "dfTest"
      ],
      "execution_count": 424,
      "outputs": [
        {
          "output_type": "execute_result",
          "data": {
            "text/html": [
              "<div>\n",
              "<style scoped>\n",
              "    .dataframe tbody tr th:only-of-type {\n",
              "        vertical-align: middle;\n",
              "    }\n",
              "\n",
              "    .dataframe tbody tr th {\n",
              "        vertical-align: top;\n",
              "    }\n",
              "\n",
              "    .dataframe thead th {\n",
              "        text-align: right;\n",
              "    }\n",
              "</style>\n",
              "<table border=\"1\" class=\"dataframe\">\n",
              "  <thead>\n",
              "    <tr style=\"text-align: right;\">\n",
              "      <th></th>\n",
              "      <th>Monto</th>\n",
              "    </tr>\n",
              "  </thead>\n",
              "  <tbody>\n",
              "    <tr>\n",
              "      <th>0</th>\n",
              "      <td>0.614232</td>\n",
              "    </tr>\n",
              "    <tr>\n",
              "      <th>1</th>\n",
              "      <td>0.569266</td>\n",
              "    </tr>\n",
              "    <tr>\n",
              "      <th>2</th>\n",
              "      <td>0.772596</td>\n",
              "    </tr>\n",
              "    <tr>\n",
              "      <th>3</th>\n",
              "      <td>0.835057</td>\n",
              "    </tr>\n",
              "    <tr>\n",
              "      <th>4</th>\n",
              "      <td>0.899933</td>\n",
              "    </tr>\n",
              "    <tr>\n",
              "      <th>...</th>\n",
              "      <td>...</td>\n",
              "    </tr>\n",
              "    <tr>\n",
              "      <th>67</th>\n",
              "      <td>1.098520</td>\n",
              "    </tr>\n",
              "    <tr>\n",
              "      <th>68</th>\n",
              "      <td>1.076814</td>\n",
              "    </tr>\n",
              "    <tr>\n",
              "      <th>69</th>\n",
              "      <td>1.052339</td>\n",
              "    </tr>\n",
              "    <tr>\n",
              "      <th>70</th>\n",
              "      <td>1.101218</td>\n",
              "    </tr>\n",
              "    <tr>\n",
              "      <th>71</th>\n",
              "      <td>1.221600</td>\n",
              "    </tr>\n",
              "  </tbody>\n",
              "</table>\n",
              "<p>72 rows × 1 columns</p>\n",
              "</div>"
            ],
            "text/plain": [
              "       Monto\n",
              "0   0.614232\n",
              "1   0.569266\n",
              "2   0.772596\n",
              "3   0.835057\n",
              "4   0.899933\n",
              "..       ...\n",
              "67  1.098520\n",
              "68  1.076814\n",
              "69  1.052339\n",
              "70  1.101218\n",
              "71  1.221600\n",
              "\n",
              "[72 rows x 1 columns]"
            ]
          },
          "metadata": {
            "tags": []
          },
          "execution_count": 424
        }
      ]
    },
    {
      "cell_type": "code",
      "metadata": {
        "id": "ETT2MCZ9TGvd"
      },
      "source": [
        "#Vamos a agregarle la información de los últimos 12 meses\n",
        "for salto in range(1, 12):\n",
        "  dfTest['mes_anterior_{}'.format(salto)] = dfTest['Monto'].shift(salto)"
      ],
      "execution_count": 425,
      "outputs": []
    },
    {
      "cell_type": "code",
      "metadata": {
        "colab": {
          "base_uri": "https://localhost:8080/",
          "height": 419
        },
        "id": "mxPA_hXDTM50",
        "outputId": "88d5aad0-2b56-4ef8-df93-933cc888457b"
      },
      "source": [
        "#Vemos los valores\n",
        "dfTest"
      ],
      "execution_count": 426,
      "outputs": [
        {
          "output_type": "execute_result",
          "data": {
            "text/html": [
              "<div>\n",
              "<style scoped>\n",
              "    .dataframe tbody tr th:only-of-type {\n",
              "        vertical-align: middle;\n",
              "    }\n",
              "\n",
              "    .dataframe tbody tr th {\n",
              "        vertical-align: top;\n",
              "    }\n",
              "\n",
              "    .dataframe thead th {\n",
              "        text-align: right;\n",
              "    }\n",
              "</style>\n",
              "<table border=\"1\" class=\"dataframe\">\n",
              "  <thead>\n",
              "    <tr style=\"text-align: right;\">\n",
              "      <th></th>\n",
              "      <th>Monto</th>\n",
              "      <th>mes_anterior_1</th>\n",
              "      <th>mes_anterior_2</th>\n",
              "      <th>mes_anterior_3</th>\n",
              "      <th>mes_anterior_4</th>\n",
              "      <th>mes_anterior_5</th>\n",
              "      <th>mes_anterior_6</th>\n",
              "      <th>mes_anterior_7</th>\n",
              "      <th>mes_anterior_8</th>\n",
              "      <th>mes_anterior_9</th>\n",
              "      <th>mes_anterior_10</th>\n",
              "      <th>mes_anterior_11</th>\n",
              "    </tr>\n",
              "  </thead>\n",
              "  <tbody>\n",
              "    <tr>\n",
              "      <th>0</th>\n",
              "      <td>0.614232</td>\n",
              "      <td>NaN</td>\n",
              "      <td>NaN</td>\n",
              "      <td>NaN</td>\n",
              "      <td>NaN</td>\n",
              "      <td>NaN</td>\n",
              "      <td>NaN</td>\n",
              "      <td>NaN</td>\n",
              "      <td>NaN</td>\n",
              "      <td>NaN</td>\n",
              "      <td>NaN</td>\n",
              "      <td>NaN</td>\n",
              "    </tr>\n",
              "    <tr>\n",
              "      <th>1</th>\n",
              "      <td>0.569266</td>\n",
              "      <td>0.614232</td>\n",
              "      <td>NaN</td>\n",
              "      <td>NaN</td>\n",
              "      <td>NaN</td>\n",
              "      <td>NaN</td>\n",
              "      <td>NaN</td>\n",
              "      <td>NaN</td>\n",
              "      <td>NaN</td>\n",
              "      <td>NaN</td>\n",
              "      <td>NaN</td>\n",
              "      <td>NaN</td>\n",
              "    </tr>\n",
              "    <tr>\n",
              "      <th>2</th>\n",
              "      <td>0.772596</td>\n",
              "      <td>0.569266</td>\n",
              "      <td>0.614232</td>\n",
              "      <td>NaN</td>\n",
              "      <td>NaN</td>\n",
              "      <td>NaN</td>\n",
              "      <td>NaN</td>\n",
              "      <td>NaN</td>\n",
              "      <td>NaN</td>\n",
              "      <td>NaN</td>\n",
              "      <td>NaN</td>\n",
              "      <td>NaN</td>\n",
              "    </tr>\n",
              "    <tr>\n",
              "      <th>3</th>\n",
              "      <td>0.835057</td>\n",
              "      <td>0.772596</td>\n",
              "      <td>0.569266</td>\n",
              "      <td>0.614232</td>\n",
              "      <td>NaN</td>\n",
              "      <td>NaN</td>\n",
              "      <td>NaN</td>\n",
              "      <td>NaN</td>\n",
              "      <td>NaN</td>\n",
              "      <td>NaN</td>\n",
              "      <td>NaN</td>\n",
              "      <td>NaN</td>\n",
              "    </tr>\n",
              "    <tr>\n",
              "      <th>4</th>\n",
              "      <td>0.899933</td>\n",
              "      <td>0.835057</td>\n",
              "      <td>0.772596</td>\n",
              "      <td>0.569266</td>\n",
              "      <td>0.614232</td>\n",
              "      <td>NaN</td>\n",
              "      <td>NaN</td>\n",
              "      <td>NaN</td>\n",
              "      <td>NaN</td>\n",
              "      <td>NaN</td>\n",
              "      <td>NaN</td>\n",
              "      <td>NaN</td>\n",
              "    </tr>\n",
              "    <tr>\n",
              "      <th>...</th>\n",
              "      <td>...</td>\n",
              "      <td>...</td>\n",
              "      <td>...</td>\n",
              "      <td>...</td>\n",
              "      <td>...</td>\n",
              "      <td>...</td>\n",
              "      <td>...</td>\n",
              "      <td>...</td>\n",
              "      <td>...</td>\n",
              "      <td>...</td>\n",
              "      <td>...</td>\n",
              "      <td>...</td>\n",
              "    </tr>\n",
              "    <tr>\n",
              "      <th>67</th>\n",
              "      <td>1.098520</td>\n",
              "      <td>1.102388</td>\n",
              "      <td>1.137163</td>\n",
              "      <td>1.135161</td>\n",
              "      <td>1.055935</td>\n",
              "      <td>0.943724</td>\n",
              "      <td>0.758063</td>\n",
              "      <td>0.782767</td>\n",
              "      <td>1.159706</td>\n",
              "      <td>1.017693</td>\n",
              "      <td>1.043874</td>\n",
              "      <td>1.027479</td>\n",
              "    </tr>\n",
              "    <tr>\n",
              "      <th>68</th>\n",
              "      <td>1.076814</td>\n",
              "      <td>1.098520</td>\n",
              "      <td>1.102388</td>\n",
              "      <td>1.137163</td>\n",
              "      <td>1.135161</td>\n",
              "      <td>1.055935</td>\n",
              "      <td>0.943724</td>\n",
              "      <td>0.758063</td>\n",
              "      <td>0.782767</td>\n",
              "      <td>1.159706</td>\n",
              "      <td>1.017693</td>\n",
              "      <td>1.043874</td>\n",
              "    </tr>\n",
              "    <tr>\n",
              "      <th>69</th>\n",
              "      <td>1.052339</td>\n",
              "      <td>1.076814</td>\n",
              "      <td>1.098520</td>\n",
              "      <td>1.102388</td>\n",
              "      <td>1.137163</td>\n",
              "      <td>1.135161</td>\n",
              "      <td>1.055935</td>\n",
              "      <td>0.943724</td>\n",
              "      <td>0.758063</td>\n",
              "      <td>0.782767</td>\n",
              "      <td>1.159706</td>\n",
              "      <td>1.017693</td>\n",
              "    </tr>\n",
              "    <tr>\n",
              "      <th>70</th>\n",
              "      <td>1.101218</td>\n",
              "      <td>1.052339</td>\n",
              "      <td>1.076814</td>\n",
              "      <td>1.098520</td>\n",
              "      <td>1.102388</td>\n",
              "      <td>1.137163</td>\n",
              "      <td>1.135161</td>\n",
              "      <td>1.055935</td>\n",
              "      <td>0.943724</td>\n",
              "      <td>0.758063</td>\n",
              "      <td>0.782767</td>\n",
              "      <td>1.159706</td>\n",
              "    </tr>\n",
              "    <tr>\n",
              "      <th>71</th>\n",
              "      <td>1.221600</td>\n",
              "      <td>1.101218</td>\n",
              "      <td>1.052339</td>\n",
              "      <td>1.076814</td>\n",
              "      <td>1.098520</td>\n",
              "      <td>1.102388</td>\n",
              "      <td>1.137163</td>\n",
              "      <td>1.135161</td>\n",
              "      <td>1.055935</td>\n",
              "      <td>0.943724</td>\n",
              "      <td>0.758063</td>\n",
              "      <td>0.782767</td>\n",
              "    </tr>\n",
              "  </tbody>\n",
              "</table>\n",
              "<p>72 rows × 12 columns</p>\n",
              "</div>"
            ],
            "text/plain": [
              "       Monto  mes_anterior_1  ...  mes_anterior_10  mes_anterior_11\n",
              "0   0.614232             NaN  ...              NaN              NaN\n",
              "1   0.569266        0.614232  ...              NaN              NaN\n",
              "2   0.772596        0.569266  ...              NaN              NaN\n",
              "3   0.835057        0.772596  ...              NaN              NaN\n",
              "4   0.899933        0.835057  ...              NaN              NaN\n",
              "..       ...             ...  ...              ...              ...\n",
              "67  1.098520        1.102388  ...         1.043874         1.027479\n",
              "68  1.076814        1.098520  ...         1.017693         1.043874\n",
              "69  1.052339        1.076814  ...         1.159706         1.017693\n",
              "70  1.101218        1.052339  ...         0.782767         1.159706\n",
              "71  1.221600        1.101218  ...         0.758063         0.782767\n",
              "\n",
              "[72 rows x 12 columns]"
            ]
          },
          "metadata": {
            "tags": []
          },
          "execution_count": 426
        }
      ]
    },
    {
      "cell_type": "code",
      "metadata": {
        "colab": {
          "base_uri": "https://localhost:8080/",
          "height": 419
        },
        "id": "Hng7Rgl1TQlh",
        "outputId": "140bf91f-b671-408a-cb11-23c744ef2757"
      },
      "source": [
        "#Como las redes no pueden procesar valores nulos deberemos eliminar los registros que no tengan información\n",
        "dfTest = dfTest.dropna()\n",
        "dfTest"
      ],
      "execution_count": 427,
      "outputs": [
        {
          "output_type": "execute_result",
          "data": {
            "text/html": [
              "<div>\n",
              "<style scoped>\n",
              "    .dataframe tbody tr th:only-of-type {\n",
              "        vertical-align: middle;\n",
              "    }\n",
              "\n",
              "    .dataframe tbody tr th {\n",
              "        vertical-align: top;\n",
              "    }\n",
              "\n",
              "    .dataframe thead th {\n",
              "        text-align: right;\n",
              "    }\n",
              "</style>\n",
              "<table border=\"1\" class=\"dataframe\">\n",
              "  <thead>\n",
              "    <tr style=\"text-align: right;\">\n",
              "      <th></th>\n",
              "      <th>Monto</th>\n",
              "      <th>mes_anterior_1</th>\n",
              "      <th>mes_anterior_2</th>\n",
              "      <th>mes_anterior_3</th>\n",
              "      <th>mes_anterior_4</th>\n",
              "      <th>mes_anterior_5</th>\n",
              "      <th>mes_anterior_6</th>\n",
              "      <th>mes_anterior_7</th>\n",
              "      <th>mes_anterior_8</th>\n",
              "      <th>mes_anterior_9</th>\n",
              "      <th>mes_anterior_10</th>\n",
              "      <th>mes_anterior_11</th>\n",
              "    </tr>\n",
              "  </thead>\n",
              "  <tbody>\n",
              "    <tr>\n",
              "      <th>11</th>\n",
              "      <td>1.062650</td>\n",
              "      <td>0.871806</td>\n",
              "      <td>0.840481</td>\n",
              "      <td>0.862208</td>\n",
              "      <td>0.883631</td>\n",
              "      <td>0.893021</td>\n",
              "      <td>0.925520</td>\n",
              "      <td>0.899933</td>\n",
              "      <td>0.835057</td>\n",
              "      <td>0.772596</td>\n",
              "      <td>0.569266</td>\n",
              "      <td>0.614232</td>\n",
              "    </tr>\n",
              "    <tr>\n",
              "      <th>12</th>\n",
              "      <td>0.651988</td>\n",
              "      <td>1.062650</td>\n",
              "      <td>0.871806</td>\n",
              "      <td>0.840481</td>\n",
              "      <td>0.862208</td>\n",
              "      <td>0.883631</td>\n",
              "      <td>0.893021</td>\n",
              "      <td>0.925520</td>\n",
              "      <td>0.899933</td>\n",
              "      <td>0.835057</td>\n",
              "      <td>0.772596</td>\n",
              "      <td>0.569266</td>\n",
              "    </tr>\n",
              "    <tr>\n",
              "      <th>13</th>\n",
              "      <td>0.643124</td>\n",
              "      <td>0.651988</td>\n",
              "      <td>1.062650</td>\n",
              "      <td>0.871806</td>\n",
              "      <td>0.840481</td>\n",
              "      <td>0.862208</td>\n",
              "      <td>0.883631</td>\n",
              "      <td>0.893021</td>\n",
              "      <td>0.925520</td>\n",
              "      <td>0.899933</td>\n",
              "      <td>0.835057</td>\n",
              "      <td>0.772596</td>\n",
              "    </tr>\n",
              "    <tr>\n",
              "      <th>14</th>\n",
              "      <td>0.831765</td>\n",
              "      <td>0.643124</td>\n",
              "      <td>0.651988</td>\n",
              "      <td>1.062650</td>\n",
              "      <td>0.871806</td>\n",
              "      <td>0.840481</td>\n",
              "      <td>0.862208</td>\n",
              "      <td>0.883631</td>\n",
              "      <td>0.893021</td>\n",
              "      <td>0.925520</td>\n",
              "      <td>0.899933</td>\n",
              "      <td>0.835057</td>\n",
              "    </tr>\n",
              "    <tr>\n",
              "      <th>15</th>\n",
              "      <td>0.826669</td>\n",
              "      <td>0.831765</td>\n",
              "      <td>0.643124</td>\n",
              "      <td>0.651988</td>\n",
              "      <td>1.062650</td>\n",
              "      <td>0.871806</td>\n",
              "      <td>0.840481</td>\n",
              "      <td>0.862208</td>\n",
              "      <td>0.883631</td>\n",
              "      <td>0.893021</td>\n",
              "      <td>0.925520</td>\n",
              "      <td>0.899933</td>\n",
              "    </tr>\n",
              "    <tr>\n",
              "      <th>...</th>\n",
              "      <td>...</td>\n",
              "      <td>...</td>\n",
              "      <td>...</td>\n",
              "      <td>...</td>\n",
              "      <td>...</td>\n",
              "      <td>...</td>\n",
              "      <td>...</td>\n",
              "      <td>...</td>\n",
              "      <td>...</td>\n",
              "      <td>...</td>\n",
              "      <td>...</td>\n",
              "      <td>...</td>\n",
              "    </tr>\n",
              "    <tr>\n",
              "      <th>67</th>\n",
              "      <td>1.098520</td>\n",
              "      <td>1.102388</td>\n",
              "      <td>1.137163</td>\n",
              "      <td>1.135161</td>\n",
              "      <td>1.055935</td>\n",
              "      <td>0.943724</td>\n",
              "      <td>0.758063</td>\n",
              "      <td>0.782767</td>\n",
              "      <td>1.159706</td>\n",
              "      <td>1.017693</td>\n",
              "      <td>1.043874</td>\n",
              "      <td>1.027479</td>\n",
              "    </tr>\n",
              "    <tr>\n",
              "      <th>68</th>\n",
              "      <td>1.076814</td>\n",
              "      <td>1.098520</td>\n",
              "      <td>1.102388</td>\n",
              "      <td>1.137163</td>\n",
              "      <td>1.135161</td>\n",
              "      <td>1.055935</td>\n",
              "      <td>0.943724</td>\n",
              "      <td>0.758063</td>\n",
              "      <td>0.782767</td>\n",
              "      <td>1.159706</td>\n",
              "      <td>1.017693</td>\n",
              "      <td>1.043874</td>\n",
              "    </tr>\n",
              "    <tr>\n",
              "      <th>69</th>\n",
              "      <td>1.052339</td>\n",
              "      <td>1.076814</td>\n",
              "      <td>1.098520</td>\n",
              "      <td>1.102388</td>\n",
              "      <td>1.137163</td>\n",
              "      <td>1.135161</td>\n",
              "      <td>1.055935</td>\n",
              "      <td>0.943724</td>\n",
              "      <td>0.758063</td>\n",
              "      <td>0.782767</td>\n",
              "      <td>1.159706</td>\n",
              "      <td>1.017693</td>\n",
              "    </tr>\n",
              "    <tr>\n",
              "      <th>70</th>\n",
              "      <td>1.101218</td>\n",
              "      <td>1.052339</td>\n",
              "      <td>1.076814</td>\n",
              "      <td>1.098520</td>\n",
              "      <td>1.102388</td>\n",
              "      <td>1.137163</td>\n",
              "      <td>1.135161</td>\n",
              "      <td>1.055935</td>\n",
              "      <td>0.943724</td>\n",
              "      <td>0.758063</td>\n",
              "      <td>0.782767</td>\n",
              "      <td>1.159706</td>\n",
              "    </tr>\n",
              "    <tr>\n",
              "      <th>71</th>\n",
              "      <td>1.221600</td>\n",
              "      <td>1.101218</td>\n",
              "      <td>1.052339</td>\n",
              "      <td>1.076814</td>\n",
              "      <td>1.098520</td>\n",
              "      <td>1.102388</td>\n",
              "      <td>1.137163</td>\n",
              "      <td>1.135161</td>\n",
              "      <td>1.055935</td>\n",
              "      <td>0.943724</td>\n",
              "      <td>0.758063</td>\n",
              "      <td>0.782767</td>\n",
              "    </tr>\n",
              "  </tbody>\n",
              "</table>\n",
              "<p>61 rows × 12 columns</p>\n",
              "</div>"
            ],
            "text/plain": [
              "       Monto  mes_anterior_1  ...  mes_anterior_10  mes_anterior_11\n",
              "11  1.062650        0.871806  ...         0.569266         0.614232\n",
              "12  0.651988        1.062650  ...         0.772596         0.569266\n",
              "13  0.643124        0.651988  ...         0.835057         0.772596\n",
              "14  0.831765        0.643124  ...         0.899933         0.835057\n",
              "15  0.826669        0.831765  ...         0.925520         0.899933\n",
              "..       ...             ...  ...              ...              ...\n",
              "67  1.098520        1.102388  ...         1.043874         1.027479\n",
              "68  1.076814        1.098520  ...         1.017693         1.043874\n",
              "69  1.052339        1.076814  ...         1.159706         1.017693\n",
              "70  1.101218        1.052339  ...         0.782767         1.159706\n",
              "71  1.221600        1.101218  ...         0.758063         0.782767\n",
              "\n",
              "[61 rows x 12 columns]"
            ]
          },
          "metadata": {
            "tags": []
          },
          "execution_count": 427
        }
      ]
    },
    {
      "cell_type": "code",
      "metadata": {
        "colab": {
          "base_uri": "https://localhost:8080/"
        },
        "id": "NyPiM-31TVA-",
        "outputId": "04ab5223-58d4-4402-bd3c-b6e8c6df1b00"
      },
      "source": [
        "#Finalmente obtenemos los valores en un array tensorial\n",
        "x_test_tensor = dfTest.loc[:, dfTest.columns != 'Monto'].values\n",
        "x_test_tensor.shape"
      ],
      "execution_count": 428,
      "outputs": [
        {
          "output_type": "execute_result",
          "data": {
            "text/plain": [
              "(61, 11)"
            ]
          },
          "metadata": {
            "tags": []
          },
          "execution_count": 428
        }
      ]
    },
    {
      "cell_type": "code",
      "metadata": {
        "colab": {
          "base_uri": "https://localhost:8080/"
        },
        "id": "O9WtM3LhWVfT",
        "outputId": "d7ef46dc-4e81-42ae-d6c9-f9b716fec131"
      },
      "source": [
        "#En este caso los \"y\" son la columna \"Monto\"\n",
        "y_test_tensor = dfTest['Monto'].values\n",
        "y_test_tensor.shape"
      ],
      "execution_count": 429,
      "outputs": [
        {
          "output_type": "execute_result",
          "data": {
            "text/plain": [
              "(61,)"
            ]
          },
          "metadata": {
            "tags": []
          },
          "execution_count": 429
        }
      ]
    },
    {
      "cell_type": "code",
      "metadata": {
        "colab": {
          "base_uri": "https://localhost:8080/"
        },
        "id": "w5vTkPX8Wl3S",
        "outputId": "165a320e-3665-4e50-9a77-8d3e4e79a88c"
      },
      "source": [
        "#Estas son las variables que procesaremos\n",
        "x_train_tensor.shape, y_train_tensor.shape, x_test_tensor.shape, y_test_tensor.shape"
      ],
      "execution_count": 430,
      "outputs": [
        {
          "output_type": "execute_result",
          "data": {
            "text/plain": [
              "((228, 11), (228,), (61, 11), (61,))"
            ]
          },
          "metadata": {
            "tags": []
          },
          "execution_count": 430
        }
      ]
    },
    {
      "cell_type": "markdown",
      "metadata": {
        "id": "PVaKfmdOT8C3"
      },
      "source": [
        "# Implementación con una red neuronal clásica"
      ]
    },
    {
      "cell_type": "code",
      "metadata": {
        "id": "3nuK7QjRUc6R"
      },
      "source": [
        "#Vamos a resolver esto como si se tratase de una red neuronal en donde el orden no importa"
      ],
      "execution_count": 431,
      "outputs": []
    },
    {
      "cell_type": "code",
      "metadata": {
        "id": "BNWNc57FUccY"
      },
      "source": [
        "#Importamos las librerías para implementar la red \n",
        "from keras.models import Sequential\n",
        "from keras.layers import Dense"
      ],
      "execution_count": 432,
      "outputs": []
    },
    {
      "cell_type": "code",
      "metadata": {
        "id": "0jk0HjC0UANS"
      },
      "source": [
        "#Instanciamos un modelo\n",
        "model = Sequential()"
      ],
      "execution_count": 433,
      "outputs": []
    },
    {
      "cell_type": "code",
      "metadata": {
        "id": "4M0gpmWRUBy6"
      },
      "source": [
        "#Agregamos una capa de 6 neuronas, como tenemos 11 features, también agregamos 11 inputs\n",
        "model.add(Dense(6, input_dim=11, activation='relu'))"
      ],
      "execution_count": 434,
      "outputs": []
    },
    {
      "cell_type": "code",
      "metadata": {
        "id": "JDdXPEgOUSmk"
      },
      "source": [
        "#Agregamos la capa de salida de una neurona, ya que devuelve un valor\n",
        "model.add(Dense(1))"
      ],
      "execution_count": 435,
      "outputs": []
    },
    {
      "cell_type": "code",
      "metadata": {
        "id": "H-T9vdTYUTDt"
      },
      "source": [
        "#Compilamos\n",
        "model.compile(loss='mean_squared_error', optimizer='adam')"
      ],
      "execution_count": 436,
      "outputs": []
    },
    {
      "cell_type": "code",
      "metadata": {
        "colab": {
          "base_uri": "https://localhost:8080/"
        },
        "id": "gxUKHIMjUUrs",
        "outputId": "010ab161-aaa8-4850-bde9-260db5a03c6c"
      },
      "source": [
        "#Entrenamos\n",
        "model.fit(\n",
        "  x_train_tensor, \n",
        "  y_train_tensor, \n",
        "  epochs=10,\n",
        "  batch_size=2, \n",
        "  verbose=1\n",
        ")"
      ],
      "execution_count": 437,
      "outputs": [
        {
          "output_type": "stream",
          "text": [
            "Epoch 1/10\n",
            "114/114 [==============================] - 0s 1ms/step - loss: 0.7259\n",
            "Epoch 2/10\n",
            "114/114 [==============================] - 0s 967us/step - loss: 0.2042\n",
            "Epoch 3/10\n",
            "114/114 [==============================] - 0s 1ms/step - loss: 0.1459\n",
            "Epoch 4/10\n",
            "114/114 [==============================] - 0s 1ms/step - loss: 0.1080\n",
            "Epoch 5/10\n",
            "114/114 [==============================] - 0s 1ms/step - loss: 0.0850\n",
            "Epoch 6/10\n",
            "114/114 [==============================] - 0s 1ms/step - loss: 0.0655\n",
            "Epoch 7/10\n",
            "114/114 [==============================] - 0s 1ms/step - loss: 0.0561\n",
            "Epoch 8/10\n",
            "114/114 [==============================] - 0s 1ms/step - loss: 0.0615\n",
            "Epoch 9/10\n",
            "114/114 [==============================] - 0s 1ms/step - loss: 0.0470\n",
            "Epoch 10/10\n",
            "114/114 [==============================] - 0s 1ms/step - loss: 0.0482\n"
          ],
          "name": "stdout"
        },
        {
          "output_type": "execute_result",
          "data": {
            "text/plain": [
              "<tensorflow.python.keras.callbacks.History at 0x7f48b57a1450>"
            ]
          },
          "metadata": {
            "tags": []
          },
          "execution_count": 437
        }
      ]
    },
    {
      "cell_type": "code",
      "metadata": {
        "id": "hkEEwBKKUWoA"
      },
      "source": [
        "#Usamos el modelo para predecir los datos de testeo\n",
        "y_prediccion = model.predict(x_test_tensor)"
      ],
      "execution_count": 438,
      "outputs": []
    },
    {
      "cell_type": "code",
      "metadata": {
        "colab": {
          "base_uri": "https://localhost:8080/",
          "height": 282
        },
        "id": "DduDAdWzUX_I",
        "outputId": "fc20b5f9-d65e-4cdd-9af8-052720f9e554"
      },
      "source": [
        "#Graficamos los \"y\" reales y los \"y\" predichos\n",
        "plt.plot(y_test_tensor)\n",
        "plt.plot(y_prediccion)"
      ],
      "execution_count": 439,
      "outputs": [
        {
          "output_type": "execute_result",
          "data": {
            "text/plain": [
              "[<matplotlib.lines.Line2D at 0x7f48b56e60d0>]"
            ]
          },
          "metadata": {
            "tags": []
          },
          "execution_count": 439
        },
        {
          "output_type": "display_data",
          "data": {
            "image/png": "[encoded data removed]",
            "text/plain": [
              "<Figure size 432x288 with 1 Axes>"
            ]
          },
          "metadata": {
            "tags": [],
            "needs_background": "light"
          }
        }
      ]
    },
    {
      "cell_type": "markdown",
      "metadata": {
        "id": "hvGOOcd7TfkL"
      },
      "source": [
        "# Tensor de orden 3 estándar para las redes recurrentes"
      ]
    },
    {
      "cell_type": "code",
      "metadata": {
        "colab": {
          "base_uri": "https://localhost:8080/"
        },
        "id": "FUacBjF6XYGu",
        "outputId": "e3eb8720-f7d8-49b8-8c51-4b7c097819ff"
      },
      "source": [
        "#Estas son las variables que procesaremos\n",
        "x_train_tensor.shape, y_train_tensor.shape, x_test_tensor.shape, y_test_tensor.shape"
      ],
      "execution_count": 440,
      "outputs": [
        {
          "output_type": "execute_result",
          "data": {
            "text/plain": [
              "((228, 11), (228,), (61, 11), (61,))"
            ]
          },
          "metadata": {
            "tags": []
          },
          "execution_count": 440
        }
      ]
    },
    {
      "cell_type": "code",
      "metadata": {
        "colab": {
          "base_uri": "https://localhost:8080/"
        },
        "id": "ea5Z-oiNXY76",
        "outputId": "273d08c5-8b73-49bd-a203-cdbbb1dfb204"
      },
      "source": [
        "#A los features deberemos darle la forma tensorial de orden 3 que necesitan las redes recurrentes\n",
        "#Primero lo haremos con los features de entrenamiento\n",
        "x_train_tensor_rr = x_train_tensor[:, None, :]\n",
        "x_train_tensor_rr.shape"
      ],
      "execution_count": 441,
      "outputs": [
        {
          "output_type": "execute_result",
          "data": {
            "text/plain": [
              "(228, 1, 11)"
            ]
          },
          "metadata": {
            "tags": []
          },
          "execution_count": 441
        }
      ]
    },
    {
      "cell_type": "code",
      "metadata": {
        "colab": {
          "base_uri": "https://localhost:8080/"
        },
        "id": "AnME-AM1Xi4K",
        "outputId": "7aaac8d8-0867-49a0-f28e-de4fd54ca526"
      },
      "source": [
        "#Ahora los features de validación\n",
        "x_test_tensor_rr = x_test_tensor[:, None, :]\n",
        "x_test_tensor_rr.shape"
      ],
      "execution_count": 442,
      "outputs": [
        {
          "output_type": "execute_result",
          "data": {
            "text/plain": [
              "(61, 1, 11)"
            ]
          },
          "metadata": {
            "tags": []
          },
          "execution_count": 442
        }
      ]
    },
    {
      "cell_type": "markdown",
      "metadata": {
        "id": "snXoeivqX5tt"
      },
      "source": [
        "# Rolling Windows"
      ]
    },
    {
      "cell_type": "code",
      "metadata": {
        "id": "UkL0SHQYTuY3"
      },
      "source": [
        "#Importamos las librerías para implementar la red \n",
        "from keras.models import Sequential\n",
        "from keras.layers import Dense"
      ],
      "execution_count": 443,
      "outputs": []
    },
    {
      "cell_type": "code",
      "metadata": {
        "id": "o3ggVRDaXHnM"
      },
      "source": [
        "#Esta vez resolveremos el problema con una red recurrente\n",
        "#Importamos el objeto que nos permite definir una capa recurrente\n",
        "from keras.layers import LSTM"
      ],
      "execution_count": 444,
      "outputs": []
    },
    {
      "cell_type": "code",
      "metadata": {
        "id": "S0Lt7O3sXHpR"
      },
      "source": [
        "#Instanciamos un modelo\n",
        "model = Sequential()"
      ],
      "execution_count": 445,
      "outputs": []
    },
    {
      "cell_type": "code",
      "metadata": {
        "id": "SGlAkgkyXHry"
      },
      "source": [
        "#Agregamos una capa de recurrente de 6 neuronas, en input_shape deberemos colocar de cuánto en cuánto se procesan los datos (1) y luego cuántos features tenemos (11)\n",
        "#Con \"return_sequences\" devolvemos lo procesado para la siguiente capa\n",
        "model.add(LSTM(6, input_shape=(1, 11), return_sequences=True))"
      ],
      "execution_count": 446,
      "outputs": []
    },
    {
      "cell_type": "code",
      "metadata": {
        "id": "inAJFypOY_UK"
      },
      "source": [
        "#Agregamos otra capa\n",
        "model.add(LSTM(7, return_sequences=True))"
      ],
      "execution_count": 447,
      "outputs": []
    },
    {
      "cell_type": "code",
      "metadata": {
        "id": "xT91QssZZAMq"
      },
      "source": [
        "#Agregamos la última capa, como es la última LSTM no necesita el \"return_sequences\"\n",
        "model.add(LSTM(5))"
      ],
      "execution_count": 448,
      "outputs": []
    },
    {
      "cell_type": "code",
      "metadata": {
        "id": "tQXqvZdYXHub"
      },
      "source": [
        "#Agregamos la neurona de salida\n",
        "model.add(Dense(1))"
      ],
      "execution_count": 449,
      "outputs": []
    },
    {
      "cell_type": "markdown",
      "metadata": {
        "id": "jIEGBFGYnTAw"
      },
      "source": [
        "# Compilación"
      ]
    },
    {
      "cell_type": "code",
      "metadata": {
        "id": "CUQB1c0dYEZm"
      },
      "source": [
        "#Compilamos\n",
        "model.compile(loss='mean_squared_error', optimizer='adam')"
      ],
      "execution_count": 450,
      "outputs": []
    },
    {
      "cell_type": "markdown",
      "metadata": {
        "id": "3s03qh0bnWG-"
      },
      "source": [
        "# Entrenamiento"
      ]
    },
    {
      "cell_type": "code",
      "metadata": {
        "colab": {
          "base_uri": "https://localhost:8080/"
        },
        "id": "k-P_FuhnYHJ0",
        "outputId": "ed861ca0-12c0-484c-8f2f-fbc41cde0f01"
      },
      "source": [
        "#Entrenamos\n",
        "model.fit(\n",
        "  x_train_tensor_rr, \n",
        "  y_train_tensor, \n",
        "  epochs=100,\n",
        "  batch_size=2, \n",
        "  verbose=1\n",
        ")"
      ],
      "execution_count": 451,
      "outputs": [
        {
          "output_type": "stream",
          "text": [
            "Epoch 1/100\n",
            "114/114 [==============================] - 4s 3ms/step - loss: 0.2044\n",
            "Epoch 2/100\n",
            "114/114 [==============================] - 0s 3ms/step - loss: 0.0370\n",
            "Epoch 3/100\n",
            "114/114 [==============================] - 0s 3ms/step - loss: 0.0142\n",
            "Epoch 4/100\n",
            "114/114 [==============================] - 0s 3ms/step - loss: 0.0095\n",
            "Epoch 5/100\n",
            "114/114 [==============================] - 0s 3ms/step - loss: 0.0084\n",
            "Epoch 6/100\n",
            "114/114 [==============================] - 0s 3ms/step - loss: 0.0082\n",
            "Epoch 7/100\n",
            "114/114 [==============================] - 0s 3ms/step - loss: 0.0082\n",
            "Epoch 8/100\n",
            "114/114 [==============================] - 0s 3ms/step - loss: 0.0075\n",
            "Epoch 9/100\n",
            "114/114 [==============================] - 0s 3ms/step - loss: 0.0085\n",
            "Epoch 10/100\n",
            "114/114 [==============================] - 0s 3ms/step - loss: 0.0079\n",
            "Epoch 11/100\n",
            "114/114 [==============================] - 0s 3ms/step - loss: 0.0091\n",
            "Epoch 12/100\n",
            "114/114 [==============================] - 0s 3ms/step - loss: 0.0089\n",
            "Epoch 13/100\n",
            "114/114 [==============================] - 0s 3ms/step - loss: 0.0081\n",
            "Epoch 14/100\n",
            "114/114 [==============================] - 0s 3ms/step - loss: 0.0075\n",
            "Epoch 15/100\n",
            "114/114 [==============================] - 0s 3ms/step - loss: 0.0071\n",
            "Epoch 16/100\n",
            "114/114 [==============================] - 0s 3ms/step - loss: 0.0082\n",
            "Epoch 17/100\n",
            "114/114 [==============================] - 0s 3ms/step - loss: 0.0069\n",
            "Epoch 18/100\n",
            "114/114 [==============================] - 0s 3ms/step - loss: 0.0070\n",
            "Epoch 19/100\n",
            "114/114 [==============================] - 0s 3ms/step - loss: 0.0085\n",
            "Epoch 20/100\n",
            "114/114 [==============================] - 0s 3ms/step - loss: 0.0082\n",
            "Epoch 21/100\n",
            "114/114 [==============================] - 0s 3ms/step - loss: 0.0072\n",
            "Epoch 22/100\n",
            "114/114 [==============================] - 0s 3ms/step - loss: 0.0084\n",
            "Epoch 23/100\n",
            "114/114 [==============================] - 0s 3ms/step - loss: 0.0083\n",
            "Epoch 24/100\n",
            "114/114 [==============================] - 0s 3ms/step - loss: 0.0077\n",
            "Epoch 25/100\n",
            "114/114 [==============================] - 0s 3ms/step - loss: 0.0070\n",
            "Epoch 26/100\n",
            "114/114 [==============================] - 0s 3ms/step - loss: 0.0073\n",
            "Epoch 27/100\n",
            "114/114 [==============================] - 0s 3ms/step - loss: 0.0073\n",
            "Epoch 28/100\n",
            "114/114 [==============================] - 0s 3ms/step - loss: 0.0082\n",
            "Epoch 29/100\n",
            "114/114 [==============================] - 0s 3ms/step - loss: 0.0063\n",
            "Epoch 30/100\n",
            "114/114 [==============================] - 0s 3ms/step - loss: 0.0061\n",
            "Epoch 31/100\n",
            "114/114 [==============================] - 0s 3ms/step - loss: 0.0070\n",
            "Epoch 32/100\n",
            "114/114 [==============================] - 0s 3ms/step - loss: 0.0069\n",
            "Epoch 33/100\n",
            "114/114 [==============================] - 0s 4ms/step - loss: 0.0065\n",
            "Epoch 34/100\n",
            "114/114 [==============================] - 0s 3ms/step - loss: 0.0078\n",
            "Epoch 35/100\n",
            "114/114 [==============================] - 0s 3ms/step - loss: 0.0062\n",
            "Epoch 36/100\n",
            "114/114 [==============================] - 0s 4ms/step - loss: 0.0067\n",
            "Epoch 37/100\n",
            "114/114 [==============================] - 0s 3ms/step - loss: 0.0057\n",
            "Epoch 38/100\n",
            "114/114 [==============================] - 0s 3ms/step - loss: 0.0069\n",
            "Epoch 39/100\n",
            "114/114 [==============================] - 0s 3ms/step - loss: 0.0062\n",
            "Epoch 40/100\n",
            "114/114 [==============================] - 0s 3ms/step - loss: 0.0063\n",
            "Epoch 41/100\n",
            "114/114 [==============================] - 0s 3ms/step - loss: 0.0063\n",
            "Epoch 42/100\n",
            "114/114 [==============================] - 0s 3ms/step - loss: 0.0061\n",
            "Epoch 43/100\n",
            "114/114 [==============================] - 0s 3ms/step - loss: 0.0081\n",
            "Epoch 44/100\n",
            "114/114 [==============================] - 0s 3ms/step - loss: 0.0085\n",
            "Epoch 45/100\n",
            "114/114 [==============================] - 0s 4ms/step - loss: 0.0082\n",
            "Epoch 46/100\n",
            "114/114 [==============================] - 0s 3ms/step - loss: 0.0052\n",
            "Epoch 47/100\n",
            "114/114 [==============================] - 0s 3ms/step - loss: 0.0054\n",
            "Epoch 48/100\n",
            "114/114 [==============================] - 0s 3ms/step - loss: 0.0053\n",
            "Epoch 49/100\n",
            "114/114 [==============================] - 0s 3ms/step - loss: 0.0073\n",
            "Epoch 50/100\n",
            "114/114 [==============================] - 0s 3ms/step - loss: 0.0062\n",
            "Epoch 51/100\n",
            "114/114 [==============================] - 0s 3ms/step - loss: 0.0069\n",
            "Epoch 52/100\n",
            "114/114 [==============================] - 0s 3ms/step - loss: 0.0073\n",
            "Epoch 53/100\n",
            "114/114 [==============================] - 0s 3ms/step - loss: 0.0066\n",
            "Epoch 54/100\n",
            "114/114 [==============================] - 0s 3ms/step - loss: 0.0073\n",
            "Epoch 55/100\n",
            "114/114 [==============================] - 0s 3ms/step - loss: 0.0069\n",
            "Epoch 56/100\n",
            "114/114 [==============================] - 0s 3ms/step - loss: 0.0072\n",
            "Epoch 57/100\n",
            "114/114 [==============================] - 0s 4ms/step - loss: 0.0058\n",
            "Epoch 58/100\n",
            "114/114 [==============================] - 0s 3ms/step - loss: 0.0066\n",
            "Epoch 59/100\n",
            "114/114 [==============================] - 0s 3ms/step - loss: 0.0072\n",
            "Epoch 60/100\n",
            "114/114 [==============================] - 0s 4ms/step - loss: 0.0067\n",
            "Epoch 61/100\n",
            "114/114 [==============================] - 0s 4ms/step - loss: 0.0049\n",
            "Epoch 62/100\n",
            "114/114 [==============================] - 0s 4ms/step - loss: 0.0048\n",
            "Epoch 63/100\n",
            "114/114 [==============================] - 0s 3ms/step - loss: 0.0061\n",
            "Epoch 64/100\n",
            "114/114 [==============================] - 0s 4ms/step - loss: 0.0072\n",
            "Epoch 65/100\n",
            "114/114 [==============================] - 0s 4ms/step - loss: 0.0069\n",
            "Epoch 66/100\n",
            "114/114 [==============================] - 0s 4ms/step - loss: 0.0060\n",
            "Epoch 67/100\n",
            "114/114 [==============================] - 0s 3ms/step - loss: 0.0061\n",
            "Epoch 68/100\n",
            "114/114 [==============================] - 0s 3ms/step - loss: 0.0057\n",
            "Epoch 69/100\n",
            "114/114 [==============================] - 0s 3ms/step - loss: 0.0070\n",
            "Epoch 70/100\n",
            "114/114 [==============================] - 0s 3ms/step - loss: 0.0053\n",
            "Epoch 71/100\n",
            "114/114 [==============================] - 0s 3ms/step - loss: 0.0061\n",
            "Epoch 72/100\n",
            "114/114 [==============================] - 0s 3ms/step - loss: 0.0048\n",
            "Epoch 73/100\n",
            "114/114 [==============================] - 0s 3ms/step - loss: 0.0052\n",
            "Epoch 74/100\n",
            "114/114 [==============================] - 0s 3ms/step - loss: 0.0066\n",
            "Epoch 75/100\n",
            "114/114 [==============================] - 0s 4ms/step - loss: 0.0065\n",
            "Epoch 76/100\n",
            "114/114 [==============================] - 0s 3ms/step - loss: 0.0080\n",
            "Epoch 77/100\n",
            "114/114 [==============================] - 0s 4ms/step - loss: 0.0065\n",
            "Epoch 78/100\n",
            "114/114 [==============================] - 0s 4ms/step - loss: 0.0052\n",
            "Epoch 79/100\n",
            "114/114 [==============================] - 0s 3ms/step - loss: 0.0065\n",
            "Epoch 80/100\n",
            "114/114 [==============================] - 0s 4ms/step - loss: 0.0058\n",
            "Epoch 81/100\n",
            "114/114 [==============================] - 0s 4ms/step - loss: 0.0054\n",
            "Epoch 82/100\n",
            "114/114 [==============================] - 0s 3ms/step - loss: 0.0052\n",
            "Epoch 83/100\n",
            "114/114 [==============================] - 0s 3ms/step - loss: 0.0051\n",
            "Epoch 84/100\n",
            "114/114 [==============================] - 0s 4ms/step - loss: 0.0067\n",
            "Epoch 85/100\n",
            "114/114 [==============================] - 0s 3ms/step - loss: 0.0060\n",
            "Epoch 86/100\n",
            "114/114 [==============================] - 0s 3ms/step - loss: 0.0063\n",
            "Epoch 87/100\n",
            "114/114 [==============================] - 0s 4ms/step - loss: 0.0054\n",
            "Epoch 88/100\n",
            "114/114 [==============================] - 0s 3ms/step - loss: 0.0055\n",
            "Epoch 89/100\n",
            "114/114 [==============================] - 0s 3ms/step - loss: 0.0051\n",
            "Epoch 90/100\n",
            "114/114 [==============================] - 0s 4ms/step - loss: 0.0056\n",
            "Epoch 91/100\n",
            "114/114 [==============================] - 0s 3ms/step - loss: 0.0074\n",
            "Epoch 92/100\n",
            "114/114 [==============================] - 0s 3ms/step - loss: 0.0066\n",
            "Epoch 93/100\n",
            "114/114 [==============================] - 0s 3ms/step - loss: 0.0061\n",
            "Epoch 94/100\n",
            "114/114 [==============================] - 0s 4ms/step - loss: 0.0069\n",
            "Epoch 95/100\n",
            "114/114 [==============================] - 0s 4ms/step - loss: 0.0063\n",
            "Epoch 96/100\n",
            "114/114 [==============================] - 0s 3ms/step - loss: 0.0051\n",
            "Epoch 97/100\n",
            "114/114 [==============================] - 0s 4ms/step - loss: 0.0069\n",
            "Epoch 98/100\n",
            "114/114 [==============================] - 0s 3ms/step - loss: 0.0059\n",
            "Epoch 99/100\n",
            "114/114 [==============================] - 0s 3ms/step - loss: 0.0060\n",
            "Epoch 100/100\n",
            "114/114 [==============================] - 0s 3ms/step - loss: 0.0050\n"
          ],
          "name": "stdout"
        },
        {
          "output_type": "execute_result",
          "data": {
            "text/plain": [
              "<tensorflow.python.keras.callbacks.History at 0x7f48b5541250>"
            ]
          },
          "metadata": {
            "tags": []
          },
          "execution_count": 451
        }
      ]
    },
    {
      "cell_type": "markdown",
      "metadata": {
        "id": "3JUBo2VbYOzH"
      },
      "source": [
        "# Uso del modelo"
      ]
    },
    {
      "cell_type": "code",
      "metadata": {
        "id": "HEY47x5uYNTM"
      },
      "source": [
        "#Usamos el modelo para predecir los datos de testeo\n",
        "y_prediccion = model.predict(x_test_tensor_rr)"
      ],
      "execution_count": 452,
      "outputs": []
    },
    {
      "cell_type": "code",
      "metadata": {
        "colab": {
          "base_uri": "https://localhost:8080/",
          "height": 282
        },
        "id": "_UHuYnezYRLV",
        "outputId": "7202fdc1-7d23-415b-b158-727e7f771381"
      },
      "source": [
        "#Graficamos los \"y\" reales y los \"y\" predichos\n",
        "plt.plot(y_test_tensor)\n",
        "plt.plot(y_prediccion)"
      ],
      "execution_count": 453,
      "outputs": [
        {
          "output_type": "execute_result",
          "data": {
            "text/plain": [
              "[<matplotlib.lines.Line2D at 0x7f489e840f10>]"
            ]
          },
          "metadata": {
            "tags": []
          },
          "execution_count": 453
        },
        {
          "output_type": "display_data",
          "data": {
            "image/png": "[encoded data removed]",
            "text/plain": [
              "<Figure size 432x288 with 1 Axes>"
            ]
          },
          "metadata": {
            "tags": [],
            "needs_background": "light"
          }
        }
      ]
    },
    {
      "cell_type": "code",
      "metadata": {
        "id": "0WlOQOEeZrbY"
      },
      "source": [
        "#Para usar el modelo, deberemos pasarle las ventas de los últimos 11 meses\n",
        "x = np.array([1.101218, 1.052339, 1.076814, 1.098520, 1.102388, 1.137163, 1.135161, 1.055935, 0.943724, 0.758063, 0.782767])"
      ],
      "execution_count": 454,
      "outputs": []
    },
    {
      "cell_type": "code",
      "metadata": {
        "colab": {
          "base_uri": "https://localhost:8080/"
        },
        "id": "XJ6Tc_HQa7Az",
        "outputId": "ecebe364-6193-447a-a735-33d1579e1695"
      },
      "source": [
        "#No tiene la forma tensorial estándar, se la deberemos dar\n",
        "x.shape"
      ],
      "execution_count": 455,
      "outputs": [
        {
          "output_type": "execute_result",
          "data": {
            "text/plain": [
              "(11,)"
            ]
          },
          "metadata": {
            "tags": []
          },
          "execution_count": 455
        }
      ]
    },
    {
      "cell_type": "code",
      "metadata": {
        "colab": {
          "base_uri": "https://localhost:8080/"
        },
        "id": "IrBqJqQcbAAW",
        "outputId": "627b2672-d3a7-4ad9-baec-76f9e72523b9"
      },
      "source": [
        "#Tensorizamos\n",
        "x_tensor = x[None, None, :]\n",
        "x_tensor.shape"
      ],
      "execution_count": 456,
      "outputs": [
        {
          "output_type": "execute_result",
          "data": {
            "text/plain": [
              "(1, 1, 11)"
            ]
          },
          "metadata": {
            "tags": []
          },
          "execution_count": 456
        }
      ]
    },
    {
      "cell_type": "code",
      "metadata": {
        "colab": {
          "base_uri": "https://localhost:8080/"
        },
        "id": "_j2fNcb3aSza",
        "outputId": "dc1ca6b7-d37b-4c13-a13b-fe4572ae983f"
      },
      "source": [
        "#Usamos el modelo para predecir\n",
        "#Nos dará la predicción escalada, deberemos convertirla a su valor original\n",
        "mes_siguiente_1 = model.predict(x_tensor)\n",
        "mes_siguiente_1"
      ],
      "execution_count": 457,
      "outputs": [
        {
          "output_type": "execute_result",
          "data": {
            "text/plain": [
              "array([[0.8722806]], dtype=float32)"
            ]
          },
          "metadata": {
            "tags": []
          },
          "execution_count": 457
        }
      ]
    },
    {
      "cell_type": "code",
      "metadata": {
        "colab": {
          "base_uri": "https://localhost:8080/",
          "height": 419
        },
        "id": "4toqt76LdNnT",
        "outputId": "1113f13d-e306-42b7-b409-a2b74a8c1d19"
      },
      "source": [
        "#Cargaremos un dataset original\n",
        "dfData = pd.read_csv('/content/drive/MyDrive/Data/ventas.csv')\n",
        "dfData"
      ],
      "execution_count": 458,
      "outputs": [
        {
          "output_type": "execute_result",
          "data": {
            "text/html": [
              "<div>\n",
              "<style scoped>\n",
              "    .dataframe tbody tr th:only-of-type {\n",
              "        vertical-align: middle;\n",
              "    }\n",
              "\n",
              "    .dataframe tbody tr th {\n",
              "        vertical-align: top;\n",
              "    }\n",
              "\n",
              "    .dataframe thead th {\n",
              "        text-align: right;\n",
              "    }\n",
              "</style>\n",
              "<table border=\"1\" class=\"dataframe\">\n",
              "  <thead>\n",
              "    <tr style=\"text-align: right;\">\n",
              "      <th></th>\n",
              "      <th>Adjustments</th>\n",
              "      <th>Unadjusted</th>\n",
              "      <th>Seasonally adjusted</th>\n",
              "    </tr>\n",
              "  </thead>\n",
              "  <tbody>\n",
              "    <tr>\n",
              "      <th>0</th>\n",
              "      <td>Jan-1991</td>\n",
              "      <td>12588862</td>\n",
              "      <td>15026890</td>\n",
              "    </tr>\n",
              "    <tr>\n",
              "      <th>1</th>\n",
              "      <td>Feb-1991</td>\n",
              "      <td>12154321</td>\n",
              "      <td>15304585</td>\n",
              "    </tr>\n",
              "    <tr>\n",
              "      <th>2</th>\n",
              "      <td>Mar-1991</td>\n",
              "      <td>14337072</td>\n",
              "      <td>15413591</td>\n",
              "    </tr>\n",
              "    <tr>\n",
              "      <th>3</th>\n",
              "      <td>Apr-1991</td>\n",
              "      <td>15108570</td>\n",
              "      <td>15293409</td>\n",
              "    </tr>\n",
              "    <tr>\n",
              "      <th>4</th>\n",
              "      <td>May-1991</td>\n",
              "      <td>17225734</td>\n",
              "      <td>15676083</td>\n",
              "    </tr>\n",
              "    <tr>\n",
              "      <th>...</th>\n",
              "      <td>...</td>\n",
              "      <td>...</td>\n",
              "      <td>...</td>\n",
              "    </tr>\n",
              "    <tr>\n",
              "      <th>308</th>\n",
              "      <td>Sep-2016</td>\n",
              "      <td>45528702</td>\n",
              "      <td>44534797</td>\n",
              "    </tr>\n",
              "    <tr>\n",
              "      <th>309</th>\n",
              "      <td>Oct-2016</td>\n",
              "      <td>44770113</td>\n",
              "      <td>45061618</td>\n",
              "    </tr>\n",
              "    <tr>\n",
              "      <th>310</th>\n",
              "      <td>Nov-2016</td>\n",
              "      <td>46285062</td>\n",
              "      <td>45141762</td>\n",
              "    </tr>\n",
              "    <tr>\n",
              "      <th>311</th>\n",
              "      <td>Dec-2016</td>\n",
              "      <td>50016137</td>\n",
              "      <td>44943929</td>\n",
              "    </tr>\n",
              "    <tr>\n",
              "      <th>312</th>\n",
              "      <td>Jan-2017</td>\n",
              "      <td>37628452</td>\n",
              "      <td>45952103</td>\n",
              "    </tr>\n",
              "  </tbody>\n",
              "</table>\n",
              "<p>313 rows × 3 columns</p>\n",
              "</div>"
            ],
            "text/plain": [
              "    Adjustments  Unadjusted  Seasonally adjusted\n",
              "0      Jan-1991    12588862             15026890\n",
              "1      Feb-1991    12154321             15304585\n",
              "2      Mar-1991    14337072             15413591\n",
              "3      Apr-1991    15108570             15293409\n",
              "4      May-1991    17225734             15676083\n",
              "..          ...         ...                  ...\n",
              "308    Sep-2016    45528702             44534797\n",
              "309    Oct-2016    44770113             45061618\n",
              "310    Nov-2016    46285062             45141762\n",
              "311    Dec-2016    50016137             44943929\n",
              "312    Jan-2017    37628452             45952103\n",
              "\n",
              "[313 rows x 3 columns]"
            ]
          },
          "metadata": {
            "tags": []
          },
          "execution_count": 458
        }
      ]
    },
    {
      "cell_type": "code",
      "metadata": {
        "id": "3r9EFFQhdkNr"
      },
      "source": [
        "#Importamos la librería para reescalar\n",
        "from sklearn.preprocessing import MinMaxScaler\n",
        "sc = MinMaxScaler()"
      ],
      "execution_count": 459,
      "outputs": []
    },
    {
      "cell_type": "code",
      "metadata": {
        "id": "a365KsvicNku"
      },
      "source": [
        "#Instanciamos el escalador con los datos\n",
        "x_scaler = sc.fit_transform(dfData[['Unadjusted']])"
      ],
      "execution_count": 460,
      "outputs": []
    },
    {
      "cell_type": "code",
      "metadata": {
        "colab": {
          "base_uri": "https://localhost:8080/"
        },
        "id": "QIxvUl8_dxgg",
        "outputId": "4a4bf54e-7107-4a24-e8b4-3c0a194bd542"
      },
      "source": [
        "#Obtenemos el valor no escalado\n",
        "mes_siguiente_1_no_escalado = sc.inverse_transform(mes_siguiente_1)\n",
        "mes_siguiente_1_no_escalado"
      ],
      "execution_count": 461,
      "outputs": [
        {
          "output_type": "execute_result",
          "data": {
            "text/plain": [
              "array([[45180450.]], dtype=float32)"
            ]
          },
          "metadata": {
            "tags": []
          },
          "execution_count": 461
        }
      ]
    },
    {
      "cell_type": "code",
      "metadata": {
        "colab": {
          "base_uri": "https://localhost:8080/"
        },
        "id": "OH2j8yaKd9PN",
        "outputId": "49c087bf-75af-4a15-f767-0131f5d375d5"
      },
      "source": [
        "#Si queremos obtener la predicción dos meses a futuro deberemos enviarle los 11 meses anteriores incluyendo la predicción que acabamos de realizar\n",
        "x2 = np.array([0.92748433, 1.101218, 1.052339, 1.076814, 1.098520, 1.102388, 1.137163, 1.135161, 1.055935, 0.943724, 0.758063])\n",
        "\n",
        "#Tensorizamos\n",
        "x2_tensor = x2[None, None, :]\n",
        "\n",
        "#Predecimos\n",
        "mes_siguiente_2 = model.predict(x2_tensor)\n",
        "\n",
        "#Obtenemos el valor no escalado\n",
        "mes_siguiente_2_no_escalado = sc.inverse_transform(mes_siguiente_2)\n",
        "mes_siguiente_2_no_escalado"
      ],
      "execution_count": 462,
      "outputs": [
        {
          "output_type": "execute_result",
          "data": {
            "text/plain": [
              "array([[40691276.]], dtype=float32)"
            ]
          },
          "metadata": {
            "tags": []
          },
          "execution_count": 462
        }
      ]
    },
    {
      "cell_type": "code",
      "metadata": {
        "colab": {
          "base_uri": "https://localhost:8080/"
        },
        "id": "6oEf1R1Pgd6K",
        "outputId": "fe9a3219-20da-4815-bf6c-2fb937c366ee"
      },
      "source": [
        "#Para extraer sólo el número debemos hacerlo así\n",
        "mes_siguiente_2_no_escalado[0][0]"
      ],
      "execution_count": 463,
      "outputs": [
        {
          "output_type": "execute_result",
          "data": {
            "text/plain": [
              "40691276.0"
            ]
          },
          "metadata": {
            "tags": []
          },
          "execution_count": 463
        }
      ]
    },
    {
      "cell_type": "code",
      "metadata": {
        "id": "bUktS_GkjDu7"
      },
      "source": [
        "#Para evitar hacer todo esto de manera manual vamos a crear una función utilitaria"
      ],
      "execution_count": 464,
      "outputs": []
    },
    {
      "cell_type": "markdown",
      "metadata": {
        "id": "FeUcuQisjEH_"
      },
      "source": [
        "# Función utilitaria para el uso del modelo"
      ]
    },
    {
      "cell_type": "code",
      "metadata": {
        "id": "vurQgmtub0-H"
      },
      "source": [
        "#Funcion utilitaria\n",
        "def predecir_red_recurrente(cantidad_predicciones, data_sin_escalar, features):\n",
        "  #Aqui colocaremos las predicciones\n",
        "  predicciones = np.zeros(cantidad_predicciones)\n",
        "\n",
        "  #Copiamos los datos a procesar\n",
        "  input = features\n",
        "\n",
        "  #Obtenemos el escalador\n",
        "  sc = MinMaxScaler()\n",
        "  x_scaler = sc.fit_transform(data_sin_escalar)\n",
        "\n",
        "  #Iteramos la cantidad de predicciones solicitadas\n",
        "  for i in range(0, cantidad_predicciones):\n",
        "    #Convertimos en un array numpy\n",
        "    features_numpy = np.array(input)\n",
        "\n",
        "    #Tensorizamos\n",
        "    input_tensor = features_numpy[None, None, :]\n",
        "\n",
        "    #Predecimos\n",
        "    prediccion = model.predict(input_tensor)\n",
        "\n",
        "    #Des-escalamos\n",
        "    prediccion_no_escalada = sc.inverse_transform(prediccion)[0][0]\n",
        "\n",
        "    #Colocamos la prediccion en el array\n",
        "    predicciones[i] = prediccion_no_escalada\n",
        "\n",
        "    #Modificamos vector de features agregando la predicción y eliminando el último elemento\n",
        "    input = [prediccion_no_escalada] + input[:-1]\n",
        "  \n",
        "  #Devolvemos las predicciones\n",
        "  return predicciones"
      ],
      "execution_count": 465,
      "outputs": []
    },
    {
      "cell_type": "code",
      "metadata": {
        "colab": {
          "base_uri": "https://localhost:8080/"
        },
        "id": "Z0m54ffqfwEh",
        "outputId": "382bb500-ce74-4684-a6b0-45ea257bb9a3"
      },
      "source": [
        "#Usamos la función para obtener las predicciones de los próximos 5 meses\n",
        "predicciones = predecir_red_recurrente(5, dfData[['Unadjusted']], [1.101218, 1.052339, 1.076814, 1.098520, 1.102388, 1.137163, 1.135161, 1.055935, 0.943724, 0.758063, 0.782767])\n",
        "predicciones"
      ],
      "execution_count": 466,
      "outputs": [
        {
          "output_type": "execute_result",
          "data": {
            "text/plain": [
              "array([45180448., 54161500., 55715692., 40882784., 28687026.])"
            ]
          },
          "metadata": {
            "tags": []
          },
          "execution_count": 466
        }
      ]
    }
  ]
}