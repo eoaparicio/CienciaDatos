{
  "nbformat": 4,
  "nbformat_minor": 0,
  "metadata": {
    "colab": {
      "name": "Laboratorio_19_[Calibración_de_Batch_Size]_v1_0.ipynb",
      "provenance": [],
      "collapsed_sections": []
    },
    "kernelspec": {
      "name": "python3",
      "display_name": "Python 3"
    },
    "language_info": {
      "name": "python"
    }
  },
  "cells": [
    {
      "cell_type": "markdown",
      "metadata": {
        "id": "NZsZMo0u26C9"
      },
      "source": [
        "# Librerías"
      ]
    },
    {
      "cell_type": "code",
      "metadata": {
        "id": "R6xbLrkS27xY"
      },
      "source": [
        "%matplotlib inline\n",
        "import matplotlib.pyplot as plt\n",
        "import numpy as np\n",
        "import pandas as pd\n",
        "from google.colab import drive\n",
        "from sklearn.model_selection import train_test_split"
      ],
      "execution_count": 1,
      "outputs": []
    },
    {
      "cell_type": "markdown",
      "metadata": {
        "id": "dcbT65k33CXQ"
      },
      "source": [
        "# Conexión al repositorio de datos"
      ]
    },
    {
      "cell_type": "code",
      "metadata": {
        "colab": {
          "base_uri": "https://localhost:8080/"
        },
        "id": "tQrjHiOc3Bom",
        "outputId": "2c37fcf4-0f83-4201-e02f-8cf1e3567894"
      },
      "source": [
        "#Accedemos a Google Drive\n",
        "drive.mount('/content/drive')"
      ],
      "execution_count": 2,
      "outputs": [
        {
          "output_type": "stream",
          "name": "stdout",
          "text": [
            "Mounted at /content/drive\n"
          ]
        }
      ]
    },
    {
      "cell_type": "markdown",
      "metadata": {
        "id": "RgQ0RU4I3VcM"
      },
      "source": [
        "# Lectura de datos"
      ]
    },
    {
      "cell_type": "code",
      "metadata": {
        "colab": {
          "base_uri": "https://localhost:8080/",
          "height": 419
        },
        "id": "UMgEyQL03Wls",
        "outputId": "5d88679f-6e60-4fa0-df7b-2d87029e0cd9"
      },
      "source": [
        "#Leemos los datos\n",
        "#Se trata de un dataset que describe las características de billetes verdaderos y falsos\n",
        "df = pd.read_csv('/content/drive/MyDrive/Data/billetes.csv')\n",
        "df\n",
        "\n",
        "#No entraremos mucho en los detalles de qué significa cada variable\n",
        "#Cada variable indica una característica del billete\n",
        "#El label \"class\" determina si un billete es o no falso"
      ],
      "execution_count": 3,
      "outputs": [
        {
          "output_type": "execute_result",
          "data": {
            "text/html": [
              "<div>\n",
              "<style scoped>\n",
              "    .dataframe tbody tr th:only-of-type {\n",
              "        vertical-align: middle;\n",
              "    }\n",
              "\n",
              "    .dataframe tbody tr th {\n",
              "        vertical-align: top;\n",
              "    }\n",
              "\n",
              "    .dataframe thead th {\n",
              "        text-align: right;\n",
              "    }\n",
              "</style>\n",
              "<table border=\"1\" class=\"dataframe\">\n",
              "  <thead>\n",
              "    <tr style=\"text-align: right;\">\n",
              "      <th></th>\n",
              "      <th>variace</th>\n",
              "      <th>skewness</th>\n",
              "      <th>curtosis</th>\n",
              "      <th>entropy</th>\n",
              "      <th>class</th>\n",
              "    </tr>\n",
              "  </thead>\n",
              "  <tbody>\n",
              "    <tr>\n",
              "      <th>0</th>\n",
              "      <td>3.62160</td>\n",
              "      <td>8.66610</td>\n",
              "      <td>-2.8073</td>\n",
              "      <td>-0.44699</td>\n",
              "      <td>0</td>\n",
              "    </tr>\n",
              "    <tr>\n",
              "      <th>1</th>\n",
              "      <td>4.54590</td>\n",
              "      <td>8.16740</td>\n",
              "      <td>-2.4586</td>\n",
              "      <td>-1.46210</td>\n",
              "      <td>0</td>\n",
              "    </tr>\n",
              "    <tr>\n",
              "      <th>2</th>\n",
              "      <td>3.86600</td>\n",
              "      <td>-2.63830</td>\n",
              "      <td>1.9242</td>\n",
              "      <td>0.10645</td>\n",
              "      <td>0</td>\n",
              "    </tr>\n",
              "    <tr>\n",
              "      <th>3</th>\n",
              "      <td>3.45660</td>\n",
              "      <td>9.52280</td>\n",
              "      <td>-4.0112</td>\n",
              "      <td>-3.59440</td>\n",
              "      <td>0</td>\n",
              "    </tr>\n",
              "    <tr>\n",
              "      <th>4</th>\n",
              "      <td>0.32924</td>\n",
              "      <td>-4.45520</td>\n",
              "      <td>4.5718</td>\n",
              "      <td>-0.98880</td>\n",
              "      <td>0</td>\n",
              "    </tr>\n",
              "    <tr>\n",
              "      <th>...</th>\n",
              "      <td>...</td>\n",
              "      <td>...</td>\n",
              "      <td>...</td>\n",
              "      <td>...</td>\n",
              "      <td>...</td>\n",
              "    </tr>\n",
              "    <tr>\n",
              "      <th>1367</th>\n",
              "      <td>0.40614</td>\n",
              "      <td>1.34920</td>\n",
              "      <td>-1.4501</td>\n",
              "      <td>-0.55949</td>\n",
              "      <td>1</td>\n",
              "    </tr>\n",
              "    <tr>\n",
              "      <th>1368</th>\n",
              "      <td>-1.38870</td>\n",
              "      <td>-4.87730</td>\n",
              "      <td>6.4774</td>\n",
              "      <td>0.34179</td>\n",
              "      <td>1</td>\n",
              "    </tr>\n",
              "    <tr>\n",
              "      <th>1369</th>\n",
              "      <td>-3.75030</td>\n",
              "      <td>-13.45860</td>\n",
              "      <td>17.5932</td>\n",
              "      <td>-2.77710</td>\n",
              "      <td>1</td>\n",
              "    </tr>\n",
              "    <tr>\n",
              "      <th>1370</th>\n",
              "      <td>-3.56370</td>\n",
              "      <td>-8.38270</td>\n",
              "      <td>12.3930</td>\n",
              "      <td>-1.28230</td>\n",
              "      <td>1</td>\n",
              "    </tr>\n",
              "    <tr>\n",
              "      <th>1371</th>\n",
              "      <td>-2.54190</td>\n",
              "      <td>-0.65804</td>\n",
              "      <td>2.6842</td>\n",
              "      <td>1.19520</td>\n",
              "      <td>1</td>\n",
              "    </tr>\n",
              "  </tbody>\n",
              "</table>\n",
              "<p>1372 rows × 5 columns</p>\n",
              "</div>"
            ],
            "text/plain": [
              "      variace  skewness  curtosis  entropy  class\n",
              "0     3.62160   8.66610   -2.8073 -0.44699      0\n",
              "1     4.54590   8.16740   -2.4586 -1.46210      0\n",
              "2     3.86600  -2.63830    1.9242  0.10645      0\n",
              "3     3.45660   9.52280   -4.0112 -3.59440      0\n",
              "4     0.32924  -4.45520    4.5718 -0.98880      0\n",
              "...       ...       ...       ...      ...    ...\n",
              "1367  0.40614   1.34920   -1.4501 -0.55949      1\n",
              "1368 -1.38870  -4.87730    6.4774  0.34179      1\n",
              "1369 -3.75030 -13.45860   17.5932 -2.77710      1\n",
              "1370 -3.56370  -8.38270   12.3930 -1.28230      1\n",
              "1371 -2.54190  -0.65804    2.6842  1.19520      1\n",
              "\n",
              "[1372 rows x 5 columns]"
            ]
          },
          "metadata": {},
          "execution_count": 3
        }
      ]
    },
    {
      "cell_type": "markdown",
      "metadata": {
        "id": "8DJXKz-h3a9c"
      },
      "source": [
        "# Definición de \"features\""
      ]
    },
    {
      "cell_type": "code",
      "metadata": {
        "colab": {
          "base_uri": "https://localhost:8080/"
        },
        "id": "ztCAxdp83b6s",
        "outputId": "adf921fc-66eb-48ea-a58b-69792dc68030"
      },
      "source": [
        "#Definimos los features\n",
        "x = df[['variace', 'skewness', 'curtosis', 'entropy']].values\n",
        "x"
      ],
      "execution_count": 4,
      "outputs": [
        {
          "output_type": "execute_result",
          "data": {
            "text/plain": [
              "array([[  3.6216 ,   8.6661 ,  -2.8073 ,  -0.44699],\n",
              "       [  4.5459 ,   8.1674 ,  -2.4586 ,  -1.4621 ],\n",
              "       [  3.866  ,  -2.6383 ,   1.9242 ,   0.10645],\n",
              "       ...,\n",
              "       [ -3.7503 , -13.4586 ,  17.5932 ,  -2.7771 ],\n",
              "       [ -3.5637 ,  -8.3827 ,  12.393  ,  -1.2823 ],\n",
              "       [ -2.5419 ,  -0.65804,   2.6842 ,   1.1952 ]])"
            ]
          },
          "metadata": {},
          "execution_count": 4
        }
      ]
    },
    {
      "cell_type": "code",
      "metadata": {
        "id": "OCZUT4tY3eR-"
      },
      "source": [
        "#En el caso de los features, vamos a escalarlos con valores entre 0 y 1"
      ],
      "execution_count": 5,
      "outputs": []
    },
    {
      "cell_type": "code",
      "metadata": {
        "id": "LuPIrAR23fv6"
      },
      "source": [
        "#Importamos la librería para escalar\n",
        "from sklearn.preprocessing import scale"
      ],
      "execution_count": 6,
      "outputs": []
    },
    {
      "cell_type": "code",
      "metadata": {
        "colab": {
          "base_uri": "https://localhost:8080/"
        },
        "id": "JYzGDMv43g6t",
        "outputId": "3687fcbb-4c01-4543-deef-e9fececbcd1d"
      },
      "source": [
        "#Escalamos\n",
        "x = scale(x)\n",
        "x"
      ],
      "execution_count": 7,
      "outputs": [
        {
          "output_type": "execute_result",
          "data": {
            "text/plain": [
              "array([[ 1.12180565,  1.14945512, -0.97597007,  0.35456135],\n",
              "       [ 1.44706568,  1.06445293, -0.89503626, -0.12876744],\n",
              "       [ 1.20780971, -0.77735215,  0.12221838,  0.61807317],\n",
              "       ...,\n",
              "       [-1.47235682, -2.62164576,  3.75901744, -0.75488418],\n",
              "       [-1.40669251, -1.75647104,  2.552043  , -0.04315848],\n",
              "       [-1.04712236, -0.43982168,  0.29861555,  1.1364645 ]])"
            ]
          },
          "metadata": {},
          "execution_count": 7
        }
      ]
    },
    {
      "cell_type": "markdown",
      "metadata": {
        "id": "BTWpUlIt3pwg"
      },
      "source": [
        "# Definición de \"labels\""
      ]
    },
    {
      "cell_type": "code",
      "metadata": {
        "colab": {
          "base_uri": "https://localhost:8080/"
        },
        "id": "d3HzbJ2B3rI_",
        "outputId": "02b33847-0e2c-4a03-fa5b-eefa72065960"
      },
      "source": [
        "#Definimos los labels\n",
        "y = df['class'].values\n",
        "y"
      ],
      "execution_count": 8,
      "outputs": [
        {
          "output_type": "execute_result",
          "data": {
            "text/plain": [
              "array([0, 0, 0, ..., 1, 1, 1])"
            ]
          },
          "metadata": {},
          "execution_count": 8
        }
      ]
    },
    {
      "cell_type": "markdown",
      "metadata": {
        "id": "lzDq48N33wVZ"
      },
      "source": [
        "# División de los datos en datos de entrenamiento (x_train, y_train) y datos de validación (x_test, y_test)"
      ]
    },
    {
      "cell_type": "code",
      "metadata": {
        "id": "Uh8gGHpN3v7d"
      },
      "source": [
        "x_train, x_test, y_train, y_test = train_test_split(x, y, test_size=0.3, random_state=42)"
      ],
      "execution_count": 9,
      "outputs": []
    },
    {
      "cell_type": "markdown",
      "metadata": {
        "id": "PA3Hfw-P38RZ"
      },
      "source": [
        "# Calibrando el tamaño del batch"
      ]
    },
    {
      "cell_type": "code",
      "metadata": {
        "id": "9LoJYX3y4Od2"
      },
      "source": [
        "#Importamos las librerías de Keras\n",
        "from keras.models import Sequential\n",
        "from keras.layers import Dense, Activation\n",
        "\n",
        "#Importamos un optimizador\n",
        "#Ya sabemos que podemos usar el método de gradiente descendiente para encontrar el punto en dónde se mimice el error en nuestra función de costo\n",
        "#Usaremos una gradiente descendiente conocida como SDG: Stocastic Descendent Gradiente (Gradiente descedente estocástica)\n",
        "#¿Qué significa?, al decir que es estocástica significa que estamos colocando el punto inicial de evaluación de manera aleatoria\n",
        "from tensorflow.keras.optimizers import SGD"
      ],
      "execution_count": 10,
      "outputs": []
    },
    {
      "cell_type": "code",
      "metadata": {
        "id": "aYXRqPOg4C0s"
      },
      "source": [
        "#Vamos a calibrar el tamaño del batch para que la velocidad de entrenamiento mejore sin perder accuracy"
      ],
      "execution_count": 11,
      "outputs": []
    },
    {
      "cell_type": "code",
      "metadata": {
        "id": "BBG4k8Gb4ETC"
      },
      "source": [
        "#Probaremos diferentes valores para el batch\n",
        "array_batch = [16, 32, 64, 128]"
      ],
      "execution_count": 12,
      "outputs": []
    },
    {
      "cell_type": "code",
      "metadata": {
        "id": "7StIezk-4FgK"
      },
      "source": [
        "#Creamos un array en donde guardaremos las descripciones de cada entrenamiento\n",
        "array_descripciones = []"
      ],
      "execution_count": 13,
      "outputs": []
    },
    {
      "cell_type": "code",
      "metadata": {
        "id": "YGa57oRm4HLq",
        "colab": {
          "base_uri": "https://localhost:8080/"
        },
        "outputId": "21194cee-becf-493b-fa50-49a08bce8474"
      },
      "source": [
        "#Iteramos cada calibración\n",
        "for batch in array_batch:\n",
        "  model = Sequential()\n",
        "  model.add(Dense(1, input_shape=(4,), activation='sigmoid'))\n",
        "  \n",
        "  #Agregamos el \"lr\" de la calibración\n",
        "  #En \"lr\" ya hemos calibrado su valor, sabemos que el valor de 0.5 es el indicado\n",
        "  model.compile(\n",
        "    loss='binary_crossentropy',\n",
        "    optimizer=SGD(lr=0.5),\n",
        "    metrics=['accuracy']\n",
        "  )\n",
        "  \n",
        "  #Entrenamos la neurona\n",
        "  #En \"batch_size\" definimos el valor\n",
        "  descripcion_de_entrenamiento = model.fit(x_train, y_train, epochs = 10, batch_size=batch, verbose=0)\n",
        "\n",
        "  #Convertimos la descripción del entrenamiento en un dataframe\n",
        "  df = pd.DataFrame(\n",
        "      descripcion_de_entrenamiento.history,\n",
        "      index = descripcion_de_entrenamiento.epoch\n",
        "  )\n",
        "\n",
        "  #Agregamos el dataframe a la lista de descripciones de entrenamiento\n",
        "  array_descripciones.append(df)"
      ],
      "execution_count": 14,
      "outputs": [
        {
          "output_type": "stream",
          "name": "stderr",
          "text": [
            "/usr/local/lib/python3.7/dist-packages/keras/optimizer_v2/optimizer_v2.py:356: UserWarning: The `lr` argument is deprecated, use `learning_rate` instead.\n",
            "  \"The `lr` argument is deprecated, use `learning_rate` instead.\")\n"
          ]
        }
      ]
    },
    {
      "cell_type": "code",
      "metadata": {
        "colab": {
          "base_uri": "https://localhost:8080/",
          "height": 359
        },
        "id": "ujwxi0I44TM0",
        "outputId": "e5c39459-d4a6-4940-f9d8-5c04699f9bdd"
      },
      "source": [
        "#Vemos los dataframes\n",
        "array_descripciones[0]"
      ],
      "execution_count": 15,
      "outputs": [
        {
          "output_type": "execute_result",
          "data": {
            "text/html": [
              "<div>\n",
              "<style scoped>\n",
              "    .dataframe tbody tr th:only-of-type {\n",
              "        vertical-align: middle;\n",
              "    }\n",
              "\n",
              "    .dataframe tbody tr th {\n",
              "        vertical-align: top;\n",
              "    }\n",
              "\n",
              "    .dataframe thead th {\n",
              "        text-align: right;\n",
              "    }\n",
              "</style>\n",
              "<table border=\"1\" class=\"dataframe\">\n",
              "  <thead>\n",
              "    <tr style=\"text-align: right;\">\n",
              "      <th></th>\n",
              "      <th>loss</th>\n",
              "      <th>accuracy</th>\n",
              "    </tr>\n",
              "  </thead>\n",
              "  <tbody>\n",
              "    <tr>\n",
              "      <th>0</th>\n",
              "      <td>0.253530</td>\n",
              "      <td>0.910417</td>\n",
              "    </tr>\n",
              "    <tr>\n",
              "      <th>1</th>\n",
              "      <td>0.125620</td>\n",
              "      <td>0.966667</td>\n",
              "    </tr>\n",
              "    <tr>\n",
              "      <th>2</th>\n",
              "      <td>0.094659</td>\n",
              "      <td>0.976042</td>\n",
              "    </tr>\n",
              "    <tr>\n",
              "      <th>3</th>\n",
              "      <td>0.080002</td>\n",
              "      <td>0.978125</td>\n",
              "    </tr>\n",
              "    <tr>\n",
              "      <th>4</th>\n",
              "      <td>0.071186</td>\n",
              "      <td>0.979167</td>\n",
              "    </tr>\n",
              "    <tr>\n",
              "      <th>5</th>\n",
              "      <td>0.065164</td>\n",
              "      <td>0.980208</td>\n",
              "    </tr>\n",
              "    <tr>\n",
              "      <th>6</th>\n",
              "      <td>0.060652</td>\n",
              "      <td>0.980208</td>\n",
              "    </tr>\n",
              "    <tr>\n",
              "      <th>7</th>\n",
              "      <td>0.057401</td>\n",
              "      <td>0.981250</td>\n",
              "    </tr>\n",
              "    <tr>\n",
              "      <th>8</th>\n",
              "      <td>0.054800</td>\n",
              "      <td>0.981250</td>\n",
              "    </tr>\n",
              "    <tr>\n",
              "      <th>9</th>\n",
              "      <td>0.052409</td>\n",
              "      <td>0.981250</td>\n",
              "    </tr>\n",
              "  </tbody>\n",
              "</table>\n",
              "</div>"
            ],
            "text/plain": [
              "       loss  accuracy\n",
              "0  0.253530  0.910417\n",
              "1  0.125620  0.966667\n",
              "2  0.094659  0.976042\n",
              "3  0.080002  0.978125\n",
              "4  0.071186  0.979167\n",
              "5  0.065164  0.980208\n",
              "6  0.060652  0.980208\n",
              "7  0.057401  0.981250\n",
              "8  0.054800  0.981250\n",
              "9  0.052409  0.981250"
            ]
          },
          "metadata": {},
          "execution_count": 15
        }
      ]
    },
    {
      "cell_type": "code",
      "metadata": {
        "colab": {
          "base_uri": "https://localhost:8080/",
          "height": 359
        },
        "id": "hmS08Q3b4Wx8",
        "outputId": "5551c197-8737-440e-e61b-fb4c9c4d6b35"
      },
      "source": [
        "#Vemos los dataframes\n",
        "array_descripciones[1]"
      ],
      "execution_count": 16,
      "outputs": [
        {
          "output_type": "execute_result",
          "data": {
            "text/html": [
              "<div>\n",
              "<style scoped>\n",
              "    .dataframe tbody tr th:only-of-type {\n",
              "        vertical-align: middle;\n",
              "    }\n",
              "\n",
              "    .dataframe tbody tr th {\n",
              "        vertical-align: top;\n",
              "    }\n",
              "\n",
              "    .dataframe thead th {\n",
              "        text-align: right;\n",
              "    }\n",
              "</style>\n",
              "<table border=\"1\" class=\"dataframe\">\n",
              "  <thead>\n",
              "    <tr style=\"text-align: right;\">\n",
              "      <th></th>\n",
              "      <th>loss</th>\n",
              "      <th>accuracy</th>\n",
              "    </tr>\n",
              "  </thead>\n",
              "  <tbody>\n",
              "    <tr>\n",
              "      <th>0</th>\n",
              "      <td>0.331236</td>\n",
              "      <td>0.908333</td>\n",
              "    </tr>\n",
              "    <tr>\n",
              "      <th>1</th>\n",
              "      <td>0.168897</td>\n",
              "      <td>0.964583</td>\n",
              "    </tr>\n",
              "    <tr>\n",
              "      <th>2</th>\n",
              "      <td>0.130125</td>\n",
              "      <td>0.967708</td>\n",
              "    </tr>\n",
              "    <tr>\n",
              "      <th>3</th>\n",
              "      <td>0.109662</td>\n",
              "      <td>0.969792</td>\n",
              "    </tr>\n",
              "    <tr>\n",
              "      <th>4</th>\n",
              "      <td>0.096647</td>\n",
              "      <td>0.973958</td>\n",
              "    </tr>\n",
              "    <tr>\n",
              "      <th>5</th>\n",
              "      <td>0.087725</td>\n",
              "      <td>0.975000</td>\n",
              "    </tr>\n",
              "    <tr>\n",
              "      <th>6</th>\n",
              "      <td>0.080930</td>\n",
              "      <td>0.977083</td>\n",
              "    </tr>\n",
              "    <tr>\n",
              "      <th>7</th>\n",
              "      <td>0.075918</td>\n",
              "      <td>0.977083</td>\n",
              "    </tr>\n",
              "    <tr>\n",
              "      <th>8</th>\n",
              "      <td>0.071667</td>\n",
              "      <td>0.979167</td>\n",
              "    </tr>\n",
              "    <tr>\n",
              "      <th>9</th>\n",
              "      <td>0.068346</td>\n",
              "      <td>0.980208</td>\n",
              "    </tr>\n",
              "  </tbody>\n",
              "</table>\n",
              "</div>"
            ],
            "text/plain": [
              "       loss  accuracy\n",
              "0  0.331236  0.908333\n",
              "1  0.168897  0.964583\n",
              "2  0.130125  0.967708\n",
              "3  0.109662  0.969792\n",
              "4  0.096647  0.973958\n",
              "5  0.087725  0.975000\n",
              "6  0.080930  0.977083\n",
              "7  0.075918  0.977083\n",
              "8  0.071667  0.979167\n",
              "9  0.068346  0.980208"
            ]
          },
          "metadata": {},
          "execution_count": 16
        }
      ]
    },
    {
      "cell_type": "code",
      "metadata": {
        "id": "jL1FuWf94Z2n"
      },
      "source": [
        "#Vamos a crear una función utilitaria para obtener el dataframe con los \"accuracy\" y \"loss\"\n",
        "def obtener_df_loss_accuracy(array_calibracion, descripcion_calibracion, array_descripciones):\n",
        "  #Fusionaremos uno tras otro para crear un único registro\n",
        "  #Recordemos que al usar \"axis = 1\" estamos fusionandolas filas\n",
        "  dfDescripcion = pd.concat(array_descripciones, axis = 1)\n",
        "\n",
        "  #A cada \"loss\" y \"accuracy\" vamos a agregarle por encima su lr\n",
        "  #Obtenemos el primer elemento del array de dataframes para obtener los títulos de las columnas\n",
        "  columnas_loss_accuracy = array_descripciones[0].columns\n",
        "\n",
        "  #Vamos a crear nuevas columnas a nuestro dataframe\n",
        "  #Primero colocaremos las columnas que tendrán el nombre de cada lr usado, estos valores están en \"array_lr\"\n",
        "  #Luego, para cada \"descripcion_calibracion\" vamos a colocarle las columnas \"columnas_loss_accuracy\"\n",
        "  #Estas son columnas anidadas, las podemos crear con la función \"MultiIndex\" de Pandas\n",
        "  #Por último, con el parámetro \"names\" colocamos el nombre para cada agrupación de columnas\n",
        "  nuevas_columnas = pd.MultiIndex.from_product(\n",
        "    [array_calibracion, columnas_loss_accuracy],\n",
        "    names=[descripcion_calibracion, 'metricas']\n",
        "  )\n",
        "\n",
        "  #Colocamos las nuevas columnas a nuestro dataframe\n",
        "  dfDescripcion.columns = nuevas_columnas\n",
        "  dfDescripcion\n",
        "\n",
        "  #Vamos a crear el dataframe de \"loss\"\n",
        "  #Usaremos la función \"xs\" que nos permite navegar en un dataframe con índices complejos y extraer los campos que queremos\n",
        "  #En la función \"xs\" definimos:\n",
        "  # 1. El campo que queremos consultar (loss)\n",
        "  # 2. De qué subconjunto de campos queremos consultar (level = 'metricas')\n",
        "  # 3. Cómo queremos extraer la data (axis = 1, queremos extraerla como columnas)\n",
        "  dfLoss = dfDescripcion.xs('loss', level = 'metricas', axis = 1)\n",
        "  \n",
        "  #Vamos a crear el dataframe de \"accuracy\"\n",
        "  #Usaremos la función \"xs\" que nos permite navegar en un dataframe con índices complejos y extraer los campos que queremos\n",
        "  #En la función \"xs\" definimos:\n",
        "  # 1. El campo que queremos consultar (accuracy)\n",
        "  # 2. De qué subconjunto de campos queremos consultar (level = 'metricas')\n",
        "  # 3. Cómo queremos extraer la data (axis = 1, queremos extraerla como columnas)\n",
        "  dfAccuracy = dfDescripcion.xs('accuracy', level = 'metricas', axis = 1)\n",
        "  dfAccuracy\n",
        "\n",
        "  #Devolvemos los dataframes\n",
        "  return dfLoss, dfAccuracy"
      ],
      "execution_count": 17,
      "outputs": []
    },
    {
      "cell_type": "code",
      "metadata": {
        "id": "VOQ7HyBm4cF3"
      },
      "source": [
        "#Usamos la función\n",
        "dfLoss, dfAccuracy = obtener_df_loss_accuracy(array_batch, 'batch', array_descripciones)"
      ],
      "execution_count": 18,
      "outputs": []
    },
    {
      "cell_type": "code",
      "metadata": {
        "colab": {
          "base_uri": "https://localhost:8080/",
          "height": 359
        },
        "id": "c4sTNfHv4efO",
        "outputId": "df3e4961-6382-469f-dd8e-ebb378d4728e"
      },
      "source": [
        "#Obtenemos la evolución de los \"loss\"\n",
        "dfLoss"
      ],
      "execution_count": 19,
      "outputs": [
        {
          "output_type": "execute_result",
          "data": {
            "text/html": [
              "<div>\n",
              "<style scoped>\n",
              "    .dataframe tbody tr th:only-of-type {\n",
              "        vertical-align: middle;\n",
              "    }\n",
              "\n",
              "    .dataframe tbody tr th {\n",
              "        vertical-align: top;\n",
              "    }\n",
              "\n",
              "    .dataframe thead th {\n",
              "        text-align: right;\n",
              "    }\n",
              "</style>\n",
              "<table border=\"1\" class=\"dataframe\">\n",
              "  <thead>\n",
              "    <tr style=\"text-align: right;\">\n",
              "      <th>batch</th>\n",
              "      <th>16</th>\n",
              "      <th>32</th>\n",
              "      <th>64</th>\n",
              "      <th>128</th>\n",
              "    </tr>\n",
              "  </thead>\n",
              "  <tbody>\n",
              "    <tr>\n",
              "      <th>0</th>\n",
              "      <td>0.253530</td>\n",
              "      <td>0.331236</td>\n",
              "      <td>0.515984</td>\n",
              "      <td>0.338524</td>\n",
              "    </tr>\n",
              "    <tr>\n",
              "      <th>1</th>\n",
              "      <td>0.125620</td>\n",
              "      <td>0.168897</td>\n",
              "      <td>0.230975</td>\n",
              "      <td>0.240113</td>\n",
              "    </tr>\n",
              "    <tr>\n",
              "      <th>2</th>\n",
              "      <td>0.094659</td>\n",
              "      <td>0.130125</td>\n",
              "      <td>0.180643</td>\n",
              "      <td>0.203496</td>\n",
              "    </tr>\n",
              "    <tr>\n",
              "      <th>3</th>\n",
              "      <td>0.080002</td>\n",
              "      <td>0.109662</td>\n",
              "      <td>0.153517</td>\n",
              "      <td>0.180361</td>\n",
              "    </tr>\n",
              "    <tr>\n",
              "      <th>4</th>\n",
              "      <td>0.071186</td>\n",
              "      <td>0.096647</td>\n",
              "      <td>0.135273</td>\n",
              "      <td>0.163732</td>\n",
              "    </tr>\n",
              "    <tr>\n",
              "      <th>5</th>\n",
              "      <td>0.065164</td>\n",
              "      <td>0.087725</td>\n",
              "      <td>0.122205</td>\n",
              "      <td>0.151122</td>\n",
              "    </tr>\n",
              "    <tr>\n",
              "      <th>6</th>\n",
              "      <td>0.060652</td>\n",
              "      <td>0.080930</td>\n",
              "      <td>0.112467</td>\n",
              "      <td>0.140921</td>\n",
              "    </tr>\n",
              "    <tr>\n",
              "      <th>7</th>\n",
              "      <td>0.057401</td>\n",
              "      <td>0.075918</td>\n",
              "      <td>0.104764</td>\n",
              "      <td>0.132437</td>\n",
              "    </tr>\n",
              "    <tr>\n",
              "      <th>8</th>\n",
              "      <td>0.054800</td>\n",
              "      <td>0.071667</td>\n",
              "      <td>0.098372</td>\n",
              "      <td>0.125223</td>\n",
              "    </tr>\n",
              "    <tr>\n",
              "      <th>9</th>\n",
              "      <td>0.052409</td>\n",
              "      <td>0.068346</td>\n",
              "      <td>0.093132</td>\n",
              "      <td>0.119335</td>\n",
              "    </tr>\n",
              "  </tbody>\n",
              "</table>\n",
              "</div>"
            ],
            "text/plain": [
              "batch       16        32        64        128\n",
              "0      0.253530  0.331236  0.515984  0.338524\n",
              "1      0.125620  0.168897  0.230975  0.240113\n",
              "2      0.094659  0.130125  0.180643  0.203496\n",
              "3      0.080002  0.109662  0.153517  0.180361\n",
              "4      0.071186  0.096647  0.135273  0.163732\n",
              "5      0.065164  0.087725  0.122205  0.151122\n",
              "6      0.060652  0.080930  0.112467  0.140921\n",
              "7      0.057401  0.075918  0.104764  0.132437\n",
              "8      0.054800  0.071667  0.098372  0.125223\n",
              "9      0.052409  0.068346  0.093132  0.119335"
            ]
          },
          "metadata": {},
          "execution_count": 19
        }
      ]
    },
    {
      "cell_type": "code",
      "metadata": {
        "colab": {
          "base_uri": "https://localhost:8080/",
          "height": 286
        },
        "id": "zdhug9cv4hZ6",
        "outputId": "f27a6cb0-6268-4758-8279-9e0b1f6e8f14"
      },
      "source": [
        "#Graficamos\n",
        "#Vamos a graficar este dataframe\n",
        "#Recordemos que mientras más pequeño sea el \"loss\" en cada iteración significa que el error se está minimizando\n",
        "#En el eje X colocará los índices de cada iteración\n",
        "#En el eje Y el valor de su \"loss\"\n",
        "#Como son cuatro lr, creará cuatro gráficos\n",
        "dfLoss.plot(ylim=(0,0.3))"
      ],
      "execution_count": 20,
      "outputs": [
        {
          "output_type": "execute_result",
          "data": {
            "text/plain": [
              "<matplotlib.axes._subplots.AxesSubplot at 0x7f60e6d32590>"
            ]
          },
          "metadata": {},
          "execution_count": 20
        },
        {
          "output_type": "display_data",
          "data": {
            "image/png": "[encoded data removed]",
            "text/plain": [
              "<Figure size 432x288 with 1 Axes>"
            ]
          },
          "metadata": {
            "needs_background": "light"
          }
        }
      ]
    },
    {
      "cell_type": "code",
      "metadata": {
        "id": "v-Wo2xqL4i0k"
      },
      "source": [
        "#INTERPRETACIÓN\n",
        "#Notemos como con un tamaño de batch de 16 ó 32 son básicamente la misma recta\n",
        "#Por encima de 32, los datos el loss aumenta\n",
        "#Por lo tanto, podemos agrupar los datos de 32 en 32 para mejorar la velocidad"
      ],
      "execution_count": 21,
      "outputs": []
    },
    {
      "cell_type": "code",
      "metadata": {
        "colab": {
          "base_uri": "https://localhost:8080/",
          "height": 359
        },
        "id": "oFFpK2eX4lQS",
        "outputId": "ac9def32-9cdb-49c7-bf19-3eaee553ca3e"
      },
      "source": [
        "#Obtenemos la evolución de los \"accuracy\"\n",
        "dfAccuracy"
      ],
      "execution_count": 22,
      "outputs": [
        {
          "output_type": "execute_result",
          "data": {
            "text/html": [
              "<div>\n",
              "<style scoped>\n",
              "    .dataframe tbody tr th:only-of-type {\n",
              "        vertical-align: middle;\n",
              "    }\n",
              "\n",
              "    .dataframe tbody tr th {\n",
              "        vertical-align: top;\n",
              "    }\n",
              "\n",
              "    .dataframe thead th {\n",
              "        text-align: right;\n",
              "    }\n",
              "</style>\n",
              "<table border=\"1\" class=\"dataframe\">\n",
              "  <thead>\n",
              "    <tr style=\"text-align: right;\">\n",
              "      <th>batch</th>\n",
              "      <th>16</th>\n",
              "      <th>32</th>\n",
              "      <th>64</th>\n",
              "      <th>128</th>\n",
              "    </tr>\n",
              "  </thead>\n",
              "  <tbody>\n",
              "    <tr>\n",
              "      <th>0</th>\n",
              "      <td>0.910417</td>\n",
              "      <td>0.908333</td>\n",
              "      <td>0.788542</td>\n",
              "      <td>0.957292</td>\n",
              "    </tr>\n",
              "    <tr>\n",
              "      <th>1</th>\n",
              "      <td>0.966667</td>\n",
              "      <td>0.964583</td>\n",
              "      <td>0.962500</td>\n",
              "      <td>0.963542</td>\n",
              "    </tr>\n",
              "    <tr>\n",
              "      <th>2</th>\n",
              "      <td>0.976042</td>\n",
              "      <td>0.967708</td>\n",
              "      <td>0.963542</td>\n",
              "      <td>0.961458</td>\n",
              "    </tr>\n",
              "    <tr>\n",
              "      <th>3</th>\n",
              "      <td>0.978125</td>\n",
              "      <td>0.969792</td>\n",
              "      <td>0.967708</td>\n",
              "      <td>0.961458</td>\n",
              "    </tr>\n",
              "    <tr>\n",
              "      <th>4</th>\n",
              "      <td>0.979167</td>\n",
              "      <td>0.973958</td>\n",
              "      <td>0.969792</td>\n",
              "      <td>0.966667</td>\n",
              "    </tr>\n",
              "    <tr>\n",
              "      <th>5</th>\n",
              "      <td>0.980208</td>\n",
              "      <td>0.975000</td>\n",
              "      <td>0.969792</td>\n",
              "      <td>0.968750</td>\n",
              "    </tr>\n",
              "    <tr>\n",
              "      <th>6</th>\n",
              "      <td>0.980208</td>\n",
              "      <td>0.977083</td>\n",
              "      <td>0.969792</td>\n",
              "      <td>0.968750</td>\n",
              "    </tr>\n",
              "    <tr>\n",
              "      <th>7</th>\n",
              "      <td>0.981250</td>\n",
              "      <td>0.977083</td>\n",
              "      <td>0.970833</td>\n",
              "      <td>0.968750</td>\n",
              "    </tr>\n",
              "    <tr>\n",
              "      <th>8</th>\n",
              "      <td>0.981250</td>\n",
              "      <td>0.979167</td>\n",
              "      <td>0.973958</td>\n",
              "      <td>0.969792</td>\n",
              "    </tr>\n",
              "    <tr>\n",
              "      <th>9</th>\n",
              "      <td>0.981250</td>\n",
              "      <td>0.980208</td>\n",
              "      <td>0.975000</td>\n",
              "      <td>0.969792</td>\n",
              "    </tr>\n",
              "  </tbody>\n",
              "</table>\n",
              "</div>"
            ],
            "text/plain": [
              "batch       16        32        64        128\n",
              "0      0.910417  0.908333  0.788542  0.957292\n",
              "1      0.966667  0.964583  0.962500  0.963542\n",
              "2      0.976042  0.967708  0.963542  0.961458\n",
              "3      0.978125  0.969792  0.967708  0.961458\n",
              "4      0.979167  0.973958  0.969792  0.966667\n",
              "5      0.980208  0.975000  0.969792  0.968750\n",
              "6      0.980208  0.977083  0.969792  0.968750\n",
              "7      0.981250  0.977083  0.970833  0.968750\n",
              "8      0.981250  0.979167  0.973958  0.969792\n",
              "9      0.981250  0.980208  0.975000  0.969792"
            ]
          },
          "metadata": {},
          "execution_count": 22
        }
      ]
    },
    {
      "cell_type": "code",
      "metadata": {
        "colab": {
          "base_uri": "https://localhost:8080/",
          "height": 286
        },
        "id": "fPNukoVk4qxr",
        "outputId": "af81dae8-1338-4bb8-8b6b-966ad0ef3218"
      },
      "source": [
        "#Vamos a graficar este dataframe\n",
        "#Recordemos que mientras más pequeño sea el \"accuracy\" en cada iteración significa que los aciertos se están maximizando\n",
        "#En el eje X colocará los índices de cada iteración\n",
        "#En el eje Y el valor de su \"accuracy\"\n",
        "#Como son cuatro lr, creará cuatro gráficos\n",
        "dfAccuracy.plot(ylim=(0.9,1))"
      ],
      "execution_count": 23,
      "outputs": [
        {
          "output_type": "execute_result",
          "data": {
            "text/plain": [
              "<matplotlib.axes._subplots.AxesSubplot at 0x7f60e6c357d0>"
            ]
          },
          "metadata": {},
          "execution_count": 23
        },
        {
          "output_type": "display_data",
          "data": {
            "image/png": "[encoded data removed]",
            "text/plain": [
              "<Figure size 432x288 with 1 Axes>"
            ]
          },
          "metadata": {
            "needs_background": "light"
          }
        }
      ]
    },
    {
      "cell_type": "code",
      "metadata": {
        "id": "duo-QrOS4sSa"
      },
      "source": [
        "#INTERPRETACIÓN\n",
        "#Notemos como con un tamaño de batch de 16 ó 32 son básicamente la misma recta\n",
        "#Por encima de 32, el accuracy disminuye\n",
        "#Por lo tanto, podemos agrupar los datos de 32 en 32 para mejorar la velocidad"
      ],
      "execution_count": 24,
      "outputs": []
    }
  ]
}