{
  "nbformat": 4,
  "nbformat_minor": 0,
  "metadata": {
    "colab": {
      "name": "Laboratorio_20_[Calibración_de_Optimizadores].ipynb",
      "provenance": [],
      "collapsed_sections": []
    },
    "kernelspec": {
      "name": "python3",
      "display_name": "Python 3"
    },
    "language_info": {
      "name": "python"
    }
  },
  "cells": [
    {
      "cell_type": "markdown",
      "metadata": {
        "id": "NZsZMo0u26C9"
      },
      "source": [
        "# Librerías"
      ]
    },
    {
      "cell_type": "code",
      "metadata": {
        "id": "R6xbLrkS27xY"
      },
      "source": [
        "%matplotlib inline\n",
        "import matplotlib.pyplot as plt\n",
        "import numpy as np\n",
        "import pandas as pd\n",
        "from google.colab import drive\n",
        "from sklearn.model_selection import train_test_split"
      ],
      "execution_count": 1,
      "outputs": []
    },
    {
      "cell_type": "markdown",
      "metadata": {
        "id": "dcbT65k33CXQ"
      },
      "source": [
        "# Conexión al repositorio de datos"
      ]
    },
    {
      "cell_type": "code",
      "metadata": {
        "colab": {
          "base_uri": "https://localhost:8080/"
        },
        "id": "tQrjHiOc3Bom",
        "outputId": "3c6cf9f5-6af5-498f-bba2-6968b30203e5"
      },
      "source": [
        "#Accedemos a Google Drive\n",
        "drive.mount('/content/drive')"
      ],
      "execution_count": 2,
      "outputs": [
        {
          "output_type": "stream",
          "name": "stdout",
          "text": [
            "Mounted at /content/drive\n"
          ]
        }
      ]
    },
    {
      "cell_type": "markdown",
      "metadata": {
        "id": "RgQ0RU4I3VcM"
      },
      "source": [
        "# Lectura de datos"
      ]
    },
    {
      "cell_type": "code",
      "metadata": {
        "colab": {
          "base_uri": "https://localhost:8080/",
          "height": 419
        },
        "id": "UMgEyQL03Wls",
        "outputId": "55390e9b-5135-4a51-84b6-74e664b1b274"
      },
      "source": [
        "#Leemos los datos\n",
        "#Se trata de un dataset que describe las características de billetes verdaderos y falsos\n",
        "df = pd.read_csv('/content/drive/MyDrive/Data/billetes.csv')\n",
        "df\n",
        "\n",
        "#No entraremos mucho en los detalles de qué significa cada variable\n",
        "#Cada variable indica una característica del billete\n",
        "#El label \"class\" determina si un billete es o no falso"
      ],
      "execution_count": 3,
      "outputs": [
        {
          "output_type": "execute_result",
          "data": {
            "text/html": [
              "<div>\n",
              "<style scoped>\n",
              "    .dataframe tbody tr th:only-of-type {\n",
              "        vertical-align: middle;\n",
              "    }\n",
              "\n",
              "    .dataframe tbody tr th {\n",
              "        vertical-align: top;\n",
              "    }\n",
              "\n",
              "    .dataframe thead th {\n",
              "        text-align: right;\n",
              "    }\n",
              "</style>\n",
              "<table border=\"1\" class=\"dataframe\">\n",
              "  <thead>\n",
              "    <tr style=\"text-align: right;\">\n",
              "      <th></th>\n",
              "      <th>variace</th>\n",
              "      <th>skewness</th>\n",
              "      <th>curtosis</th>\n",
              "      <th>entropy</th>\n",
              "      <th>class</th>\n",
              "    </tr>\n",
              "  </thead>\n",
              "  <tbody>\n",
              "    <tr>\n",
              "      <th>0</th>\n",
              "      <td>3.62160</td>\n",
              "      <td>8.66610</td>\n",
              "      <td>-2.8073</td>\n",
              "      <td>-0.44699</td>\n",
              "      <td>0</td>\n",
              "    </tr>\n",
              "    <tr>\n",
              "      <th>1</th>\n",
              "      <td>4.54590</td>\n",
              "      <td>8.16740</td>\n",
              "      <td>-2.4586</td>\n",
              "      <td>-1.46210</td>\n",
              "      <td>0</td>\n",
              "    </tr>\n",
              "    <tr>\n",
              "      <th>2</th>\n",
              "      <td>3.86600</td>\n",
              "      <td>-2.63830</td>\n",
              "      <td>1.9242</td>\n",
              "      <td>0.10645</td>\n",
              "      <td>0</td>\n",
              "    </tr>\n",
              "    <tr>\n",
              "      <th>3</th>\n",
              "      <td>3.45660</td>\n",
              "      <td>9.52280</td>\n",
              "      <td>-4.0112</td>\n",
              "      <td>-3.59440</td>\n",
              "      <td>0</td>\n",
              "    </tr>\n",
              "    <tr>\n",
              "      <th>4</th>\n",
              "      <td>0.32924</td>\n",
              "      <td>-4.45520</td>\n",
              "      <td>4.5718</td>\n",
              "      <td>-0.98880</td>\n",
              "      <td>0</td>\n",
              "    </tr>\n",
              "    <tr>\n",
              "      <th>...</th>\n",
              "      <td>...</td>\n",
              "      <td>...</td>\n",
              "      <td>...</td>\n",
              "      <td>...</td>\n",
              "      <td>...</td>\n",
              "    </tr>\n",
              "    <tr>\n",
              "      <th>1367</th>\n",
              "      <td>0.40614</td>\n",
              "      <td>1.34920</td>\n",
              "      <td>-1.4501</td>\n",
              "      <td>-0.55949</td>\n",
              "      <td>1</td>\n",
              "    </tr>\n",
              "    <tr>\n",
              "      <th>1368</th>\n",
              "      <td>-1.38870</td>\n",
              "      <td>-4.87730</td>\n",
              "      <td>6.4774</td>\n",
              "      <td>0.34179</td>\n",
              "      <td>1</td>\n",
              "    </tr>\n",
              "    <tr>\n",
              "      <th>1369</th>\n",
              "      <td>-3.75030</td>\n",
              "      <td>-13.45860</td>\n",
              "      <td>17.5932</td>\n",
              "      <td>-2.77710</td>\n",
              "      <td>1</td>\n",
              "    </tr>\n",
              "    <tr>\n",
              "      <th>1370</th>\n",
              "      <td>-3.56370</td>\n",
              "      <td>-8.38270</td>\n",
              "      <td>12.3930</td>\n",
              "      <td>-1.28230</td>\n",
              "      <td>1</td>\n",
              "    </tr>\n",
              "    <tr>\n",
              "      <th>1371</th>\n",
              "      <td>-2.54190</td>\n",
              "      <td>-0.65804</td>\n",
              "      <td>2.6842</td>\n",
              "      <td>1.19520</td>\n",
              "      <td>1</td>\n",
              "    </tr>\n",
              "  </tbody>\n",
              "</table>\n",
              "<p>1372 rows × 5 columns</p>\n",
              "</div>"
            ],
            "text/plain": [
              "      variace  skewness  curtosis  entropy  class\n",
              "0     3.62160   8.66610   -2.8073 -0.44699      0\n",
              "1     4.54590   8.16740   -2.4586 -1.46210      0\n",
              "2     3.86600  -2.63830    1.9242  0.10645      0\n",
              "3     3.45660   9.52280   -4.0112 -3.59440      0\n",
              "4     0.32924  -4.45520    4.5718 -0.98880      0\n",
              "...       ...       ...       ...      ...    ...\n",
              "1367  0.40614   1.34920   -1.4501 -0.55949      1\n",
              "1368 -1.38870  -4.87730    6.4774  0.34179      1\n",
              "1369 -3.75030 -13.45860   17.5932 -2.77710      1\n",
              "1370 -3.56370  -8.38270   12.3930 -1.28230      1\n",
              "1371 -2.54190  -0.65804    2.6842  1.19520      1\n",
              "\n",
              "[1372 rows x 5 columns]"
            ]
          },
          "metadata": {},
          "execution_count": 3
        }
      ]
    },
    {
      "cell_type": "markdown",
      "metadata": {
        "id": "8DJXKz-h3a9c"
      },
      "source": [
        "# Definición de \"features\""
      ]
    },
    {
      "cell_type": "code",
      "metadata": {
        "colab": {
          "base_uri": "https://localhost:8080/"
        },
        "id": "ztCAxdp83b6s",
        "outputId": "98a5909c-7f21-4d7a-a18b-5b5a8941f563"
      },
      "source": [
        "#Definimos los features\n",
        "x = df[['variace', 'skewness', 'curtosis', 'entropy']].values\n",
        "x"
      ],
      "execution_count": 4,
      "outputs": [
        {
          "output_type": "execute_result",
          "data": {
            "text/plain": [
              "array([[  3.6216 ,   8.6661 ,  -2.8073 ,  -0.44699],\n",
              "       [  4.5459 ,   8.1674 ,  -2.4586 ,  -1.4621 ],\n",
              "       [  3.866  ,  -2.6383 ,   1.9242 ,   0.10645],\n",
              "       ...,\n",
              "       [ -3.7503 , -13.4586 ,  17.5932 ,  -2.7771 ],\n",
              "       [ -3.5637 ,  -8.3827 ,  12.393  ,  -1.2823 ],\n",
              "       [ -2.5419 ,  -0.65804,   2.6842 ,   1.1952 ]])"
            ]
          },
          "metadata": {},
          "execution_count": 4
        }
      ]
    },
    {
      "cell_type": "code",
      "metadata": {
        "id": "OCZUT4tY3eR-"
      },
      "source": [
        "#En el caso de los features, vamos a escalarlos con valores entre 0 y 1"
      ],
      "execution_count": 5,
      "outputs": []
    },
    {
      "cell_type": "code",
      "metadata": {
        "id": "LuPIrAR23fv6"
      },
      "source": [
        "#Importamos la librería para escalar\n",
        "from sklearn.preprocessing import scale"
      ],
      "execution_count": 6,
      "outputs": []
    },
    {
      "cell_type": "code",
      "metadata": {
        "colab": {
          "base_uri": "https://localhost:8080/"
        },
        "id": "JYzGDMv43g6t",
        "outputId": "3291cee1-25c9-43e7-84a8-545667faf38b"
      },
      "source": [
        "#Escalamos\n",
        "x = scale(x)\n",
        "x"
      ],
      "execution_count": 7,
      "outputs": [
        {
          "output_type": "execute_result",
          "data": {
            "text/plain": [
              "array([[ 1.12180565,  1.14945512, -0.97597007,  0.35456135],\n",
              "       [ 1.44706568,  1.06445293, -0.89503626, -0.12876744],\n",
              "       [ 1.20780971, -0.77735215,  0.12221838,  0.61807317],\n",
              "       ...,\n",
              "       [-1.47235682, -2.62164576,  3.75901744, -0.75488418],\n",
              "       [-1.40669251, -1.75647104,  2.552043  , -0.04315848],\n",
              "       [-1.04712236, -0.43982168,  0.29861555,  1.1364645 ]])"
            ]
          },
          "metadata": {},
          "execution_count": 7
        }
      ]
    },
    {
      "cell_type": "markdown",
      "metadata": {
        "id": "BTWpUlIt3pwg"
      },
      "source": [
        "# Definición de \"labels\""
      ]
    },
    {
      "cell_type": "code",
      "metadata": {
        "colab": {
          "base_uri": "https://localhost:8080/"
        },
        "id": "d3HzbJ2B3rI_",
        "outputId": "39038acf-c950-44d0-a717-b039a1b68a0e"
      },
      "source": [
        "#Definimos los labels\n",
        "y = df['class'].values\n",
        "y"
      ],
      "execution_count": 8,
      "outputs": [
        {
          "output_type": "execute_result",
          "data": {
            "text/plain": [
              "array([0, 0, 0, ..., 1, 1, 1])"
            ]
          },
          "metadata": {},
          "execution_count": 8
        }
      ]
    },
    {
      "cell_type": "markdown",
      "metadata": {
        "id": "lzDq48N33wVZ"
      },
      "source": [
        "# División de los datos en datos de entrenamiento (x_train, y_train) y datos de validación (x_test, y_test)"
      ]
    },
    {
      "cell_type": "code",
      "metadata": {
        "id": "Uh8gGHpN3v7d"
      },
      "source": [
        "x_train, x_test, y_train, y_test = train_test_split(x, y, test_size=0.3, random_state=42)"
      ],
      "execution_count": 9,
      "outputs": []
    },
    {
      "cell_type": "markdown",
      "metadata": {
        "id": "PA3Hfw-P38RZ"
      },
      "source": [
        "# Calibrando el optimizador"
      ]
    },
    {
      "cell_type": "code",
      "metadata": {
        "id": "9LoJYX3y4Od2"
      },
      "source": [
        "#Importamos las librerías de Keras\n",
        "from keras.models import Sequential\n",
        "from keras.layers import Dense, Activation\n",
        "\n",
        "#Importamos los optimizadores\n",
        "from tensorflow.keras.optimizers import SGD, Adam, Adagrad, RMSprop"
      ],
      "execution_count": 10,
      "outputs": []
    },
    {
      "cell_type": "code",
      "metadata": {
        "id": "aYXRqPOg4C0s"
      },
      "source": [
        "#Vamos a probar diferentes optimizadores para ver cuál se adecua mejor a la realidad"
      ],
      "execution_count": 11,
      "outputs": []
    },
    {
      "cell_type": "code",
      "metadata": {
        "id": "BBG4k8Gb4ETC"
      },
      "source": [
        "#Probaremos diferentes valores para el optimizador\n",
        "array_optimizadores = [\n",
        "'SGD(lr=0.5)',\n",
        "'SGD(lr=0.5, momentum=0.3)',\n",
        "'SGD(lr=0.5, momentum=0.3, nesterov=True)',  \n",
        "'Adam(lr=0.5)',\n",
        "'Adagrad(lr=0.5)',\n",
        "'RMSprop(lr=0.5)'\n",
        "]"
      ],
      "execution_count": 12,
      "outputs": []
    },
    {
      "cell_type": "code",
      "metadata": {
        "id": "7StIezk-4FgK"
      },
      "source": [
        "#Creamos un array en donde guardaremos las descripciones de cada entrenamiento\n",
        "array_descripciones = []"
      ],
      "execution_count": 13,
      "outputs": []
    },
    {
      "cell_type": "code",
      "metadata": {
        "id": "YGa57oRm4HLq",
        "colab": {
          "base_uri": "https://localhost:8080/"
        },
        "outputId": "6fb3be09-99a8-428c-8d7e-5aec69fabbb2"
      },
      "source": [
        "#Iteramos cada calibración\n",
        "for optimizador in array_optimizadores:\n",
        "  model = Sequential()\n",
        "  model.add(Dense(1, input_shape=(4,), activation='sigmoid'))\n",
        "  \n",
        "  #Agregamos el \"lr\" de la calibración\n",
        "  #En \"lr\" ya hemos calibrado su valor, sabemos que el valor de 0.5 es el indicado\n",
        "  model.compile(\n",
        "    loss='binary_crossentropy',\n",
        "    optimizer=eval(optimizador),\n",
        "    metrics=['accuracy']\n",
        "  )\n",
        "  \n",
        "  #Entrenamos la neurona\n",
        "  #En \"batch_size\" colocamos 32, ya que fue lo que encontramos en la calibración anterior\n",
        "  descripcion_de_entrenamiento = model.fit(x_train, y_train, epochs = 10, batch_size=32, verbose=0)\n",
        "\n",
        "  #Convertimos la descripción del entrenamiento en un dataframe\n",
        "  df = pd.DataFrame(\n",
        "      descripcion_de_entrenamiento.history,\n",
        "      index = descripcion_de_entrenamiento.epoch\n",
        "  )\n",
        "\n",
        "  #Agregamos el dataframe a la lista de descripciones de entrenamiento\n",
        "  array_descripciones.append(df)"
      ],
      "execution_count": 14,
      "outputs": [
        {
          "output_type": "stream",
          "name": "stderr",
          "text": [
            "/usr/local/lib/python3.7/dist-packages/keras/optimizer_v2/optimizer_v2.py:356: UserWarning: The `lr` argument is deprecated, use `learning_rate` instead.\n",
            "  \"The `lr` argument is deprecated, use `learning_rate` instead.\")\n"
          ]
        }
      ]
    },
    {
      "cell_type": "code",
      "metadata": {
        "colab": {
          "base_uri": "https://localhost:8080/",
          "height": 359
        },
        "id": "ujwxi0I44TM0",
        "outputId": "efa3d8a8-9b73-4e90-8166-ee1dce580c9a"
      },
      "source": [
        "#Vemos los dataframes\n",
        "array_descripciones[0]"
      ],
      "execution_count": 15,
      "outputs": [
        {
          "output_type": "execute_result",
          "data": {
            "text/html": [
              "<div>\n",
              "<style scoped>\n",
              "    .dataframe tbody tr th:only-of-type {\n",
              "        vertical-align: middle;\n",
              "    }\n",
              "\n",
              "    .dataframe tbody tr th {\n",
              "        vertical-align: top;\n",
              "    }\n",
              "\n",
              "    .dataframe thead th {\n",
              "        text-align: right;\n",
              "    }\n",
              "</style>\n",
              "<table border=\"1\" class=\"dataframe\">\n",
              "  <thead>\n",
              "    <tr style=\"text-align: right;\">\n",
              "      <th></th>\n",
              "      <th>loss</th>\n",
              "      <th>accuracy</th>\n",
              "    </tr>\n",
              "  </thead>\n",
              "  <tbody>\n",
              "    <tr>\n",
              "      <th>0</th>\n",
              "      <td>0.353813</td>\n",
              "      <td>0.890625</td>\n",
              "    </tr>\n",
              "    <tr>\n",
              "      <th>1</th>\n",
              "      <td>0.176543</td>\n",
              "      <td>0.955208</td>\n",
              "    </tr>\n",
              "    <tr>\n",
              "      <th>2</th>\n",
              "      <td>0.134207</td>\n",
              "      <td>0.967708</td>\n",
              "    </tr>\n",
              "    <tr>\n",
              "      <th>3</th>\n",
              "      <td>0.112150</td>\n",
              "      <td>0.969792</td>\n",
              "    </tr>\n",
              "    <tr>\n",
              "      <th>4</th>\n",
              "      <td>0.098580</td>\n",
              "      <td>0.972917</td>\n",
              "    </tr>\n",
              "    <tr>\n",
              "      <th>5</th>\n",
              "      <td>0.088950</td>\n",
              "      <td>0.973958</td>\n",
              "    </tr>\n",
              "    <tr>\n",
              "      <th>6</th>\n",
              "      <td>0.082048</td>\n",
              "      <td>0.977083</td>\n",
              "    </tr>\n",
              "    <tr>\n",
              "      <th>7</th>\n",
              "      <td>0.076654</td>\n",
              "      <td>0.977083</td>\n",
              "    </tr>\n",
              "    <tr>\n",
              "      <th>8</th>\n",
              "      <td>0.072374</td>\n",
              "      <td>0.980208</td>\n",
              "    </tr>\n",
              "    <tr>\n",
              "      <th>9</th>\n",
              "      <td>0.068913</td>\n",
              "      <td>0.978125</td>\n",
              "    </tr>\n",
              "  </tbody>\n",
              "</table>\n",
              "</div>"
            ],
            "text/plain": [
              "       loss  accuracy\n",
              "0  0.353813  0.890625\n",
              "1  0.176543  0.955208\n",
              "2  0.134207  0.967708\n",
              "3  0.112150  0.969792\n",
              "4  0.098580  0.972917\n",
              "5  0.088950  0.973958\n",
              "6  0.082048  0.977083\n",
              "7  0.076654  0.977083\n",
              "8  0.072374  0.980208\n",
              "9  0.068913  0.978125"
            ]
          },
          "metadata": {},
          "execution_count": 15
        }
      ]
    },
    {
      "cell_type": "code",
      "metadata": {
        "colab": {
          "base_uri": "https://localhost:8080/",
          "height": 359
        },
        "id": "hmS08Q3b4Wx8",
        "outputId": "ca4e1d00-8da9-4e5a-cb24-a6aea88482cc"
      },
      "source": [
        "#Vemos los dataframes\n",
        "array_descripciones[1]"
      ],
      "execution_count": 16,
      "outputs": [
        {
          "output_type": "execute_result",
          "data": {
            "text/html": [
              "<div>\n",
              "<style scoped>\n",
              "    .dataframe tbody tr th:only-of-type {\n",
              "        vertical-align: middle;\n",
              "    }\n",
              "\n",
              "    .dataframe tbody tr th {\n",
              "        vertical-align: top;\n",
              "    }\n",
              "\n",
              "    .dataframe thead th {\n",
              "        text-align: right;\n",
              "    }\n",
              "</style>\n",
              "<table border=\"1\" class=\"dataframe\">\n",
              "  <thead>\n",
              "    <tr style=\"text-align: right;\">\n",
              "      <th></th>\n",
              "      <th>loss</th>\n",
              "      <th>accuracy</th>\n",
              "    </tr>\n",
              "  </thead>\n",
              "  <tbody>\n",
              "    <tr>\n",
              "      <th>0</th>\n",
              "      <td>0.364365</td>\n",
              "      <td>0.840625</td>\n",
              "    </tr>\n",
              "    <tr>\n",
              "      <th>1</th>\n",
              "      <td>0.163832</td>\n",
              "      <td>0.959375</td>\n",
              "    </tr>\n",
              "    <tr>\n",
              "      <th>2</th>\n",
              "      <td>0.117272</td>\n",
              "      <td>0.969792</td>\n",
              "    </tr>\n",
              "    <tr>\n",
              "      <th>3</th>\n",
              "      <td>0.096529</td>\n",
              "      <td>0.975000</td>\n",
              "    </tr>\n",
              "    <tr>\n",
              "      <th>4</th>\n",
              "      <td>0.084662</td>\n",
              "      <td>0.976042</td>\n",
              "    </tr>\n",
              "    <tr>\n",
              "      <th>5</th>\n",
              "      <td>0.076503</td>\n",
              "      <td>0.977083</td>\n",
              "    </tr>\n",
              "    <tr>\n",
              "      <th>6</th>\n",
              "      <td>0.070767</td>\n",
              "      <td>0.977083</td>\n",
              "    </tr>\n",
              "    <tr>\n",
              "      <th>7</th>\n",
              "      <td>0.066367</td>\n",
              "      <td>0.980208</td>\n",
              "    </tr>\n",
              "    <tr>\n",
              "      <th>8</th>\n",
              "      <td>0.062954</td>\n",
              "      <td>0.980208</td>\n",
              "    </tr>\n",
              "    <tr>\n",
              "      <th>9</th>\n",
              "      <td>0.059936</td>\n",
              "      <td>0.980208</td>\n",
              "    </tr>\n",
              "  </tbody>\n",
              "</table>\n",
              "</div>"
            ],
            "text/plain": [
              "       loss  accuracy\n",
              "0  0.364365  0.840625\n",
              "1  0.163832  0.959375\n",
              "2  0.117272  0.969792\n",
              "3  0.096529  0.975000\n",
              "4  0.084662  0.976042\n",
              "5  0.076503  0.977083\n",
              "6  0.070767  0.977083\n",
              "7  0.066367  0.980208\n",
              "8  0.062954  0.980208\n",
              "9  0.059936  0.980208"
            ]
          },
          "metadata": {},
          "execution_count": 16
        }
      ]
    },
    {
      "cell_type": "code",
      "metadata": {
        "id": "jL1FuWf94Z2n"
      },
      "source": [
        "#Vamos a crear una función utilitaria para obtener el dataframe con los \"accuracy\" y \"loss\"\n",
        "def obtener_df_loss_accuracy(array_calibracion, descripcion_calibracion, array_descripciones):\n",
        "  #Fusionaremos uno tras otro para crear un único registro\n",
        "  #Recordemos que al usar \"axis = 1\" estamos fusionandolas filas\n",
        "  dfDescripcion = pd.concat(array_descripciones, axis = 1)\n",
        "\n",
        "  #A cada \"loss\" y \"accuracy\" vamos a agregarle por encima su lr\n",
        "  #Obtenemos el primer elemento del array de dataframes para obtener los títulos de las columnas\n",
        "  columnas_loss_accuracy = array_descripciones[0].columns\n",
        "\n",
        "  #Vamos a crear nuevas columnas a nuestro dataframe\n",
        "  #Primero colocaremos las columnas que tendrán el nombre de cada lr usado, estos valores están en \"array_lr\"\n",
        "  #Luego, para cada \"descripcion_calibracion\" vamos a colocarle las columnas \"columnas_loss_accuracy\"\n",
        "  #Estas son columnas anidadas, las podemos crear con la función \"MultiIndex\" de Pandas\n",
        "  #Por último, con el parámetro \"names\" colocamos el nombre para cada agrupación de columnas\n",
        "  nuevas_columnas = pd.MultiIndex.from_product(\n",
        "    [array_calibracion, columnas_loss_accuracy],\n",
        "    names=[descripcion_calibracion, 'metricas']\n",
        "  )\n",
        "\n",
        "  #Colocamos las nuevas columnas a nuestro dataframe\n",
        "  dfDescripcion.columns = nuevas_columnas\n",
        "  dfDescripcion\n",
        "\n",
        "  #Vamos a crear el dataframe de \"loss\"\n",
        "  #Usaremos la función \"xs\" que nos permite navegar en un dataframe con índices complejos y extraer los campos que queremos\n",
        "  #En la función \"xs\" definimos:\n",
        "  # 1. El campo que queremos consultar (loss)\n",
        "  # 2. De qué subconjunto de campos queremos consultar (level = 'metricas')\n",
        "  # 3. Cómo queremos extraer la data (axis = 1, queremos extraerla como columnas)\n",
        "  dfLoss = dfDescripcion.xs('loss', level = 'metricas', axis = 1)\n",
        "  \n",
        "  #Vamos a crear el dataframe de \"accuracy\"\n",
        "  #Usaremos la función \"xs\" que nos permite navegar en un dataframe con índices complejos y extraer los campos que queremos\n",
        "  #En la función \"xs\" definimos:\n",
        "  # 1. El campo que queremos consultar (accuracy)\n",
        "  # 2. De qué subconjunto de campos queremos consultar (level = 'metricas')\n",
        "  # 3. Cómo queremos extraer la data (axis = 1, queremos extraerla como columnas)\n",
        "  dfAccuracy = dfDescripcion.xs('accuracy', level = 'metricas', axis = 1)\n",
        "  dfAccuracy\n",
        "\n",
        "  #Devolvemos los dataframes\n",
        "  return dfLoss, dfAccuracy"
      ],
      "execution_count": 17,
      "outputs": []
    },
    {
      "cell_type": "code",
      "metadata": {
        "id": "VOQ7HyBm4cF3"
      },
      "source": [
        "#Usamos la función\n",
        "dfLoss, dfAccuracy = obtener_df_loss_accuracy(array_optimizadores, 'optimizador', array_descripciones)"
      ],
      "execution_count": 18,
      "outputs": []
    },
    {
      "cell_type": "code",
      "metadata": {
        "colab": {
          "base_uri": "https://localhost:8080/",
          "height": 359
        },
        "id": "c4sTNfHv4efO",
        "outputId": "6c1ecf38-0ab5-4c75-f17e-07563afc7832"
      },
      "source": [
        "#Obtenemos la evolución de los \"loss\"\n",
        "dfLoss"
      ],
      "execution_count": 19,
      "outputs": [
        {
          "output_type": "execute_result",
          "data": {
            "text/html": [
              "<div>\n",
              "<style scoped>\n",
              "    .dataframe tbody tr th:only-of-type {\n",
              "        vertical-align: middle;\n",
              "    }\n",
              "\n",
              "    .dataframe tbody tr th {\n",
              "        vertical-align: top;\n",
              "    }\n",
              "\n",
              "    .dataframe thead th {\n",
              "        text-align: right;\n",
              "    }\n",
              "</style>\n",
              "<table border=\"1\" class=\"dataframe\">\n",
              "  <thead>\n",
              "    <tr style=\"text-align: right;\">\n",
              "      <th>optimizador</th>\n",
              "      <th>SGD(lr=0.5)</th>\n",
              "      <th>SGD(lr=0.5, momentum=0.3)</th>\n",
              "      <th>SGD(lr=0.5, momentum=0.3, nesterov=True)</th>\n",
              "      <th>Adam(lr=0.5)</th>\n",
              "      <th>Adagrad(lr=0.5)</th>\n",
              "      <th>RMSprop(lr=0.5)</th>\n",
              "    </tr>\n",
              "  </thead>\n",
              "  <tbody>\n",
              "    <tr>\n",
              "      <th>0</th>\n",
              "      <td>0.353813</td>\n",
              "      <td>0.364365</td>\n",
              "      <td>0.305434</td>\n",
              "      <td>0.196987</td>\n",
              "      <td>0.258220</td>\n",
              "      <td>0.132206</td>\n",
              "    </tr>\n",
              "    <tr>\n",
              "      <th>1</th>\n",
              "      <td>0.176543</td>\n",
              "      <td>0.163832</td>\n",
              "      <td>0.160606</td>\n",
              "      <td>0.043277</td>\n",
              "      <td>0.126157</td>\n",
              "      <td>0.048683</td>\n",
              "    </tr>\n",
              "    <tr>\n",
              "      <th>2</th>\n",
              "      <td>0.134207</td>\n",
              "      <td>0.117272</td>\n",
              "      <td>0.116651</td>\n",
              "      <td>0.036870</td>\n",
              "      <td>0.097610</td>\n",
              "      <td>0.044304</td>\n",
              "    </tr>\n",
              "    <tr>\n",
              "      <th>3</th>\n",
              "      <td>0.112150</td>\n",
              "      <td>0.096529</td>\n",
              "      <td>0.096843</td>\n",
              "      <td>0.034300</td>\n",
              "      <td>0.083314</td>\n",
              "      <td>0.041095</td>\n",
              "    </tr>\n",
              "    <tr>\n",
              "      <th>4</th>\n",
              "      <td>0.098580</td>\n",
              "      <td>0.084662</td>\n",
              "      <td>0.084915</td>\n",
              "      <td>0.033463</td>\n",
              "      <td>0.074809</td>\n",
              "      <td>0.038508</td>\n",
              "    </tr>\n",
              "    <tr>\n",
              "      <th>5</th>\n",
              "      <td>0.088950</td>\n",
              "      <td>0.076503</td>\n",
              "      <td>0.076565</td>\n",
              "      <td>0.034259</td>\n",
              "      <td>0.068795</td>\n",
              "      <td>0.035317</td>\n",
              "    </tr>\n",
              "    <tr>\n",
              "      <th>6</th>\n",
              "      <td>0.082048</td>\n",
              "      <td>0.070767</td>\n",
              "      <td>0.070683</td>\n",
              "      <td>0.031700</td>\n",
              "      <td>0.064496</td>\n",
              "      <td>0.036588</td>\n",
              "    </tr>\n",
              "    <tr>\n",
              "      <th>7</th>\n",
              "      <td>0.076654</td>\n",
              "      <td>0.066367</td>\n",
              "      <td>0.066264</td>\n",
              "      <td>0.029009</td>\n",
              "      <td>0.061295</td>\n",
              "      <td>0.039000</td>\n",
              "    </tr>\n",
              "    <tr>\n",
              "      <th>8</th>\n",
              "      <td>0.072374</td>\n",
              "      <td>0.062954</td>\n",
              "      <td>0.062847</td>\n",
              "      <td>0.028927</td>\n",
              "      <td>0.058349</td>\n",
              "      <td>0.032993</td>\n",
              "    </tr>\n",
              "    <tr>\n",
              "      <th>9</th>\n",
              "      <td>0.068913</td>\n",
              "      <td>0.059936</td>\n",
              "      <td>0.059970</td>\n",
              "      <td>0.034276</td>\n",
              "      <td>0.056057</td>\n",
              "      <td>0.029600</td>\n",
              "    </tr>\n",
              "  </tbody>\n",
              "</table>\n",
              "</div>"
            ],
            "text/plain": [
              "optimizador  SGD(lr=0.5)  ...  RMSprop(lr=0.5)\n",
              "0               0.353813  ...         0.132206\n",
              "1               0.176543  ...         0.048683\n",
              "2               0.134207  ...         0.044304\n",
              "3               0.112150  ...         0.041095\n",
              "4               0.098580  ...         0.038508\n",
              "5               0.088950  ...         0.035317\n",
              "6               0.082048  ...         0.036588\n",
              "7               0.076654  ...         0.039000\n",
              "8               0.072374  ...         0.032993\n",
              "9               0.068913  ...         0.029600\n",
              "\n",
              "[10 rows x 6 columns]"
            ]
          },
          "metadata": {},
          "execution_count": 19
        }
      ]
    },
    {
      "cell_type": "code",
      "metadata": {
        "colab": {
          "base_uri": "https://localhost:8080/",
          "height": 286
        },
        "id": "zdhug9cv4hZ6",
        "outputId": "e4c8836a-621e-4715-90df-bf18e6101245"
      },
      "source": [
        "#Graficamos\n",
        "#Vamos a graficar este dataframe\n",
        "#Recordemos que mientras más pequeño sea el \"loss\" en cada iteración significa que el error se está minimizando\n",
        "#En el eje X colocará los índices de cada iteración\n",
        "#En el eje Y el valor de su \"loss\"\n",
        "#Como son cuatro lr, creará cuatro gráficos\n",
        "dfLoss.plot(ylim=(0,0.3))"
      ],
      "execution_count": 20,
      "outputs": [
        {
          "output_type": "execute_result",
          "data": {
            "text/plain": [
              "<matplotlib.axes._subplots.AxesSubplot at 0x7f45ba9cafd0>"
            ]
          },
          "metadata": {},
          "execution_count": 20
        },
        {
          "output_type": "display_data",
          "data": {
            "image/png": "[encoded data removed]",
            "text/plain": [
              "<Figure size 432x288 with 1 Axes>"
            ]
          },
          "metadata": {
            "needs_background": "light"
          }
        }
      ]
    },
    {
      "cell_type": "code",
      "metadata": {
        "id": "v-Wo2xqL4i0k"
      },
      "source": [
        "#INTERPRETACIÓN\n",
        "#El \"Adam(lr=0.5)\" es quien reduce el loss"
      ],
      "execution_count": 21,
      "outputs": []
    },
    {
      "cell_type": "code",
      "metadata": {
        "colab": {
          "base_uri": "https://localhost:8080/",
          "height": 359
        },
        "id": "oFFpK2eX4lQS",
        "outputId": "1cd4b1fb-84ea-4fa9-9ae3-107457ab4926"
      },
      "source": [
        "#Obtenemos la evolución de los \"accuracy\"\n",
        "dfAccuracy"
      ],
      "execution_count": 22,
      "outputs": [
        {
          "output_type": "execute_result",
          "data": {
            "text/html": [
              "<div>\n",
              "<style scoped>\n",
              "    .dataframe tbody tr th:only-of-type {\n",
              "        vertical-align: middle;\n",
              "    }\n",
              "\n",
              "    .dataframe tbody tr th {\n",
              "        vertical-align: top;\n",
              "    }\n",
              "\n",
              "    .dataframe thead th {\n",
              "        text-align: right;\n",
              "    }\n",
              "</style>\n",
              "<table border=\"1\" class=\"dataframe\">\n",
              "  <thead>\n",
              "    <tr style=\"text-align: right;\">\n",
              "      <th>optimizador</th>\n",
              "      <th>SGD(lr=0.5)</th>\n",
              "      <th>SGD(lr=0.5, momentum=0.3)</th>\n",
              "      <th>SGD(lr=0.5, momentum=0.3, nesterov=True)</th>\n",
              "      <th>Adam(lr=0.5)</th>\n",
              "      <th>Adagrad(lr=0.5)</th>\n",
              "      <th>RMSprop(lr=0.5)</th>\n",
              "    </tr>\n",
              "  </thead>\n",
              "  <tbody>\n",
              "    <tr>\n",
              "      <th>0</th>\n",
              "      <td>0.890625</td>\n",
              "      <td>0.840625</td>\n",
              "      <td>0.877083</td>\n",
              "      <td>0.892708</td>\n",
              "      <td>0.941667</td>\n",
              "      <td>0.933333</td>\n",
              "    </tr>\n",
              "    <tr>\n",
              "      <th>1</th>\n",
              "      <td>0.955208</td>\n",
              "      <td>0.959375</td>\n",
              "      <td>0.956250</td>\n",
              "      <td>0.982292</td>\n",
              "      <td>0.971875</td>\n",
              "      <td>0.979167</td>\n",
              "    </tr>\n",
              "    <tr>\n",
              "      <th>2</th>\n",
              "      <td>0.967708</td>\n",
              "      <td>0.969792</td>\n",
              "      <td>0.966667</td>\n",
              "      <td>0.988542</td>\n",
              "      <td>0.977083</td>\n",
              "      <td>0.980208</td>\n",
              "    </tr>\n",
              "    <tr>\n",
              "      <th>3</th>\n",
              "      <td>0.969792</td>\n",
              "      <td>0.975000</td>\n",
              "      <td>0.972917</td>\n",
              "      <td>0.987500</td>\n",
              "      <td>0.978125</td>\n",
              "      <td>0.983333</td>\n",
              "    </tr>\n",
              "    <tr>\n",
              "      <th>4</th>\n",
              "      <td>0.972917</td>\n",
              "      <td>0.976042</td>\n",
              "      <td>0.975000</td>\n",
              "      <td>0.985417</td>\n",
              "      <td>0.981250</td>\n",
              "      <td>0.982292</td>\n",
              "    </tr>\n",
              "    <tr>\n",
              "      <th>5</th>\n",
              "      <td>0.973958</td>\n",
              "      <td>0.977083</td>\n",
              "      <td>0.976042</td>\n",
              "      <td>0.984375</td>\n",
              "      <td>0.980208</td>\n",
              "      <td>0.984375</td>\n",
              "    </tr>\n",
              "    <tr>\n",
              "      <th>6</th>\n",
              "      <td>0.977083</td>\n",
              "      <td>0.977083</td>\n",
              "      <td>0.977083</td>\n",
              "      <td>0.987500</td>\n",
              "      <td>0.981250</td>\n",
              "      <td>0.987500</td>\n",
              "    </tr>\n",
              "    <tr>\n",
              "      <th>7</th>\n",
              "      <td>0.977083</td>\n",
              "      <td>0.980208</td>\n",
              "      <td>0.980208</td>\n",
              "      <td>0.987500</td>\n",
              "      <td>0.981250</td>\n",
              "      <td>0.987500</td>\n",
              "    </tr>\n",
              "    <tr>\n",
              "      <th>8</th>\n",
              "      <td>0.980208</td>\n",
              "      <td>0.980208</td>\n",
              "      <td>0.980208</td>\n",
              "      <td>0.986458</td>\n",
              "      <td>0.981250</td>\n",
              "      <td>0.986458</td>\n",
              "    </tr>\n",
              "    <tr>\n",
              "      <th>9</th>\n",
              "      <td>0.978125</td>\n",
              "      <td>0.980208</td>\n",
              "      <td>0.980208</td>\n",
              "      <td>0.979167</td>\n",
              "      <td>0.981250</td>\n",
              "      <td>0.987500</td>\n",
              "    </tr>\n",
              "  </tbody>\n",
              "</table>\n",
              "</div>"
            ],
            "text/plain": [
              "optimizador  SGD(lr=0.5)  ...  RMSprop(lr=0.5)\n",
              "0               0.890625  ...         0.933333\n",
              "1               0.955208  ...         0.979167\n",
              "2               0.967708  ...         0.980208\n",
              "3               0.969792  ...         0.983333\n",
              "4               0.972917  ...         0.982292\n",
              "5               0.973958  ...         0.984375\n",
              "6               0.977083  ...         0.987500\n",
              "7               0.977083  ...         0.987500\n",
              "8               0.980208  ...         0.986458\n",
              "9               0.978125  ...         0.987500\n",
              "\n",
              "[10 rows x 6 columns]"
            ]
          },
          "metadata": {},
          "execution_count": 22
        }
      ]
    },
    {
      "cell_type": "code",
      "metadata": {
        "colab": {
          "base_uri": "https://localhost:8080/",
          "height": 286
        },
        "id": "fPNukoVk4qxr",
        "outputId": "c47d34ce-5738-4016-a231-f68930f5968d"
      },
      "source": [
        "#Vamos a graficar este dataframe\n",
        "#Recordemos que mientras más pequeño sea el \"accuracy\" en cada iteración significa que los aciertos se están maximizando\n",
        "#En el eje X colocará los índices de cada iteración\n",
        "#En el eje Y el valor de su \"accuracy\"\n",
        "#Como son cuatro lr, creará cuatro gráficos\n",
        "dfAccuracy.plot(ylim=(0.9,1))"
      ],
      "execution_count": 23,
      "outputs": [
        {
          "output_type": "execute_result",
          "data": {
            "text/plain": [
              "<matplotlib.axes._subplots.AxesSubplot at 0x7f45bbb66d10>"
            ]
          },
          "metadata": {},
          "execution_count": 23
        },
        {
          "output_type": "display_data",
          "data": {
            "image/png": "[encoded data removed]",
            "text/plain": [
              "<Figure size 432x288 with 1 Axes>"
            ]
          },
          "metadata": {
            "needs_background": "light"
          }
        }
      ]
    },
    {
      "cell_type": "code",
      "metadata": {
        "id": "duo-QrOS4sSa"
      },
      "source": [
        "#INTERPRETACIÓN\n",
        "#El \"Adam(lr=0.5)\" es quien nos aumenta el accuracy"
      ],
      "execution_count": 24,
      "outputs": []
    }
  ]
}